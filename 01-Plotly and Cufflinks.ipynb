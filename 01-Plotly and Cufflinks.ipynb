{
 "cells": [
  {
   "cell_type": "markdown",
   "metadata": {},
   "source": [
    "# Plotly and Cufflinks"
   ]
  },
  {
   "cell_type": "markdown",
   "metadata": {},
   "source": [
    "Plotly is a library that allows you to create interactive plots that you can use in dashboards or websites (you can save them as html files or static images).\n",
    "\n",
    "## Installation\n",
    "\n",
    "In order for this all to work, you'll need to install plotly and cufflinks to call plots directly off of a pandas dataframe. These libraries are not currently available through **conda** but are available through **pip**. Install the libraries at your command line/terminal using:\n",
    "\n",
    "    pip install plotly\n",
    "    pip install cufflinks\n",
    "\n",
    "** NOTE: Make sure you only have one installation of Python on your computer when you do this, otherwise the installation may not work. **\n",
    "\n",
    "## Imports and Set-up"
   ]
  },
  {
   "cell_type": "code",
   "execution_count": 5,
   "metadata": {},
   "outputs": [],
   "source": [
    "#!pip install plotly cufflinks"
   ]
  },
  {
   "cell_type": "code",
   "execution_count": 7,
   "metadata": {},
   "outputs": [],
   "source": [
    "import pandas as pd\n",
    "import numpy as np\n",
    "%matplotlib inline"
   ]
  },
  {
   "cell_type": "code",
   "execution_count": 8,
   "metadata": {},
   "outputs": [
    {
     "name": "stdout",
     "output_type": "stream",
     "text": [
      "4.14.3\n"
     ]
    }
   ],
   "source": [
    "from plotly import __version__\n",
    "from plotly.offline import download_plotlyjs, init_notebook_mode, plot, iplot\n",
    "\n",
    "print(__version__) # requires version >= 1.9.0"
   ]
  },
  {
   "cell_type": "code",
   "execution_count": 9,
   "metadata": {},
   "outputs": [],
   "source": [
    "import cufflinks as cf"
   ]
  },
  {
   "cell_type": "code",
   "execution_count": 10,
   "metadata": {},
   "outputs": [
    {
     "data": {
      "text/html": [
       "        <script type=\"text/javascript\">\n",
       "        window.PlotlyConfig = {MathJaxConfig: 'local'};\n",
       "        if (window.MathJax) {MathJax.Hub.Config({SVG: {font: \"STIX-Web\"}});}\n",
       "        if (typeof require !== 'undefined') {\n",
       "        require.undef(\"plotly\");\n",
       "        requirejs.config({\n",
       "            paths: {\n",
       "                'plotly': ['https://cdn.plot.ly/plotly-latest.min']\n",
       "            }\n",
       "        });\n",
       "        require(['plotly'], function(Plotly) {\n",
       "            window._Plotly = Plotly;\n",
       "        });\n",
       "        }\n",
       "        </script>\n",
       "        "
      ]
     },
     "metadata": {},
     "output_type": "display_data"
    }
   ],
   "source": [
    "# For Notebooks\n",
    "init_notebook_mode(connected=True)"
   ]
  },
  {
   "cell_type": "code",
   "execution_count": 11,
   "metadata": {},
   "outputs": [
    {
     "data": {
      "text/html": [
       "        <script type=\"text/javascript\">\n",
       "        window.PlotlyConfig = {MathJaxConfig: 'local'};\n",
       "        if (window.MathJax) {MathJax.Hub.Config({SVG: {font: \"STIX-Web\"}});}\n",
       "        if (typeof require !== 'undefined') {\n",
       "        require.undef(\"plotly\");\n",
       "        requirejs.config({\n",
       "            paths: {\n",
       "                'plotly': ['https://cdn.plot.ly/plotly-latest.min']\n",
       "            }\n",
       "        });\n",
       "        require(['plotly'], function(Plotly) {\n",
       "            window._Plotly = Plotly;\n",
       "        });\n",
       "        }\n",
       "        </script>\n",
       "        "
      ]
     },
     "metadata": {},
     "output_type": "display_data"
    }
   ],
   "source": [
    "# For offline use\n",
    "cf.go_offline()"
   ]
  },
  {
   "cell_type": "markdown",
   "metadata": {},
   "source": [
    "### Fake Data"
   ]
  },
  {
   "cell_type": "code",
   "execution_count": 12,
   "metadata": {},
   "outputs": [],
   "source": [
    "df = pd.DataFrame(np.random.randn(100,4),columns='A B C D'.split())"
   ]
  },
  {
   "cell_type": "code",
   "execution_count": 15,
   "metadata": {},
   "outputs": [
    {
     "data": {
      "text/html": [
       "<div>\n",
       "<style scoped>\n",
       "    .dataframe tbody tr th:only-of-type {\n",
       "        vertical-align: middle;\n",
       "    }\n",
       "\n",
       "    .dataframe tbody tr th {\n",
       "        vertical-align: top;\n",
       "    }\n",
       "\n",
       "    .dataframe thead th {\n",
       "        text-align: right;\n",
       "    }\n",
       "</style>\n",
       "<table border=\"1\" class=\"dataframe\">\n",
       "  <thead>\n",
       "    <tr style=\"text-align: right;\">\n",
       "      <th></th>\n",
       "      <th>A</th>\n",
       "      <th>B</th>\n",
       "      <th>C</th>\n",
       "      <th>D</th>\n",
       "    </tr>\n",
       "  </thead>\n",
       "  <tbody>\n",
       "    <tr>\n",
       "      <th>0</th>\n",
       "      <td>1.491774</td>\n",
       "      <td>0.457591</td>\n",
       "      <td>0.461529</td>\n",
       "      <td>1.124684</td>\n",
       "    </tr>\n",
       "    <tr>\n",
       "      <th>1</th>\n",
       "      <td>-0.157608</td>\n",
       "      <td>-1.852697</td>\n",
       "      <td>2.345343</td>\n",
       "      <td>0.300495</td>\n",
       "    </tr>\n",
       "    <tr>\n",
       "      <th>2</th>\n",
       "      <td>-0.930329</td>\n",
       "      <td>0.603762</td>\n",
       "      <td>0.930696</td>\n",
       "      <td>0.802596</td>\n",
       "    </tr>\n",
       "    <tr>\n",
       "      <th>3</th>\n",
       "      <td>-0.679110</td>\n",
       "      <td>1.680773</td>\n",
       "      <td>0.997121</td>\n",
       "      <td>0.721271</td>\n",
       "    </tr>\n",
       "    <tr>\n",
       "      <th>4</th>\n",
       "      <td>1.246802</td>\n",
       "      <td>-0.613450</td>\n",
       "      <td>0.909824</td>\n",
       "      <td>1.602187</td>\n",
       "    </tr>\n",
       "  </tbody>\n",
       "</table>\n",
       "</div>"
      ],
      "text/plain": [
       "          A         B         C         D\n",
       "0  1.491774  0.457591  0.461529  1.124684\n",
       "1 -0.157608 -1.852697  2.345343  0.300495\n",
       "2 -0.930329  0.603762  0.930696  0.802596\n",
       "3 -0.679110  1.680773  0.997121  0.721271\n",
       "4  1.246802 -0.613450  0.909824  1.602187"
      ]
     },
     "execution_count": 15,
     "metadata": {},
     "output_type": "execute_result"
    }
   ],
   "source": [
    "df.head()"
   ]
  },
  {
   "cell_type": "code",
   "execution_count": 16,
   "metadata": {},
   "outputs": [],
   "source": [
    "df2 = pd.DataFrame({'Category':['A','B','C'],'Values':[32,43,50]})"
   ]
  },
  {
   "cell_type": "code",
   "execution_count": 17,
   "metadata": {},
   "outputs": [
    {
     "data": {
      "text/html": [
       "<div>\n",
       "<style scoped>\n",
       "    .dataframe tbody tr th:only-of-type {\n",
       "        vertical-align: middle;\n",
       "    }\n",
       "\n",
       "    .dataframe tbody tr th {\n",
       "        vertical-align: top;\n",
       "    }\n",
       "\n",
       "    .dataframe thead th {\n",
       "        text-align: right;\n",
       "    }\n",
       "</style>\n",
       "<table border=\"1\" class=\"dataframe\">\n",
       "  <thead>\n",
       "    <tr style=\"text-align: right;\">\n",
       "      <th></th>\n",
       "      <th>Category</th>\n",
       "      <th>Values</th>\n",
       "    </tr>\n",
       "  </thead>\n",
       "  <tbody>\n",
       "    <tr>\n",
       "      <th>0</th>\n",
       "      <td>A</td>\n",
       "      <td>32</td>\n",
       "    </tr>\n",
       "    <tr>\n",
       "      <th>1</th>\n",
       "      <td>B</td>\n",
       "      <td>43</td>\n",
       "    </tr>\n",
       "    <tr>\n",
       "      <th>2</th>\n",
       "      <td>C</td>\n",
       "      <td>50</td>\n",
       "    </tr>\n",
       "  </tbody>\n",
       "</table>\n",
       "</div>"
      ],
      "text/plain": [
       "  Category  Values\n",
       "0        A      32\n",
       "1        B      43\n",
       "2        C      50"
      ]
     },
     "execution_count": 17,
     "metadata": {},
     "output_type": "execute_result"
    }
   ],
   "source": [
    "df2.head()"
   ]
  },
  {
   "cell_type": "markdown",
   "metadata": {},
   "source": [
    "## Using Cufflinks and iplot()\n",
    "\n",
    "* scatter\n",
    "* bar\n",
    "* box\n",
    "* spread\n",
    "* ratio\n",
    "* heatmap\n",
    "* surface\n",
    "* histogram\n",
    "* bubble"
   ]
  },
  {
   "cell_type": "markdown",
   "metadata": {},
   "source": [
    "## Scatter"
   ]
  },
  {
   "cell_type": "code",
   "execution_count": 18,
   "metadata": {},
   "outputs": [
    {
     "data": {
      "application/vnd.plotly.v1+json": {
       "config": {
        "linkText": "Export to plot.ly",
        "plotlyServerURL": "https://plot.ly",
        "showLink": true
       },
       "data": [
        {
         "line": {
          "color": "rgba(255, 153, 51, 1.0)",
          "dash": "solid",
          "shape": "linear",
          "width": 1.3
         },
         "marker": {
          "size": 10,
          "symbol": "circle"
         },
         "mode": "markers",
         "name": "B",
         "text": "",
         "type": "scatter",
         "x": [
          1.4917739319507988,
          -0.1576075136610856,
          -0.930328601981876,
          -0.6791097036693865,
          1.246802046482842,
          -0.5806183447238982,
          0.9551482952637191,
          -0.9561769134235306,
          1.2144518407090386,
          0.31959647065023283,
          -1.4423615094359339,
          1.8507899242342944,
          1.9847942969865817,
          0.6095414371590581,
          -1.069062089292798,
          0.6852538624950293,
          -0.8462177638395003,
          0.22167000989186186,
          0.8918580824529956,
          -0.1940932831989595,
          0.33921698686267754,
          -0.06992664359765931,
          0.690323282593047,
          0.6506433463557831,
          0.7564904122747336,
          -1.308249635588235,
          -0.22464215572953222,
          0.09919358272849658,
          1.1287581168730763,
          -0.36725877754636344,
          0.09096065814427151,
          -0.8805373216943375,
          0.890854427029569,
          0.1155311465883702,
          0.5143751348157323,
          -0.25414110899522613,
          1.4833137143331045,
          0.3675447075511886,
          -1.5077217377202732,
          -0.6373616669671688,
          1.1456740193979287,
          1.2559528674572056,
          -0.20392733626662685,
          -0.9462356231111191,
          -0.8254221598651107,
          -1.2902954284480845,
          -0.2716337111245958,
          -0.7928249861140338,
          -1.6755476798400208,
          -0.7978918224518056,
          0.5996331045123291,
          -0.9994054715811946,
          -1.368953160022903,
          -0.6601821803669641,
          -0.6499980055955829,
          0.9251787037144138,
          1.256321305290484,
          0.31557783645401594,
          -1.5844673041367536,
          1.0781227686646015,
          -1.437693609400543,
          0.13423954401837473,
          0.36730879609807726,
          1.5264830168099544,
          0.3603263306995897,
          0.1503890266979325,
          0.20458422906768983,
          -0.00986072427559832,
          -0.3193800893160297,
          0.34841930348296857,
          -0.3994290487453984,
          -0.9116400976688431,
          0.9654902580213899,
          0.24234907344618214,
          -0.05746287603372838,
          0.7553078082518422,
          -1.1442230167325054,
          -0.8253389178601065,
          0.5701321481460176,
          0.235649958350743,
          -0.5342026398077849,
          0.5691215410981469,
          0.09507234876738771,
          -0.6708118348301298,
          -1.2797752333975452,
          -1.7700033326782072,
          1.2145166297977998,
          -1.4710487864158104,
          1.4269559058111128,
          -0.07240036633000582,
          1.4080462471242083,
          0.6675645409240432,
          -0.3302173155427578,
          -0.3580002598687018,
          -0.5747493064136403,
          -0.54233098908547,
          1.122046746352447,
          0.3792037783979195,
          0.48350931449727996,
          -0.43136459685774653
         ],
         "y": [
          0.45759144337485264,
          -1.852696670942872,
          0.6037624201043539,
          1.6807726295254402,
          -0.6134495049356505,
          -0.13990727158452076,
          0.03124279714296553,
          -0.4648977013897088,
          0.9553997045315877,
          0.7283752107040995,
          0.17117093428101382,
          -1.7315612380768213,
          0.35740744238423494,
          0.26415998052564404,
          -0.17537080293451385,
          -0.5363941017251691,
          0.6963737981846626,
          0.10703348403579191,
          -1.1668063308621461,
          -0.381555081513734,
          -1.04720724283616,
          0.5062179294106165,
          -0.08116042070484192,
          0.824481990419685,
          -0.923959125424289,
          -0.6621806634287214,
          0.8138973060617386,
          -1.8423340149587246,
          -0.21565202574466438,
          -0.8591970758956009,
          2.9304064240575,
          1.1870166863514848,
          0.8388833896271535,
          -1.0656547569717636,
          0.1785522001686026,
          -1.518369903201751,
          0.7712510283723744,
          -0.21280479152112208,
          0.3271004909808801,
          -0.9022411093453506,
          -1.090695941306311,
          -2.563138973546278,
          -0.7545987537079845,
          -1.2526450127513369,
          -1.6847406671440779,
          -0.1036023582144774,
          -0.6358467247015547,
          -1.4727766663202202,
          -0.590644757453359,
          -0.8960077341834933,
          -2.798152401039477,
          0.15038107633998923,
          0.45031898614896504,
          0.011425712330130547,
          1.025351993965511,
          1.226572998471299,
          -1.5520205754109617,
          0.21871894895512994,
          0.6986764947443769,
          -0.44767507487085106,
          0.6600422460523616,
          1.1821509492312061,
          -2.2418468856707894,
          -0.4419842782451757,
          0.06236833309591093,
          0.7427087694186271,
          -0.20564405623449886,
          -0.9245755611975662,
          0.9661074576054179,
          -0.6525451889087391,
          -0.3230946170781425,
          0.5530579658372701,
          -2.402241575581015,
          -1.044064236634867,
          -0.3731496027692522,
          -0.7422611643632118,
          0.3532662889262816,
          0.8371267137108779,
          -0.7760427206692124,
          -1.5678289690505915,
          -1.2153876341294814,
          0.32655867839731484,
          0.4193562728649102,
          -1.4041639217486626,
          -1.5104150994841226,
          -0.00898105066874273,
          -0.22317194711681937,
          -2.1355721103257186,
          0.46383975546221357,
          0.14180092612446324,
          -1.7439669577936254,
          0.8805075120387779,
          -0.19911597621842822,
          -0.09066691794570107,
          -1.9175075905413421,
          1.578934679646553,
          -0.6444181228984757,
          -0.23588114328227852,
          -1.418161178595617,
          -0.8462454912953437
         ]
        }
       ],
       "layout": {
        "legend": {
         "bgcolor": "#F5F6F9",
         "font": {
          "color": "#4D5663"
         }
        },
        "paper_bgcolor": "#F5F6F9",
        "plot_bgcolor": "#F5F6F9",
        "template": {
         "data": {
          "bar": [
           {
            "error_x": {
             "color": "#2a3f5f"
            },
            "error_y": {
             "color": "#2a3f5f"
            },
            "marker": {
             "line": {
              "color": "#E5ECF6",
              "width": 0.5
             }
            },
            "type": "bar"
           }
          ],
          "barpolar": [
           {
            "marker": {
             "line": {
              "color": "#E5ECF6",
              "width": 0.5
             }
            },
            "type": "barpolar"
           }
          ],
          "carpet": [
           {
            "aaxis": {
             "endlinecolor": "#2a3f5f",
             "gridcolor": "white",
             "linecolor": "white",
             "minorgridcolor": "white",
             "startlinecolor": "#2a3f5f"
            },
            "baxis": {
             "endlinecolor": "#2a3f5f",
             "gridcolor": "white",
             "linecolor": "white",
             "minorgridcolor": "white",
             "startlinecolor": "#2a3f5f"
            },
            "type": "carpet"
           }
          ],
          "choropleth": [
           {
            "colorbar": {
             "outlinewidth": 0,
             "ticks": ""
            },
            "type": "choropleth"
           }
          ],
          "contour": [
           {
            "colorbar": {
             "outlinewidth": 0,
             "ticks": ""
            },
            "colorscale": [
             [
              0,
              "#0d0887"
             ],
             [
              0.1111111111111111,
              "#46039f"
             ],
             [
              0.2222222222222222,
              "#7201a8"
             ],
             [
              0.3333333333333333,
              "#9c179e"
             ],
             [
              0.4444444444444444,
              "#bd3786"
             ],
             [
              0.5555555555555556,
              "#d8576b"
             ],
             [
              0.6666666666666666,
              "#ed7953"
             ],
             [
              0.7777777777777778,
              "#fb9f3a"
             ],
             [
              0.8888888888888888,
              "#fdca26"
             ],
             [
              1,
              "#f0f921"
             ]
            ],
            "type": "contour"
           }
          ],
          "contourcarpet": [
           {
            "colorbar": {
             "outlinewidth": 0,
             "ticks": ""
            },
            "type": "contourcarpet"
           }
          ],
          "heatmap": [
           {
            "colorbar": {
             "outlinewidth": 0,
             "ticks": ""
            },
            "colorscale": [
             [
              0,
              "#0d0887"
             ],
             [
              0.1111111111111111,
              "#46039f"
             ],
             [
              0.2222222222222222,
              "#7201a8"
             ],
             [
              0.3333333333333333,
              "#9c179e"
             ],
             [
              0.4444444444444444,
              "#bd3786"
             ],
             [
              0.5555555555555556,
              "#d8576b"
             ],
             [
              0.6666666666666666,
              "#ed7953"
             ],
             [
              0.7777777777777778,
              "#fb9f3a"
             ],
             [
              0.8888888888888888,
              "#fdca26"
             ],
             [
              1,
              "#f0f921"
             ]
            ],
            "type": "heatmap"
           }
          ],
          "heatmapgl": [
           {
            "colorbar": {
             "outlinewidth": 0,
             "ticks": ""
            },
            "colorscale": [
             [
              0,
              "#0d0887"
             ],
             [
              0.1111111111111111,
              "#46039f"
             ],
             [
              0.2222222222222222,
              "#7201a8"
             ],
             [
              0.3333333333333333,
              "#9c179e"
             ],
             [
              0.4444444444444444,
              "#bd3786"
             ],
             [
              0.5555555555555556,
              "#d8576b"
             ],
             [
              0.6666666666666666,
              "#ed7953"
             ],
             [
              0.7777777777777778,
              "#fb9f3a"
             ],
             [
              0.8888888888888888,
              "#fdca26"
             ],
             [
              1,
              "#f0f921"
             ]
            ],
            "type": "heatmapgl"
           }
          ],
          "histogram": [
           {
            "marker": {
             "colorbar": {
              "outlinewidth": 0,
              "ticks": ""
             }
            },
            "type": "histogram"
           }
          ],
          "histogram2d": [
           {
            "colorbar": {
             "outlinewidth": 0,
             "ticks": ""
            },
            "colorscale": [
             [
              0,
              "#0d0887"
             ],
             [
              0.1111111111111111,
              "#46039f"
             ],
             [
              0.2222222222222222,
              "#7201a8"
             ],
             [
              0.3333333333333333,
              "#9c179e"
             ],
             [
              0.4444444444444444,
              "#bd3786"
             ],
             [
              0.5555555555555556,
              "#d8576b"
             ],
             [
              0.6666666666666666,
              "#ed7953"
             ],
             [
              0.7777777777777778,
              "#fb9f3a"
             ],
             [
              0.8888888888888888,
              "#fdca26"
             ],
             [
              1,
              "#f0f921"
             ]
            ],
            "type": "histogram2d"
           }
          ],
          "histogram2dcontour": [
           {
            "colorbar": {
             "outlinewidth": 0,
             "ticks": ""
            },
            "colorscale": [
             [
              0,
              "#0d0887"
             ],
             [
              0.1111111111111111,
              "#46039f"
             ],
             [
              0.2222222222222222,
              "#7201a8"
             ],
             [
              0.3333333333333333,
              "#9c179e"
             ],
             [
              0.4444444444444444,
              "#bd3786"
             ],
             [
              0.5555555555555556,
              "#d8576b"
             ],
             [
              0.6666666666666666,
              "#ed7953"
             ],
             [
              0.7777777777777778,
              "#fb9f3a"
             ],
             [
              0.8888888888888888,
              "#fdca26"
             ],
             [
              1,
              "#f0f921"
             ]
            ],
            "type": "histogram2dcontour"
           }
          ],
          "mesh3d": [
           {
            "colorbar": {
             "outlinewidth": 0,
             "ticks": ""
            },
            "type": "mesh3d"
           }
          ],
          "parcoords": [
           {
            "line": {
             "colorbar": {
              "outlinewidth": 0,
              "ticks": ""
             }
            },
            "type": "parcoords"
           }
          ],
          "pie": [
           {
            "automargin": true,
            "type": "pie"
           }
          ],
          "scatter": [
           {
            "marker": {
             "colorbar": {
              "outlinewidth": 0,
              "ticks": ""
             }
            },
            "type": "scatter"
           }
          ],
          "scatter3d": [
           {
            "line": {
             "colorbar": {
              "outlinewidth": 0,
              "ticks": ""
             }
            },
            "marker": {
             "colorbar": {
              "outlinewidth": 0,
              "ticks": ""
             }
            },
            "type": "scatter3d"
           }
          ],
          "scattercarpet": [
           {
            "marker": {
             "colorbar": {
              "outlinewidth": 0,
              "ticks": ""
             }
            },
            "type": "scattercarpet"
           }
          ],
          "scattergeo": [
           {
            "marker": {
             "colorbar": {
              "outlinewidth": 0,
              "ticks": ""
             }
            },
            "type": "scattergeo"
           }
          ],
          "scattergl": [
           {
            "marker": {
             "colorbar": {
              "outlinewidth": 0,
              "ticks": ""
             }
            },
            "type": "scattergl"
           }
          ],
          "scattermapbox": [
           {
            "marker": {
             "colorbar": {
              "outlinewidth": 0,
              "ticks": ""
             }
            },
            "type": "scattermapbox"
           }
          ],
          "scatterpolar": [
           {
            "marker": {
             "colorbar": {
              "outlinewidth": 0,
              "ticks": ""
             }
            },
            "type": "scatterpolar"
           }
          ],
          "scatterpolargl": [
           {
            "marker": {
             "colorbar": {
              "outlinewidth": 0,
              "ticks": ""
             }
            },
            "type": "scatterpolargl"
           }
          ],
          "scatterternary": [
           {
            "marker": {
             "colorbar": {
              "outlinewidth": 0,
              "ticks": ""
             }
            },
            "type": "scatterternary"
           }
          ],
          "surface": [
           {
            "colorbar": {
             "outlinewidth": 0,
             "ticks": ""
            },
            "colorscale": [
             [
              0,
              "#0d0887"
             ],
             [
              0.1111111111111111,
              "#46039f"
             ],
             [
              0.2222222222222222,
              "#7201a8"
             ],
             [
              0.3333333333333333,
              "#9c179e"
             ],
             [
              0.4444444444444444,
              "#bd3786"
             ],
             [
              0.5555555555555556,
              "#d8576b"
             ],
             [
              0.6666666666666666,
              "#ed7953"
             ],
             [
              0.7777777777777778,
              "#fb9f3a"
             ],
             [
              0.8888888888888888,
              "#fdca26"
             ],
             [
              1,
              "#f0f921"
             ]
            ],
            "type": "surface"
           }
          ],
          "table": [
           {
            "cells": {
             "fill": {
              "color": "#EBF0F8"
             },
             "line": {
              "color": "white"
             }
            },
            "header": {
             "fill": {
              "color": "#C8D4E3"
             },
             "line": {
              "color": "white"
             }
            },
            "type": "table"
           }
          ]
         },
         "layout": {
          "annotationdefaults": {
           "arrowcolor": "#2a3f5f",
           "arrowhead": 0,
           "arrowwidth": 1
          },
          "autotypenumbers": "strict",
          "coloraxis": {
           "colorbar": {
            "outlinewidth": 0,
            "ticks": ""
           }
          },
          "colorscale": {
           "diverging": [
            [
             0,
             "#8e0152"
            ],
            [
             0.1,
             "#c51b7d"
            ],
            [
             0.2,
             "#de77ae"
            ],
            [
             0.3,
             "#f1b6da"
            ],
            [
             0.4,
             "#fde0ef"
            ],
            [
             0.5,
             "#f7f7f7"
            ],
            [
             0.6,
             "#e6f5d0"
            ],
            [
             0.7,
             "#b8e186"
            ],
            [
             0.8,
             "#7fbc41"
            ],
            [
             0.9,
             "#4d9221"
            ],
            [
             1,
             "#276419"
            ]
           ],
           "sequential": [
            [
             0,
             "#0d0887"
            ],
            [
             0.1111111111111111,
             "#46039f"
            ],
            [
             0.2222222222222222,
             "#7201a8"
            ],
            [
             0.3333333333333333,
             "#9c179e"
            ],
            [
             0.4444444444444444,
             "#bd3786"
            ],
            [
             0.5555555555555556,
             "#d8576b"
            ],
            [
             0.6666666666666666,
             "#ed7953"
            ],
            [
             0.7777777777777778,
             "#fb9f3a"
            ],
            [
             0.8888888888888888,
             "#fdca26"
            ],
            [
             1,
             "#f0f921"
            ]
           ],
           "sequentialminus": [
            [
             0,
             "#0d0887"
            ],
            [
             0.1111111111111111,
             "#46039f"
            ],
            [
             0.2222222222222222,
             "#7201a8"
            ],
            [
             0.3333333333333333,
             "#9c179e"
            ],
            [
             0.4444444444444444,
             "#bd3786"
            ],
            [
             0.5555555555555556,
             "#d8576b"
            ],
            [
             0.6666666666666666,
             "#ed7953"
            ],
            [
             0.7777777777777778,
             "#fb9f3a"
            ],
            [
             0.8888888888888888,
             "#fdca26"
            ],
            [
             1,
             "#f0f921"
            ]
           ]
          },
          "colorway": [
           "#636efa",
           "#EF553B",
           "#00cc96",
           "#ab63fa",
           "#FFA15A",
           "#19d3f3",
           "#FF6692",
           "#B6E880",
           "#FF97FF",
           "#FECB52"
          ],
          "font": {
           "color": "#2a3f5f"
          },
          "geo": {
           "bgcolor": "white",
           "lakecolor": "white",
           "landcolor": "#E5ECF6",
           "showlakes": true,
           "showland": true,
           "subunitcolor": "white"
          },
          "hoverlabel": {
           "align": "left"
          },
          "hovermode": "closest",
          "mapbox": {
           "style": "light"
          },
          "paper_bgcolor": "white",
          "plot_bgcolor": "#E5ECF6",
          "polar": {
           "angularaxis": {
            "gridcolor": "white",
            "linecolor": "white",
            "ticks": ""
           },
           "bgcolor": "#E5ECF6",
           "radialaxis": {
            "gridcolor": "white",
            "linecolor": "white",
            "ticks": ""
           }
          },
          "scene": {
           "xaxis": {
            "backgroundcolor": "#E5ECF6",
            "gridcolor": "white",
            "gridwidth": 2,
            "linecolor": "white",
            "showbackground": true,
            "ticks": "",
            "zerolinecolor": "white"
           },
           "yaxis": {
            "backgroundcolor": "#E5ECF6",
            "gridcolor": "white",
            "gridwidth": 2,
            "linecolor": "white",
            "showbackground": true,
            "ticks": "",
            "zerolinecolor": "white"
           },
           "zaxis": {
            "backgroundcolor": "#E5ECF6",
            "gridcolor": "white",
            "gridwidth": 2,
            "linecolor": "white",
            "showbackground": true,
            "ticks": "",
            "zerolinecolor": "white"
           }
          },
          "shapedefaults": {
           "line": {
            "color": "#2a3f5f"
           }
          },
          "ternary": {
           "aaxis": {
            "gridcolor": "white",
            "linecolor": "white",
            "ticks": ""
           },
           "baxis": {
            "gridcolor": "white",
            "linecolor": "white",
            "ticks": ""
           },
           "bgcolor": "#E5ECF6",
           "caxis": {
            "gridcolor": "white",
            "linecolor": "white",
            "ticks": ""
           }
          },
          "title": {
           "x": 0.05
          },
          "xaxis": {
           "automargin": true,
           "gridcolor": "white",
           "linecolor": "white",
           "ticks": "",
           "title": {
            "standoff": 15
           },
           "zerolinecolor": "white",
           "zerolinewidth": 2
          },
          "yaxis": {
           "automargin": true,
           "gridcolor": "white",
           "linecolor": "white",
           "ticks": "",
           "title": {
            "standoff": 15
           },
           "zerolinecolor": "white",
           "zerolinewidth": 2
          }
         }
        },
        "title": {
         "font": {
          "color": "#4D5663"
         }
        },
        "xaxis": {
         "gridcolor": "#E1E5ED",
         "showgrid": true,
         "tickfont": {
          "color": "#4D5663"
         },
         "title": {
          "font": {
           "color": "#4D5663"
          },
          "text": ""
         },
         "zerolinecolor": "#E1E5ED"
        },
        "yaxis": {
         "gridcolor": "#E1E5ED",
         "showgrid": true,
         "tickfont": {
          "color": "#4D5663"
         },
         "title": {
          "font": {
           "color": "#4D5663"
          },
          "text": ""
         },
         "zerolinecolor": "#E1E5ED"
        }
       }
      },
      "text/html": [
       "<div>                            <div id=\"de975e08-7349-467d-b488-c4bc34880d9e\" class=\"plotly-graph-div\" style=\"height:525px; width:100%;\"></div>            <script type=\"text/javascript\">                require([\"plotly\"], function(Plotly) {                    window.PLOTLYENV=window.PLOTLYENV || {};\n",
       "                    window.PLOTLYENV.BASE_URL='https://plot.ly';                                    if (document.getElementById(\"de975e08-7349-467d-b488-c4bc34880d9e\")) {                    Plotly.newPlot(                        \"de975e08-7349-467d-b488-c4bc34880d9e\",                        [{\"line\": {\"color\": \"rgba(255, 153, 51, 1.0)\", \"dash\": \"solid\", \"shape\": \"linear\", \"width\": 1.3}, \"marker\": {\"size\": 10, \"symbol\": \"circle\"}, \"mode\": \"markers\", \"name\": \"B\", \"text\": \"\", \"type\": \"scatter\", \"x\": [1.4917739319507988, -0.1576075136610856, -0.930328601981876, -0.6791097036693865, 1.246802046482842, -0.5806183447238982, 0.9551482952637191, -0.9561769134235306, 1.2144518407090386, 0.31959647065023283, -1.4423615094359339, 1.8507899242342944, 1.9847942969865817, 0.6095414371590581, -1.069062089292798, 0.6852538624950293, -0.8462177638395003, 0.22167000989186186, 0.8918580824529956, -0.1940932831989595, 0.33921698686267754, -0.06992664359765931, 0.690323282593047, 0.6506433463557831, 0.7564904122747336, -1.308249635588235, -0.22464215572953222, 0.09919358272849658, 1.1287581168730763, -0.36725877754636344, 0.09096065814427151, -0.8805373216943375, 0.890854427029569, 0.1155311465883702, 0.5143751348157323, -0.25414110899522613, 1.4833137143331045, 0.3675447075511886, -1.5077217377202732, -0.6373616669671688, 1.1456740193979287, 1.2559528674572056, -0.20392733626662685, -0.9462356231111191, -0.8254221598651107, -1.2902954284480845, -0.2716337111245958, -0.7928249861140338, -1.6755476798400208, -0.7978918224518056, 0.5996331045123291, -0.9994054715811946, -1.368953160022903, -0.6601821803669641, -0.6499980055955829, 0.9251787037144138, 1.256321305290484, 0.31557783645401594, -1.5844673041367536, 1.0781227686646015, -1.437693609400543, 0.13423954401837473, 0.36730879609807726, 1.5264830168099544, 0.3603263306995897, 0.1503890266979325, 0.20458422906768983, -0.00986072427559832, -0.3193800893160297, 0.34841930348296857, -0.3994290487453984, -0.9116400976688431, 0.9654902580213899, 0.24234907344618214, -0.05746287603372838, 0.7553078082518422, -1.1442230167325054, -0.8253389178601065, 0.5701321481460176, 0.235649958350743, -0.5342026398077849, 0.5691215410981469, 0.09507234876738771, -0.6708118348301298, -1.2797752333975452, -1.7700033326782072, 1.2145166297977998, -1.4710487864158104, 1.4269559058111128, -0.07240036633000582, 1.4080462471242083, 0.6675645409240432, -0.3302173155427578, -0.3580002598687018, -0.5747493064136403, -0.54233098908547, 1.122046746352447, 0.3792037783979195, 0.48350931449727996, -0.43136459685774653], \"y\": [0.45759144337485264, -1.852696670942872, 0.6037624201043539, 1.6807726295254402, -0.6134495049356505, -0.13990727158452076, 0.03124279714296553, -0.4648977013897088, 0.9553997045315877, 0.7283752107040995, 0.17117093428101382, -1.7315612380768213, 0.35740744238423494, 0.26415998052564404, -0.17537080293451385, -0.5363941017251691, 0.6963737981846626, 0.10703348403579191, -1.1668063308621461, -0.381555081513734, -1.04720724283616, 0.5062179294106165, -0.08116042070484192, 0.824481990419685, -0.923959125424289, -0.6621806634287214, 0.8138973060617386, -1.8423340149587246, -0.21565202574466438, -0.8591970758956009, 2.9304064240575, 1.1870166863514848, 0.8388833896271535, -1.0656547569717636, 0.1785522001686026, -1.518369903201751, 0.7712510283723744, -0.21280479152112208, 0.3271004909808801, -0.9022411093453506, -1.090695941306311, -2.563138973546278, -0.7545987537079845, -1.2526450127513369, -1.6847406671440779, -0.1036023582144774, -0.6358467247015547, -1.4727766663202202, -0.590644757453359, -0.8960077341834933, -2.798152401039477, 0.15038107633998923, 0.45031898614896504, 0.011425712330130547, 1.025351993965511, 1.226572998471299, -1.5520205754109617, 0.21871894895512994, 0.6986764947443769, -0.44767507487085106, 0.6600422460523616, 1.1821509492312061, -2.2418468856707894, -0.4419842782451757, 0.06236833309591093, 0.7427087694186271, -0.20564405623449886, -0.9245755611975662, 0.9661074576054179, -0.6525451889087391, -0.3230946170781425, 0.5530579658372701, -2.402241575581015, -1.044064236634867, -0.3731496027692522, -0.7422611643632118, 0.3532662889262816, 0.8371267137108779, -0.7760427206692124, -1.5678289690505915, -1.2153876341294814, 0.32655867839731484, 0.4193562728649102, -1.4041639217486626, -1.5104150994841226, -0.00898105066874273, -0.22317194711681937, -2.1355721103257186, 0.46383975546221357, 0.14180092612446324, -1.7439669577936254, 0.8805075120387779, -0.19911597621842822, -0.09066691794570107, -1.9175075905413421, 1.578934679646553, -0.6444181228984757, -0.23588114328227852, -1.418161178595617, -0.8462454912953437]}],                        {\"legend\": {\"bgcolor\": \"#F5F6F9\", \"font\": {\"color\": \"#4D5663\"}}, \"paper_bgcolor\": \"#F5F6F9\", \"plot_bgcolor\": \"#F5F6F9\", \"template\": {\"data\": {\"bar\": [{\"error_x\": {\"color\": \"#2a3f5f\"}, \"error_y\": {\"color\": \"#2a3f5f\"}, \"marker\": {\"line\": {\"color\": \"#E5ECF6\", \"width\": 0.5}}, \"type\": \"bar\"}], \"barpolar\": [{\"marker\": {\"line\": {\"color\": \"#E5ECF6\", \"width\": 0.5}}, \"type\": \"barpolar\"}], \"carpet\": [{\"aaxis\": {\"endlinecolor\": \"#2a3f5f\", \"gridcolor\": \"white\", \"linecolor\": \"white\", \"minorgridcolor\": \"white\", \"startlinecolor\": \"#2a3f5f\"}, \"baxis\": {\"endlinecolor\": \"#2a3f5f\", \"gridcolor\": \"white\", \"linecolor\": \"white\", \"minorgridcolor\": \"white\", \"startlinecolor\": \"#2a3f5f\"}, \"type\": \"carpet\"}], \"choropleth\": [{\"colorbar\": {\"outlinewidth\": 0, \"ticks\": \"\"}, \"type\": \"choropleth\"}], \"contour\": [{\"colorbar\": {\"outlinewidth\": 0, \"ticks\": \"\"}, \"colorscale\": [[0.0, \"#0d0887\"], [0.1111111111111111, \"#46039f\"], [0.2222222222222222, \"#7201a8\"], [0.3333333333333333, \"#9c179e\"], [0.4444444444444444, \"#bd3786\"], [0.5555555555555556, \"#d8576b\"], [0.6666666666666666, \"#ed7953\"], [0.7777777777777778, \"#fb9f3a\"], [0.8888888888888888, \"#fdca26\"], [1.0, \"#f0f921\"]], \"type\": \"contour\"}], \"contourcarpet\": [{\"colorbar\": {\"outlinewidth\": 0, \"ticks\": \"\"}, \"type\": \"contourcarpet\"}], \"heatmap\": [{\"colorbar\": {\"outlinewidth\": 0, \"ticks\": \"\"}, \"colorscale\": [[0.0, \"#0d0887\"], [0.1111111111111111, \"#46039f\"], [0.2222222222222222, \"#7201a8\"], [0.3333333333333333, \"#9c179e\"], [0.4444444444444444, \"#bd3786\"], [0.5555555555555556, \"#d8576b\"], [0.6666666666666666, \"#ed7953\"], [0.7777777777777778, \"#fb9f3a\"], [0.8888888888888888, \"#fdca26\"], [1.0, \"#f0f921\"]], \"type\": \"heatmap\"}], \"heatmapgl\": [{\"colorbar\": {\"outlinewidth\": 0, \"ticks\": \"\"}, \"colorscale\": [[0.0, \"#0d0887\"], [0.1111111111111111, \"#46039f\"], [0.2222222222222222, \"#7201a8\"], [0.3333333333333333, \"#9c179e\"], [0.4444444444444444, \"#bd3786\"], [0.5555555555555556, \"#d8576b\"], [0.6666666666666666, \"#ed7953\"], [0.7777777777777778, \"#fb9f3a\"], [0.8888888888888888, \"#fdca26\"], [1.0, \"#f0f921\"]], \"type\": \"heatmapgl\"}], \"histogram\": [{\"marker\": {\"colorbar\": {\"outlinewidth\": 0, \"ticks\": \"\"}}, \"type\": \"histogram\"}], \"histogram2d\": [{\"colorbar\": {\"outlinewidth\": 0, \"ticks\": \"\"}, \"colorscale\": [[0.0, \"#0d0887\"], [0.1111111111111111, \"#46039f\"], [0.2222222222222222, \"#7201a8\"], [0.3333333333333333, \"#9c179e\"], [0.4444444444444444, \"#bd3786\"], [0.5555555555555556, \"#d8576b\"], [0.6666666666666666, \"#ed7953\"], [0.7777777777777778, \"#fb9f3a\"], [0.8888888888888888, \"#fdca26\"], [1.0, \"#f0f921\"]], \"type\": \"histogram2d\"}], \"histogram2dcontour\": [{\"colorbar\": {\"outlinewidth\": 0, \"ticks\": \"\"}, \"colorscale\": [[0.0, \"#0d0887\"], [0.1111111111111111, \"#46039f\"], [0.2222222222222222, \"#7201a8\"], [0.3333333333333333, \"#9c179e\"], [0.4444444444444444, \"#bd3786\"], [0.5555555555555556, \"#d8576b\"], [0.6666666666666666, \"#ed7953\"], [0.7777777777777778, \"#fb9f3a\"], [0.8888888888888888, \"#fdca26\"], [1.0, \"#f0f921\"]], \"type\": \"histogram2dcontour\"}], \"mesh3d\": [{\"colorbar\": {\"outlinewidth\": 0, \"ticks\": \"\"}, \"type\": \"mesh3d\"}], \"parcoords\": [{\"line\": {\"colorbar\": {\"outlinewidth\": 0, \"ticks\": \"\"}}, \"type\": \"parcoords\"}], \"pie\": [{\"automargin\": true, \"type\": \"pie\"}], \"scatter\": [{\"marker\": {\"colorbar\": {\"outlinewidth\": 0, \"ticks\": \"\"}}, \"type\": \"scatter\"}], \"scatter3d\": [{\"line\": {\"colorbar\": {\"outlinewidth\": 0, \"ticks\": \"\"}}, \"marker\": {\"colorbar\": {\"outlinewidth\": 0, \"ticks\": \"\"}}, \"type\": \"scatter3d\"}], \"scattercarpet\": [{\"marker\": {\"colorbar\": {\"outlinewidth\": 0, \"ticks\": \"\"}}, \"type\": \"scattercarpet\"}], \"scattergeo\": [{\"marker\": {\"colorbar\": {\"outlinewidth\": 0, \"ticks\": \"\"}}, \"type\": \"scattergeo\"}], \"scattergl\": [{\"marker\": {\"colorbar\": {\"outlinewidth\": 0, \"ticks\": \"\"}}, \"type\": \"scattergl\"}], \"scattermapbox\": [{\"marker\": {\"colorbar\": {\"outlinewidth\": 0, \"ticks\": \"\"}}, \"type\": \"scattermapbox\"}], \"scatterpolar\": [{\"marker\": {\"colorbar\": {\"outlinewidth\": 0, \"ticks\": \"\"}}, \"type\": \"scatterpolar\"}], \"scatterpolargl\": [{\"marker\": {\"colorbar\": {\"outlinewidth\": 0, \"ticks\": \"\"}}, \"type\": \"scatterpolargl\"}], \"scatterternary\": [{\"marker\": {\"colorbar\": {\"outlinewidth\": 0, \"ticks\": \"\"}}, \"type\": \"scatterternary\"}], \"surface\": [{\"colorbar\": {\"outlinewidth\": 0, \"ticks\": \"\"}, \"colorscale\": [[0.0, \"#0d0887\"], [0.1111111111111111, \"#46039f\"], [0.2222222222222222, \"#7201a8\"], [0.3333333333333333, \"#9c179e\"], [0.4444444444444444, \"#bd3786\"], [0.5555555555555556, \"#d8576b\"], [0.6666666666666666, \"#ed7953\"], [0.7777777777777778, \"#fb9f3a\"], [0.8888888888888888, \"#fdca26\"], [1.0, \"#f0f921\"]], \"type\": \"surface\"}], \"table\": [{\"cells\": {\"fill\": {\"color\": \"#EBF0F8\"}, \"line\": {\"color\": \"white\"}}, \"header\": {\"fill\": {\"color\": \"#C8D4E3\"}, \"line\": {\"color\": \"white\"}}, \"type\": \"table\"}]}, \"layout\": {\"annotationdefaults\": {\"arrowcolor\": \"#2a3f5f\", \"arrowhead\": 0, \"arrowwidth\": 1}, \"autotypenumbers\": \"strict\", \"coloraxis\": {\"colorbar\": {\"outlinewidth\": 0, \"ticks\": \"\"}}, \"colorscale\": {\"diverging\": [[0, \"#8e0152\"], [0.1, \"#c51b7d\"], [0.2, \"#de77ae\"], [0.3, \"#f1b6da\"], [0.4, \"#fde0ef\"], [0.5, \"#f7f7f7\"], [0.6, \"#e6f5d0\"], [0.7, \"#b8e186\"], [0.8, \"#7fbc41\"], [0.9, \"#4d9221\"], [1, \"#276419\"]], \"sequential\": [[0.0, \"#0d0887\"], [0.1111111111111111, \"#46039f\"], [0.2222222222222222, \"#7201a8\"], [0.3333333333333333, \"#9c179e\"], [0.4444444444444444, \"#bd3786\"], [0.5555555555555556, \"#d8576b\"], [0.6666666666666666, \"#ed7953\"], [0.7777777777777778, \"#fb9f3a\"], [0.8888888888888888, \"#fdca26\"], [1.0, \"#f0f921\"]], \"sequentialminus\": [[0.0, \"#0d0887\"], [0.1111111111111111, \"#46039f\"], [0.2222222222222222, \"#7201a8\"], [0.3333333333333333, \"#9c179e\"], [0.4444444444444444, \"#bd3786\"], [0.5555555555555556, \"#d8576b\"], [0.6666666666666666, \"#ed7953\"], [0.7777777777777778, \"#fb9f3a\"], [0.8888888888888888, \"#fdca26\"], [1.0, \"#f0f921\"]]}, \"colorway\": [\"#636efa\", \"#EF553B\", \"#00cc96\", \"#ab63fa\", \"#FFA15A\", \"#19d3f3\", \"#FF6692\", \"#B6E880\", \"#FF97FF\", \"#FECB52\"], \"font\": {\"color\": \"#2a3f5f\"}, \"geo\": {\"bgcolor\": \"white\", \"lakecolor\": \"white\", \"landcolor\": \"#E5ECF6\", \"showlakes\": true, \"showland\": true, \"subunitcolor\": \"white\"}, \"hoverlabel\": {\"align\": \"left\"}, \"hovermode\": \"closest\", \"mapbox\": {\"style\": \"light\"}, \"paper_bgcolor\": \"white\", \"plot_bgcolor\": \"#E5ECF6\", \"polar\": {\"angularaxis\": {\"gridcolor\": \"white\", \"linecolor\": \"white\", \"ticks\": \"\"}, \"bgcolor\": \"#E5ECF6\", \"radialaxis\": {\"gridcolor\": \"white\", \"linecolor\": \"white\", \"ticks\": \"\"}}, \"scene\": {\"xaxis\": {\"backgroundcolor\": \"#E5ECF6\", \"gridcolor\": \"white\", \"gridwidth\": 2, \"linecolor\": \"white\", \"showbackground\": true, \"ticks\": \"\", \"zerolinecolor\": \"white\"}, \"yaxis\": {\"backgroundcolor\": \"#E5ECF6\", \"gridcolor\": \"white\", \"gridwidth\": 2, \"linecolor\": \"white\", \"showbackground\": true, \"ticks\": \"\", \"zerolinecolor\": \"white\"}, \"zaxis\": {\"backgroundcolor\": \"#E5ECF6\", \"gridcolor\": \"white\", \"gridwidth\": 2, \"linecolor\": \"white\", \"showbackground\": true, \"ticks\": \"\", \"zerolinecolor\": \"white\"}}, \"shapedefaults\": {\"line\": {\"color\": \"#2a3f5f\"}}, \"ternary\": {\"aaxis\": {\"gridcolor\": \"white\", \"linecolor\": \"white\", \"ticks\": \"\"}, \"baxis\": {\"gridcolor\": \"white\", \"linecolor\": \"white\", \"ticks\": \"\"}, \"bgcolor\": \"#E5ECF6\", \"caxis\": {\"gridcolor\": \"white\", \"linecolor\": \"white\", \"ticks\": \"\"}}, \"title\": {\"x\": 0.05}, \"xaxis\": {\"automargin\": true, \"gridcolor\": \"white\", \"linecolor\": \"white\", \"ticks\": \"\", \"title\": {\"standoff\": 15}, \"zerolinecolor\": \"white\", \"zerolinewidth\": 2}, \"yaxis\": {\"automargin\": true, \"gridcolor\": \"white\", \"linecolor\": \"white\", \"ticks\": \"\", \"title\": {\"standoff\": 15}, \"zerolinecolor\": \"white\", \"zerolinewidth\": 2}}}, \"title\": {\"font\": {\"color\": \"#4D5663\"}}, \"xaxis\": {\"gridcolor\": \"#E1E5ED\", \"showgrid\": true, \"tickfont\": {\"color\": \"#4D5663\"}, \"title\": {\"font\": {\"color\": \"#4D5663\"}, \"text\": \"\"}, \"zerolinecolor\": \"#E1E5ED\"}, \"yaxis\": {\"gridcolor\": \"#E1E5ED\", \"showgrid\": true, \"tickfont\": {\"color\": \"#4D5663\"}, \"title\": {\"font\": {\"color\": \"#4D5663\"}, \"text\": \"\"}, \"zerolinecolor\": \"#E1E5ED\"}},                        {\"showLink\": true, \"linkText\": \"Export to plot.ly\", \"plotlyServerURL\": \"https://plot.ly\", \"responsive\": true}                    ).then(function(){\n",
       "                            \n",
       "var gd = document.getElementById('de975e08-7349-467d-b488-c4bc34880d9e');\n",
       "var x = new MutationObserver(function (mutations, observer) {{\n",
       "        var display = window.getComputedStyle(gd).display;\n",
       "        if (!display || display === 'none') {{\n",
       "            console.log([gd, 'removed!']);\n",
       "            Plotly.purge(gd);\n",
       "            observer.disconnect();\n",
       "        }}\n",
       "}});\n",
       "\n",
       "// Listen for the removal of the full notebook cells\n",
       "var notebookContainer = gd.closest('#notebook-container');\n",
       "if (notebookContainer) {{\n",
       "    x.observe(notebookContainer, {childList: true});\n",
       "}}\n",
       "\n",
       "// Listen for the clearing of the current output cell\n",
       "var outputEl = gd.closest('.output');\n",
       "if (outputEl) {{\n",
       "    x.observe(outputEl, {childList: true});\n",
       "}}\n",
       "\n",
       "                        })                };                });            </script>        </div>"
      ]
     },
     "metadata": {},
     "output_type": "display_data"
    }
   ],
   "source": [
    "df.iplot(kind='scatter',x='A',y='B',mode='markers',size=10)"
   ]
  },
  {
   "cell_type": "markdown",
   "metadata": {},
   "source": [
    "## Bar Plots"
   ]
  },
  {
   "cell_type": "code",
   "execution_count": 19,
   "metadata": {},
   "outputs": [
    {
     "data": {
      "application/vnd.plotly.v1+json": {
       "config": {
        "linkText": "Export to plot.ly",
        "plotlyServerURL": "https://plot.ly",
        "showLink": true
       },
       "data": [
        {
         "marker": {
          "color": "rgba(255, 153, 51, 0.6)",
          "line": {
           "color": "rgba(255, 153, 51, 1.0)",
           "width": 1
          }
         },
         "name": "Values",
         "orientation": "v",
         "text": "",
         "type": "bar",
         "x": [
          "A",
          "B",
          "C"
         ],
         "y": [
          32,
          43,
          50
         ]
        }
       ],
       "layout": {
        "legend": {
         "bgcolor": "#F5F6F9",
         "font": {
          "color": "#4D5663"
         }
        },
        "paper_bgcolor": "#F5F6F9",
        "plot_bgcolor": "#F5F6F9",
        "template": {
         "data": {
          "bar": [
           {
            "error_x": {
             "color": "#2a3f5f"
            },
            "error_y": {
             "color": "#2a3f5f"
            },
            "marker": {
             "line": {
              "color": "#E5ECF6",
              "width": 0.5
             }
            },
            "type": "bar"
           }
          ],
          "barpolar": [
           {
            "marker": {
             "line": {
              "color": "#E5ECF6",
              "width": 0.5
             }
            },
            "type": "barpolar"
           }
          ],
          "carpet": [
           {
            "aaxis": {
             "endlinecolor": "#2a3f5f",
             "gridcolor": "white",
             "linecolor": "white",
             "minorgridcolor": "white",
             "startlinecolor": "#2a3f5f"
            },
            "baxis": {
             "endlinecolor": "#2a3f5f",
             "gridcolor": "white",
             "linecolor": "white",
             "minorgridcolor": "white",
             "startlinecolor": "#2a3f5f"
            },
            "type": "carpet"
           }
          ],
          "choropleth": [
           {
            "colorbar": {
             "outlinewidth": 0,
             "ticks": ""
            },
            "type": "choropleth"
           }
          ],
          "contour": [
           {
            "colorbar": {
             "outlinewidth": 0,
             "ticks": ""
            },
            "colorscale": [
             [
              0,
              "#0d0887"
             ],
             [
              0.1111111111111111,
              "#46039f"
             ],
             [
              0.2222222222222222,
              "#7201a8"
             ],
             [
              0.3333333333333333,
              "#9c179e"
             ],
             [
              0.4444444444444444,
              "#bd3786"
             ],
             [
              0.5555555555555556,
              "#d8576b"
             ],
             [
              0.6666666666666666,
              "#ed7953"
             ],
             [
              0.7777777777777778,
              "#fb9f3a"
             ],
             [
              0.8888888888888888,
              "#fdca26"
             ],
             [
              1,
              "#f0f921"
             ]
            ],
            "type": "contour"
           }
          ],
          "contourcarpet": [
           {
            "colorbar": {
             "outlinewidth": 0,
             "ticks": ""
            },
            "type": "contourcarpet"
           }
          ],
          "heatmap": [
           {
            "colorbar": {
             "outlinewidth": 0,
             "ticks": ""
            },
            "colorscale": [
             [
              0,
              "#0d0887"
             ],
             [
              0.1111111111111111,
              "#46039f"
             ],
             [
              0.2222222222222222,
              "#7201a8"
             ],
             [
              0.3333333333333333,
              "#9c179e"
             ],
             [
              0.4444444444444444,
              "#bd3786"
             ],
             [
              0.5555555555555556,
              "#d8576b"
             ],
             [
              0.6666666666666666,
              "#ed7953"
             ],
             [
              0.7777777777777778,
              "#fb9f3a"
             ],
             [
              0.8888888888888888,
              "#fdca26"
             ],
             [
              1,
              "#f0f921"
             ]
            ],
            "type": "heatmap"
           }
          ],
          "heatmapgl": [
           {
            "colorbar": {
             "outlinewidth": 0,
             "ticks": ""
            },
            "colorscale": [
             [
              0,
              "#0d0887"
             ],
             [
              0.1111111111111111,
              "#46039f"
             ],
             [
              0.2222222222222222,
              "#7201a8"
             ],
             [
              0.3333333333333333,
              "#9c179e"
             ],
             [
              0.4444444444444444,
              "#bd3786"
             ],
             [
              0.5555555555555556,
              "#d8576b"
             ],
             [
              0.6666666666666666,
              "#ed7953"
             ],
             [
              0.7777777777777778,
              "#fb9f3a"
             ],
             [
              0.8888888888888888,
              "#fdca26"
             ],
             [
              1,
              "#f0f921"
             ]
            ],
            "type": "heatmapgl"
           }
          ],
          "histogram": [
           {
            "marker": {
             "colorbar": {
              "outlinewidth": 0,
              "ticks": ""
             }
            },
            "type": "histogram"
           }
          ],
          "histogram2d": [
           {
            "colorbar": {
             "outlinewidth": 0,
             "ticks": ""
            },
            "colorscale": [
             [
              0,
              "#0d0887"
             ],
             [
              0.1111111111111111,
              "#46039f"
             ],
             [
              0.2222222222222222,
              "#7201a8"
             ],
             [
              0.3333333333333333,
              "#9c179e"
             ],
             [
              0.4444444444444444,
              "#bd3786"
             ],
             [
              0.5555555555555556,
              "#d8576b"
             ],
             [
              0.6666666666666666,
              "#ed7953"
             ],
             [
              0.7777777777777778,
              "#fb9f3a"
             ],
             [
              0.8888888888888888,
              "#fdca26"
             ],
             [
              1,
              "#f0f921"
             ]
            ],
            "type": "histogram2d"
           }
          ],
          "histogram2dcontour": [
           {
            "colorbar": {
             "outlinewidth": 0,
             "ticks": ""
            },
            "colorscale": [
             [
              0,
              "#0d0887"
             ],
             [
              0.1111111111111111,
              "#46039f"
             ],
             [
              0.2222222222222222,
              "#7201a8"
             ],
             [
              0.3333333333333333,
              "#9c179e"
             ],
             [
              0.4444444444444444,
              "#bd3786"
             ],
             [
              0.5555555555555556,
              "#d8576b"
             ],
             [
              0.6666666666666666,
              "#ed7953"
             ],
             [
              0.7777777777777778,
              "#fb9f3a"
             ],
             [
              0.8888888888888888,
              "#fdca26"
             ],
             [
              1,
              "#f0f921"
             ]
            ],
            "type": "histogram2dcontour"
           }
          ],
          "mesh3d": [
           {
            "colorbar": {
             "outlinewidth": 0,
             "ticks": ""
            },
            "type": "mesh3d"
           }
          ],
          "parcoords": [
           {
            "line": {
             "colorbar": {
              "outlinewidth": 0,
              "ticks": ""
             }
            },
            "type": "parcoords"
           }
          ],
          "pie": [
           {
            "automargin": true,
            "type": "pie"
           }
          ],
          "scatter": [
           {
            "marker": {
             "colorbar": {
              "outlinewidth": 0,
              "ticks": ""
             }
            },
            "type": "scatter"
           }
          ],
          "scatter3d": [
           {
            "line": {
             "colorbar": {
              "outlinewidth": 0,
              "ticks": ""
             }
            },
            "marker": {
             "colorbar": {
              "outlinewidth": 0,
              "ticks": ""
             }
            },
            "type": "scatter3d"
           }
          ],
          "scattercarpet": [
           {
            "marker": {
             "colorbar": {
              "outlinewidth": 0,
              "ticks": ""
             }
            },
            "type": "scattercarpet"
           }
          ],
          "scattergeo": [
           {
            "marker": {
             "colorbar": {
              "outlinewidth": 0,
              "ticks": ""
             }
            },
            "type": "scattergeo"
           }
          ],
          "scattergl": [
           {
            "marker": {
             "colorbar": {
              "outlinewidth": 0,
              "ticks": ""
             }
            },
            "type": "scattergl"
           }
          ],
          "scattermapbox": [
           {
            "marker": {
             "colorbar": {
              "outlinewidth": 0,
              "ticks": ""
             }
            },
            "type": "scattermapbox"
           }
          ],
          "scatterpolar": [
           {
            "marker": {
             "colorbar": {
              "outlinewidth": 0,
              "ticks": ""
             }
            },
            "type": "scatterpolar"
           }
          ],
          "scatterpolargl": [
           {
            "marker": {
             "colorbar": {
              "outlinewidth": 0,
              "ticks": ""
             }
            },
            "type": "scatterpolargl"
           }
          ],
          "scatterternary": [
           {
            "marker": {
             "colorbar": {
              "outlinewidth": 0,
              "ticks": ""
             }
            },
            "type": "scatterternary"
           }
          ],
          "surface": [
           {
            "colorbar": {
             "outlinewidth": 0,
             "ticks": ""
            },
            "colorscale": [
             [
              0,
              "#0d0887"
             ],
             [
              0.1111111111111111,
              "#46039f"
             ],
             [
              0.2222222222222222,
              "#7201a8"
             ],
             [
              0.3333333333333333,
              "#9c179e"
             ],
             [
              0.4444444444444444,
              "#bd3786"
             ],
             [
              0.5555555555555556,
              "#d8576b"
             ],
             [
              0.6666666666666666,
              "#ed7953"
             ],
             [
              0.7777777777777778,
              "#fb9f3a"
             ],
             [
              0.8888888888888888,
              "#fdca26"
             ],
             [
              1,
              "#f0f921"
             ]
            ],
            "type": "surface"
           }
          ],
          "table": [
           {
            "cells": {
             "fill": {
              "color": "#EBF0F8"
             },
             "line": {
              "color": "white"
             }
            },
            "header": {
             "fill": {
              "color": "#C8D4E3"
             },
             "line": {
              "color": "white"
             }
            },
            "type": "table"
           }
          ]
         },
         "layout": {
          "annotationdefaults": {
           "arrowcolor": "#2a3f5f",
           "arrowhead": 0,
           "arrowwidth": 1
          },
          "autotypenumbers": "strict",
          "coloraxis": {
           "colorbar": {
            "outlinewidth": 0,
            "ticks": ""
           }
          },
          "colorscale": {
           "diverging": [
            [
             0,
             "#8e0152"
            ],
            [
             0.1,
             "#c51b7d"
            ],
            [
             0.2,
             "#de77ae"
            ],
            [
             0.3,
             "#f1b6da"
            ],
            [
             0.4,
             "#fde0ef"
            ],
            [
             0.5,
             "#f7f7f7"
            ],
            [
             0.6,
             "#e6f5d0"
            ],
            [
             0.7,
             "#b8e186"
            ],
            [
             0.8,
             "#7fbc41"
            ],
            [
             0.9,
             "#4d9221"
            ],
            [
             1,
             "#276419"
            ]
           ],
           "sequential": [
            [
             0,
             "#0d0887"
            ],
            [
             0.1111111111111111,
             "#46039f"
            ],
            [
             0.2222222222222222,
             "#7201a8"
            ],
            [
             0.3333333333333333,
             "#9c179e"
            ],
            [
             0.4444444444444444,
             "#bd3786"
            ],
            [
             0.5555555555555556,
             "#d8576b"
            ],
            [
             0.6666666666666666,
             "#ed7953"
            ],
            [
             0.7777777777777778,
             "#fb9f3a"
            ],
            [
             0.8888888888888888,
             "#fdca26"
            ],
            [
             1,
             "#f0f921"
            ]
           ],
           "sequentialminus": [
            [
             0,
             "#0d0887"
            ],
            [
             0.1111111111111111,
             "#46039f"
            ],
            [
             0.2222222222222222,
             "#7201a8"
            ],
            [
             0.3333333333333333,
             "#9c179e"
            ],
            [
             0.4444444444444444,
             "#bd3786"
            ],
            [
             0.5555555555555556,
             "#d8576b"
            ],
            [
             0.6666666666666666,
             "#ed7953"
            ],
            [
             0.7777777777777778,
             "#fb9f3a"
            ],
            [
             0.8888888888888888,
             "#fdca26"
            ],
            [
             1,
             "#f0f921"
            ]
           ]
          },
          "colorway": [
           "#636efa",
           "#EF553B",
           "#00cc96",
           "#ab63fa",
           "#FFA15A",
           "#19d3f3",
           "#FF6692",
           "#B6E880",
           "#FF97FF",
           "#FECB52"
          ],
          "font": {
           "color": "#2a3f5f"
          },
          "geo": {
           "bgcolor": "white",
           "lakecolor": "white",
           "landcolor": "#E5ECF6",
           "showlakes": true,
           "showland": true,
           "subunitcolor": "white"
          },
          "hoverlabel": {
           "align": "left"
          },
          "hovermode": "closest",
          "mapbox": {
           "style": "light"
          },
          "paper_bgcolor": "white",
          "plot_bgcolor": "#E5ECF6",
          "polar": {
           "angularaxis": {
            "gridcolor": "white",
            "linecolor": "white",
            "ticks": ""
           },
           "bgcolor": "#E5ECF6",
           "radialaxis": {
            "gridcolor": "white",
            "linecolor": "white",
            "ticks": ""
           }
          },
          "scene": {
           "xaxis": {
            "backgroundcolor": "#E5ECF6",
            "gridcolor": "white",
            "gridwidth": 2,
            "linecolor": "white",
            "showbackground": true,
            "ticks": "",
            "zerolinecolor": "white"
           },
           "yaxis": {
            "backgroundcolor": "#E5ECF6",
            "gridcolor": "white",
            "gridwidth": 2,
            "linecolor": "white",
            "showbackground": true,
            "ticks": "",
            "zerolinecolor": "white"
           },
           "zaxis": {
            "backgroundcolor": "#E5ECF6",
            "gridcolor": "white",
            "gridwidth": 2,
            "linecolor": "white",
            "showbackground": true,
            "ticks": "",
            "zerolinecolor": "white"
           }
          },
          "shapedefaults": {
           "line": {
            "color": "#2a3f5f"
           }
          },
          "ternary": {
           "aaxis": {
            "gridcolor": "white",
            "linecolor": "white",
            "ticks": ""
           },
           "baxis": {
            "gridcolor": "white",
            "linecolor": "white",
            "ticks": ""
           },
           "bgcolor": "#E5ECF6",
           "caxis": {
            "gridcolor": "white",
            "linecolor": "white",
            "ticks": ""
           }
          },
          "title": {
           "x": 0.05
          },
          "xaxis": {
           "automargin": true,
           "gridcolor": "white",
           "linecolor": "white",
           "ticks": "",
           "title": {
            "standoff": 15
           },
           "zerolinecolor": "white",
           "zerolinewidth": 2
          },
          "yaxis": {
           "automargin": true,
           "gridcolor": "white",
           "linecolor": "white",
           "ticks": "",
           "title": {
            "standoff": 15
           },
           "zerolinecolor": "white",
           "zerolinewidth": 2
          }
         }
        },
        "title": {
         "font": {
          "color": "#4D5663"
         }
        },
        "xaxis": {
         "gridcolor": "#E1E5ED",
         "showgrid": true,
         "tickfont": {
          "color": "#4D5663"
         },
         "title": {
          "font": {
           "color": "#4D5663"
          },
          "text": ""
         },
         "zerolinecolor": "#E1E5ED"
        },
        "yaxis": {
         "gridcolor": "#E1E5ED",
         "showgrid": true,
         "tickfont": {
          "color": "#4D5663"
         },
         "title": {
          "font": {
           "color": "#4D5663"
          },
          "text": ""
         },
         "zerolinecolor": "#E1E5ED"
        }
       }
      },
      "text/html": [
       "<div>                            <div id=\"11de4e7f-301b-4790-906c-b090c10c7d71\" class=\"plotly-graph-div\" style=\"height:525px; width:100%;\"></div>            <script type=\"text/javascript\">                require([\"plotly\"], function(Plotly) {                    window.PLOTLYENV=window.PLOTLYENV || {};\n",
       "                    window.PLOTLYENV.BASE_URL='https://plot.ly';                                    if (document.getElementById(\"11de4e7f-301b-4790-906c-b090c10c7d71\")) {                    Plotly.newPlot(                        \"11de4e7f-301b-4790-906c-b090c10c7d71\",                        [{\"marker\": {\"color\": \"rgba(255, 153, 51, 0.6)\", \"line\": {\"color\": \"rgba(255, 153, 51, 1.0)\", \"width\": 1}}, \"name\": \"Values\", \"orientation\": \"v\", \"text\": \"\", \"type\": \"bar\", \"x\": [\"A\", \"B\", \"C\"], \"y\": [32, 43, 50]}],                        {\"legend\": {\"bgcolor\": \"#F5F6F9\", \"font\": {\"color\": \"#4D5663\"}}, \"paper_bgcolor\": \"#F5F6F9\", \"plot_bgcolor\": \"#F5F6F9\", \"template\": {\"data\": {\"bar\": [{\"error_x\": {\"color\": \"#2a3f5f\"}, \"error_y\": {\"color\": \"#2a3f5f\"}, \"marker\": {\"line\": {\"color\": \"#E5ECF6\", \"width\": 0.5}}, \"type\": \"bar\"}], \"barpolar\": [{\"marker\": {\"line\": {\"color\": \"#E5ECF6\", \"width\": 0.5}}, \"type\": \"barpolar\"}], \"carpet\": [{\"aaxis\": {\"endlinecolor\": \"#2a3f5f\", \"gridcolor\": \"white\", \"linecolor\": \"white\", \"minorgridcolor\": \"white\", \"startlinecolor\": \"#2a3f5f\"}, \"baxis\": {\"endlinecolor\": \"#2a3f5f\", \"gridcolor\": \"white\", \"linecolor\": \"white\", \"minorgridcolor\": \"white\", \"startlinecolor\": \"#2a3f5f\"}, \"type\": \"carpet\"}], \"choropleth\": [{\"colorbar\": {\"outlinewidth\": 0, \"ticks\": \"\"}, \"type\": \"choropleth\"}], \"contour\": [{\"colorbar\": {\"outlinewidth\": 0, \"ticks\": \"\"}, \"colorscale\": [[0.0, \"#0d0887\"], [0.1111111111111111, \"#46039f\"], [0.2222222222222222, \"#7201a8\"], [0.3333333333333333, \"#9c179e\"], [0.4444444444444444, \"#bd3786\"], [0.5555555555555556, \"#d8576b\"], [0.6666666666666666, \"#ed7953\"], [0.7777777777777778, \"#fb9f3a\"], [0.8888888888888888, \"#fdca26\"], [1.0, \"#f0f921\"]], \"type\": \"contour\"}], \"contourcarpet\": [{\"colorbar\": {\"outlinewidth\": 0, \"ticks\": \"\"}, \"type\": \"contourcarpet\"}], \"heatmap\": [{\"colorbar\": {\"outlinewidth\": 0, \"ticks\": \"\"}, \"colorscale\": [[0.0, \"#0d0887\"], [0.1111111111111111, \"#46039f\"], [0.2222222222222222, \"#7201a8\"], [0.3333333333333333, \"#9c179e\"], [0.4444444444444444, \"#bd3786\"], [0.5555555555555556, \"#d8576b\"], [0.6666666666666666, \"#ed7953\"], [0.7777777777777778, \"#fb9f3a\"], [0.8888888888888888, \"#fdca26\"], [1.0, \"#f0f921\"]], \"type\": \"heatmap\"}], \"heatmapgl\": [{\"colorbar\": {\"outlinewidth\": 0, \"ticks\": \"\"}, \"colorscale\": [[0.0, \"#0d0887\"], [0.1111111111111111, \"#46039f\"], [0.2222222222222222, \"#7201a8\"], [0.3333333333333333, \"#9c179e\"], [0.4444444444444444, \"#bd3786\"], [0.5555555555555556, \"#d8576b\"], [0.6666666666666666, \"#ed7953\"], [0.7777777777777778, \"#fb9f3a\"], [0.8888888888888888, \"#fdca26\"], [1.0, \"#f0f921\"]], \"type\": \"heatmapgl\"}], \"histogram\": [{\"marker\": {\"colorbar\": {\"outlinewidth\": 0, \"ticks\": \"\"}}, \"type\": \"histogram\"}], \"histogram2d\": [{\"colorbar\": {\"outlinewidth\": 0, \"ticks\": \"\"}, \"colorscale\": [[0.0, \"#0d0887\"], [0.1111111111111111, \"#46039f\"], [0.2222222222222222, \"#7201a8\"], [0.3333333333333333, \"#9c179e\"], [0.4444444444444444, \"#bd3786\"], [0.5555555555555556, \"#d8576b\"], [0.6666666666666666, \"#ed7953\"], [0.7777777777777778, \"#fb9f3a\"], [0.8888888888888888, \"#fdca26\"], [1.0, \"#f0f921\"]], \"type\": \"histogram2d\"}], \"histogram2dcontour\": [{\"colorbar\": {\"outlinewidth\": 0, \"ticks\": \"\"}, \"colorscale\": [[0.0, \"#0d0887\"], [0.1111111111111111, \"#46039f\"], [0.2222222222222222, \"#7201a8\"], [0.3333333333333333, \"#9c179e\"], [0.4444444444444444, \"#bd3786\"], [0.5555555555555556, \"#d8576b\"], [0.6666666666666666, \"#ed7953\"], [0.7777777777777778, \"#fb9f3a\"], [0.8888888888888888, \"#fdca26\"], [1.0, \"#f0f921\"]], \"type\": \"histogram2dcontour\"}], \"mesh3d\": [{\"colorbar\": {\"outlinewidth\": 0, \"ticks\": \"\"}, \"type\": \"mesh3d\"}], \"parcoords\": [{\"line\": {\"colorbar\": {\"outlinewidth\": 0, \"ticks\": \"\"}}, \"type\": \"parcoords\"}], \"pie\": [{\"automargin\": true, \"type\": \"pie\"}], \"scatter\": [{\"marker\": {\"colorbar\": {\"outlinewidth\": 0, \"ticks\": \"\"}}, \"type\": \"scatter\"}], \"scatter3d\": [{\"line\": {\"colorbar\": {\"outlinewidth\": 0, \"ticks\": \"\"}}, \"marker\": {\"colorbar\": {\"outlinewidth\": 0, \"ticks\": \"\"}}, \"type\": \"scatter3d\"}], \"scattercarpet\": [{\"marker\": {\"colorbar\": {\"outlinewidth\": 0, \"ticks\": \"\"}}, \"type\": \"scattercarpet\"}], \"scattergeo\": [{\"marker\": {\"colorbar\": {\"outlinewidth\": 0, \"ticks\": \"\"}}, \"type\": \"scattergeo\"}], \"scattergl\": [{\"marker\": {\"colorbar\": {\"outlinewidth\": 0, \"ticks\": \"\"}}, \"type\": \"scattergl\"}], \"scattermapbox\": [{\"marker\": {\"colorbar\": {\"outlinewidth\": 0, \"ticks\": \"\"}}, \"type\": \"scattermapbox\"}], \"scatterpolar\": [{\"marker\": {\"colorbar\": {\"outlinewidth\": 0, \"ticks\": \"\"}}, \"type\": \"scatterpolar\"}], \"scatterpolargl\": [{\"marker\": {\"colorbar\": {\"outlinewidth\": 0, \"ticks\": \"\"}}, \"type\": \"scatterpolargl\"}], \"scatterternary\": [{\"marker\": {\"colorbar\": {\"outlinewidth\": 0, \"ticks\": \"\"}}, \"type\": \"scatterternary\"}], \"surface\": [{\"colorbar\": {\"outlinewidth\": 0, \"ticks\": \"\"}, \"colorscale\": [[0.0, \"#0d0887\"], [0.1111111111111111, \"#46039f\"], [0.2222222222222222, \"#7201a8\"], [0.3333333333333333, \"#9c179e\"], [0.4444444444444444, \"#bd3786\"], [0.5555555555555556, \"#d8576b\"], [0.6666666666666666, \"#ed7953\"], [0.7777777777777778, \"#fb9f3a\"], [0.8888888888888888, \"#fdca26\"], [1.0, \"#f0f921\"]], \"type\": \"surface\"}], \"table\": [{\"cells\": {\"fill\": {\"color\": \"#EBF0F8\"}, \"line\": {\"color\": \"white\"}}, \"header\": {\"fill\": {\"color\": \"#C8D4E3\"}, \"line\": {\"color\": \"white\"}}, \"type\": \"table\"}]}, \"layout\": {\"annotationdefaults\": {\"arrowcolor\": \"#2a3f5f\", \"arrowhead\": 0, \"arrowwidth\": 1}, \"autotypenumbers\": \"strict\", \"coloraxis\": {\"colorbar\": {\"outlinewidth\": 0, \"ticks\": \"\"}}, \"colorscale\": {\"diverging\": [[0, \"#8e0152\"], [0.1, \"#c51b7d\"], [0.2, \"#de77ae\"], [0.3, \"#f1b6da\"], [0.4, \"#fde0ef\"], [0.5, \"#f7f7f7\"], [0.6, \"#e6f5d0\"], [0.7, \"#b8e186\"], [0.8, \"#7fbc41\"], [0.9, \"#4d9221\"], [1, \"#276419\"]], \"sequential\": [[0.0, \"#0d0887\"], [0.1111111111111111, \"#46039f\"], [0.2222222222222222, \"#7201a8\"], [0.3333333333333333, \"#9c179e\"], [0.4444444444444444, \"#bd3786\"], [0.5555555555555556, \"#d8576b\"], [0.6666666666666666, \"#ed7953\"], [0.7777777777777778, \"#fb9f3a\"], [0.8888888888888888, \"#fdca26\"], [1.0, \"#f0f921\"]], \"sequentialminus\": [[0.0, \"#0d0887\"], [0.1111111111111111, \"#46039f\"], [0.2222222222222222, \"#7201a8\"], [0.3333333333333333, \"#9c179e\"], [0.4444444444444444, \"#bd3786\"], [0.5555555555555556, \"#d8576b\"], [0.6666666666666666, \"#ed7953\"], [0.7777777777777778, \"#fb9f3a\"], [0.8888888888888888, \"#fdca26\"], [1.0, \"#f0f921\"]]}, \"colorway\": [\"#636efa\", \"#EF553B\", \"#00cc96\", \"#ab63fa\", \"#FFA15A\", \"#19d3f3\", \"#FF6692\", \"#B6E880\", \"#FF97FF\", \"#FECB52\"], \"font\": {\"color\": \"#2a3f5f\"}, \"geo\": {\"bgcolor\": \"white\", \"lakecolor\": \"white\", \"landcolor\": \"#E5ECF6\", \"showlakes\": true, \"showland\": true, \"subunitcolor\": \"white\"}, \"hoverlabel\": {\"align\": \"left\"}, \"hovermode\": \"closest\", \"mapbox\": {\"style\": \"light\"}, \"paper_bgcolor\": \"white\", \"plot_bgcolor\": \"#E5ECF6\", \"polar\": {\"angularaxis\": {\"gridcolor\": \"white\", \"linecolor\": \"white\", \"ticks\": \"\"}, \"bgcolor\": \"#E5ECF6\", \"radialaxis\": {\"gridcolor\": \"white\", \"linecolor\": \"white\", \"ticks\": \"\"}}, \"scene\": {\"xaxis\": {\"backgroundcolor\": \"#E5ECF6\", \"gridcolor\": \"white\", \"gridwidth\": 2, \"linecolor\": \"white\", \"showbackground\": true, \"ticks\": \"\", \"zerolinecolor\": \"white\"}, \"yaxis\": {\"backgroundcolor\": \"#E5ECF6\", \"gridcolor\": \"white\", \"gridwidth\": 2, \"linecolor\": \"white\", \"showbackground\": true, \"ticks\": \"\", \"zerolinecolor\": \"white\"}, \"zaxis\": {\"backgroundcolor\": \"#E5ECF6\", \"gridcolor\": \"white\", \"gridwidth\": 2, \"linecolor\": \"white\", \"showbackground\": true, \"ticks\": \"\", \"zerolinecolor\": \"white\"}}, \"shapedefaults\": {\"line\": {\"color\": \"#2a3f5f\"}}, \"ternary\": {\"aaxis\": {\"gridcolor\": \"white\", \"linecolor\": \"white\", \"ticks\": \"\"}, \"baxis\": {\"gridcolor\": \"white\", \"linecolor\": \"white\", \"ticks\": \"\"}, \"bgcolor\": \"#E5ECF6\", \"caxis\": {\"gridcolor\": \"white\", \"linecolor\": \"white\", \"ticks\": \"\"}}, \"title\": {\"x\": 0.05}, \"xaxis\": {\"automargin\": true, \"gridcolor\": \"white\", \"linecolor\": \"white\", \"ticks\": \"\", \"title\": {\"standoff\": 15}, \"zerolinecolor\": \"white\", \"zerolinewidth\": 2}, \"yaxis\": {\"automargin\": true, \"gridcolor\": \"white\", \"linecolor\": \"white\", \"ticks\": \"\", \"title\": {\"standoff\": 15}, \"zerolinecolor\": \"white\", \"zerolinewidth\": 2}}}, \"title\": {\"font\": {\"color\": \"#4D5663\"}}, \"xaxis\": {\"gridcolor\": \"#E1E5ED\", \"showgrid\": true, \"tickfont\": {\"color\": \"#4D5663\"}, \"title\": {\"font\": {\"color\": \"#4D5663\"}, \"text\": \"\"}, \"zerolinecolor\": \"#E1E5ED\"}, \"yaxis\": {\"gridcolor\": \"#E1E5ED\", \"showgrid\": true, \"tickfont\": {\"color\": \"#4D5663\"}, \"title\": {\"font\": {\"color\": \"#4D5663\"}, \"text\": \"\"}, \"zerolinecolor\": \"#E1E5ED\"}},                        {\"showLink\": true, \"linkText\": \"Export to plot.ly\", \"plotlyServerURL\": \"https://plot.ly\", \"responsive\": true}                    ).then(function(){\n",
       "                            \n",
       "var gd = document.getElementById('11de4e7f-301b-4790-906c-b090c10c7d71');\n",
       "var x = new MutationObserver(function (mutations, observer) {{\n",
       "        var display = window.getComputedStyle(gd).display;\n",
       "        if (!display || display === 'none') {{\n",
       "            console.log([gd, 'removed!']);\n",
       "            Plotly.purge(gd);\n",
       "            observer.disconnect();\n",
       "        }}\n",
       "}});\n",
       "\n",
       "// Listen for the removal of the full notebook cells\n",
       "var notebookContainer = gd.closest('#notebook-container');\n",
       "if (notebookContainer) {{\n",
       "    x.observe(notebookContainer, {childList: true});\n",
       "}}\n",
       "\n",
       "// Listen for the clearing of the current output cell\n",
       "var outputEl = gd.closest('.output');\n",
       "if (outputEl) {{\n",
       "    x.observe(outputEl, {childList: true});\n",
       "}}\n",
       "\n",
       "                        })                };                });            </script>        </div>"
      ]
     },
     "metadata": {},
     "output_type": "display_data"
    }
   ],
   "source": [
    "df2.iplot(kind='bar',x='Category',y='Values')"
   ]
  },
  {
   "cell_type": "code",
   "execution_count": 20,
   "metadata": {},
   "outputs": [
    {
     "data": {
      "application/vnd.plotly.v1+json": {
       "config": {
        "linkText": "Export to plot.ly",
        "plotlyServerURL": "https://plot.ly",
        "showLink": true
       },
       "data": [
        {
         "marker": {
          "color": "rgba(255, 153, 51, 0.6)",
          "line": {
           "color": "rgba(255, 153, 51, 1.0)",
           "width": 1
          }
         },
         "name": "None",
         "orientation": "v",
         "text": "",
         "type": "bar",
         "x": [
          "A",
          "B",
          "C",
          "D"
         ],
         "y": [
          100,
          100,
          100,
          100
         ]
        }
       ],
       "layout": {
        "legend": {
         "bgcolor": "#F5F6F9",
         "font": {
          "color": "#4D5663"
         }
        },
        "paper_bgcolor": "#F5F6F9",
        "plot_bgcolor": "#F5F6F9",
        "template": {
         "data": {
          "bar": [
           {
            "error_x": {
             "color": "#2a3f5f"
            },
            "error_y": {
             "color": "#2a3f5f"
            },
            "marker": {
             "line": {
              "color": "#E5ECF6",
              "width": 0.5
             }
            },
            "type": "bar"
           }
          ],
          "barpolar": [
           {
            "marker": {
             "line": {
              "color": "#E5ECF6",
              "width": 0.5
             }
            },
            "type": "barpolar"
           }
          ],
          "carpet": [
           {
            "aaxis": {
             "endlinecolor": "#2a3f5f",
             "gridcolor": "white",
             "linecolor": "white",
             "minorgridcolor": "white",
             "startlinecolor": "#2a3f5f"
            },
            "baxis": {
             "endlinecolor": "#2a3f5f",
             "gridcolor": "white",
             "linecolor": "white",
             "minorgridcolor": "white",
             "startlinecolor": "#2a3f5f"
            },
            "type": "carpet"
           }
          ],
          "choropleth": [
           {
            "colorbar": {
             "outlinewidth": 0,
             "ticks": ""
            },
            "type": "choropleth"
           }
          ],
          "contour": [
           {
            "colorbar": {
             "outlinewidth": 0,
             "ticks": ""
            },
            "colorscale": [
             [
              0,
              "#0d0887"
             ],
             [
              0.1111111111111111,
              "#46039f"
             ],
             [
              0.2222222222222222,
              "#7201a8"
             ],
             [
              0.3333333333333333,
              "#9c179e"
             ],
             [
              0.4444444444444444,
              "#bd3786"
             ],
             [
              0.5555555555555556,
              "#d8576b"
             ],
             [
              0.6666666666666666,
              "#ed7953"
             ],
             [
              0.7777777777777778,
              "#fb9f3a"
             ],
             [
              0.8888888888888888,
              "#fdca26"
             ],
             [
              1,
              "#f0f921"
             ]
            ],
            "type": "contour"
           }
          ],
          "contourcarpet": [
           {
            "colorbar": {
             "outlinewidth": 0,
             "ticks": ""
            },
            "type": "contourcarpet"
           }
          ],
          "heatmap": [
           {
            "colorbar": {
             "outlinewidth": 0,
             "ticks": ""
            },
            "colorscale": [
             [
              0,
              "#0d0887"
             ],
             [
              0.1111111111111111,
              "#46039f"
             ],
             [
              0.2222222222222222,
              "#7201a8"
             ],
             [
              0.3333333333333333,
              "#9c179e"
             ],
             [
              0.4444444444444444,
              "#bd3786"
             ],
             [
              0.5555555555555556,
              "#d8576b"
             ],
             [
              0.6666666666666666,
              "#ed7953"
             ],
             [
              0.7777777777777778,
              "#fb9f3a"
             ],
             [
              0.8888888888888888,
              "#fdca26"
             ],
             [
              1,
              "#f0f921"
             ]
            ],
            "type": "heatmap"
           }
          ],
          "heatmapgl": [
           {
            "colorbar": {
             "outlinewidth": 0,
             "ticks": ""
            },
            "colorscale": [
             [
              0,
              "#0d0887"
             ],
             [
              0.1111111111111111,
              "#46039f"
             ],
             [
              0.2222222222222222,
              "#7201a8"
             ],
             [
              0.3333333333333333,
              "#9c179e"
             ],
             [
              0.4444444444444444,
              "#bd3786"
             ],
             [
              0.5555555555555556,
              "#d8576b"
             ],
             [
              0.6666666666666666,
              "#ed7953"
             ],
             [
              0.7777777777777778,
              "#fb9f3a"
             ],
             [
              0.8888888888888888,
              "#fdca26"
             ],
             [
              1,
              "#f0f921"
             ]
            ],
            "type": "heatmapgl"
           }
          ],
          "histogram": [
           {
            "marker": {
             "colorbar": {
              "outlinewidth": 0,
              "ticks": ""
             }
            },
            "type": "histogram"
           }
          ],
          "histogram2d": [
           {
            "colorbar": {
             "outlinewidth": 0,
             "ticks": ""
            },
            "colorscale": [
             [
              0,
              "#0d0887"
             ],
             [
              0.1111111111111111,
              "#46039f"
             ],
             [
              0.2222222222222222,
              "#7201a8"
             ],
             [
              0.3333333333333333,
              "#9c179e"
             ],
             [
              0.4444444444444444,
              "#bd3786"
             ],
             [
              0.5555555555555556,
              "#d8576b"
             ],
             [
              0.6666666666666666,
              "#ed7953"
             ],
             [
              0.7777777777777778,
              "#fb9f3a"
             ],
             [
              0.8888888888888888,
              "#fdca26"
             ],
             [
              1,
              "#f0f921"
             ]
            ],
            "type": "histogram2d"
           }
          ],
          "histogram2dcontour": [
           {
            "colorbar": {
             "outlinewidth": 0,
             "ticks": ""
            },
            "colorscale": [
             [
              0,
              "#0d0887"
             ],
             [
              0.1111111111111111,
              "#46039f"
             ],
             [
              0.2222222222222222,
              "#7201a8"
             ],
             [
              0.3333333333333333,
              "#9c179e"
             ],
             [
              0.4444444444444444,
              "#bd3786"
             ],
             [
              0.5555555555555556,
              "#d8576b"
             ],
             [
              0.6666666666666666,
              "#ed7953"
             ],
             [
              0.7777777777777778,
              "#fb9f3a"
             ],
             [
              0.8888888888888888,
              "#fdca26"
             ],
             [
              1,
              "#f0f921"
             ]
            ],
            "type": "histogram2dcontour"
           }
          ],
          "mesh3d": [
           {
            "colorbar": {
             "outlinewidth": 0,
             "ticks": ""
            },
            "type": "mesh3d"
           }
          ],
          "parcoords": [
           {
            "line": {
             "colorbar": {
              "outlinewidth": 0,
              "ticks": ""
             }
            },
            "type": "parcoords"
           }
          ],
          "pie": [
           {
            "automargin": true,
            "type": "pie"
           }
          ],
          "scatter": [
           {
            "marker": {
             "colorbar": {
              "outlinewidth": 0,
              "ticks": ""
             }
            },
            "type": "scatter"
           }
          ],
          "scatter3d": [
           {
            "line": {
             "colorbar": {
              "outlinewidth": 0,
              "ticks": ""
             }
            },
            "marker": {
             "colorbar": {
              "outlinewidth": 0,
              "ticks": ""
             }
            },
            "type": "scatter3d"
           }
          ],
          "scattercarpet": [
           {
            "marker": {
             "colorbar": {
              "outlinewidth": 0,
              "ticks": ""
             }
            },
            "type": "scattercarpet"
           }
          ],
          "scattergeo": [
           {
            "marker": {
             "colorbar": {
              "outlinewidth": 0,
              "ticks": ""
             }
            },
            "type": "scattergeo"
           }
          ],
          "scattergl": [
           {
            "marker": {
             "colorbar": {
              "outlinewidth": 0,
              "ticks": ""
             }
            },
            "type": "scattergl"
           }
          ],
          "scattermapbox": [
           {
            "marker": {
             "colorbar": {
              "outlinewidth": 0,
              "ticks": ""
             }
            },
            "type": "scattermapbox"
           }
          ],
          "scatterpolar": [
           {
            "marker": {
             "colorbar": {
              "outlinewidth": 0,
              "ticks": ""
             }
            },
            "type": "scatterpolar"
           }
          ],
          "scatterpolargl": [
           {
            "marker": {
             "colorbar": {
              "outlinewidth": 0,
              "ticks": ""
             }
            },
            "type": "scatterpolargl"
           }
          ],
          "scatterternary": [
           {
            "marker": {
             "colorbar": {
              "outlinewidth": 0,
              "ticks": ""
             }
            },
            "type": "scatterternary"
           }
          ],
          "surface": [
           {
            "colorbar": {
             "outlinewidth": 0,
             "ticks": ""
            },
            "colorscale": [
             [
              0,
              "#0d0887"
             ],
             [
              0.1111111111111111,
              "#46039f"
             ],
             [
              0.2222222222222222,
              "#7201a8"
             ],
             [
              0.3333333333333333,
              "#9c179e"
             ],
             [
              0.4444444444444444,
              "#bd3786"
             ],
             [
              0.5555555555555556,
              "#d8576b"
             ],
             [
              0.6666666666666666,
              "#ed7953"
             ],
             [
              0.7777777777777778,
              "#fb9f3a"
             ],
             [
              0.8888888888888888,
              "#fdca26"
             ],
             [
              1,
              "#f0f921"
             ]
            ],
            "type": "surface"
           }
          ],
          "table": [
           {
            "cells": {
             "fill": {
              "color": "#EBF0F8"
             },
             "line": {
              "color": "white"
             }
            },
            "header": {
             "fill": {
              "color": "#C8D4E3"
             },
             "line": {
              "color": "white"
             }
            },
            "type": "table"
           }
          ]
         },
         "layout": {
          "annotationdefaults": {
           "arrowcolor": "#2a3f5f",
           "arrowhead": 0,
           "arrowwidth": 1
          },
          "autotypenumbers": "strict",
          "coloraxis": {
           "colorbar": {
            "outlinewidth": 0,
            "ticks": ""
           }
          },
          "colorscale": {
           "diverging": [
            [
             0,
             "#8e0152"
            ],
            [
             0.1,
             "#c51b7d"
            ],
            [
             0.2,
             "#de77ae"
            ],
            [
             0.3,
             "#f1b6da"
            ],
            [
             0.4,
             "#fde0ef"
            ],
            [
             0.5,
             "#f7f7f7"
            ],
            [
             0.6,
             "#e6f5d0"
            ],
            [
             0.7,
             "#b8e186"
            ],
            [
             0.8,
             "#7fbc41"
            ],
            [
             0.9,
             "#4d9221"
            ],
            [
             1,
             "#276419"
            ]
           ],
           "sequential": [
            [
             0,
             "#0d0887"
            ],
            [
             0.1111111111111111,
             "#46039f"
            ],
            [
             0.2222222222222222,
             "#7201a8"
            ],
            [
             0.3333333333333333,
             "#9c179e"
            ],
            [
             0.4444444444444444,
             "#bd3786"
            ],
            [
             0.5555555555555556,
             "#d8576b"
            ],
            [
             0.6666666666666666,
             "#ed7953"
            ],
            [
             0.7777777777777778,
             "#fb9f3a"
            ],
            [
             0.8888888888888888,
             "#fdca26"
            ],
            [
             1,
             "#f0f921"
            ]
           ],
           "sequentialminus": [
            [
             0,
             "#0d0887"
            ],
            [
             0.1111111111111111,
             "#46039f"
            ],
            [
             0.2222222222222222,
             "#7201a8"
            ],
            [
             0.3333333333333333,
             "#9c179e"
            ],
            [
             0.4444444444444444,
             "#bd3786"
            ],
            [
             0.5555555555555556,
             "#d8576b"
            ],
            [
             0.6666666666666666,
             "#ed7953"
            ],
            [
             0.7777777777777778,
             "#fb9f3a"
            ],
            [
             0.8888888888888888,
             "#fdca26"
            ],
            [
             1,
             "#f0f921"
            ]
           ]
          },
          "colorway": [
           "#636efa",
           "#EF553B",
           "#00cc96",
           "#ab63fa",
           "#FFA15A",
           "#19d3f3",
           "#FF6692",
           "#B6E880",
           "#FF97FF",
           "#FECB52"
          ],
          "font": {
           "color": "#2a3f5f"
          },
          "geo": {
           "bgcolor": "white",
           "lakecolor": "white",
           "landcolor": "#E5ECF6",
           "showlakes": true,
           "showland": true,
           "subunitcolor": "white"
          },
          "hoverlabel": {
           "align": "left"
          },
          "hovermode": "closest",
          "mapbox": {
           "style": "light"
          },
          "paper_bgcolor": "white",
          "plot_bgcolor": "#E5ECF6",
          "polar": {
           "angularaxis": {
            "gridcolor": "white",
            "linecolor": "white",
            "ticks": ""
           },
           "bgcolor": "#E5ECF6",
           "radialaxis": {
            "gridcolor": "white",
            "linecolor": "white",
            "ticks": ""
           }
          },
          "scene": {
           "xaxis": {
            "backgroundcolor": "#E5ECF6",
            "gridcolor": "white",
            "gridwidth": 2,
            "linecolor": "white",
            "showbackground": true,
            "ticks": "",
            "zerolinecolor": "white"
           },
           "yaxis": {
            "backgroundcolor": "#E5ECF6",
            "gridcolor": "white",
            "gridwidth": 2,
            "linecolor": "white",
            "showbackground": true,
            "ticks": "",
            "zerolinecolor": "white"
           },
           "zaxis": {
            "backgroundcolor": "#E5ECF6",
            "gridcolor": "white",
            "gridwidth": 2,
            "linecolor": "white",
            "showbackground": true,
            "ticks": "",
            "zerolinecolor": "white"
           }
          },
          "shapedefaults": {
           "line": {
            "color": "#2a3f5f"
           }
          },
          "ternary": {
           "aaxis": {
            "gridcolor": "white",
            "linecolor": "white",
            "ticks": ""
           },
           "baxis": {
            "gridcolor": "white",
            "linecolor": "white",
            "ticks": ""
           },
           "bgcolor": "#E5ECF6",
           "caxis": {
            "gridcolor": "white",
            "linecolor": "white",
            "ticks": ""
           }
          },
          "title": {
           "x": 0.05
          },
          "xaxis": {
           "automargin": true,
           "gridcolor": "white",
           "linecolor": "white",
           "ticks": "",
           "title": {
            "standoff": 15
           },
           "zerolinecolor": "white",
           "zerolinewidth": 2
          },
          "yaxis": {
           "automargin": true,
           "gridcolor": "white",
           "linecolor": "white",
           "ticks": "",
           "title": {
            "standoff": 15
           },
           "zerolinecolor": "white",
           "zerolinewidth": 2
          }
         }
        },
        "title": {
         "font": {
          "color": "#4D5663"
         }
        },
        "xaxis": {
         "gridcolor": "#E1E5ED",
         "showgrid": true,
         "tickfont": {
          "color": "#4D5663"
         },
         "title": {
          "font": {
           "color": "#4D5663"
          },
          "text": ""
         },
         "zerolinecolor": "#E1E5ED"
        },
        "yaxis": {
         "gridcolor": "#E1E5ED",
         "showgrid": true,
         "tickfont": {
          "color": "#4D5663"
         },
         "title": {
          "font": {
           "color": "#4D5663"
          },
          "text": ""
         },
         "zerolinecolor": "#E1E5ED"
        }
       }
      },
      "text/html": [
       "<div>                            <div id=\"3d125d71-6f19-43e0-8319-bda7881ffd01\" class=\"plotly-graph-div\" style=\"height:525px; width:100%;\"></div>            <script type=\"text/javascript\">                require([\"plotly\"], function(Plotly) {                    window.PLOTLYENV=window.PLOTLYENV || {};\n",
       "                    window.PLOTLYENV.BASE_URL='https://plot.ly';                                    if (document.getElementById(\"3d125d71-6f19-43e0-8319-bda7881ffd01\")) {                    Plotly.newPlot(                        \"3d125d71-6f19-43e0-8319-bda7881ffd01\",                        [{\"marker\": {\"color\": \"rgba(255, 153, 51, 0.6)\", \"line\": {\"color\": \"rgba(255, 153, 51, 1.0)\", \"width\": 1}}, \"name\": \"None\", \"orientation\": \"v\", \"text\": \"\", \"type\": \"bar\", \"x\": [\"A\", \"B\", \"C\", \"D\"], \"y\": [100, 100, 100, 100]}],                        {\"legend\": {\"bgcolor\": \"#F5F6F9\", \"font\": {\"color\": \"#4D5663\"}}, \"paper_bgcolor\": \"#F5F6F9\", \"plot_bgcolor\": \"#F5F6F9\", \"template\": {\"data\": {\"bar\": [{\"error_x\": {\"color\": \"#2a3f5f\"}, \"error_y\": {\"color\": \"#2a3f5f\"}, \"marker\": {\"line\": {\"color\": \"#E5ECF6\", \"width\": 0.5}}, \"type\": \"bar\"}], \"barpolar\": [{\"marker\": {\"line\": {\"color\": \"#E5ECF6\", \"width\": 0.5}}, \"type\": \"barpolar\"}], \"carpet\": [{\"aaxis\": {\"endlinecolor\": \"#2a3f5f\", \"gridcolor\": \"white\", \"linecolor\": \"white\", \"minorgridcolor\": \"white\", \"startlinecolor\": \"#2a3f5f\"}, \"baxis\": {\"endlinecolor\": \"#2a3f5f\", \"gridcolor\": \"white\", \"linecolor\": \"white\", \"minorgridcolor\": \"white\", \"startlinecolor\": \"#2a3f5f\"}, \"type\": \"carpet\"}], \"choropleth\": [{\"colorbar\": {\"outlinewidth\": 0, \"ticks\": \"\"}, \"type\": \"choropleth\"}], \"contour\": [{\"colorbar\": {\"outlinewidth\": 0, \"ticks\": \"\"}, \"colorscale\": [[0.0, \"#0d0887\"], [0.1111111111111111, \"#46039f\"], [0.2222222222222222, \"#7201a8\"], [0.3333333333333333, \"#9c179e\"], [0.4444444444444444, \"#bd3786\"], [0.5555555555555556, \"#d8576b\"], [0.6666666666666666, \"#ed7953\"], [0.7777777777777778, \"#fb9f3a\"], [0.8888888888888888, \"#fdca26\"], [1.0, \"#f0f921\"]], \"type\": \"contour\"}], \"contourcarpet\": [{\"colorbar\": {\"outlinewidth\": 0, \"ticks\": \"\"}, \"type\": \"contourcarpet\"}], \"heatmap\": [{\"colorbar\": {\"outlinewidth\": 0, \"ticks\": \"\"}, \"colorscale\": [[0.0, \"#0d0887\"], [0.1111111111111111, \"#46039f\"], [0.2222222222222222, \"#7201a8\"], [0.3333333333333333, \"#9c179e\"], [0.4444444444444444, \"#bd3786\"], [0.5555555555555556, \"#d8576b\"], [0.6666666666666666, \"#ed7953\"], [0.7777777777777778, \"#fb9f3a\"], [0.8888888888888888, \"#fdca26\"], [1.0, \"#f0f921\"]], \"type\": \"heatmap\"}], \"heatmapgl\": [{\"colorbar\": {\"outlinewidth\": 0, \"ticks\": \"\"}, \"colorscale\": [[0.0, \"#0d0887\"], [0.1111111111111111, \"#46039f\"], [0.2222222222222222, \"#7201a8\"], [0.3333333333333333, \"#9c179e\"], [0.4444444444444444, \"#bd3786\"], [0.5555555555555556, \"#d8576b\"], [0.6666666666666666, \"#ed7953\"], [0.7777777777777778, \"#fb9f3a\"], [0.8888888888888888, \"#fdca26\"], [1.0, \"#f0f921\"]], \"type\": \"heatmapgl\"}], \"histogram\": [{\"marker\": {\"colorbar\": {\"outlinewidth\": 0, \"ticks\": \"\"}}, \"type\": \"histogram\"}], \"histogram2d\": [{\"colorbar\": {\"outlinewidth\": 0, \"ticks\": \"\"}, \"colorscale\": [[0.0, \"#0d0887\"], [0.1111111111111111, \"#46039f\"], [0.2222222222222222, \"#7201a8\"], [0.3333333333333333, \"#9c179e\"], [0.4444444444444444, \"#bd3786\"], [0.5555555555555556, \"#d8576b\"], [0.6666666666666666, \"#ed7953\"], [0.7777777777777778, \"#fb9f3a\"], [0.8888888888888888, \"#fdca26\"], [1.0, \"#f0f921\"]], \"type\": \"histogram2d\"}], \"histogram2dcontour\": [{\"colorbar\": {\"outlinewidth\": 0, \"ticks\": \"\"}, \"colorscale\": [[0.0, \"#0d0887\"], [0.1111111111111111, \"#46039f\"], [0.2222222222222222, \"#7201a8\"], [0.3333333333333333, \"#9c179e\"], [0.4444444444444444, \"#bd3786\"], [0.5555555555555556, \"#d8576b\"], [0.6666666666666666, \"#ed7953\"], [0.7777777777777778, \"#fb9f3a\"], [0.8888888888888888, \"#fdca26\"], [1.0, \"#f0f921\"]], \"type\": \"histogram2dcontour\"}], \"mesh3d\": [{\"colorbar\": {\"outlinewidth\": 0, \"ticks\": \"\"}, \"type\": \"mesh3d\"}], \"parcoords\": [{\"line\": {\"colorbar\": {\"outlinewidth\": 0, \"ticks\": \"\"}}, \"type\": \"parcoords\"}], \"pie\": [{\"automargin\": true, \"type\": \"pie\"}], \"scatter\": [{\"marker\": {\"colorbar\": {\"outlinewidth\": 0, \"ticks\": \"\"}}, \"type\": \"scatter\"}], \"scatter3d\": [{\"line\": {\"colorbar\": {\"outlinewidth\": 0, \"ticks\": \"\"}}, \"marker\": {\"colorbar\": {\"outlinewidth\": 0, \"ticks\": \"\"}}, \"type\": \"scatter3d\"}], \"scattercarpet\": [{\"marker\": {\"colorbar\": {\"outlinewidth\": 0, \"ticks\": \"\"}}, \"type\": \"scattercarpet\"}], \"scattergeo\": [{\"marker\": {\"colorbar\": {\"outlinewidth\": 0, \"ticks\": \"\"}}, \"type\": \"scattergeo\"}], \"scattergl\": [{\"marker\": {\"colorbar\": {\"outlinewidth\": 0, \"ticks\": \"\"}}, \"type\": \"scattergl\"}], \"scattermapbox\": [{\"marker\": {\"colorbar\": {\"outlinewidth\": 0, \"ticks\": \"\"}}, \"type\": \"scattermapbox\"}], \"scatterpolar\": [{\"marker\": {\"colorbar\": {\"outlinewidth\": 0, \"ticks\": \"\"}}, \"type\": \"scatterpolar\"}], \"scatterpolargl\": [{\"marker\": {\"colorbar\": {\"outlinewidth\": 0, \"ticks\": \"\"}}, \"type\": \"scatterpolargl\"}], \"scatterternary\": [{\"marker\": {\"colorbar\": {\"outlinewidth\": 0, \"ticks\": \"\"}}, \"type\": \"scatterternary\"}], \"surface\": [{\"colorbar\": {\"outlinewidth\": 0, \"ticks\": \"\"}, \"colorscale\": [[0.0, \"#0d0887\"], [0.1111111111111111, \"#46039f\"], [0.2222222222222222, \"#7201a8\"], [0.3333333333333333, \"#9c179e\"], [0.4444444444444444, \"#bd3786\"], [0.5555555555555556, \"#d8576b\"], [0.6666666666666666, \"#ed7953\"], [0.7777777777777778, \"#fb9f3a\"], [0.8888888888888888, \"#fdca26\"], [1.0, \"#f0f921\"]], \"type\": \"surface\"}], \"table\": [{\"cells\": {\"fill\": {\"color\": \"#EBF0F8\"}, \"line\": {\"color\": \"white\"}}, \"header\": {\"fill\": {\"color\": \"#C8D4E3\"}, \"line\": {\"color\": \"white\"}}, \"type\": \"table\"}]}, \"layout\": {\"annotationdefaults\": {\"arrowcolor\": \"#2a3f5f\", \"arrowhead\": 0, \"arrowwidth\": 1}, \"autotypenumbers\": \"strict\", \"coloraxis\": {\"colorbar\": {\"outlinewidth\": 0, \"ticks\": \"\"}}, \"colorscale\": {\"diverging\": [[0, \"#8e0152\"], [0.1, \"#c51b7d\"], [0.2, \"#de77ae\"], [0.3, \"#f1b6da\"], [0.4, \"#fde0ef\"], [0.5, \"#f7f7f7\"], [0.6, \"#e6f5d0\"], [0.7, \"#b8e186\"], [0.8, \"#7fbc41\"], [0.9, \"#4d9221\"], [1, \"#276419\"]], \"sequential\": [[0.0, \"#0d0887\"], [0.1111111111111111, \"#46039f\"], [0.2222222222222222, \"#7201a8\"], [0.3333333333333333, \"#9c179e\"], [0.4444444444444444, \"#bd3786\"], [0.5555555555555556, \"#d8576b\"], [0.6666666666666666, \"#ed7953\"], [0.7777777777777778, \"#fb9f3a\"], [0.8888888888888888, \"#fdca26\"], [1.0, \"#f0f921\"]], \"sequentialminus\": [[0.0, \"#0d0887\"], [0.1111111111111111, \"#46039f\"], [0.2222222222222222, \"#7201a8\"], [0.3333333333333333, \"#9c179e\"], [0.4444444444444444, \"#bd3786\"], [0.5555555555555556, \"#d8576b\"], [0.6666666666666666, \"#ed7953\"], [0.7777777777777778, \"#fb9f3a\"], [0.8888888888888888, \"#fdca26\"], [1.0, \"#f0f921\"]]}, \"colorway\": [\"#636efa\", \"#EF553B\", \"#00cc96\", \"#ab63fa\", \"#FFA15A\", \"#19d3f3\", \"#FF6692\", \"#B6E880\", \"#FF97FF\", \"#FECB52\"], \"font\": {\"color\": \"#2a3f5f\"}, \"geo\": {\"bgcolor\": \"white\", \"lakecolor\": \"white\", \"landcolor\": \"#E5ECF6\", \"showlakes\": true, \"showland\": true, \"subunitcolor\": \"white\"}, \"hoverlabel\": {\"align\": \"left\"}, \"hovermode\": \"closest\", \"mapbox\": {\"style\": \"light\"}, \"paper_bgcolor\": \"white\", \"plot_bgcolor\": \"#E5ECF6\", \"polar\": {\"angularaxis\": {\"gridcolor\": \"white\", \"linecolor\": \"white\", \"ticks\": \"\"}, \"bgcolor\": \"#E5ECF6\", \"radialaxis\": {\"gridcolor\": \"white\", \"linecolor\": \"white\", \"ticks\": \"\"}}, \"scene\": {\"xaxis\": {\"backgroundcolor\": \"#E5ECF6\", \"gridcolor\": \"white\", \"gridwidth\": 2, \"linecolor\": \"white\", \"showbackground\": true, \"ticks\": \"\", \"zerolinecolor\": \"white\"}, \"yaxis\": {\"backgroundcolor\": \"#E5ECF6\", \"gridcolor\": \"white\", \"gridwidth\": 2, \"linecolor\": \"white\", \"showbackground\": true, \"ticks\": \"\", \"zerolinecolor\": \"white\"}, \"zaxis\": {\"backgroundcolor\": \"#E5ECF6\", \"gridcolor\": \"white\", \"gridwidth\": 2, \"linecolor\": \"white\", \"showbackground\": true, \"ticks\": \"\", \"zerolinecolor\": \"white\"}}, \"shapedefaults\": {\"line\": {\"color\": \"#2a3f5f\"}}, \"ternary\": {\"aaxis\": {\"gridcolor\": \"white\", \"linecolor\": \"white\", \"ticks\": \"\"}, \"baxis\": {\"gridcolor\": \"white\", \"linecolor\": \"white\", \"ticks\": \"\"}, \"bgcolor\": \"#E5ECF6\", \"caxis\": {\"gridcolor\": \"white\", \"linecolor\": \"white\", \"ticks\": \"\"}}, \"title\": {\"x\": 0.05}, \"xaxis\": {\"automargin\": true, \"gridcolor\": \"white\", \"linecolor\": \"white\", \"ticks\": \"\", \"title\": {\"standoff\": 15}, \"zerolinecolor\": \"white\", \"zerolinewidth\": 2}, \"yaxis\": {\"automargin\": true, \"gridcolor\": \"white\", \"linecolor\": \"white\", \"ticks\": \"\", \"title\": {\"standoff\": 15}, \"zerolinecolor\": \"white\", \"zerolinewidth\": 2}}}, \"title\": {\"font\": {\"color\": \"#4D5663\"}}, \"xaxis\": {\"gridcolor\": \"#E1E5ED\", \"showgrid\": true, \"tickfont\": {\"color\": \"#4D5663\"}, \"title\": {\"font\": {\"color\": \"#4D5663\"}, \"text\": \"\"}, \"zerolinecolor\": \"#E1E5ED\"}, \"yaxis\": {\"gridcolor\": \"#E1E5ED\", \"showgrid\": true, \"tickfont\": {\"color\": \"#4D5663\"}, \"title\": {\"font\": {\"color\": \"#4D5663\"}, \"text\": \"\"}, \"zerolinecolor\": \"#E1E5ED\"}},                        {\"showLink\": true, \"linkText\": \"Export to plot.ly\", \"plotlyServerURL\": \"https://plot.ly\", \"responsive\": true}                    ).then(function(){\n",
       "                            \n",
       "var gd = document.getElementById('3d125d71-6f19-43e0-8319-bda7881ffd01');\n",
       "var x = new MutationObserver(function (mutations, observer) {{\n",
       "        var display = window.getComputedStyle(gd).display;\n",
       "        if (!display || display === 'none') {{\n",
       "            console.log([gd, 'removed!']);\n",
       "            Plotly.purge(gd);\n",
       "            observer.disconnect();\n",
       "        }}\n",
       "}});\n",
       "\n",
       "// Listen for the removal of the full notebook cells\n",
       "var notebookContainer = gd.closest('#notebook-container');\n",
       "if (notebookContainer) {{\n",
       "    x.observe(notebookContainer, {childList: true});\n",
       "}}\n",
       "\n",
       "// Listen for the clearing of the current output cell\n",
       "var outputEl = gd.closest('.output');\n",
       "if (outputEl) {{\n",
       "    x.observe(outputEl, {childList: true});\n",
       "}}\n",
       "\n",
       "                        })                };                });            </script>        </div>"
      ]
     },
     "metadata": {},
     "output_type": "display_data"
    }
   ],
   "source": [
    "df.count().iplot(kind='bar')"
   ]
  },
  {
   "cell_type": "markdown",
   "metadata": {},
   "source": [
    "## Boxplots"
   ]
  },
  {
   "cell_type": "code",
   "execution_count": 21,
   "metadata": {},
   "outputs": [
    {
     "data": {
      "application/vnd.plotly.v1+json": {
       "config": {
        "linkText": "Export to plot.ly",
        "plotlyServerURL": "https://plot.ly",
        "showLink": true
       },
       "data": [
        {
         "boxpoints": false,
         "line": {
          "width": 1.3
         },
         "marker": {
          "color": "rgba(255, 153, 51, 1.0)"
         },
         "name": "A",
         "orientation": "v",
         "type": "box",
         "y": [
          1.4917739319507988,
          -0.1576075136610856,
          -0.930328601981876,
          -0.6791097036693865,
          1.246802046482842,
          -0.5806183447238982,
          0.9551482952637191,
          -0.9561769134235306,
          1.2144518407090386,
          0.31959647065023283,
          -1.4423615094359339,
          1.8507899242342944,
          1.9847942969865817,
          0.6095414371590581,
          -1.069062089292798,
          0.6852538624950293,
          -0.8462177638395003,
          0.22167000989186186,
          0.8918580824529956,
          -0.1940932831989595,
          0.33921698686267754,
          -0.06992664359765931,
          0.690323282593047,
          0.6506433463557831,
          0.7564904122747336,
          -1.308249635588235,
          -0.22464215572953222,
          0.09919358272849658,
          1.1287581168730763,
          -0.36725877754636344,
          0.09096065814427151,
          -0.8805373216943375,
          0.890854427029569,
          0.1155311465883702,
          0.5143751348157323,
          -0.25414110899522613,
          1.4833137143331045,
          0.3675447075511886,
          -1.5077217377202732,
          -0.6373616669671688,
          1.1456740193979287,
          1.2559528674572056,
          -0.20392733626662685,
          -0.9462356231111191,
          -0.8254221598651107,
          -1.2902954284480845,
          -0.2716337111245958,
          -0.7928249861140338,
          -1.6755476798400208,
          -0.7978918224518056,
          0.5996331045123291,
          -0.9994054715811946,
          -1.368953160022903,
          -0.6601821803669641,
          -0.6499980055955829,
          0.9251787037144138,
          1.256321305290484,
          0.31557783645401594,
          -1.5844673041367536,
          1.0781227686646015,
          -1.437693609400543,
          0.13423954401837473,
          0.36730879609807726,
          1.5264830168099544,
          0.3603263306995897,
          0.1503890266979325,
          0.20458422906768983,
          -0.00986072427559832,
          -0.3193800893160297,
          0.34841930348296857,
          -0.3994290487453984,
          -0.9116400976688431,
          0.9654902580213899,
          0.24234907344618214,
          -0.05746287603372838,
          0.7553078082518422,
          -1.1442230167325054,
          -0.8253389178601065,
          0.5701321481460176,
          0.235649958350743,
          -0.5342026398077849,
          0.5691215410981469,
          0.09507234876738771,
          -0.6708118348301298,
          -1.2797752333975452,
          -1.7700033326782072,
          1.2145166297977998,
          -1.4710487864158104,
          1.4269559058111128,
          -0.07240036633000582,
          1.4080462471242083,
          0.6675645409240432,
          -0.3302173155427578,
          -0.3580002598687018,
          -0.5747493064136403,
          -0.54233098908547,
          1.122046746352447,
          0.3792037783979195,
          0.48350931449727996,
          -0.43136459685774653
         ]
        },
        {
         "boxpoints": false,
         "line": {
          "width": 1.3
         },
         "marker": {
          "color": "rgba(55, 128, 191, 1.0)"
         },
         "name": "B",
         "orientation": "v",
         "type": "box",
         "y": [
          0.45759144337485264,
          -1.852696670942872,
          0.6037624201043539,
          1.6807726295254402,
          -0.6134495049356505,
          -0.13990727158452076,
          0.03124279714296553,
          -0.4648977013897088,
          0.9553997045315877,
          0.7283752107040995,
          0.17117093428101382,
          -1.7315612380768213,
          0.35740744238423494,
          0.26415998052564404,
          -0.17537080293451385,
          -0.5363941017251691,
          0.6963737981846626,
          0.10703348403579191,
          -1.1668063308621461,
          -0.381555081513734,
          -1.04720724283616,
          0.5062179294106165,
          -0.08116042070484192,
          0.824481990419685,
          -0.923959125424289,
          -0.6621806634287214,
          0.8138973060617386,
          -1.8423340149587246,
          -0.21565202574466438,
          -0.8591970758956009,
          2.9304064240575,
          1.1870166863514848,
          0.8388833896271535,
          -1.0656547569717636,
          0.1785522001686026,
          -1.518369903201751,
          0.7712510283723744,
          -0.21280479152112208,
          0.3271004909808801,
          -0.9022411093453506,
          -1.090695941306311,
          -2.563138973546278,
          -0.7545987537079845,
          -1.2526450127513369,
          -1.6847406671440779,
          -0.1036023582144774,
          -0.6358467247015547,
          -1.4727766663202202,
          -0.590644757453359,
          -0.8960077341834933,
          -2.798152401039477,
          0.15038107633998923,
          0.45031898614896504,
          0.011425712330130547,
          1.025351993965511,
          1.226572998471299,
          -1.5520205754109617,
          0.21871894895512994,
          0.6986764947443769,
          -0.44767507487085106,
          0.6600422460523616,
          1.1821509492312061,
          -2.2418468856707894,
          -0.4419842782451757,
          0.06236833309591093,
          0.7427087694186271,
          -0.20564405623449886,
          -0.9245755611975662,
          0.9661074576054179,
          -0.6525451889087391,
          -0.3230946170781425,
          0.5530579658372701,
          -2.402241575581015,
          -1.044064236634867,
          -0.3731496027692522,
          -0.7422611643632118,
          0.3532662889262816,
          0.8371267137108779,
          -0.7760427206692124,
          -1.5678289690505915,
          -1.2153876341294814,
          0.32655867839731484,
          0.4193562728649102,
          -1.4041639217486626,
          -1.5104150994841226,
          -0.00898105066874273,
          -0.22317194711681937,
          -2.1355721103257186,
          0.46383975546221357,
          0.14180092612446324,
          -1.7439669577936254,
          0.8805075120387779,
          -0.19911597621842822,
          -0.09066691794570107,
          -1.9175075905413421,
          1.578934679646553,
          -0.6444181228984757,
          -0.23588114328227852,
          -1.418161178595617,
          -0.8462454912953437
         ]
        },
        {
         "boxpoints": false,
         "line": {
          "width": 1.3
         },
         "marker": {
          "color": "rgba(50, 171, 96, 1.0)"
         },
         "name": "C",
         "orientation": "v",
         "type": "box",
         "y": [
          0.46152947162593244,
          2.3453425755967783,
          0.9306960861197442,
          0.9971209641117642,
          0.9098240869465825,
          -0.8992156555937518,
          0.05776410517264999,
          1.0456514353627107,
          0.19479344560567935,
          0.702957108620434,
          0.2736982316935703,
          1.4528089411198994,
          0.375262027659549,
          1.3779929136828617,
          1.6525430970150592,
          0.4292643268724953,
          -0.6429969960693374,
          -0.535708636960107,
          -0.2254048992399047,
          0.972611840409529,
          -0.7056138546730004,
          0.3608353064663021,
          -0.3472419961013051,
          0.649103638249867,
          -0.5345381324454135,
          -0.27190796725388344,
          1.7113937114138515,
          1.3403274659389866,
          1.100254635385496,
          0.7403009804524457,
          1.9059069829362965,
          -0.4304016669811067,
          -0.7657826446732217,
          0.09735786149878127,
          -1.4489322773807742,
          -0.759731205345188,
          -0.32649934904340927,
          -1.02262758159044,
          -0.2630458865654558,
          -1.4110697283148121,
          0.6975354710803369,
          0.5670290695758997,
          0.09378123142685918,
          -0.541824348304414,
          -0.3126378316391564,
          -0.7680815144311282,
          -0.1411852635729873,
          0.028543260558163,
          1.0179839764955765,
          -0.5285140438912208,
          -0.8511601899611472,
          0.4831823496189203,
          0.2651190257723699,
          -2.390271249243296,
          -0.8077584718378438,
          2.097526768153678,
          0.4048037029266085,
          -0.16561406925525096,
          -0.3219242835088102,
          0.09715380300886668,
          -0.05796782629064404,
          0.7654160412399421,
          -1.007236191345518,
          -0.5956087741346205,
          0.9991500226697821,
          0.5197309314110059,
          1.5094854115874217,
          -1.0953128724671997,
          -0.30267746265717016,
          -1.2039647200187675,
          0.1417430613926693,
          2.9020055992809146,
          -1.0921603828679116,
          -0.17475028514206495,
          0.5999003778680218,
          -0.8879255004529071,
          -1.0146533368311876,
          -1.9256051180012375,
          0.07316691321370815,
          -0.7421930715349236,
          -0.49676676821491145,
          -0.8633368209056816,
          -0.8396228171977157,
          0.40683066760370346,
          -2.0719350450233356,
          0.8992204338667126,
          1.148986983358305,
          0.6456008302475996,
          0.6767390157915529,
          -0.6019246086882081,
          1.0203299674350697,
          -1.0130034510006602,
          1.365704171720769,
          -0.10157555304730498,
          0.7194319123281624,
          -0.03979543658518105,
          1.322056296599753,
          0.7760581342635817,
          -1.4479263256535408,
          0.8453213874975339
         ]
        },
        {
         "boxpoints": false,
         "line": {
          "width": 1.3
         },
         "marker": {
          "color": "rgba(128, 0, 128, 1.0)"
         },
         "name": "D",
         "orientation": "v",
         "type": "box",
         "y": [
          1.1246843674959957,
          0.30049533189783645,
          0.8025962744478276,
          0.7212705363494668,
          1.602186638796265,
          -0.8532212128777308,
          -0.8564612650830035,
          0.7321595570434628,
          -1.1337145222026934,
          1.4634212027526186,
          0.20548916175062573,
          0.021054039597016162,
          1.0315891709758234,
          0.39762598722580156,
          0.8181124891677705,
          -1.257727201958525,
          1.006894987976566,
          -0.43738351432421607,
          -0.656319547676891,
          -0.424894522857005,
          1.32646489158406,
          -0.9253302231911357,
          1.358999726645828,
          -0.5745922183234397,
          0.7727671266528368,
          0.1559548232928168,
          0.07569906993454754,
          -0.761789665716304,
          0.20875988219228842,
          -1.153460665058704,
          -0.02130387228565194,
          -0.6639585682728415,
          0.9059523580656053,
          -0.5916558858790686,
          0.2344319020788495,
          -0.8894295500590714,
          0.5267736467892354,
          0.19638752182362557,
          -0.5440599123857605,
          2.107812809719129,
          -1.1272490954674945,
          -0.013543298110139712,
          -1.0142057882715276,
          -1.6514260081429313,
          0.6971305080691508,
          -0.9341803066183489,
          -0.059519557306589414,
          -0.5991125492938587,
          1.7841756932855022,
          -0.950246832481104,
          0.34436240726162204,
          -0.28670128966292524,
          0.7086454293379126,
          0.4626272116618061,
          -1.6482925640674462,
          -0.8182631844496813,
          -0.36140160425602136,
          -0.12490423396524607,
          0.9958756045684123,
          -0.9681996891240179,
          -0.3421514556704743,
          -0.987445979920801,
          -0.8211251451239602,
          -0.8047334464840704,
          0.8902531073755087,
          -0.05413706651249456,
          0.49756342279375,
          0.49514608484391825,
          0.2712799354619257,
          0.15904754142497715,
          -0.9225865273488882,
          0.5668879868258986,
          -1.789292613257875,
          -0.5933786171748008,
          1.695614980606501,
          1.8368717383703639,
          -1.568925014481212,
          1.014750609082017,
          -0.6085646375199477,
          -0.45656355507532226,
          -2.3898464482252195,
          -0.17895650172278463,
          -0.5515320852148546,
          1.355442175043136,
          1.2453659574195066,
          0.5193569705027177,
          -0.14747930332802672,
          -1.007244765411999,
          -0.6722644995180294,
          -0.6068736247768314,
          -1.5299516999784493,
          -0.07221633579846504,
          -0.6651878550679274,
          0.6482448170959881,
          -0.7864291346288644,
          0.28704733211074973,
          -0.28019626956938243,
          0.6304718747903927,
          -0.11163214826960532,
          1.6224822434350255
         ]
        }
       ],
       "layout": {
        "legend": {
         "bgcolor": "#F5F6F9",
         "font": {
          "color": "#4D5663"
         }
        },
        "paper_bgcolor": "#F5F6F9",
        "plot_bgcolor": "#F5F6F9",
        "template": {
         "data": {
          "bar": [
           {
            "error_x": {
             "color": "#2a3f5f"
            },
            "error_y": {
             "color": "#2a3f5f"
            },
            "marker": {
             "line": {
              "color": "#E5ECF6",
              "width": 0.5
             }
            },
            "type": "bar"
           }
          ],
          "barpolar": [
           {
            "marker": {
             "line": {
              "color": "#E5ECF6",
              "width": 0.5
             }
            },
            "type": "barpolar"
           }
          ],
          "carpet": [
           {
            "aaxis": {
             "endlinecolor": "#2a3f5f",
             "gridcolor": "white",
             "linecolor": "white",
             "minorgridcolor": "white",
             "startlinecolor": "#2a3f5f"
            },
            "baxis": {
             "endlinecolor": "#2a3f5f",
             "gridcolor": "white",
             "linecolor": "white",
             "minorgridcolor": "white",
             "startlinecolor": "#2a3f5f"
            },
            "type": "carpet"
           }
          ],
          "choropleth": [
           {
            "colorbar": {
             "outlinewidth": 0,
             "ticks": ""
            },
            "type": "choropleth"
           }
          ],
          "contour": [
           {
            "colorbar": {
             "outlinewidth": 0,
             "ticks": ""
            },
            "colorscale": [
             [
              0,
              "#0d0887"
             ],
             [
              0.1111111111111111,
              "#46039f"
             ],
             [
              0.2222222222222222,
              "#7201a8"
             ],
             [
              0.3333333333333333,
              "#9c179e"
             ],
             [
              0.4444444444444444,
              "#bd3786"
             ],
             [
              0.5555555555555556,
              "#d8576b"
             ],
             [
              0.6666666666666666,
              "#ed7953"
             ],
             [
              0.7777777777777778,
              "#fb9f3a"
             ],
             [
              0.8888888888888888,
              "#fdca26"
             ],
             [
              1,
              "#f0f921"
             ]
            ],
            "type": "contour"
           }
          ],
          "contourcarpet": [
           {
            "colorbar": {
             "outlinewidth": 0,
             "ticks": ""
            },
            "type": "contourcarpet"
           }
          ],
          "heatmap": [
           {
            "colorbar": {
             "outlinewidth": 0,
             "ticks": ""
            },
            "colorscale": [
             [
              0,
              "#0d0887"
             ],
             [
              0.1111111111111111,
              "#46039f"
             ],
             [
              0.2222222222222222,
              "#7201a8"
             ],
             [
              0.3333333333333333,
              "#9c179e"
             ],
             [
              0.4444444444444444,
              "#bd3786"
             ],
             [
              0.5555555555555556,
              "#d8576b"
             ],
             [
              0.6666666666666666,
              "#ed7953"
             ],
             [
              0.7777777777777778,
              "#fb9f3a"
             ],
             [
              0.8888888888888888,
              "#fdca26"
             ],
             [
              1,
              "#f0f921"
             ]
            ],
            "type": "heatmap"
           }
          ],
          "heatmapgl": [
           {
            "colorbar": {
             "outlinewidth": 0,
             "ticks": ""
            },
            "colorscale": [
             [
              0,
              "#0d0887"
             ],
             [
              0.1111111111111111,
              "#46039f"
             ],
             [
              0.2222222222222222,
              "#7201a8"
             ],
             [
              0.3333333333333333,
              "#9c179e"
             ],
             [
              0.4444444444444444,
              "#bd3786"
             ],
             [
              0.5555555555555556,
              "#d8576b"
             ],
             [
              0.6666666666666666,
              "#ed7953"
             ],
             [
              0.7777777777777778,
              "#fb9f3a"
             ],
             [
              0.8888888888888888,
              "#fdca26"
             ],
             [
              1,
              "#f0f921"
             ]
            ],
            "type": "heatmapgl"
           }
          ],
          "histogram": [
           {
            "marker": {
             "colorbar": {
              "outlinewidth": 0,
              "ticks": ""
             }
            },
            "type": "histogram"
           }
          ],
          "histogram2d": [
           {
            "colorbar": {
             "outlinewidth": 0,
             "ticks": ""
            },
            "colorscale": [
             [
              0,
              "#0d0887"
             ],
             [
              0.1111111111111111,
              "#46039f"
             ],
             [
              0.2222222222222222,
              "#7201a8"
             ],
             [
              0.3333333333333333,
              "#9c179e"
             ],
             [
              0.4444444444444444,
              "#bd3786"
             ],
             [
              0.5555555555555556,
              "#d8576b"
             ],
             [
              0.6666666666666666,
              "#ed7953"
             ],
             [
              0.7777777777777778,
              "#fb9f3a"
             ],
             [
              0.8888888888888888,
              "#fdca26"
             ],
             [
              1,
              "#f0f921"
             ]
            ],
            "type": "histogram2d"
           }
          ],
          "histogram2dcontour": [
           {
            "colorbar": {
             "outlinewidth": 0,
             "ticks": ""
            },
            "colorscale": [
             [
              0,
              "#0d0887"
             ],
             [
              0.1111111111111111,
              "#46039f"
             ],
             [
              0.2222222222222222,
              "#7201a8"
             ],
             [
              0.3333333333333333,
              "#9c179e"
             ],
             [
              0.4444444444444444,
              "#bd3786"
             ],
             [
              0.5555555555555556,
              "#d8576b"
             ],
             [
              0.6666666666666666,
              "#ed7953"
             ],
             [
              0.7777777777777778,
              "#fb9f3a"
             ],
             [
              0.8888888888888888,
              "#fdca26"
             ],
             [
              1,
              "#f0f921"
             ]
            ],
            "type": "histogram2dcontour"
           }
          ],
          "mesh3d": [
           {
            "colorbar": {
             "outlinewidth": 0,
             "ticks": ""
            },
            "type": "mesh3d"
           }
          ],
          "parcoords": [
           {
            "line": {
             "colorbar": {
              "outlinewidth": 0,
              "ticks": ""
             }
            },
            "type": "parcoords"
           }
          ],
          "pie": [
           {
            "automargin": true,
            "type": "pie"
           }
          ],
          "scatter": [
           {
            "marker": {
             "colorbar": {
              "outlinewidth": 0,
              "ticks": ""
             }
            },
            "type": "scatter"
           }
          ],
          "scatter3d": [
           {
            "line": {
             "colorbar": {
              "outlinewidth": 0,
              "ticks": ""
             }
            },
            "marker": {
             "colorbar": {
              "outlinewidth": 0,
              "ticks": ""
             }
            },
            "type": "scatter3d"
           }
          ],
          "scattercarpet": [
           {
            "marker": {
             "colorbar": {
              "outlinewidth": 0,
              "ticks": ""
             }
            },
            "type": "scattercarpet"
           }
          ],
          "scattergeo": [
           {
            "marker": {
             "colorbar": {
              "outlinewidth": 0,
              "ticks": ""
             }
            },
            "type": "scattergeo"
           }
          ],
          "scattergl": [
           {
            "marker": {
             "colorbar": {
              "outlinewidth": 0,
              "ticks": ""
             }
            },
            "type": "scattergl"
           }
          ],
          "scattermapbox": [
           {
            "marker": {
             "colorbar": {
              "outlinewidth": 0,
              "ticks": ""
             }
            },
            "type": "scattermapbox"
           }
          ],
          "scatterpolar": [
           {
            "marker": {
             "colorbar": {
              "outlinewidth": 0,
              "ticks": ""
             }
            },
            "type": "scatterpolar"
           }
          ],
          "scatterpolargl": [
           {
            "marker": {
             "colorbar": {
              "outlinewidth": 0,
              "ticks": ""
             }
            },
            "type": "scatterpolargl"
           }
          ],
          "scatterternary": [
           {
            "marker": {
             "colorbar": {
              "outlinewidth": 0,
              "ticks": ""
             }
            },
            "type": "scatterternary"
           }
          ],
          "surface": [
           {
            "colorbar": {
             "outlinewidth": 0,
             "ticks": ""
            },
            "colorscale": [
             [
              0,
              "#0d0887"
             ],
             [
              0.1111111111111111,
              "#46039f"
             ],
             [
              0.2222222222222222,
              "#7201a8"
             ],
             [
              0.3333333333333333,
              "#9c179e"
             ],
             [
              0.4444444444444444,
              "#bd3786"
             ],
             [
              0.5555555555555556,
              "#d8576b"
             ],
             [
              0.6666666666666666,
              "#ed7953"
             ],
             [
              0.7777777777777778,
              "#fb9f3a"
             ],
             [
              0.8888888888888888,
              "#fdca26"
             ],
             [
              1,
              "#f0f921"
             ]
            ],
            "type": "surface"
           }
          ],
          "table": [
           {
            "cells": {
             "fill": {
              "color": "#EBF0F8"
             },
             "line": {
              "color": "white"
             }
            },
            "header": {
             "fill": {
              "color": "#C8D4E3"
             },
             "line": {
              "color": "white"
             }
            },
            "type": "table"
           }
          ]
         },
         "layout": {
          "annotationdefaults": {
           "arrowcolor": "#2a3f5f",
           "arrowhead": 0,
           "arrowwidth": 1
          },
          "autotypenumbers": "strict",
          "coloraxis": {
           "colorbar": {
            "outlinewidth": 0,
            "ticks": ""
           }
          },
          "colorscale": {
           "diverging": [
            [
             0,
             "#8e0152"
            ],
            [
             0.1,
             "#c51b7d"
            ],
            [
             0.2,
             "#de77ae"
            ],
            [
             0.3,
             "#f1b6da"
            ],
            [
             0.4,
             "#fde0ef"
            ],
            [
             0.5,
             "#f7f7f7"
            ],
            [
             0.6,
             "#e6f5d0"
            ],
            [
             0.7,
             "#b8e186"
            ],
            [
             0.8,
             "#7fbc41"
            ],
            [
             0.9,
             "#4d9221"
            ],
            [
             1,
             "#276419"
            ]
           ],
           "sequential": [
            [
             0,
             "#0d0887"
            ],
            [
             0.1111111111111111,
             "#46039f"
            ],
            [
             0.2222222222222222,
             "#7201a8"
            ],
            [
             0.3333333333333333,
             "#9c179e"
            ],
            [
             0.4444444444444444,
             "#bd3786"
            ],
            [
             0.5555555555555556,
             "#d8576b"
            ],
            [
             0.6666666666666666,
             "#ed7953"
            ],
            [
             0.7777777777777778,
             "#fb9f3a"
            ],
            [
             0.8888888888888888,
             "#fdca26"
            ],
            [
             1,
             "#f0f921"
            ]
           ],
           "sequentialminus": [
            [
             0,
             "#0d0887"
            ],
            [
             0.1111111111111111,
             "#46039f"
            ],
            [
             0.2222222222222222,
             "#7201a8"
            ],
            [
             0.3333333333333333,
             "#9c179e"
            ],
            [
             0.4444444444444444,
             "#bd3786"
            ],
            [
             0.5555555555555556,
             "#d8576b"
            ],
            [
             0.6666666666666666,
             "#ed7953"
            ],
            [
             0.7777777777777778,
             "#fb9f3a"
            ],
            [
             0.8888888888888888,
             "#fdca26"
            ],
            [
             1,
             "#f0f921"
            ]
           ]
          },
          "colorway": [
           "#636efa",
           "#EF553B",
           "#00cc96",
           "#ab63fa",
           "#FFA15A",
           "#19d3f3",
           "#FF6692",
           "#B6E880",
           "#FF97FF",
           "#FECB52"
          ],
          "font": {
           "color": "#2a3f5f"
          },
          "geo": {
           "bgcolor": "white",
           "lakecolor": "white",
           "landcolor": "#E5ECF6",
           "showlakes": true,
           "showland": true,
           "subunitcolor": "white"
          },
          "hoverlabel": {
           "align": "left"
          },
          "hovermode": "closest",
          "mapbox": {
           "style": "light"
          },
          "paper_bgcolor": "white",
          "plot_bgcolor": "#E5ECF6",
          "polar": {
           "angularaxis": {
            "gridcolor": "white",
            "linecolor": "white",
            "ticks": ""
           },
           "bgcolor": "#E5ECF6",
           "radialaxis": {
            "gridcolor": "white",
            "linecolor": "white",
            "ticks": ""
           }
          },
          "scene": {
           "xaxis": {
            "backgroundcolor": "#E5ECF6",
            "gridcolor": "white",
            "gridwidth": 2,
            "linecolor": "white",
            "showbackground": true,
            "ticks": "",
            "zerolinecolor": "white"
           },
           "yaxis": {
            "backgroundcolor": "#E5ECF6",
            "gridcolor": "white",
            "gridwidth": 2,
            "linecolor": "white",
            "showbackground": true,
            "ticks": "",
            "zerolinecolor": "white"
           },
           "zaxis": {
            "backgroundcolor": "#E5ECF6",
            "gridcolor": "white",
            "gridwidth": 2,
            "linecolor": "white",
            "showbackground": true,
            "ticks": "",
            "zerolinecolor": "white"
           }
          },
          "shapedefaults": {
           "line": {
            "color": "#2a3f5f"
           }
          },
          "ternary": {
           "aaxis": {
            "gridcolor": "white",
            "linecolor": "white",
            "ticks": ""
           },
           "baxis": {
            "gridcolor": "white",
            "linecolor": "white",
            "ticks": ""
           },
           "bgcolor": "#E5ECF6",
           "caxis": {
            "gridcolor": "white",
            "linecolor": "white",
            "ticks": ""
           }
          },
          "title": {
           "x": 0.05
          },
          "xaxis": {
           "automargin": true,
           "gridcolor": "white",
           "linecolor": "white",
           "ticks": "",
           "title": {
            "standoff": 15
           },
           "zerolinecolor": "white",
           "zerolinewidth": 2
          },
          "yaxis": {
           "automargin": true,
           "gridcolor": "white",
           "linecolor": "white",
           "ticks": "",
           "title": {
            "standoff": 15
           },
           "zerolinecolor": "white",
           "zerolinewidth": 2
          }
         }
        },
        "title": {
         "font": {
          "color": "#4D5663"
         }
        },
        "xaxis": {
         "gridcolor": "#E1E5ED",
         "showgrid": true,
         "tickfont": {
          "color": "#4D5663"
         },
         "title": {
          "font": {
           "color": "#4D5663"
          },
          "text": ""
         },
         "zerolinecolor": "#E1E5ED"
        },
        "yaxis": {
         "gridcolor": "#E1E5ED",
         "showgrid": true,
         "tickfont": {
          "color": "#4D5663"
         },
         "title": {
          "font": {
           "color": "#4D5663"
          },
          "text": ""
         },
         "zerolinecolor": "#E1E5ED"
        }
       }
      },
      "text/html": [
       "<div>                            <div id=\"4696824c-be6a-4d7a-9838-3848cbb6a521\" class=\"plotly-graph-div\" style=\"height:525px; width:100%;\"></div>            <script type=\"text/javascript\">                require([\"plotly\"], function(Plotly) {                    window.PLOTLYENV=window.PLOTLYENV || {};\n",
       "                    window.PLOTLYENV.BASE_URL='https://plot.ly';                                    if (document.getElementById(\"4696824c-be6a-4d7a-9838-3848cbb6a521\")) {                    Plotly.newPlot(                        \"4696824c-be6a-4d7a-9838-3848cbb6a521\",                        [{\"boxpoints\": false, \"line\": {\"width\": 1.3}, \"marker\": {\"color\": \"rgba(255, 153, 51, 1.0)\"}, \"name\": \"A\", \"orientation\": \"v\", \"type\": \"box\", \"y\": [1.4917739319507988, -0.1576075136610856, -0.930328601981876, -0.6791097036693865, 1.246802046482842, -0.5806183447238982, 0.9551482952637191, -0.9561769134235306, 1.2144518407090386, 0.31959647065023283, -1.4423615094359339, 1.8507899242342944, 1.9847942969865817, 0.6095414371590581, -1.069062089292798, 0.6852538624950293, -0.8462177638395003, 0.22167000989186186, 0.8918580824529956, -0.1940932831989595, 0.33921698686267754, -0.06992664359765931, 0.690323282593047, 0.6506433463557831, 0.7564904122747336, -1.308249635588235, -0.22464215572953222, 0.09919358272849658, 1.1287581168730763, -0.36725877754636344, 0.09096065814427151, -0.8805373216943375, 0.890854427029569, 0.1155311465883702, 0.5143751348157323, -0.25414110899522613, 1.4833137143331045, 0.3675447075511886, -1.5077217377202732, -0.6373616669671688, 1.1456740193979287, 1.2559528674572056, -0.20392733626662685, -0.9462356231111191, -0.8254221598651107, -1.2902954284480845, -0.2716337111245958, -0.7928249861140338, -1.6755476798400208, -0.7978918224518056, 0.5996331045123291, -0.9994054715811946, -1.368953160022903, -0.6601821803669641, -0.6499980055955829, 0.9251787037144138, 1.256321305290484, 0.31557783645401594, -1.5844673041367536, 1.0781227686646015, -1.437693609400543, 0.13423954401837473, 0.36730879609807726, 1.5264830168099544, 0.3603263306995897, 0.1503890266979325, 0.20458422906768983, -0.00986072427559832, -0.3193800893160297, 0.34841930348296857, -0.3994290487453984, -0.9116400976688431, 0.9654902580213899, 0.24234907344618214, -0.05746287603372838, 0.7553078082518422, -1.1442230167325054, -0.8253389178601065, 0.5701321481460176, 0.235649958350743, -0.5342026398077849, 0.5691215410981469, 0.09507234876738771, -0.6708118348301298, -1.2797752333975452, -1.7700033326782072, 1.2145166297977998, -1.4710487864158104, 1.4269559058111128, -0.07240036633000582, 1.4080462471242083, 0.6675645409240432, -0.3302173155427578, -0.3580002598687018, -0.5747493064136403, -0.54233098908547, 1.122046746352447, 0.3792037783979195, 0.48350931449727996, -0.43136459685774653]}, {\"boxpoints\": false, \"line\": {\"width\": 1.3}, \"marker\": {\"color\": \"rgba(55, 128, 191, 1.0)\"}, \"name\": \"B\", \"orientation\": \"v\", \"type\": \"box\", \"y\": [0.45759144337485264, -1.852696670942872, 0.6037624201043539, 1.6807726295254402, -0.6134495049356505, -0.13990727158452076, 0.03124279714296553, -0.4648977013897088, 0.9553997045315877, 0.7283752107040995, 0.17117093428101382, -1.7315612380768213, 0.35740744238423494, 0.26415998052564404, -0.17537080293451385, -0.5363941017251691, 0.6963737981846626, 0.10703348403579191, -1.1668063308621461, -0.381555081513734, -1.04720724283616, 0.5062179294106165, -0.08116042070484192, 0.824481990419685, -0.923959125424289, -0.6621806634287214, 0.8138973060617386, -1.8423340149587246, -0.21565202574466438, -0.8591970758956009, 2.9304064240575, 1.1870166863514848, 0.8388833896271535, -1.0656547569717636, 0.1785522001686026, -1.518369903201751, 0.7712510283723744, -0.21280479152112208, 0.3271004909808801, -0.9022411093453506, -1.090695941306311, -2.563138973546278, -0.7545987537079845, -1.2526450127513369, -1.6847406671440779, -0.1036023582144774, -0.6358467247015547, -1.4727766663202202, -0.590644757453359, -0.8960077341834933, -2.798152401039477, 0.15038107633998923, 0.45031898614896504, 0.011425712330130547, 1.025351993965511, 1.226572998471299, -1.5520205754109617, 0.21871894895512994, 0.6986764947443769, -0.44767507487085106, 0.6600422460523616, 1.1821509492312061, -2.2418468856707894, -0.4419842782451757, 0.06236833309591093, 0.7427087694186271, -0.20564405623449886, -0.9245755611975662, 0.9661074576054179, -0.6525451889087391, -0.3230946170781425, 0.5530579658372701, -2.402241575581015, -1.044064236634867, -0.3731496027692522, -0.7422611643632118, 0.3532662889262816, 0.8371267137108779, -0.7760427206692124, -1.5678289690505915, -1.2153876341294814, 0.32655867839731484, 0.4193562728649102, -1.4041639217486626, -1.5104150994841226, -0.00898105066874273, -0.22317194711681937, -2.1355721103257186, 0.46383975546221357, 0.14180092612446324, -1.7439669577936254, 0.8805075120387779, -0.19911597621842822, -0.09066691794570107, -1.9175075905413421, 1.578934679646553, -0.6444181228984757, -0.23588114328227852, -1.418161178595617, -0.8462454912953437]}, {\"boxpoints\": false, \"line\": {\"width\": 1.3}, \"marker\": {\"color\": \"rgba(50, 171, 96, 1.0)\"}, \"name\": \"C\", \"orientation\": \"v\", \"type\": \"box\", \"y\": [0.46152947162593244, 2.3453425755967783, 0.9306960861197442, 0.9971209641117642, 0.9098240869465825, -0.8992156555937518, 0.05776410517264999, 1.0456514353627107, 0.19479344560567935, 0.702957108620434, 0.2736982316935703, 1.4528089411198994, 0.375262027659549, 1.3779929136828617, 1.6525430970150592, 0.4292643268724953, -0.6429969960693374, -0.535708636960107, -0.2254048992399047, 0.972611840409529, -0.7056138546730004, 0.3608353064663021, -0.3472419961013051, 0.649103638249867, -0.5345381324454135, -0.27190796725388344, 1.7113937114138515, 1.3403274659389866, 1.100254635385496, 0.7403009804524457, 1.9059069829362965, -0.4304016669811067, -0.7657826446732217, 0.09735786149878127, -1.4489322773807742, -0.759731205345188, -0.32649934904340927, -1.02262758159044, -0.2630458865654558, -1.4110697283148121, 0.6975354710803369, 0.5670290695758997, 0.09378123142685918, -0.541824348304414, -0.3126378316391564, -0.7680815144311282, -0.1411852635729873, 0.028543260558163, 1.0179839764955765, -0.5285140438912208, -0.8511601899611472, 0.4831823496189203, 0.2651190257723699, -2.390271249243296, -0.8077584718378438, 2.097526768153678, 0.4048037029266085, -0.16561406925525096, -0.3219242835088102, 0.09715380300886668, -0.05796782629064404, 0.7654160412399421, -1.007236191345518, -0.5956087741346205, 0.9991500226697821, 0.5197309314110059, 1.5094854115874217, -1.0953128724671997, -0.30267746265717016, -1.2039647200187675, 0.1417430613926693, 2.9020055992809146, -1.0921603828679116, -0.17475028514206495, 0.5999003778680218, -0.8879255004529071, -1.0146533368311876, -1.9256051180012375, 0.07316691321370815, -0.7421930715349236, -0.49676676821491145, -0.8633368209056816, -0.8396228171977157, 0.40683066760370346, -2.0719350450233356, 0.8992204338667126, 1.148986983358305, 0.6456008302475996, 0.6767390157915529, -0.6019246086882081, 1.0203299674350697, -1.0130034510006602, 1.365704171720769, -0.10157555304730498, 0.7194319123281624, -0.03979543658518105, 1.322056296599753, 0.7760581342635817, -1.4479263256535408, 0.8453213874975339]}, {\"boxpoints\": false, \"line\": {\"width\": 1.3}, \"marker\": {\"color\": \"rgba(128, 0, 128, 1.0)\"}, \"name\": \"D\", \"orientation\": \"v\", \"type\": \"box\", \"y\": [1.1246843674959957, 0.30049533189783645, 0.8025962744478276, 0.7212705363494668, 1.602186638796265, -0.8532212128777308, -0.8564612650830035, 0.7321595570434628, -1.1337145222026934, 1.4634212027526186, 0.20548916175062573, 0.021054039597016162, 1.0315891709758234, 0.39762598722580156, 0.8181124891677705, -1.257727201958525, 1.006894987976566, -0.43738351432421607, -0.656319547676891, -0.424894522857005, 1.32646489158406, -0.9253302231911357, 1.358999726645828, -0.5745922183234397, 0.7727671266528368, 0.1559548232928168, 0.07569906993454754, -0.761789665716304, 0.20875988219228842, -1.153460665058704, -0.02130387228565194, -0.6639585682728415, 0.9059523580656053, -0.5916558858790686, 0.2344319020788495, -0.8894295500590714, 0.5267736467892354, 0.19638752182362557, -0.5440599123857605, 2.107812809719129, -1.1272490954674945, -0.013543298110139712, -1.0142057882715276, -1.6514260081429313, 0.6971305080691508, -0.9341803066183489, -0.059519557306589414, -0.5991125492938587, 1.7841756932855022, -0.950246832481104, 0.34436240726162204, -0.28670128966292524, 0.7086454293379126, 0.4626272116618061, -1.6482925640674462, -0.8182631844496813, -0.36140160425602136, -0.12490423396524607, 0.9958756045684123, -0.9681996891240179, -0.3421514556704743, -0.987445979920801, -0.8211251451239602, -0.8047334464840704, 0.8902531073755087, -0.05413706651249456, 0.49756342279375, 0.49514608484391825, 0.2712799354619257, 0.15904754142497715, -0.9225865273488882, 0.5668879868258986, -1.789292613257875, -0.5933786171748008, 1.695614980606501, 1.8368717383703639, -1.568925014481212, 1.014750609082017, -0.6085646375199477, -0.45656355507532226, -2.3898464482252195, -0.17895650172278463, -0.5515320852148546, 1.355442175043136, 1.2453659574195066, 0.5193569705027177, -0.14747930332802672, -1.007244765411999, -0.6722644995180294, -0.6068736247768314, -1.5299516999784493, -0.07221633579846504, -0.6651878550679274, 0.6482448170959881, -0.7864291346288644, 0.28704733211074973, -0.28019626956938243, 0.6304718747903927, -0.11163214826960532, 1.6224822434350255]}],                        {\"legend\": {\"bgcolor\": \"#F5F6F9\", \"font\": {\"color\": \"#4D5663\"}}, \"paper_bgcolor\": \"#F5F6F9\", \"plot_bgcolor\": \"#F5F6F9\", \"template\": {\"data\": {\"bar\": [{\"error_x\": {\"color\": \"#2a3f5f\"}, \"error_y\": {\"color\": \"#2a3f5f\"}, \"marker\": {\"line\": {\"color\": \"#E5ECF6\", \"width\": 0.5}}, \"type\": \"bar\"}], \"barpolar\": [{\"marker\": {\"line\": {\"color\": \"#E5ECF6\", \"width\": 0.5}}, \"type\": \"barpolar\"}], \"carpet\": [{\"aaxis\": {\"endlinecolor\": \"#2a3f5f\", \"gridcolor\": \"white\", \"linecolor\": \"white\", \"minorgridcolor\": \"white\", \"startlinecolor\": \"#2a3f5f\"}, \"baxis\": {\"endlinecolor\": \"#2a3f5f\", \"gridcolor\": \"white\", \"linecolor\": \"white\", \"minorgridcolor\": \"white\", \"startlinecolor\": \"#2a3f5f\"}, \"type\": \"carpet\"}], \"choropleth\": [{\"colorbar\": {\"outlinewidth\": 0, \"ticks\": \"\"}, \"type\": \"choropleth\"}], \"contour\": [{\"colorbar\": {\"outlinewidth\": 0, \"ticks\": \"\"}, \"colorscale\": [[0.0, \"#0d0887\"], [0.1111111111111111, \"#46039f\"], [0.2222222222222222, \"#7201a8\"], [0.3333333333333333, \"#9c179e\"], [0.4444444444444444, \"#bd3786\"], [0.5555555555555556, \"#d8576b\"], [0.6666666666666666, \"#ed7953\"], [0.7777777777777778, \"#fb9f3a\"], [0.8888888888888888, \"#fdca26\"], [1.0, \"#f0f921\"]], \"type\": \"contour\"}], \"contourcarpet\": [{\"colorbar\": {\"outlinewidth\": 0, \"ticks\": \"\"}, \"type\": \"contourcarpet\"}], \"heatmap\": [{\"colorbar\": {\"outlinewidth\": 0, \"ticks\": \"\"}, \"colorscale\": [[0.0, \"#0d0887\"], [0.1111111111111111, \"#46039f\"], [0.2222222222222222, \"#7201a8\"], [0.3333333333333333, \"#9c179e\"], [0.4444444444444444, \"#bd3786\"], [0.5555555555555556, \"#d8576b\"], [0.6666666666666666, \"#ed7953\"], [0.7777777777777778, \"#fb9f3a\"], [0.8888888888888888, \"#fdca26\"], [1.0, \"#f0f921\"]], \"type\": \"heatmap\"}], \"heatmapgl\": [{\"colorbar\": {\"outlinewidth\": 0, \"ticks\": \"\"}, \"colorscale\": [[0.0, \"#0d0887\"], [0.1111111111111111, \"#46039f\"], [0.2222222222222222, \"#7201a8\"], [0.3333333333333333, \"#9c179e\"], [0.4444444444444444, \"#bd3786\"], [0.5555555555555556, \"#d8576b\"], [0.6666666666666666, \"#ed7953\"], [0.7777777777777778, \"#fb9f3a\"], [0.8888888888888888, \"#fdca26\"], [1.0, \"#f0f921\"]], \"type\": \"heatmapgl\"}], \"histogram\": [{\"marker\": {\"colorbar\": {\"outlinewidth\": 0, \"ticks\": \"\"}}, \"type\": \"histogram\"}], \"histogram2d\": [{\"colorbar\": {\"outlinewidth\": 0, \"ticks\": \"\"}, \"colorscale\": [[0.0, \"#0d0887\"], [0.1111111111111111, \"#46039f\"], [0.2222222222222222, \"#7201a8\"], [0.3333333333333333, \"#9c179e\"], [0.4444444444444444, \"#bd3786\"], [0.5555555555555556, \"#d8576b\"], [0.6666666666666666, \"#ed7953\"], [0.7777777777777778, \"#fb9f3a\"], [0.8888888888888888, \"#fdca26\"], [1.0, \"#f0f921\"]], \"type\": \"histogram2d\"}], \"histogram2dcontour\": [{\"colorbar\": {\"outlinewidth\": 0, \"ticks\": \"\"}, \"colorscale\": [[0.0, \"#0d0887\"], [0.1111111111111111, \"#46039f\"], [0.2222222222222222, \"#7201a8\"], [0.3333333333333333, \"#9c179e\"], [0.4444444444444444, \"#bd3786\"], [0.5555555555555556, \"#d8576b\"], [0.6666666666666666, \"#ed7953\"], [0.7777777777777778, \"#fb9f3a\"], [0.8888888888888888, \"#fdca26\"], [1.0, \"#f0f921\"]], \"type\": \"histogram2dcontour\"}], \"mesh3d\": [{\"colorbar\": {\"outlinewidth\": 0, \"ticks\": \"\"}, \"type\": \"mesh3d\"}], \"parcoords\": [{\"line\": {\"colorbar\": {\"outlinewidth\": 0, \"ticks\": \"\"}}, \"type\": \"parcoords\"}], \"pie\": [{\"automargin\": true, \"type\": \"pie\"}], \"scatter\": [{\"marker\": {\"colorbar\": {\"outlinewidth\": 0, \"ticks\": \"\"}}, \"type\": \"scatter\"}], \"scatter3d\": [{\"line\": {\"colorbar\": {\"outlinewidth\": 0, \"ticks\": \"\"}}, \"marker\": {\"colorbar\": {\"outlinewidth\": 0, \"ticks\": \"\"}}, \"type\": \"scatter3d\"}], \"scattercarpet\": [{\"marker\": {\"colorbar\": {\"outlinewidth\": 0, \"ticks\": \"\"}}, \"type\": \"scattercarpet\"}], \"scattergeo\": [{\"marker\": {\"colorbar\": {\"outlinewidth\": 0, \"ticks\": \"\"}}, \"type\": \"scattergeo\"}], \"scattergl\": [{\"marker\": {\"colorbar\": {\"outlinewidth\": 0, \"ticks\": \"\"}}, \"type\": \"scattergl\"}], \"scattermapbox\": [{\"marker\": {\"colorbar\": {\"outlinewidth\": 0, \"ticks\": \"\"}}, \"type\": \"scattermapbox\"}], \"scatterpolar\": [{\"marker\": {\"colorbar\": {\"outlinewidth\": 0, \"ticks\": \"\"}}, \"type\": \"scatterpolar\"}], \"scatterpolargl\": [{\"marker\": {\"colorbar\": {\"outlinewidth\": 0, \"ticks\": \"\"}}, \"type\": \"scatterpolargl\"}], \"scatterternary\": [{\"marker\": {\"colorbar\": {\"outlinewidth\": 0, \"ticks\": \"\"}}, \"type\": \"scatterternary\"}], \"surface\": [{\"colorbar\": {\"outlinewidth\": 0, \"ticks\": \"\"}, \"colorscale\": [[0.0, \"#0d0887\"], [0.1111111111111111, \"#46039f\"], [0.2222222222222222, \"#7201a8\"], [0.3333333333333333, \"#9c179e\"], [0.4444444444444444, \"#bd3786\"], [0.5555555555555556, \"#d8576b\"], [0.6666666666666666, \"#ed7953\"], [0.7777777777777778, \"#fb9f3a\"], [0.8888888888888888, \"#fdca26\"], [1.0, \"#f0f921\"]], \"type\": \"surface\"}], \"table\": [{\"cells\": {\"fill\": {\"color\": \"#EBF0F8\"}, \"line\": {\"color\": \"white\"}}, \"header\": {\"fill\": {\"color\": \"#C8D4E3\"}, \"line\": {\"color\": \"white\"}}, \"type\": \"table\"}]}, \"layout\": {\"annotationdefaults\": {\"arrowcolor\": \"#2a3f5f\", \"arrowhead\": 0, \"arrowwidth\": 1}, \"autotypenumbers\": \"strict\", \"coloraxis\": {\"colorbar\": {\"outlinewidth\": 0, \"ticks\": \"\"}}, \"colorscale\": {\"diverging\": [[0, \"#8e0152\"], [0.1, \"#c51b7d\"], [0.2, \"#de77ae\"], [0.3, \"#f1b6da\"], [0.4, \"#fde0ef\"], [0.5, \"#f7f7f7\"], [0.6, \"#e6f5d0\"], [0.7, \"#b8e186\"], [0.8, \"#7fbc41\"], [0.9, \"#4d9221\"], [1, \"#276419\"]], \"sequential\": [[0.0, \"#0d0887\"], [0.1111111111111111, \"#46039f\"], [0.2222222222222222, \"#7201a8\"], [0.3333333333333333, \"#9c179e\"], [0.4444444444444444, \"#bd3786\"], [0.5555555555555556, \"#d8576b\"], [0.6666666666666666, \"#ed7953\"], [0.7777777777777778, \"#fb9f3a\"], [0.8888888888888888, \"#fdca26\"], [1.0, \"#f0f921\"]], \"sequentialminus\": [[0.0, \"#0d0887\"], [0.1111111111111111, \"#46039f\"], [0.2222222222222222, \"#7201a8\"], [0.3333333333333333, \"#9c179e\"], [0.4444444444444444, \"#bd3786\"], [0.5555555555555556, \"#d8576b\"], [0.6666666666666666, \"#ed7953\"], [0.7777777777777778, \"#fb9f3a\"], [0.8888888888888888, \"#fdca26\"], [1.0, \"#f0f921\"]]}, \"colorway\": [\"#636efa\", \"#EF553B\", \"#00cc96\", \"#ab63fa\", \"#FFA15A\", \"#19d3f3\", \"#FF6692\", \"#B6E880\", \"#FF97FF\", \"#FECB52\"], \"font\": {\"color\": \"#2a3f5f\"}, \"geo\": {\"bgcolor\": \"white\", \"lakecolor\": \"white\", \"landcolor\": \"#E5ECF6\", \"showlakes\": true, \"showland\": true, \"subunitcolor\": \"white\"}, \"hoverlabel\": {\"align\": \"left\"}, \"hovermode\": \"closest\", \"mapbox\": {\"style\": \"light\"}, \"paper_bgcolor\": \"white\", \"plot_bgcolor\": \"#E5ECF6\", \"polar\": {\"angularaxis\": {\"gridcolor\": \"white\", \"linecolor\": \"white\", \"ticks\": \"\"}, \"bgcolor\": \"#E5ECF6\", \"radialaxis\": {\"gridcolor\": \"white\", \"linecolor\": \"white\", \"ticks\": \"\"}}, \"scene\": {\"xaxis\": {\"backgroundcolor\": \"#E5ECF6\", \"gridcolor\": \"white\", \"gridwidth\": 2, \"linecolor\": \"white\", \"showbackground\": true, \"ticks\": \"\", \"zerolinecolor\": \"white\"}, \"yaxis\": {\"backgroundcolor\": \"#E5ECF6\", \"gridcolor\": \"white\", \"gridwidth\": 2, \"linecolor\": \"white\", \"showbackground\": true, \"ticks\": \"\", \"zerolinecolor\": \"white\"}, \"zaxis\": {\"backgroundcolor\": \"#E5ECF6\", \"gridcolor\": \"white\", \"gridwidth\": 2, \"linecolor\": \"white\", \"showbackground\": true, \"ticks\": \"\", \"zerolinecolor\": \"white\"}}, \"shapedefaults\": {\"line\": {\"color\": \"#2a3f5f\"}}, \"ternary\": {\"aaxis\": {\"gridcolor\": \"white\", \"linecolor\": \"white\", \"ticks\": \"\"}, \"baxis\": {\"gridcolor\": \"white\", \"linecolor\": \"white\", \"ticks\": \"\"}, \"bgcolor\": \"#E5ECF6\", \"caxis\": {\"gridcolor\": \"white\", \"linecolor\": \"white\", \"ticks\": \"\"}}, \"title\": {\"x\": 0.05}, \"xaxis\": {\"automargin\": true, \"gridcolor\": \"white\", \"linecolor\": \"white\", \"ticks\": \"\", \"title\": {\"standoff\": 15}, \"zerolinecolor\": \"white\", \"zerolinewidth\": 2}, \"yaxis\": {\"automargin\": true, \"gridcolor\": \"white\", \"linecolor\": \"white\", \"ticks\": \"\", \"title\": {\"standoff\": 15}, \"zerolinecolor\": \"white\", \"zerolinewidth\": 2}}}, \"title\": {\"font\": {\"color\": \"#4D5663\"}}, \"xaxis\": {\"gridcolor\": \"#E1E5ED\", \"showgrid\": true, \"tickfont\": {\"color\": \"#4D5663\"}, \"title\": {\"font\": {\"color\": \"#4D5663\"}, \"text\": \"\"}, \"zerolinecolor\": \"#E1E5ED\"}, \"yaxis\": {\"gridcolor\": \"#E1E5ED\", \"showgrid\": true, \"tickfont\": {\"color\": \"#4D5663\"}, \"title\": {\"font\": {\"color\": \"#4D5663\"}, \"text\": \"\"}, \"zerolinecolor\": \"#E1E5ED\"}},                        {\"showLink\": true, \"linkText\": \"Export to plot.ly\", \"plotlyServerURL\": \"https://plot.ly\", \"responsive\": true}                    ).then(function(){\n",
       "                            \n",
       "var gd = document.getElementById('4696824c-be6a-4d7a-9838-3848cbb6a521');\n",
       "var x = new MutationObserver(function (mutations, observer) {{\n",
       "        var display = window.getComputedStyle(gd).display;\n",
       "        if (!display || display === 'none') {{\n",
       "            console.log([gd, 'removed!']);\n",
       "            Plotly.purge(gd);\n",
       "            observer.disconnect();\n",
       "        }}\n",
       "}});\n",
       "\n",
       "// Listen for the removal of the full notebook cells\n",
       "var notebookContainer = gd.closest('#notebook-container');\n",
       "if (notebookContainer) {{\n",
       "    x.observe(notebookContainer, {childList: true});\n",
       "}}\n",
       "\n",
       "// Listen for the clearing of the current output cell\n",
       "var outputEl = gd.closest('.output');\n",
       "if (outputEl) {{\n",
       "    x.observe(outputEl, {childList: true});\n",
       "}}\n",
       "\n",
       "                        })                };                });            </script>        </div>"
      ]
     },
     "metadata": {},
     "output_type": "display_data"
    }
   ],
   "source": [
    "df.iplot(kind='box')"
   ]
  },
  {
   "cell_type": "markdown",
   "metadata": {},
   "source": [
    "## 3d Surface"
   ]
  },
  {
   "cell_type": "code",
   "execution_count": 22,
   "metadata": {},
   "outputs": [
    {
     "data": {
      "application/vnd.plotly.v1+json": {
       "config": {
        "linkText": "Export to plot.ly",
        "plotlyServerURL": "https://plot.ly",
        "showLink": true
       },
       "data": [
        {
         "colorscale": [
          [
           0,
           "rgb(165,0,38)"
          ],
          [
           0.1,
           "rgb(215,48,39)"
          ],
          [
           0.2,
           "rgb(244,109,67)"
          ],
          [
           0.3,
           "rgb(253,174,97)"
          ],
          [
           0.4,
           "rgb(254,224,144)"
          ],
          [
           0.5,
           "rgb(255,255,191)"
          ],
          [
           0.6,
           "rgb(224,243,248)"
          ],
          [
           0.7,
           "rgb(171,217,233)"
          ],
          [
           0.8,
           "rgb(116,173,209)"
          ],
          [
           0.9,
           "rgb(69,117,180)"
          ],
          [
           1,
           "rgb(49,54,149)"
          ]
         ],
         "type": "surface",
         "x": [
          0,
          1,
          2,
          3,
          4
         ],
         "y": [
          "x",
          "y",
          "z"
         ],
         "z": [
          [
           1,
           2,
           3,
           4,
           5
          ],
          [
           10,
           20,
           30,
           20,
           10
          ],
          [
           5,
           4,
           3,
           2,
           1
          ]
         ]
        }
       ],
       "layout": {
        "legend": {
         "bgcolor": "#F5F6F9",
         "font": {
          "color": "#4D5663"
         }
        },
        "paper_bgcolor": "#F5F6F9",
        "plot_bgcolor": "#F5F6F9",
        "template": {
         "data": {
          "bar": [
           {
            "error_x": {
             "color": "#2a3f5f"
            },
            "error_y": {
             "color": "#2a3f5f"
            },
            "marker": {
             "line": {
              "color": "#E5ECF6",
              "width": 0.5
             }
            },
            "type": "bar"
           }
          ],
          "barpolar": [
           {
            "marker": {
             "line": {
              "color": "#E5ECF6",
              "width": 0.5
             }
            },
            "type": "barpolar"
           }
          ],
          "carpet": [
           {
            "aaxis": {
             "endlinecolor": "#2a3f5f",
             "gridcolor": "white",
             "linecolor": "white",
             "minorgridcolor": "white",
             "startlinecolor": "#2a3f5f"
            },
            "baxis": {
             "endlinecolor": "#2a3f5f",
             "gridcolor": "white",
             "linecolor": "white",
             "minorgridcolor": "white",
             "startlinecolor": "#2a3f5f"
            },
            "type": "carpet"
           }
          ],
          "choropleth": [
           {
            "colorbar": {
             "outlinewidth": 0,
             "ticks": ""
            },
            "type": "choropleth"
           }
          ],
          "contour": [
           {
            "colorbar": {
             "outlinewidth": 0,
             "ticks": ""
            },
            "colorscale": [
             [
              0,
              "#0d0887"
             ],
             [
              0.1111111111111111,
              "#46039f"
             ],
             [
              0.2222222222222222,
              "#7201a8"
             ],
             [
              0.3333333333333333,
              "#9c179e"
             ],
             [
              0.4444444444444444,
              "#bd3786"
             ],
             [
              0.5555555555555556,
              "#d8576b"
             ],
             [
              0.6666666666666666,
              "#ed7953"
             ],
             [
              0.7777777777777778,
              "#fb9f3a"
             ],
             [
              0.8888888888888888,
              "#fdca26"
             ],
             [
              1,
              "#f0f921"
             ]
            ],
            "type": "contour"
           }
          ],
          "contourcarpet": [
           {
            "colorbar": {
             "outlinewidth": 0,
             "ticks": ""
            },
            "type": "contourcarpet"
           }
          ],
          "heatmap": [
           {
            "colorbar": {
             "outlinewidth": 0,
             "ticks": ""
            },
            "colorscale": [
             [
              0,
              "#0d0887"
             ],
             [
              0.1111111111111111,
              "#46039f"
             ],
             [
              0.2222222222222222,
              "#7201a8"
             ],
             [
              0.3333333333333333,
              "#9c179e"
             ],
             [
              0.4444444444444444,
              "#bd3786"
             ],
             [
              0.5555555555555556,
              "#d8576b"
             ],
             [
              0.6666666666666666,
              "#ed7953"
             ],
             [
              0.7777777777777778,
              "#fb9f3a"
             ],
             [
              0.8888888888888888,
              "#fdca26"
             ],
             [
              1,
              "#f0f921"
             ]
            ],
            "type": "heatmap"
           }
          ],
          "heatmapgl": [
           {
            "colorbar": {
             "outlinewidth": 0,
             "ticks": ""
            },
            "colorscale": [
             [
              0,
              "#0d0887"
             ],
             [
              0.1111111111111111,
              "#46039f"
             ],
             [
              0.2222222222222222,
              "#7201a8"
             ],
             [
              0.3333333333333333,
              "#9c179e"
             ],
             [
              0.4444444444444444,
              "#bd3786"
             ],
             [
              0.5555555555555556,
              "#d8576b"
             ],
             [
              0.6666666666666666,
              "#ed7953"
             ],
             [
              0.7777777777777778,
              "#fb9f3a"
             ],
             [
              0.8888888888888888,
              "#fdca26"
             ],
             [
              1,
              "#f0f921"
             ]
            ],
            "type": "heatmapgl"
           }
          ],
          "histogram": [
           {
            "marker": {
             "colorbar": {
              "outlinewidth": 0,
              "ticks": ""
             }
            },
            "type": "histogram"
           }
          ],
          "histogram2d": [
           {
            "colorbar": {
             "outlinewidth": 0,
             "ticks": ""
            },
            "colorscale": [
             [
              0,
              "#0d0887"
             ],
             [
              0.1111111111111111,
              "#46039f"
             ],
             [
              0.2222222222222222,
              "#7201a8"
             ],
             [
              0.3333333333333333,
              "#9c179e"
             ],
             [
              0.4444444444444444,
              "#bd3786"
             ],
             [
              0.5555555555555556,
              "#d8576b"
             ],
             [
              0.6666666666666666,
              "#ed7953"
             ],
             [
              0.7777777777777778,
              "#fb9f3a"
             ],
             [
              0.8888888888888888,
              "#fdca26"
             ],
             [
              1,
              "#f0f921"
             ]
            ],
            "type": "histogram2d"
           }
          ],
          "histogram2dcontour": [
           {
            "colorbar": {
             "outlinewidth": 0,
             "ticks": ""
            },
            "colorscale": [
             [
              0,
              "#0d0887"
             ],
             [
              0.1111111111111111,
              "#46039f"
             ],
             [
              0.2222222222222222,
              "#7201a8"
             ],
             [
              0.3333333333333333,
              "#9c179e"
             ],
             [
              0.4444444444444444,
              "#bd3786"
             ],
             [
              0.5555555555555556,
              "#d8576b"
             ],
             [
              0.6666666666666666,
              "#ed7953"
             ],
             [
              0.7777777777777778,
              "#fb9f3a"
             ],
             [
              0.8888888888888888,
              "#fdca26"
             ],
             [
              1,
              "#f0f921"
             ]
            ],
            "type": "histogram2dcontour"
           }
          ],
          "mesh3d": [
           {
            "colorbar": {
             "outlinewidth": 0,
             "ticks": ""
            },
            "type": "mesh3d"
           }
          ],
          "parcoords": [
           {
            "line": {
             "colorbar": {
              "outlinewidth": 0,
              "ticks": ""
             }
            },
            "type": "parcoords"
           }
          ],
          "pie": [
           {
            "automargin": true,
            "type": "pie"
           }
          ],
          "scatter": [
           {
            "marker": {
             "colorbar": {
              "outlinewidth": 0,
              "ticks": ""
             }
            },
            "type": "scatter"
           }
          ],
          "scatter3d": [
           {
            "line": {
             "colorbar": {
              "outlinewidth": 0,
              "ticks": ""
             }
            },
            "marker": {
             "colorbar": {
              "outlinewidth": 0,
              "ticks": ""
             }
            },
            "type": "scatter3d"
           }
          ],
          "scattercarpet": [
           {
            "marker": {
             "colorbar": {
              "outlinewidth": 0,
              "ticks": ""
             }
            },
            "type": "scattercarpet"
           }
          ],
          "scattergeo": [
           {
            "marker": {
             "colorbar": {
              "outlinewidth": 0,
              "ticks": ""
             }
            },
            "type": "scattergeo"
           }
          ],
          "scattergl": [
           {
            "marker": {
             "colorbar": {
              "outlinewidth": 0,
              "ticks": ""
             }
            },
            "type": "scattergl"
           }
          ],
          "scattermapbox": [
           {
            "marker": {
             "colorbar": {
              "outlinewidth": 0,
              "ticks": ""
             }
            },
            "type": "scattermapbox"
           }
          ],
          "scatterpolar": [
           {
            "marker": {
             "colorbar": {
              "outlinewidth": 0,
              "ticks": ""
             }
            },
            "type": "scatterpolar"
           }
          ],
          "scatterpolargl": [
           {
            "marker": {
             "colorbar": {
              "outlinewidth": 0,
              "ticks": ""
             }
            },
            "type": "scatterpolargl"
           }
          ],
          "scatterternary": [
           {
            "marker": {
             "colorbar": {
              "outlinewidth": 0,
              "ticks": ""
             }
            },
            "type": "scatterternary"
           }
          ],
          "surface": [
           {
            "colorbar": {
             "outlinewidth": 0,
             "ticks": ""
            },
            "colorscale": [
             [
              0,
              "#0d0887"
             ],
             [
              0.1111111111111111,
              "#46039f"
             ],
             [
              0.2222222222222222,
              "#7201a8"
             ],
             [
              0.3333333333333333,
              "#9c179e"
             ],
             [
              0.4444444444444444,
              "#bd3786"
             ],
             [
              0.5555555555555556,
              "#d8576b"
             ],
             [
              0.6666666666666666,
              "#ed7953"
             ],
             [
              0.7777777777777778,
              "#fb9f3a"
             ],
             [
              0.8888888888888888,
              "#fdca26"
             ],
             [
              1,
              "#f0f921"
             ]
            ],
            "type": "surface"
           }
          ],
          "table": [
           {
            "cells": {
             "fill": {
              "color": "#EBF0F8"
             },
             "line": {
              "color": "white"
             }
            },
            "header": {
             "fill": {
              "color": "#C8D4E3"
             },
             "line": {
              "color": "white"
             }
            },
            "type": "table"
           }
          ]
         },
         "layout": {
          "annotationdefaults": {
           "arrowcolor": "#2a3f5f",
           "arrowhead": 0,
           "arrowwidth": 1
          },
          "autotypenumbers": "strict",
          "coloraxis": {
           "colorbar": {
            "outlinewidth": 0,
            "ticks": ""
           }
          },
          "colorscale": {
           "diverging": [
            [
             0,
             "#8e0152"
            ],
            [
             0.1,
             "#c51b7d"
            ],
            [
             0.2,
             "#de77ae"
            ],
            [
             0.3,
             "#f1b6da"
            ],
            [
             0.4,
             "#fde0ef"
            ],
            [
             0.5,
             "#f7f7f7"
            ],
            [
             0.6,
             "#e6f5d0"
            ],
            [
             0.7,
             "#b8e186"
            ],
            [
             0.8,
             "#7fbc41"
            ],
            [
             0.9,
             "#4d9221"
            ],
            [
             1,
             "#276419"
            ]
           ],
           "sequential": [
            [
             0,
             "#0d0887"
            ],
            [
             0.1111111111111111,
             "#46039f"
            ],
            [
             0.2222222222222222,
             "#7201a8"
            ],
            [
             0.3333333333333333,
             "#9c179e"
            ],
            [
             0.4444444444444444,
             "#bd3786"
            ],
            [
             0.5555555555555556,
             "#d8576b"
            ],
            [
             0.6666666666666666,
             "#ed7953"
            ],
            [
             0.7777777777777778,
             "#fb9f3a"
            ],
            [
             0.8888888888888888,
             "#fdca26"
            ],
            [
             1,
             "#f0f921"
            ]
           ],
           "sequentialminus": [
            [
             0,
             "#0d0887"
            ],
            [
             0.1111111111111111,
             "#46039f"
            ],
            [
             0.2222222222222222,
             "#7201a8"
            ],
            [
             0.3333333333333333,
             "#9c179e"
            ],
            [
             0.4444444444444444,
             "#bd3786"
            ],
            [
             0.5555555555555556,
             "#d8576b"
            ],
            [
             0.6666666666666666,
             "#ed7953"
            ],
            [
             0.7777777777777778,
             "#fb9f3a"
            ],
            [
             0.8888888888888888,
             "#fdca26"
            ],
            [
             1,
             "#f0f921"
            ]
           ]
          },
          "colorway": [
           "#636efa",
           "#EF553B",
           "#00cc96",
           "#ab63fa",
           "#FFA15A",
           "#19d3f3",
           "#FF6692",
           "#B6E880",
           "#FF97FF",
           "#FECB52"
          ],
          "font": {
           "color": "#2a3f5f"
          },
          "geo": {
           "bgcolor": "white",
           "lakecolor": "white",
           "landcolor": "#E5ECF6",
           "showlakes": true,
           "showland": true,
           "subunitcolor": "white"
          },
          "hoverlabel": {
           "align": "left"
          },
          "hovermode": "closest",
          "mapbox": {
           "style": "light"
          },
          "paper_bgcolor": "white",
          "plot_bgcolor": "#E5ECF6",
          "polar": {
           "angularaxis": {
            "gridcolor": "white",
            "linecolor": "white",
            "ticks": ""
           },
           "bgcolor": "#E5ECF6",
           "radialaxis": {
            "gridcolor": "white",
            "linecolor": "white",
            "ticks": ""
           }
          },
          "scene": {
           "xaxis": {
            "backgroundcolor": "#E5ECF6",
            "gridcolor": "white",
            "gridwidth": 2,
            "linecolor": "white",
            "showbackground": true,
            "ticks": "",
            "zerolinecolor": "white"
           },
           "yaxis": {
            "backgroundcolor": "#E5ECF6",
            "gridcolor": "white",
            "gridwidth": 2,
            "linecolor": "white",
            "showbackground": true,
            "ticks": "",
            "zerolinecolor": "white"
           },
           "zaxis": {
            "backgroundcolor": "#E5ECF6",
            "gridcolor": "white",
            "gridwidth": 2,
            "linecolor": "white",
            "showbackground": true,
            "ticks": "",
            "zerolinecolor": "white"
           }
          },
          "shapedefaults": {
           "line": {
            "color": "#2a3f5f"
           }
          },
          "ternary": {
           "aaxis": {
            "gridcolor": "white",
            "linecolor": "white",
            "ticks": ""
           },
           "baxis": {
            "gridcolor": "white",
            "linecolor": "white",
            "ticks": ""
           },
           "bgcolor": "#E5ECF6",
           "caxis": {
            "gridcolor": "white",
            "linecolor": "white",
            "ticks": ""
           }
          },
          "title": {
           "x": 0.05
          },
          "xaxis": {
           "automargin": true,
           "gridcolor": "white",
           "linecolor": "white",
           "ticks": "",
           "title": {
            "standoff": 15
           },
           "zerolinecolor": "white",
           "zerolinewidth": 2
          },
          "yaxis": {
           "automargin": true,
           "gridcolor": "white",
           "linecolor": "white",
           "ticks": "",
           "title": {
            "standoff": 15
           },
           "zerolinecolor": "white",
           "zerolinewidth": 2
          }
         }
        },
        "title": {
         "font": {
          "color": "#4D5663"
         }
        },
        "xaxis": {
         "gridcolor": "#E1E5ED",
         "showgrid": true,
         "tickfont": {
          "color": "#4D5663"
         },
         "title": {
          "font": {
           "color": "#4D5663"
          },
          "text": ""
         },
         "zerolinecolor": "#E1E5ED"
        },
        "yaxis": {
         "gridcolor": "#E1E5ED",
         "showgrid": true,
         "tickfont": {
          "color": "#4D5663"
         },
         "title": {
          "font": {
           "color": "#4D5663"
          },
          "text": ""
         },
         "zerolinecolor": "#E1E5ED"
        }
       }
      },
      "text/html": [
       "<div>                            <div id=\"dc6edeba-6dbc-4d86-b997-0a7748b71c8f\" class=\"plotly-graph-div\" style=\"height:525px; width:100%;\"></div>            <script type=\"text/javascript\">                require([\"plotly\"], function(Plotly) {                    window.PLOTLYENV=window.PLOTLYENV || {};\n",
       "                    window.PLOTLYENV.BASE_URL='https://plot.ly';                                    if (document.getElementById(\"dc6edeba-6dbc-4d86-b997-0a7748b71c8f\")) {                    Plotly.newPlot(                        \"dc6edeba-6dbc-4d86-b997-0a7748b71c8f\",                        [{\"colorscale\": [[0.0, \"rgb(165,0,38)\"], [0.1, \"rgb(215,48,39)\"], [0.2, \"rgb(244,109,67)\"], [0.3, \"rgb(253,174,97)\"], [0.4, \"rgb(254,224,144)\"], [0.5, \"rgb(255,255,191)\"], [0.6, \"rgb(224,243,248)\"], [0.7, \"rgb(171,217,233)\"], [0.8, \"rgb(116,173,209)\"], [0.9, \"rgb(69,117,180)\"], [1.0, \"rgb(49,54,149)\"]], \"type\": \"surface\", \"x\": [0, 1, 2, 3, 4], \"y\": [\"x\", \"y\", \"z\"], \"z\": [[1, 2, 3, 4, 5], [10, 20, 30, 20, 10], [5, 4, 3, 2, 1]]}],                        {\"legend\": {\"bgcolor\": \"#F5F6F9\", \"font\": {\"color\": \"#4D5663\"}}, \"paper_bgcolor\": \"#F5F6F9\", \"plot_bgcolor\": \"#F5F6F9\", \"template\": {\"data\": {\"bar\": [{\"error_x\": {\"color\": \"#2a3f5f\"}, \"error_y\": {\"color\": \"#2a3f5f\"}, \"marker\": {\"line\": {\"color\": \"#E5ECF6\", \"width\": 0.5}}, \"type\": \"bar\"}], \"barpolar\": [{\"marker\": {\"line\": {\"color\": \"#E5ECF6\", \"width\": 0.5}}, \"type\": \"barpolar\"}], \"carpet\": [{\"aaxis\": {\"endlinecolor\": \"#2a3f5f\", \"gridcolor\": \"white\", \"linecolor\": \"white\", \"minorgridcolor\": \"white\", \"startlinecolor\": \"#2a3f5f\"}, \"baxis\": {\"endlinecolor\": \"#2a3f5f\", \"gridcolor\": \"white\", \"linecolor\": \"white\", \"minorgridcolor\": \"white\", \"startlinecolor\": \"#2a3f5f\"}, \"type\": \"carpet\"}], \"choropleth\": [{\"colorbar\": {\"outlinewidth\": 0, \"ticks\": \"\"}, \"type\": \"choropleth\"}], \"contour\": [{\"colorbar\": {\"outlinewidth\": 0, \"ticks\": \"\"}, \"colorscale\": [[0.0, \"#0d0887\"], [0.1111111111111111, \"#46039f\"], [0.2222222222222222, \"#7201a8\"], [0.3333333333333333, \"#9c179e\"], [0.4444444444444444, \"#bd3786\"], [0.5555555555555556, \"#d8576b\"], [0.6666666666666666, \"#ed7953\"], [0.7777777777777778, \"#fb9f3a\"], [0.8888888888888888, \"#fdca26\"], [1.0, \"#f0f921\"]], \"type\": \"contour\"}], \"contourcarpet\": [{\"colorbar\": {\"outlinewidth\": 0, \"ticks\": \"\"}, \"type\": \"contourcarpet\"}], \"heatmap\": [{\"colorbar\": {\"outlinewidth\": 0, \"ticks\": \"\"}, \"colorscale\": [[0.0, \"#0d0887\"], [0.1111111111111111, \"#46039f\"], [0.2222222222222222, \"#7201a8\"], [0.3333333333333333, \"#9c179e\"], [0.4444444444444444, \"#bd3786\"], [0.5555555555555556, \"#d8576b\"], [0.6666666666666666, \"#ed7953\"], [0.7777777777777778, \"#fb9f3a\"], [0.8888888888888888, \"#fdca26\"], [1.0, \"#f0f921\"]], \"type\": \"heatmap\"}], \"heatmapgl\": [{\"colorbar\": {\"outlinewidth\": 0, \"ticks\": \"\"}, \"colorscale\": [[0.0, \"#0d0887\"], [0.1111111111111111, \"#46039f\"], [0.2222222222222222, \"#7201a8\"], [0.3333333333333333, \"#9c179e\"], [0.4444444444444444, \"#bd3786\"], [0.5555555555555556, \"#d8576b\"], [0.6666666666666666, \"#ed7953\"], [0.7777777777777778, \"#fb9f3a\"], [0.8888888888888888, \"#fdca26\"], [1.0, \"#f0f921\"]], \"type\": \"heatmapgl\"}], \"histogram\": [{\"marker\": {\"colorbar\": {\"outlinewidth\": 0, \"ticks\": \"\"}}, \"type\": \"histogram\"}], \"histogram2d\": [{\"colorbar\": {\"outlinewidth\": 0, \"ticks\": \"\"}, \"colorscale\": [[0.0, \"#0d0887\"], [0.1111111111111111, \"#46039f\"], [0.2222222222222222, \"#7201a8\"], [0.3333333333333333, \"#9c179e\"], [0.4444444444444444, \"#bd3786\"], [0.5555555555555556, \"#d8576b\"], [0.6666666666666666, \"#ed7953\"], [0.7777777777777778, \"#fb9f3a\"], [0.8888888888888888, \"#fdca26\"], [1.0, \"#f0f921\"]], \"type\": \"histogram2d\"}], \"histogram2dcontour\": [{\"colorbar\": {\"outlinewidth\": 0, \"ticks\": \"\"}, \"colorscale\": [[0.0, \"#0d0887\"], [0.1111111111111111, \"#46039f\"], [0.2222222222222222, \"#7201a8\"], [0.3333333333333333, \"#9c179e\"], [0.4444444444444444, \"#bd3786\"], [0.5555555555555556, \"#d8576b\"], [0.6666666666666666, \"#ed7953\"], [0.7777777777777778, \"#fb9f3a\"], [0.8888888888888888, \"#fdca26\"], [1.0, \"#f0f921\"]], \"type\": \"histogram2dcontour\"}], \"mesh3d\": [{\"colorbar\": {\"outlinewidth\": 0, \"ticks\": \"\"}, \"type\": \"mesh3d\"}], \"parcoords\": [{\"line\": {\"colorbar\": {\"outlinewidth\": 0, \"ticks\": \"\"}}, \"type\": \"parcoords\"}], \"pie\": [{\"automargin\": true, \"type\": \"pie\"}], \"scatter\": [{\"marker\": {\"colorbar\": {\"outlinewidth\": 0, \"ticks\": \"\"}}, \"type\": \"scatter\"}], \"scatter3d\": [{\"line\": {\"colorbar\": {\"outlinewidth\": 0, \"ticks\": \"\"}}, \"marker\": {\"colorbar\": {\"outlinewidth\": 0, \"ticks\": \"\"}}, \"type\": \"scatter3d\"}], \"scattercarpet\": [{\"marker\": {\"colorbar\": {\"outlinewidth\": 0, \"ticks\": \"\"}}, \"type\": \"scattercarpet\"}], \"scattergeo\": [{\"marker\": {\"colorbar\": {\"outlinewidth\": 0, \"ticks\": \"\"}}, \"type\": \"scattergeo\"}], \"scattergl\": [{\"marker\": {\"colorbar\": {\"outlinewidth\": 0, \"ticks\": \"\"}}, \"type\": \"scattergl\"}], \"scattermapbox\": [{\"marker\": {\"colorbar\": {\"outlinewidth\": 0, \"ticks\": \"\"}}, \"type\": \"scattermapbox\"}], \"scatterpolar\": [{\"marker\": {\"colorbar\": {\"outlinewidth\": 0, \"ticks\": \"\"}}, \"type\": \"scatterpolar\"}], \"scatterpolargl\": [{\"marker\": {\"colorbar\": {\"outlinewidth\": 0, \"ticks\": \"\"}}, \"type\": \"scatterpolargl\"}], \"scatterternary\": [{\"marker\": {\"colorbar\": {\"outlinewidth\": 0, \"ticks\": \"\"}}, \"type\": \"scatterternary\"}], \"surface\": [{\"colorbar\": {\"outlinewidth\": 0, \"ticks\": \"\"}, \"colorscale\": [[0.0, \"#0d0887\"], [0.1111111111111111, \"#46039f\"], [0.2222222222222222, \"#7201a8\"], [0.3333333333333333, \"#9c179e\"], [0.4444444444444444, \"#bd3786\"], [0.5555555555555556, \"#d8576b\"], [0.6666666666666666, \"#ed7953\"], [0.7777777777777778, \"#fb9f3a\"], [0.8888888888888888, \"#fdca26\"], [1.0, \"#f0f921\"]], \"type\": \"surface\"}], \"table\": [{\"cells\": {\"fill\": {\"color\": \"#EBF0F8\"}, \"line\": {\"color\": \"white\"}}, \"header\": {\"fill\": {\"color\": \"#C8D4E3\"}, \"line\": {\"color\": \"white\"}}, \"type\": \"table\"}]}, \"layout\": {\"annotationdefaults\": {\"arrowcolor\": \"#2a3f5f\", \"arrowhead\": 0, \"arrowwidth\": 1}, \"autotypenumbers\": \"strict\", \"coloraxis\": {\"colorbar\": {\"outlinewidth\": 0, \"ticks\": \"\"}}, \"colorscale\": {\"diverging\": [[0, \"#8e0152\"], [0.1, \"#c51b7d\"], [0.2, \"#de77ae\"], [0.3, \"#f1b6da\"], [0.4, \"#fde0ef\"], [0.5, \"#f7f7f7\"], [0.6, \"#e6f5d0\"], [0.7, \"#b8e186\"], [0.8, \"#7fbc41\"], [0.9, \"#4d9221\"], [1, \"#276419\"]], \"sequential\": [[0.0, \"#0d0887\"], [0.1111111111111111, \"#46039f\"], [0.2222222222222222, \"#7201a8\"], [0.3333333333333333, \"#9c179e\"], [0.4444444444444444, \"#bd3786\"], [0.5555555555555556, \"#d8576b\"], [0.6666666666666666, \"#ed7953\"], [0.7777777777777778, \"#fb9f3a\"], [0.8888888888888888, \"#fdca26\"], [1.0, \"#f0f921\"]], \"sequentialminus\": [[0.0, \"#0d0887\"], [0.1111111111111111, \"#46039f\"], [0.2222222222222222, \"#7201a8\"], [0.3333333333333333, \"#9c179e\"], [0.4444444444444444, \"#bd3786\"], [0.5555555555555556, \"#d8576b\"], [0.6666666666666666, \"#ed7953\"], [0.7777777777777778, \"#fb9f3a\"], [0.8888888888888888, \"#fdca26\"], [1.0, \"#f0f921\"]]}, \"colorway\": [\"#636efa\", \"#EF553B\", \"#00cc96\", \"#ab63fa\", \"#FFA15A\", \"#19d3f3\", \"#FF6692\", \"#B6E880\", \"#FF97FF\", \"#FECB52\"], \"font\": {\"color\": \"#2a3f5f\"}, \"geo\": {\"bgcolor\": \"white\", \"lakecolor\": \"white\", \"landcolor\": \"#E5ECF6\", \"showlakes\": true, \"showland\": true, \"subunitcolor\": \"white\"}, \"hoverlabel\": {\"align\": \"left\"}, \"hovermode\": \"closest\", \"mapbox\": {\"style\": \"light\"}, \"paper_bgcolor\": \"white\", \"plot_bgcolor\": \"#E5ECF6\", \"polar\": {\"angularaxis\": {\"gridcolor\": \"white\", \"linecolor\": \"white\", \"ticks\": \"\"}, \"bgcolor\": \"#E5ECF6\", \"radialaxis\": {\"gridcolor\": \"white\", \"linecolor\": \"white\", \"ticks\": \"\"}}, \"scene\": {\"xaxis\": {\"backgroundcolor\": \"#E5ECF6\", \"gridcolor\": \"white\", \"gridwidth\": 2, \"linecolor\": \"white\", \"showbackground\": true, \"ticks\": \"\", \"zerolinecolor\": \"white\"}, \"yaxis\": {\"backgroundcolor\": \"#E5ECF6\", \"gridcolor\": \"white\", \"gridwidth\": 2, \"linecolor\": \"white\", \"showbackground\": true, \"ticks\": \"\", \"zerolinecolor\": \"white\"}, \"zaxis\": {\"backgroundcolor\": \"#E5ECF6\", \"gridcolor\": \"white\", \"gridwidth\": 2, \"linecolor\": \"white\", \"showbackground\": true, \"ticks\": \"\", \"zerolinecolor\": \"white\"}}, \"shapedefaults\": {\"line\": {\"color\": \"#2a3f5f\"}}, \"ternary\": {\"aaxis\": {\"gridcolor\": \"white\", \"linecolor\": \"white\", \"ticks\": \"\"}, \"baxis\": {\"gridcolor\": \"white\", \"linecolor\": \"white\", \"ticks\": \"\"}, \"bgcolor\": \"#E5ECF6\", \"caxis\": {\"gridcolor\": \"white\", \"linecolor\": \"white\", \"ticks\": \"\"}}, \"title\": {\"x\": 0.05}, \"xaxis\": {\"automargin\": true, \"gridcolor\": \"white\", \"linecolor\": \"white\", \"ticks\": \"\", \"title\": {\"standoff\": 15}, \"zerolinecolor\": \"white\", \"zerolinewidth\": 2}, \"yaxis\": {\"automargin\": true, \"gridcolor\": \"white\", \"linecolor\": \"white\", \"ticks\": \"\", \"title\": {\"standoff\": 15}, \"zerolinecolor\": \"white\", \"zerolinewidth\": 2}}}, \"title\": {\"font\": {\"color\": \"#4D5663\"}}, \"xaxis\": {\"gridcolor\": \"#E1E5ED\", \"showgrid\": true, \"tickfont\": {\"color\": \"#4D5663\"}, \"title\": {\"font\": {\"color\": \"#4D5663\"}, \"text\": \"\"}, \"zerolinecolor\": \"#E1E5ED\"}, \"yaxis\": {\"gridcolor\": \"#E1E5ED\", \"showgrid\": true, \"tickfont\": {\"color\": \"#4D5663\"}, \"title\": {\"font\": {\"color\": \"#4D5663\"}, \"text\": \"\"}, \"zerolinecolor\": \"#E1E5ED\"}},                        {\"showLink\": true, \"linkText\": \"Export to plot.ly\", \"plotlyServerURL\": \"https://plot.ly\", \"responsive\": true}                    ).then(function(){\n",
       "                            \n",
       "var gd = document.getElementById('dc6edeba-6dbc-4d86-b997-0a7748b71c8f');\n",
       "var x = new MutationObserver(function (mutations, observer) {{\n",
       "        var display = window.getComputedStyle(gd).display;\n",
       "        if (!display || display === 'none') {{\n",
       "            console.log([gd, 'removed!']);\n",
       "            Plotly.purge(gd);\n",
       "            observer.disconnect();\n",
       "        }}\n",
       "}});\n",
       "\n",
       "// Listen for the removal of the full notebook cells\n",
       "var notebookContainer = gd.closest('#notebook-container');\n",
       "if (notebookContainer) {{\n",
       "    x.observe(notebookContainer, {childList: true});\n",
       "}}\n",
       "\n",
       "// Listen for the clearing of the current output cell\n",
       "var outputEl = gd.closest('.output');\n",
       "if (outputEl) {{\n",
       "    x.observe(outputEl, {childList: true});\n",
       "}}\n",
       "\n",
       "                        })                };                });            </script>        </div>"
      ]
     },
     "metadata": {},
     "output_type": "display_data"
    }
   ],
   "source": [
    "df3 = pd.DataFrame({'x':[1,2,3,4,5],'y':[10,20,30,20,10],'z':[5,4,3,2,1]})\n",
    "df3.iplot(kind='surface',colorscale='rdylbu')"
   ]
  },
  {
   "cell_type": "markdown",
   "metadata": {},
   "source": [
    "## Spread"
   ]
  },
  {
   "cell_type": "code",
   "execution_count": 23,
   "metadata": {},
   "outputs": [
    {
     "name": "stderr",
     "output_type": "stream",
     "text": [
      "C:\\ProgramData\\Anaconda3\\lib\\site-packages\\cufflinks\\plotlytools.py:849: FutureWarning:\n",
      "\n",
      "The pandas.np module is deprecated and will be removed from pandas in a future version. Import numpy directly instead\n",
      "\n",
      "C:\\ProgramData\\Anaconda3\\lib\\site-packages\\cufflinks\\plotlytools.py:850: FutureWarning:\n",
      "\n",
      "The pandas.np module is deprecated and will be removed from pandas in a future version. Import numpy directly instead\n",
      "\n"
     ]
    },
    {
     "data": {
      "application/vnd.plotly.v1+json": {
       "config": {
        "linkText": "Export to plot.ly",
        "plotlyServerURL": "https://plot.ly",
        "showLink": true
       },
       "data": [
        {
         "line": {
          "color": "rgba(255, 153, 51, 1.0)",
          "dash": "solid",
          "shape": "linear",
          "width": 1.3
         },
         "mode": "lines",
         "name": "A",
         "text": "",
         "type": "scatter",
         "x": [
          0,
          1,
          2,
          3,
          4,
          5,
          6,
          7,
          8,
          9,
          10,
          11,
          12,
          13,
          14,
          15,
          16,
          17,
          18,
          19,
          20,
          21,
          22,
          23,
          24,
          25,
          26,
          27,
          28,
          29,
          30,
          31,
          32,
          33,
          34,
          35,
          36,
          37,
          38,
          39,
          40,
          41,
          42,
          43,
          44,
          45,
          46,
          47,
          48,
          49,
          50,
          51,
          52,
          53,
          54,
          55,
          56,
          57,
          58,
          59,
          60,
          61,
          62,
          63,
          64,
          65,
          66,
          67,
          68,
          69,
          70,
          71,
          72,
          73,
          74,
          75,
          76,
          77,
          78,
          79,
          80,
          81,
          82,
          83,
          84,
          85,
          86,
          87,
          88,
          89,
          90,
          91,
          92,
          93,
          94,
          95,
          96,
          97,
          98,
          99
         ],
         "y": [
          1.4917739319507988,
          -0.1576075136610856,
          -0.930328601981876,
          -0.6791097036693865,
          1.246802046482842,
          -0.5806183447238982,
          0.9551482952637191,
          -0.9561769134235306,
          1.2144518407090386,
          0.31959647065023283,
          -1.4423615094359339,
          1.8507899242342944,
          1.9847942969865817,
          0.6095414371590581,
          -1.069062089292798,
          0.6852538624950293,
          -0.8462177638395003,
          0.22167000989186186,
          0.8918580824529956,
          -0.1940932831989595,
          0.33921698686267754,
          -0.06992664359765931,
          0.690323282593047,
          0.6506433463557831,
          0.7564904122747336,
          -1.308249635588235,
          -0.22464215572953222,
          0.09919358272849658,
          1.1287581168730763,
          -0.36725877754636344,
          0.09096065814427151,
          -0.8805373216943375,
          0.890854427029569,
          0.1155311465883702,
          0.5143751348157323,
          -0.25414110899522613,
          1.4833137143331045,
          0.3675447075511886,
          -1.5077217377202732,
          -0.6373616669671688,
          1.1456740193979287,
          1.2559528674572056,
          -0.20392733626662685,
          -0.9462356231111191,
          -0.8254221598651107,
          -1.2902954284480845,
          -0.2716337111245958,
          -0.7928249861140338,
          -1.6755476798400208,
          -0.7978918224518056,
          0.5996331045123291,
          -0.9994054715811946,
          -1.368953160022903,
          -0.6601821803669641,
          -0.6499980055955829,
          0.9251787037144138,
          1.256321305290484,
          0.31557783645401594,
          -1.5844673041367536,
          1.0781227686646015,
          -1.437693609400543,
          0.13423954401837473,
          0.36730879609807726,
          1.5264830168099544,
          0.3603263306995897,
          0.1503890266979325,
          0.20458422906768983,
          -0.00986072427559832,
          -0.3193800893160297,
          0.34841930348296857,
          -0.3994290487453984,
          -0.9116400976688431,
          0.9654902580213899,
          0.24234907344618214,
          -0.05746287603372838,
          0.7553078082518422,
          -1.1442230167325054,
          -0.8253389178601065,
          0.5701321481460176,
          0.235649958350743,
          -0.5342026398077849,
          0.5691215410981469,
          0.09507234876738771,
          -0.6708118348301298,
          -1.2797752333975452,
          -1.7700033326782072,
          1.2145166297977998,
          -1.4710487864158104,
          1.4269559058111128,
          -0.07240036633000582,
          1.4080462471242083,
          0.6675645409240432,
          -0.3302173155427578,
          -0.3580002598687018,
          -0.5747493064136403,
          -0.54233098908547,
          1.122046746352447,
          0.3792037783979195,
          0.48350931449727996,
          -0.43136459685774653
         ]
        },
        {
         "line": {
          "color": "rgba(55, 128, 191, 1.0)",
          "dash": "solid",
          "shape": "linear",
          "width": 1.3
         },
         "mode": "lines",
         "name": "B",
         "text": "",
         "type": "scatter",
         "x": [
          0,
          1,
          2,
          3,
          4,
          5,
          6,
          7,
          8,
          9,
          10,
          11,
          12,
          13,
          14,
          15,
          16,
          17,
          18,
          19,
          20,
          21,
          22,
          23,
          24,
          25,
          26,
          27,
          28,
          29,
          30,
          31,
          32,
          33,
          34,
          35,
          36,
          37,
          38,
          39,
          40,
          41,
          42,
          43,
          44,
          45,
          46,
          47,
          48,
          49,
          50,
          51,
          52,
          53,
          54,
          55,
          56,
          57,
          58,
          59,
          60,
          61,
          62,
          63,
          64,
          65,
          66,
          67,
          68,
          69,
          70,
          71,
          72,
          73,
          74,
          75,
          76,
          77,
          78,
          79,
          80,
          81,
          82,
          83,
          84,
          85,
          86,
          87,
          88,
          89,
          90,
          91,
          92,
          93,
          94,
          95,
          96,
          97,
          98,
          99
         ],
         "y": [
          0.45759144337485264,
          -1.852696670942872,
          0.6037624201043539,
          1.6807726295254402,
          -0.6134495049356505,
          -0.13990727158452076,
          0.03124279714296553,
          -0.4648977013897088,
          0.9553997045315877,
          0.7283752107040995,
          0.17117093428101382,
          -1.7315612380768213,
          0.35740744238423494,
          0.26415998052564404,
          -0.17537080293451385,
          -0.5363941017251691,
          0.6963737981846626,
          0.10703348403579191,
          -1.1668063308621461,
          -0.381555081513734,
          -1.04720724283616,
          0.5062179294106165,
          -0.08116042070484192,
          0.824481990419685,
          -0.923959125424289,
          -0.6621806634287214,
          0.8138973060617386,
          -1.8423340149587246,
          -0.21565202574466438,
          -0.8591970758956009,
          2.9304064240575,
          1.1870166863514848,
          0.8388833896271535,
          -1.0656547569717636,
          0.1785522001686026,
          -1.518369903201751,
          0.7712510283723744,
          -0.21280479152112208,
          0.3271004909808801,
          -0.9022411093453506,
          -1.090695941306311,
          -2.563138973546278,
          -0.7545987537079845,
          -1.2526450127513369,
          -1.6847406671440779,
          -0.1036023582144774,
          -0.6358467247015547,
          -1.4727766663202202,
          -0.590644757453359,
          -0.8960077341834933,
          -2.798152401039477,
          0.15038107633998923,
          0.45031898614896504,
          0.011425712330130547,
          1.025351993965511,
          1.226572998471299,
          -1.5520205754109617,
          0.21871894895512994,
          0.6986764947443769,
          -0.44767507487085106,
          0.6600422460523616,
          1.1821509492312061,
          -2.2418468856707894,
          -0.4419842782451757,
          0.06236833309591093,
          0.7427087694186271,
          -0.20564405623449886,
          -0.9245755611975662,
          0.9661074576054179,
          -0.6525451889087391,
          -0.3230946170781425,
          0.5530579658372701,
          -2.402241575581015,
          -1.044064236634867,
          -0.3731496027692522,
          -0.7422611643632118,
          0.3532662889262816,
          0.8371267137108779,
          -0.7760427206692124,
          -1.5678289690505915,
          -1.2153876341294814,
          0.32655867839731484,
          0.4193562728649102,
          -1.4041639217486626,
          -1.5104150994841226,
          -0.00898105066874273,
          -0.22317194711681937,
          -2.1355721103257186,
          0.46383975546221357,
          0.14180092612446324,
          -1.7439669577936254,
          0.8805075120387779,
          -0.19911597621842822,
          -0.09066691794570107,
          -1.9175075905413421,
          1.578934679646553,
          -0.6444181228984757,
          -0.23588114328227852,
          -1.418161178595617,
          -0.8462454912953437
         ]
        },
        {
         "connectgaps": false,
         "fill": "tozeroy",
         "line": {
          "color": "green",
          "dash": "solid",
          "shape": "linear",
          "width": 0.5
         },
         "mode": "lines",
         "name": "Spread",
         "showlegend": false,
         "type": "scatter",
         "x": [
          0,
          1,
          2,
          3,
          4,
          5,
          6,
          7,
          8,
          9,
          10,
          11,
          12,
          13,
          14,
          15,
          16,
          17,
          18,
          19,
          20,
          21,
          22,
          23,
          24,
          25,
          26,
          27,
          28,
          29,
          30,
          31,
          32,
          33,
          34,
          35,
          36,
          37,
          38,
          39,
          40,
          41,
          42,
          43,
          44,
          45,
          46,
          47,
          48,
          49,
          50,
          51,
          52,
          53,
          54,
          55,
          56,
          57,
          58,
          59,
          60,
          61,
          62,
          63,
          64,
          65,
          66,
          67,
          68,
          69,
          70,
          71,
          72,
          73,
          74,
          75,
          76,
          77,
          78,
          79,
          80,
          81,
          82,
          83,
          84,
          85,
          86,
          87,
          88,
          89,
          90,
          91,
          92,
          93,
          94,
          95,
          96,
          97,
          98,
          99
         ],
         "xaxis": "x2",
         "y": [
          1.034182488575946,
          1.6950891572817866,
          "",
          "",
          1.8602515514184925,
          "",
          0.9239054981207536,
          "",
          0.2590521361774508,
          "",
          "",
          3.5823511623111157,
          1.6273868546023467,
          0.345381456633414,
          "",
          1.2216479642201983,
          "",
          0.11463652585606995,
          2.0586644133151415,
          0.18746179831477452,
          1.3864242296988376,
          "",
          0.771483703297889,
          "",
          1.6804495376990225,
          "",
          "",
          1.9415275976872213,
          1.3444101426177406,
          0.49193829834923747,
          "",
          "",
          0.05197103740241549,
          1.1811859035601338,
          0.33582293464712965,
          1.264228794206525,
          0.7120626859607302,
          0.5803494990723107,
          "",
          0.26487944237818184,
          2.2363699607042395,
          3.819091841003484,
          0.5506714174413576,
          0.3064093896402178,
          0.8593185072789672,
          "",
          0.3642130135769589,
          0.6799516802061863,
          "",
          0.09811591173168777,
          3.3977855055518065,
          "",
          "",
          "",
          "",
          "",
          2.8083418807014455,
          0.09685888749888599,
          "",
          1.5257978435354527,
          "",
          "",
          2.6091556817688666,
          1.96846729505513,
          0.29795799760367875,
          "",
          0.4102282853021887,
          0.9147148369219679,
          "",
          1.0009644923917076,
          "",
          "",
          3.367731833602405,
          1.286413310081049,
          0.3156867267355238,
          1.497568972615054,
          "",
          "",
          1.34617486881523,
          1.8034789274013345,
          0.6811849943216964,
          0.2425628627008321,
          "",
          0.7333520869185327,
          0.23063986608657738,
          "",
          1.4376885769146193,
          0.6645233239099082,
          0.9631161503488992,
          "",
          3.152013204917834,
          "",
          "",
          "",
          1.3427582841277017,
          "",
          1.7664648692509228,
          0.615084921680198,
          1.901670493092897,
          0.4148808944375971
         ],
         "yaxis": "y2"
        },
        {
         "connectgaps": false,
         "fill": "tozeroy",
         "line": {
          "color": "red",
          "dash": "solid",
          "shape": "linear",
          "width": 0.5
         },
         "mode": "lines",
         "name": "Spread",
         "showlegend": false,
         "type": "scatter",
         "x": [
          0,
          1,
          2,
          3,
          4,
          5,
          6,
          7,
          8,
          9,
          10,
          11,
          12,
          13,
          14,
          15,
          16,
          17,
          18,
          19,
          20,
          21,
          22,
          23,
          24,
          25,
          26,
          27,
          28,
          29,
          30,
          31,
          32,
          33,
          34,
          35,
          36,
          37,
          38,
          39,
          40,
          41,
          42,
          43,
          44,
          45,
          46,
          47,
          48,
          49,
          50,
          51,
          52,
          53,
          54,
          55,
          56,
          57,
          58,
          59,
          60,
          61,
          62,
          63,
          64,
          65,
          66,
          67,
          68,
          69,
          70,
          71,
          72,
          73,
          74,
          75,
          76,
          77,
          78,
          79,
          80,
          81,
          82,
          83,
          84,
          85,
          86,
          87,
          88,
          89,
          90,
          91,
          92,
          93,
          94,
          95,
          96,
          97,
          98,
          99
         ],
         "xaxis": "x2",
         "y": [
          "",
          "",
          -1.5340910220862298,
          -2.3598823331948267,
          "",
          -0.4407110731393774,
          "",
          -0.4912792120338218,
          "",
          -0.40877874005386666,
          -1.6135324437169478,
          "",
          "",
          "",
          -0.8936912863582842,
          "",
          -1.542591562024163,
          "",
          "",
          "",
          "",
          -0.5761445730082758,
          "",
          -0.17383864406390181,
          "",
          -0.6460689721595135,
          -1.0385394617912709,
          "",
          "",
          "",
          -2.8394457659132284,
          -2.067554008045822,
          "",
          "",
          "",
          "",
          "",
          "",
          -1.8348222287011533,
          "",
          "",
          "",
          "",
          "",
          "",
          -1.1866930702336072,
          "",
          "",
          -1.0849029223866617,
          "",
          "",
          -1.149786547921184,
          -1.8192721461718682,
          -0.6716078926970946,
          -1.6753499995610937,
          -0.3013942947568852,
          "",
          "",
          -2.2831437988811305,
          "",
          -2.0977358554529046,
          -1.0479114052128313,
          "",
          "",
          "",
          -0.5923197427206945,
          "",
          "",
          -1.2854875469214475,
          "",
          -0.0763344316672559,
          -1.464698063506113,
          "",
          "",
          "",
          "",
          -1.497489305658787,
          -1.6624656315709845,
          "",
          "",
          "",
          "",
          -0.3242839240975225,
          "",
          "",
          -1.7610222820094645,
          "",
          "",
          "",
          -0.21420129245446906,
          "",
          -0.2129429711147347,
          -0.13110133932432957,
          -0.26733334192300073,
          "",
          -2.121265668732023,
          "",
          "",
          "",
          ""
         ],
         "yaxis": "y2"
        }
       ],
       "layout": {
        "hovermode": "x",
        "legend": {
         "bgcolor": "#F5F6F9",
         "font": {
          "color": "#4D5663"
         }
        },
        "paper_bgcolor": "#F5F6F9",
        "plot_bgcolor": "#F5F6F9",
        "template": {
         "data": {
          "bar": [
           {
            "error_x": {
             "color": "#2a3f5f"
            },
            "error_y": {
             "color": "#2a3f5f"
            },
            "marker": {
             "line": {
              "color": "#E5ECF6",
              "width": 0.5
             }
            },
            "type": "bar"
           }
          ],
          "barpolar": [
           {
            "marker": {
             "line": {
              "color": "#E5ECF6",
              "width": 0.5
             }
            },
            "type": "barpolar"
           }
          ],
          "carpet": [
           {
            "aaxis": {
             "endlinecolor": "#2a3f5f",
             "gridcolor": "white",
             "linecolor": "white",
             "minorgridcolor": "white",
             "startlinecolor": "#2a3f5f"
            },
            "baxis": {
             "endlinecolor": "#2a3f5f",
             "gridcolor": "white",
             "linecolor": "white",
             "minorgridcolor": "white",
             "startlinecolor": "#2a3f5f"
            },
            "type": "carpet"
           }
          ],
          "choropleth": [
           {
            "colorbar": {
             "outlinewidth": 0,
             "ticks": ""
            },
            "type": "choropleth"
           }
          ],
          "contour": [
           {
            "colorbar": {
             "outlinewidth": 0,
             "ticks": ""
            },
            "colorscale": [
             [
              0,
              "#0d0887"
             ],
             [
              0.1111111111111111,
              "#46039f"
             ],
             [
              0.2222222222222222,
              "#7201a8"
             ],
             [
              0.3333333333333333,
              "#9c179e"
             ],
             [
              0.4444444444444444,
              "#bd3786"
             ],
             [
              0.5555555555555556,
              "#d8576b"
             ],
             [
              0.6666666666666666,
              "#ed7953"
             ],
             [
              0.7777777777777778,
              "#fb9f3a"
             ],
             [
              0.8888888888888888,
              "#fdca26"
             ],
             [
              1,
              "#f0f921"
             ]
            ],
            "type": "contour"
           }
          ],
          "contourcarpet": [
           {
            "colorbar": {
             "outlinewidth": 0,
             "ticks": ""
            },
            "type": "contourcarpet"
           }
          ],
          "heatmap": [
           {
            "colorbar": {
             "outlinewidth": 0,
             "ticks": ""
            },
            "colorscale": [
             [
              0,
              "#0d0887"
             ],
             [
              0.1111111111111111,
              "#46039f"
             ],
             [
              0.2222222222222222,
              "#7201a8"
             ],
             [
              0.3333333333333333,
              "#9c179e"
             ],
             [
              0.4444444444444444,
              "#bd3786"
             ],
             [
              0.5555555555555556,
              "#d8576b"
             ],
             [
              0.6666666666666666,
              "#ed7953"
             ],
             [
              0.7777777777777778,
              "#fb9f3a"
             ],
             [
              0.8888888888888888,
              "#fdca26"
             ],
             [
              1,
              "#f0f921"
             ]
            ],
            "type": "heatmap"
           }
          ],
          "heatmapgl": [
           {
            "colorbar": {
             "outlinewidth": 0,
             "ticks": ""
            },
            "colorscale": [
             [
              0,
              "#0d0887"
             ],
             [
              0.1111111111111111,
              "#46039f"
             ],
             [
              0.2222222222222222,
              "#7201a8"
             ],
             [
              0.3333333333333333,
              "#9c179e"
             ],
             [
              0.4444444444444444,
              "#bd3786"
             ],
             [
              0.5555555555555556,
              "#d8576b"
             ],
             [
              0.6666666666666666,
              "#ed7953"
             ],
             [
              0.7777777777777778,
              "#fb9f3a"
             ],
             [
              0.8888888888888888,
              "#fdca26"
             ],
             [
              1,
              "#f0f921"
             ]
            ],
            "type": "heatmapgl"
           }
          ],
          "histogram": [
           {
            "marker": {
             "colorbar": {
              "outlinewidth": 0,
              "ticks": ""
             }
            },
            "type": "histogram"
           }
          ],
          "histogram2d": [
           {
            "colorbar": {
             "outlinewidth": 0,
             "ticks": ""
            },
            "colorscale": [
             [
              0,
              "#0d0887"
             ],
             [
              0.1111111111111111,
              "#46039f"
             ],
             [
              0.2222222222222222,
              "#7201a8"
             ],
             [
              0.3333333333333333,
              "#9c179e"
             ],
             [
              0.4444444444444444,
              "#bd3786"
             ],
             [
              0.5555555555555556,
              "#d8576b"
             ],
             [
              0.6666666666666666,
              "#ed7953"
             ],
             [
              0.7777777777777778,
              "#fb9f3a"
             ],
             [
              0.8888888888888888,
              "#fdca26"
             ],
             [
              1,
              "#f0f921"
             ]
            ],
            "type": "histogram2d"
           }
          ],
          "histogram2dcontour": [
           {
            "colorbar": {
             "outlinewidth": 0,
             "ticks": ""
            },
            "colorscale": [
             [
              0,
              "#0d0887"
             ],
             [
              0.1111111111111111,
              "#46039f"
             ],
             [
              0.2222222222222222,
              "#7201a8"
             ],
             [
              0.3333333333333333,
              "#9c179e"
             ],
             [
              0.4444444444444444,
              "#bd3786"
             ],
             [
              0.5555555555555556,
              "#d8576b"
             ],
             [
              0.6666666666666666,
              "#ed7953"
             ],
             [
              0.7777777777777778,
              "#fb9f3a"
             ],
             [
              0.8888888888888888,
              "#fdca26"
             ],
             [
              1,
              "#f0f921"
             ]
            ],
            "type": "histogram2dcontour"
           }
          ],
          "mesh3d": [
           {
            "colorbar": {
             "outlinewidth": 0,
             "ticks": ""
            },
            "type": "mesh3d"
           }
          ],
          "parcoords": [
           {
            "line": {
             "colorbar": {
              "outlinewidth": 0,
              "ticks": ""
             }
            },
            "type": "parcoords"
           }
          ],
          "pie": [
           {
            "automargin": true,
            "type": "pie"
           }
          ],
          "scatter": [
           {
            "marker": {
             "colorbar": {
              "outlinewidth": 0,
              "ticks": ""
             }
            },
            "type": "scatter"
           }
          ],
          "scatter3d": [
           {
            "line": {
             "colorbar": {
              "outlinewidth": 0,
              "ticks": ""
             }
            },
            "marker": {
             "colorbar": {
              "outlinewidth": 0,
              "ticks": ""
             }
            },
            "type": "scatter3d"
           }
          ],
          "scattercarpet": [
           {
            "marker": {
             "colorbar": {
              "outlinewidth": 0,
              "ticks": ""
             }
            },
            "type": "scattercarpet"
           }
          ],
          "scattergeo": [
           {
            "marker": {
             "colorbar": {
              "outlinewidth": 0,
              "ticks": ""
             }
            },
            "type": "scattergeo"
           }
          ],
          "scattergl": [
           {
            "marker": {
             "colorbar": {
              "outlinewidth": 0,
              "ticks": ""
             }
            },
            "type": "scattergl"
           }
          ],
          "scattermapbox": [
           {
            "marker": {
             "colorbar": {
              "outlinewidth": 0,
              "ticks": ""
             }
            },
            "type": "scattermapbox"
           }
          ],
          "scatterpolar": [
           {
            "marker": {
             "colorbar": {
              "outlinewidth": 0,
              "ticks": ""
             }
            },
            "type": "scatterpolar"
           }
          ],
          "scatterpolargl": [
           {
            "marker": {
             "colorbar": {
              "outlinewidth": 0,
              "ticks": ""
             }
            },
            "type": "scatterpolargl"
           }
          ],
          "scatterternary": [
           {
            "marker": {
             "colorbar": {
              "outlinewidth": 0,
              "ticks": ""
             }
            },
            "type": "scatterternary"
           }
          ],
          "surface": [
           {
            "colorbar": {
             "outlinewidth": 0,
             "ticks": ""
            },
            "colorscale": [
             [
              0,
              "#0d0887"
             ],
             [
              0.1111111111111111,
              "#46039f"
             ],
             [
              0.2222222222222222,
              "#7201a8"
             ],
             [
              0.3333333333333333,
              "#9c179e"
             ],
             [
              0.4444444444444444,
              "#bd3786"
             ],
             [
              0.5555555555555556,
              "#d8576b"
             ],
             [
              0.6666666666666666,
              "#ed7953"
             ],
             [
              0.7777777777777778,
              "#fb9f3a"
             ],
             [
              0.8888888888888888,
              "#fdca26"
             ],
             [
              1,
              "#f0f921"
             ]
            ],
            "type": "surface"
           }
          ],
          "table": [
           {
            "cells": {
             "fill": {
              "color": "#EBF0F8"
             },
             "line": {
              "color": "white"
             }
            },
            "header": {
             "fill": {
              "color": "#C8D4E3"
             },
             "line": {
              "color": "white"
             }
            },
            "type": "table"
           }
          ]
         },
         "layout": {
          "annotationdefaults": {
           "arrowcolor": "#2a3f5f",
           "arrowhead": 0,
           "arrowwidth": 1
          },
          "autotypenumbers": "strict",
          "coloraxis": {
           "colorbar": {
            "outlinewidth": 0,
            "ticks": ""
           }
          },
          "colorscale": {
           "diverging": [
            [
             0,
             "#8e0152"
            ],
            [
             0.1,
             "#c51b7d"
            ],
            [
             0.2,
             "#de77ae"
            ],
            [
             0.3,
             "#f1b6da"
            ],
            [
             0.4,
             "#fde0ef"
            ],
            [
             0.5,
             "#f7f7f7"
            ],
            [
             0.6,
             "#e6f5d0"
            ],
            [
             0.7,
             "#b8e186"
            ],
            [
             0.8,
             "#7fbc41"
            ],
            [
             0.9,
             "#4d9221"
            ],
            [
             1,
             "#276419"
            ]
           ],
           "sequential": [
            [
             0,
             "#0d0887"
            ],
            [
             0.1111111111111111,
             "#46039f"
            ],
            [
             0.2222222222222222,
             "#7201a8"
            ],
            [
             0.3333333333333333,
             "#9c179e"
            ],
            [
             0.4444444444444444,
             "#bd3786"
            ],
            [
             0.5555555555555556,
             "#d8576b"
            ],
            [
             0.6666666666666666,
             "#ed7953"
            ],
            [
             0.7777777777777778,
             "#fb9f3a"
            ],
            [
             0.8888888888888888,
             "#fdca26"
            ],
            [
             1,
             "#f0f921"
            ]
           ],
           "sequentialminus": [
            [
             0,
             "#0d0887"
            ],
            [
             0.1111111111111111,
             "#46039f"
            ],
            [
             0.2222222222222222,
             "#7201a8"
            ],
            [
             0.3333333333333333,
             "#9c179e"
            ],
            [
             0.4444444444444444,
             "#bd3786"
            ],
            [
             0.5555555555555556,
             "#d8576b"
            ],
            [
             0.6666666666666666,
             "#ed7953"
            ],
            [
             0.7777777777777778,
             "#fb9f3a"
            ],
            [
             0.8888888888888888,
             "#fdca26"
            ],
            [
             1,
             "#f0f921"
            ]
           ]
          },
          "colorway": [
           "#636efa",
           "#EF553B",
           "#00cc96",
           "#ab63fa",
           "#FFA15A",
           "#19d3f3",
           "#FF6692",
           "#B6E880",
           "#FF97FF",
           "#FECB52"
          ],
          "font": {
           "color": "#2a3f5f"
          },
          "geo": {
           "bgcolor": "white",
           "lakecolor": "white",
           "landcolor": "#E5ECF6",
           "showlakes": true,
           "showland": true,
           "subunitcolor": "white"
          },
          "hoverlabel": {
           "align": "left"
          },
          "hovermode": "closest",
          "mapbox": {
           "style": "light"
          },
          "paper_bgcolor": "white",
          "plot_bgcolor": "#E5ECF6",
          "polar": {
           "angularaxis": {
            "gridcolor": "white",
            "linecolor": "white",
            "ticks": ""
           },
           "bgcolor": "#E5ECF6",
           "radialaxis": {
            "gridcolor": "white",
            "linecolor": "white",
            "ticks": ""
           }
          },
          "scene": {
           "xaxis": {
            "backgroundcolor": "#E5ECF6",
            "gridcolor": "white",
            "gridwidth": 2,
            "linecolor": "white",
            "showbackground": true,
            "ticks": "",
            "zerolinecolor": "white"
           },
           "yaxis": {
            "backgroundcolor": "#E5ECF6",
            "gridcolor": "white",
            "gridwidth": 2,
            "linecolor": "white",
            "showbackground": true,
            "ticks": "",
            "zerolinecolor": "white"
           },
           "zaxis": {
            "backgroundcolor": "#E5ECF6",
            "gridcolor": "white",
            "gridwidth": 2,
            "linecolor": "white",
            "showbackground": true,
            "ticks": "",
            "zerolinecolor": "white"
           }
          },
          "shapedefaults": {
           "line": {
            "color": "#2a3f5f"
           }
          },
          "ternary": {
           "aaxis": {
            "gridcolor": "white",
            "linecolor": "white",
            "ticks": ""
           },
           "baxis": {
            "gridcolor": "white",
            "linecolor": "white",
            "ticks": ""
           },
           "bgcolor": "#E5ECF6",
           "caxis": {
            "gridcolor": "white",
            "linecolor": "white",
            "ticks": ""
           }
          },
          "title": {
           "x": 0.05
          },
          "xaxis": {
           "automargin": true,
           "gridcolor": "white",
           "linecolor": "white",
           "ticks": "",
           "title": {
            "standoff": 15
           },
           "zerolinecolor": "white",
           "zerolinewidth": 2
          },
          "yaxis": {
           "automargin": true,
           "gridcolor": "white",
           "linecolor": "white",
           "ticks": "",
           "title": {
            "standoff": 15
           },
           "zerolinecolor": "white",
           "zerolinewidth": 2
          }
         }
        },
        "title": {
         "font": {
          "color": "#4D5663"
         }
        },
        "xaxis": {
         "gridcolor": "#E1E5ED",
         "showgrid": true,
         "tickfont": {
          "color": "#4D5663"
         },
         "title": {
          "font": {
           "color": "#4D5663"
          },
          "text": ""
         },
         "zerolinecolor": "#E1E5ED"
        },
        "xaxis2": {
         "anchor": "y2",
         "gridcolor": "#E1E5ED",
         "showgrid": true,
         "showticklabels": false,
         "tickfont": {
          "color": "#4D5663"
         },
         "title": {
          "font": {
           "color": "#4D5663"
          },
          "text": ""
         },
         "zerolinecolor": "#E1E5ED"
        },
        "yaxis": {
         "domain": [
          0.3,
          1
         ],
         "gridcolor": "#E1E5ED",
         "showgrid": true,
         "tickfont": {
          "color": "#4D5663"
         },
         "title": {
          "font": {
           "color": "#4D5663"
          },
          "text": ""
         },
         "zerolinecolor": "#E1E5ED"
        },
        "yaxis2": {
         "domain": [
          0,
          0.25
         ],
         "gridcolor": "#E1E5ED",
         "showgrid": true,
         "tickfont": {
          "color": "#4D5663"
         },
         "title": {
          "font": {
           "color": "#4D5663"
          },
          "text": "Spread"
         },
         "zerolinecolor": "#E1E5ED"
        }
       }
      },
      "text/html": [
       "<div>                            <div id=\"aa6c32a9-7d67-45c8-8c2f-8693c034bcd1\" class=\"plotly-graph-div\" style=\"height:525px; width:100%;\"></div>            <script type=\"text/javascript\">                require([\"plotly\"], function(Plotly) {                    window.PLOTLYENV=window.PLOTLYENV || {};\n",
       "                    window.PLOTLYENV.BASE_URL='https://plot.ly';                                    if (document.getElementById(\"aa6c32a9-7d67-45c8-8c2f-8693c034bcd1\")) {                    Plotly.newPlot(                        \"aa6c32a9-7d67-45c8-8c2f-8693c034bcd1\",                        [{\"line\": {\"color\": \"rgba(255, 153, 51, 1.0)\", \"dash\": \"solid\", \"shape\": \"linear\", \"width\": 1.3}, \"mode\": \"lines\", \"name\": \"A\", \"text\": \"\", \"type\": \"scatter\", \"x\": [0, 1, 2, 3, 4, 5, 6, 7, 8, 9, 10, 11, 12, 13, 14, 15, 16, 17, 18, 19, 20, 21, 22, 23, 24, 25, 26, 27, 28, 29, 30, 31, 32, 33, 34, 35, 36, 37, 38, 39, 40, 41, 42, 43, 44, 45, 46, 47, 48, 49, 50, 51, 52, 53, 54, 55, 56, 57, 58, 59, 60, 61, 62, 63, 64, 65, 66, 67, 68, 69, 70, 71, 72, 73, 74, 75, 76, 77, 78, 79, 80, 81, 82, 83, 84, 85, 86, 87, 88, 89, 90, 91, 92, 93, 94, 95, 96, 97, 98, 99], \"y\": [1.4917739319507988, -0.1576075136610856, -0.930328601981876, -0.6791097036693865, 1.246802046482842, -0.5806183447238982, 0.9551482952637191, -0.9561769134235306, 1.2144518407090386, 0.31959647065023283, -1.4423615094359339, 1.8507899242342944, 1.9847942969865817, 0.6095414371590581, -1.069062089292798, 0.6852538624950293, -0.8462177638395003, 0.22167000989186186, 0.8918580824529956, -0.1940932831989595, 0.33921698686267754, -0.06992664359765931, 0.690323282593047, 0.6506433463557831, 0.7564904122747336, -1.308249635588235, -0.22464215572953222, 0.09919358272849658, 1.1287581168730763, -0.36725877754636344, 0.09096065814427151, -0.8805373216943375, 0.890854427029569, 0.1155311465883702, 0.5143751348157323, -0.25414110899522613, 1.4833137143331045, 0.3675447075511886, -1.5077217377202732, -0.6373616669671688, 1.1456740193979287, 1.2559528674572056, -0.20392733626662685, -0.9462356231111191, -0.8254221598651107, -1.2902954284480845, -0.2716337111245958, -0.7928249861140338, -1.6755476798400208, -0.7978918224518056, 0.5996331045123291, -0.9994054715811946, -1.368953160022903, -0.6601821803669641, -0.6499980055955829, 0.9251787037144138, 1.256321305290484, 0.31557783645401594, -1.5844673041367536, 1.0781227686646015, -1.437693609400543, 0.13423954401837473, 0.36730879609807726, 1.5264830168099544, 0.3603263306995897, 0.1503890266979325, 0.20458422906768983, -0.00986072427559832, -0.3193800893160297, 0.34841930348296857, -0.3994290487453984, -0.9116400976688431, 0.9654902580213899, 0.24234907344618214, -0.05746287603372838, 0.7553078082518422, -1.1442230167325054, -0.8253389178601065, 0.5701321481460176, 0.235649958350743, -0.5342026398077849, 0.5691215410981469, 0.09507234876738771, -0.6708118348301298, -1.2797752333975452, -1.7700033326782072, 1.2145166297977998, -1.4710487864158104, 1.4269559058111128, -0.07240036633000582, 1.4080462471242083, 0.6675645409240432, -0.3302173155427578, -0.3580002598687018, -0.5747493064136403, -0.54233098908547, 1.122046746352447, 0.3792037783979195, 0.48350931449727996, -0.43136459685774653]}, {\"line\": {\"color\": \"rgba(55, 128, 191, 1.0)\", \"dash\": \"solid\", \"shape\": \"linear\", \"width\": 1.3}, \"mode\": \"lines\", \"name\": \"B\", \"text\": \"\", \"type\": \"scatter\", \"x\": [0, 1, 2, 3, 4, 5, 6, 7, 8, 9, 10, 11, 12, 13, 14, 15, 16, 17, 18, 19, 20, 21, 22, 23, 24, 25, 26, 27, 28, 29, 30, 31, 32, 33, 34, 35, 36, 37, 38, 39, 40, 41, 42, 43, 44, 45, 46, 47, 48, 49, 50, 51, 52, 53, 54, 55, 56, 57, 58, 59, 60, 61, 62, 63, 64, 65, 66, 67, 68, 69, 70, 71, 72, 73, 74, 75, 76, 77, 78, 79, 80, 81, 82, 83, 84, 85, 86, 87, 88, 89, 90, 91, 92, 93, 94, 95, 96, 97, 98, 99], \"y\": [0.45759144337485264, -1.852696670942872, 0.6037624201043539, 1.6807726295254402, -0.6134495049356505, -0.13990727158452076, 0.03124279714296553, -0.4648977013897088, 0.9553997045315877, 0.7283752107040995, 0.17117093428101382, -1.7315612380768213, 0.35740744238423494, 0.26415998052564404, -0.17537080293451385, -0.5363941017251691, 0.6963737981846626, 0.10703348403579191, -1.1668063308621461, -0.381555081513734, -1.04720724283616, 0.5062179294106165, -0.08116042070484192, 0.824481990419685, -0.923959125424289, -0.6621806634287214, 0.8138973060617386, -1.8423340149587246, -0.21565202574466438, -0.8591970758956009, 2.9304064240575, 1.1870166863514848, 0.8388833896271535, -1.0656547569717636, 0.1785522001686026, -1.518369903201751, 0.7712510283723744, -0.21280479152112208, 0.3271004909808801, -0.9022411093453506, -1.090695941306311, -2.563138973546278, -0.7545987537079845, -1.2526450127513369, -1.6847406671440779, -0.1036023582144774, -0.6358467247015547, -1.4727766663202202, -0.590644757453359, -0.8960077341834933, -2.798152401039477, 0.15038107633998923, 0.45031898614896504, 0.011425712330130547, 1.025351993965511, 1.226572998471299, -1.5520205754109617, 0.21871894895512994, 0.6986764947443769, -0.44767507487085106, 0.6600422460523616, 1.1821509492312061, -2.2418468856707894, -0.4419842782451757, 0.06236833309591093, 0.7427087694186271, -0.20564405623449886, -0.9245755611975662, 0.9661074576054179, -0.6525451889087391, -0.3230946170781425, 0.5530579658372701, -2.402241575581015, -1.044064236634867, -0.3731496027692522, -0.7422611643632118, 0.3532662889262816, 0.8371267137108779, -0.7760427206692124, -1.5678289690505915, -1.2153876341294814, 0.32655867839731484, 0.4193562728649102, -1.4041639217486626, -1.5104150994841226, -0.00898105066874273, -0.22317194711681937, -2.1355721103257186, 0.46383975546221357, 0.14180092612446324, -1.7439669577936254, 0.8805075120387779, -0.19911597621842822, -0.09066691794570107, -1.9175075905413421, 1.578934679646553, -0.6444181228984757, -0.23588114328227852, -1.418161178595617, -0.8462454912953437]}, {\"connectgaps\": false, \"fill\": \"tozeroy\", \"line\": {\"color\": \"green\", \"dash\": \"solid\", \"shape\": \"linear\", \"width\": 0.5}, \"mode\": \"lines\", \"name\": \"Spread\", \"showlegend\": false, \"type\": \"scatter\", \"x\": [0, 1, 2, 3, 4, 5, 6, 7, 8, 9, 10, 11, 12, 13, 14, 15, 16, 17, 18, 19, 20, 21, 22, 23, 24, 25, 26, 27, 28, 29, 30, 31, 32, 33, 34, 35, 36, 37, 38, 39, 40, 41, 42, 43, 44, 45, 46, 47, 48, 49, 50, 51, 52, 53, 54, 55, 56, 57, 58, 59, 60, 61, 62, 63, 64, 65, 66, 67, 68, 69, 70, 71, 72, 73, 74, 75, 76, 77, 78, 79, 80, 81, 82, 83, 84, 85, 86, 87, 88, 89, 90, 91, 92, 93, 94, 95, 96, 97, 98, 99], \"xaxis\": \"x2\", \"y\": [1.034182488575946, 1.6950891572817866, \"\", \"\", 1.8602515514184925, \"\", 0.9239054981207536, \"\", 0.2590521361774508, \"\", \"\", 3.5823511623111157, 1.6273868546023467, 0.345381456633414, \"\", 1.2216479642201983, \"\", 0.11463652585606995, 2.0586644133151415, 0.18746179831477452, 1.3864242296988376, \"\", 0.771483703297889, \"\", 1.6804495376990225, \"\", \"\", 1.9415275976872213, 1.3444101426177406, 0.49193829834923747, \"\", \"\", 0.05197103740241549, 1.1811859035601338, 0.33582293464712965, 1.264228794206525, 0.7120626859607302, 0.5803494990723107, \"\", 0.26487944237818184, 2.2363699607042395, 3.819091841003484, 0.5506714174413576, 0.3064093896402178, 0.8593185072789672, \"\", 0.3642130135769589, 0.6799516802061863, \"\", 0.09811591173168777, 3.3977855055518065, \"\", \"\", \"\", \"\", \"\", 2.8083418807014455, 0.09685888749888599, \"\", 1.5257978435354527, \"\", \"\", 2.6091556817688666, 1.96846729505513, 0.29795799760367875, \"\", 0.4102282853021887, 0.9147148369219679, \"\", 1.0009644923917076, \"\", \"\", 3.367731833602405, 1.286413310081049, 0.3156867267355238, 1.497568972615054, \"\", \"\", 1.34617486881523, 1.8034789274013345, 0.6811849943216964, 0.2425628627008321, \"\", 0.7333520869185327, 0.23063986608657738, \"\", 1.4376885769146193, 0.6645233239099082, 0.9631161503488992, \"\", 3.152013204917834, \"\", \"\", \"\", 1.3427582841277017, \"\", 1.7664648692509228, 0.615084921680198, 1.901670493092897, 0.4148808944375971], \"yaxis\": \"y2\"}, {\"connectgaps\": false, \"fill\": \"tozeroy\", \"line\": {\"color\": \"red\", \"dash\": \"solid\", \"shape\": \"linear\", \"width\": 0.5}, \"mode\": \"lines\", \"name\": \"Spread\", \"showlegend\": false, \"type\": \"scatter\", \"x\": [0, 1, 2, 3, 4, 5, 6, 7, 8, 9, 10, 11, 12, 13, 14, 15, 16, 17, 18, 19, 20, 21, 22, 23, 24, 25, 26, 27, 28, 29, 30, 31, 32, 33, 34, 35, 36, 37, 38, 39, 40, 41, 42, 43, 44, 45, 46, 47, 48, 49, 50, 51, 52, 53, 54, 55, 56, 57, 58, 59, 60, 61, 62, 63, 64, 65, 66, 67, 68, 69, 70, 71, 72, 73, 74, 75, 76, 77, 78, 79, 80, 81, 82, 83, 84, 85, 86, 87, 88, 89, 90, 91, 92, 93, 94, 95, 96, 97, 98, 99], \"xaxis\": \"x2\", \"y\": [\"\", \"\", -1.5340910220862298, -2.3598823331948267, \"\", -0.4407110731393774, \"\", -0.4912792120338218, \"\", -0.40877874005386666, -1.6135324437169478, \"\", \"\", \"\", -0.8936912863582842, \"\", -1.542591562024163, \"\", \"\", \"\", \"\", -0.5761445730082758, \"\", -0.17383864406390181, \"\", -0.6460689721595135, -1.0385394617912709, \"\", \"\", \"\", -2.8394457659132284, -2.067554008045822, \"\", \"\", \"\", \"\", \"\", \"\", -1.8348222287011533, \"\", \"\", \"\", \"\", \"\", \"\", -1.1866930702336072, \"\", \"\", -1.0849029223866617, \"\", \"\", -1.149786547921184, -1.8192721461718682, -0.6716078926970946, -1.6753499995610937, -0.3013942947568852, \"\", \"\", -2.2831437988811305, \"\", -2.0977358554529046, -1.0479114052128313, \"\", \"\", \"\", -0.5923197427206945, \"\", \"\", -1.2854875469214475, \"\", -0.0763344316672559, -1.464698063506113, \"\", \"\", \"\", \"\", -1.497489305658787, -1.6624656315709845, \"\", \"\", \"\", \"\", -0.3242839240975225, \"\", \"\", -1.7610222820094645, \"\", \"\", \"\", -0.21420129245446906, \"\", -0.2129429711147347, -0.13110133932432957, -0.26733334192300073, \"\", -2.121265668732023, \"\", \"\", \"\", \"\"], \"yaxis\": \"y2\"}],                        {\"hovermode\": \"x\", \"legend\": {\"bgcolor\": \"#F5F6F9\", \"font\": {\"color\": \"#4D5663\"}}, \"paper_bgcolor\": \"#F5F6F9\", \"plot_bgcolor\": \"#F5F6F9\", \"template\": {\"data\": {\"bar\": [{\"error_x\": {\"color\": \"#2a3f5f\"}, \"error_y\": {\"color\": \"#2a3f5f\"}, \"marker\": {\"line\": {\"color\": \"#E5ECF6\", \"width\": 0.5}}, \"type\": \"bar\"}], \"barpolar\": [{\"marker\": {\"line\": {\"color\": \"#E5ECF6\", \"width\": 0.5}}, \"type\": \"barpolar\"}], \"carpet\": [{\"aaxis\": {\"endlinecolor\": \"#2a3f5f\", \"gridcolor\": \"white\", \"linecolor\": \"white\", \"minorgridcolor\": \"white\", \"startlinecolor\": \"#2a3f5f\"}, \"baxis\": {\"endlinecolor\": \"#2a3f5f\", \"gridcolor\": \"white\", \"linecolor\": \"white\", \"minorgridcolor\": \"white\", \"startlinecolor\": \"#2a3f5f\"}, \"type\": \"carpet\"}], \"choropleth\": [{\"colorbar\": {\"outlinewidth\": 0, \"ticks\": \"\"}, \"type\": \"choropleth\"}], \"contour\": [{\"colorbar\": {\"outlinewidth\": 0, \"ticks\": \"\"}, \"colorscale\": [[0.0, \"#0d0887\"], [0.1111111111111111, \"#46039f\"], [0.2222222222222222, \"#7201a8\"], [0.3333333333333333, \"#9c179e\"], [0.4444444444444444, \"#bd3786\"], [0.5555555555555556, \"#d8576b\"], [0.6666666666666666, \"#ed7953\"], [0.7777777777777778, \"#fb9f3a\"], [0.8888888888888888, \"#fdca26\"], [1.0, \"#f0f921\"]], \"type\": \"contour\"}], \"contourcarpet\": [{\"colorbar\": {\"outlinewidth\": 0, \"ticks\": \"\"}, \"type\": \"contourcarpet\"}], \"heatmap\": [{\"colorbar\": {\"outlinewidth\": 0, \"ticks\": \"\"}, \"colorscale\": [[0.0, \"#0d0887\"], [0.1111111111111111, \"#46039f\"], [0.2222222222222222, \"#7201a8\"], [0.3333333333333333, \"#9c179e\"], [0.4444444444444444, \"#bd3786\"], [0.5555555555555556, \"#d8576b\"], [0.6666666666666666, \"#ed7953\"], [0.7777777777777778, \"#fb9f3a\"], [0.8888888888888888, \"#fdca26\"], [1.0, \"#f0f921\"]], \"type\": \"heatmap\"}], \"heatmapgl\": [{\"colorbar\": {\"outlinewidth\": 0, \"ticks\": \"\"}, \"colorscale\": [[0.0, \"#0d0887\"], [0.1111111111111111, \"#46039f\"], [0.2222222222222222, \"#7201a8\"], [0.3333333333333333, \"#9c179e\"], [0.4444444444444444, \"#bd3786\"], [0.5555555555555556, \"#d8576b\"], [0.6666666666666666, \"#ed7953\"], [0.7777777777777778, \"#fb9f3a\"], [0.8888888888888888, \"#fdca26\"], [1.0, \"#f0f921\"]], \"type\": \"heatmapgl\"}], \"histogram\": [{\"marker\": {\"colorbar\": {\"outlinewidth\": 0, \"ticks\": \"\"}}, \"type\": \"histogram\"}], \"histogram2d\": [{\"colorbar\": {\"outlinewidth\": 0, \"ticks\": \"\"}, \"colorscale\": [[0.0, \"#0d0887\"], [0.1111111111111111, \"#46039f\"], [0.2222222222222222, \"#7201a8\"], [0.3333333333333333, \"#9c179e\"], [0.4444444444444444, \"#bd3786\"], [0.5555555555555556, \"#d8576b\"], [0.6666666666666666, \"#ed7953\"], [0.7777777777777778, \"#fb9f3a\"], [0.8888888888888888, \"#fdca26\"], [1.0, \"#f0f921\"]], \"type\": \"histogram2d\"}], \"histogram2dcontour\": [{\"colorbar\": {\"outlinewidth\": 0, \"ticks\": \"\"}, \"colorscale\": [[0.0, \"#0d0887\"], [0.1111111111111111, \"#46039f\"], [0.2222222222222222, \"#7201a8\"], [0.3333333333333333, \"#9c179e\"], [0.4444444444444444, \"#bd3786\"], [0.5555555555555556, \"#d8576b\"], [0.6666666666666666, \"#ed7953\"], [0.7777777777777778, \"#fb9f3a\"], [0.8888888888888888, \"#fdca26\"], [1.0, \"#f0f921\"]], \"type\": \"histogram2dcontour\"}], \"mesh3d\": [{\"colorbar\": {\"outlinewidth\": 0, \"ticks\": \"\"}, \"type\": \"mesh3d\"}], \"parcoords\": [{\"line\": {\"colorbar\": {\"outlinewidth\": 0, \"ticks\": \"\"}}, \"type\": \"parcoords\"}], \"pie\": [{\"automargin\": true, \"type\": \"pie\"}], \"scatter\": [{\"marker\": {\"colorbar\": {\"outlinewidth\": 0, \"ticks\": \"\"}}, \"type\": \"scatter\"}], \"scatter3d\": [{\"line\": {\"colorbar\": {\"outlinewidth\": 0, \"ticks\": \"\"}}, \"marker\": {\"colorbar\": {\"outlinewidth\": 0, \"ticks\": \"\"}}, \"type\": \"scatter3d\"}], \"scattercarpet\": [{\"marker\": {\"colorbar\": {\"outlinewidth\": 0, \"ticks\": \"\"}}, \"type\": \"scattercarpet\"}], \"scattergeo\": [{\"marker\": {\"colorbar\": {\"outlinewidth\": 0, \"ticks\": \"\"}}, \"type\": \"scattergeo\"}], \"scattergl\": [{\"marker\": {\"colorbar\": {\"outlinewidth\": 0, \"ticks\": \"\"}}, \"type\": \"scattergl\"}], \"scattermapbox\": [{\"marker\": {\"colorbar\": {\"outlinewidth\": 0, \"ticks\": \"\"}}, \"type\": \"scattermapbox\"}], \"scatterpolar\": [{\"marker\": {\"colorbar\": {\"outlinewidth\": 0, \"ticks\": \"\"}}, \"type\": \"scatterpolar\"}], \"scatterpolargl\": [{\"marker\": {\"colorbar\": {\"outlinewidth\": 0, \"ticks\": \"\"}}, \"type\": \"scatterpolargl\"}], \"scatterternary\": [{\"marker\": {\"colorbar\": {\"outlinewidth\": 0, \"ticks\": \"\"}}, \"type\": \"scatterternary\"}], \"surface\": [{\"colorbar\": {\"outlinewidth\": 0, \"ticks\": \"\"}, \"colorscale\": [[0.0, \"#0d0887\"], [0.1111111111111111, \"#46039f\"], [0.2222222222222222, \"#7201a8\"], [0.3333333333333333, \"#9c179e\"], [0.4444444444444444, \"#bd3786\"], [0.5555555555555556, \"#d8576b\"], [0.6666666666666666, \"#ed7953\"], [0.7777777777777778, \"#fb9f3a\"], [0.8888888888888888, \"#fdca26\"], [1.0, \"#f0f921\"]], \"type\": \"surface\"}], \"table\": [{\"cells\": {\"fill\": {\"color\": \"#EBF0F8\"}, \"line\": {\"color\": \"white\"}}, \"header\": {\"fill\": {\"color\": \"#C8D4E3\"}, \"line\": {\"color\": \"white\"}}, \"type\": \"table\"}]}, \"layout\": {\"annotationdefaults\": {\"arrowcolor\": \"#2a3f5f\", \"arrowhead\": 0, \"arrowwidth\": 1}, \"autotypenumbers\": \"strict\", \"coloraxis\": {\"colorbar\": {\"outlinewidth\": 0, \"ticks\": \"\"}}, \"colorscale\": {\"diverging\": [[0, \"#8e0152\"], [0.1, \"#c51b7d\"], [0.2, \"#de77ae\"], [0.3, \"#f1b6da\"], [0.4, \"#fde0ef\"], [0.5, \"#f7f7f7\"], [0.6, \"#e6f5d0\"], [0.7, \"#b8e186\"], [0.8, \"#7fbc41\"], [0.9, \"#4d9221\"], [1, \"#276419\"]], \"sequential\": [[0.0, \"#0d0887\"], [0.1111111111111111, \"#46039f\"], [0.2222222222222222, \"#7201a8\"], [0.3333333333333333, \"#9c179e\"], [0.4444444444444444, \"#bd3786\"], [0.5555555555555556, \"#d8576b\"], [0.6666666666666666, \"#ed7953\"], [0.7777777777777778, \"#fb9f3a\"], [0.8888888888888888, \"#fdca26\"], [1.0, \"#f0f921\"]], \"sequentialminus\": [[0.0, \"#0d0887\"], [0.1111111111111111, \"#46039f\"], [0.2222222222222222, \"#7201a8\"], [0.3333333333333333, \"#9c179e\"], [0.4444444444444444, \"#bd3786\"], [0.5555555555555556, \"#d8576b\"], [0.6666666666666666, \"#ed7953\"], [0.7777777777777778, \"#fb9f3a\"], [0.8888888888888888, \"#fdca26\"], [1.0, \"#f0f921\"]]}, \"colorway\": [\"#636efa\", \"#EF553B\", \"#00cc96\", \"#ab63fa\", \"#FFA15A\", \"#19d3f3\", \"#FF6692\", \"#B6E880\", \"#FF97FF\", \"#FECB52\"], \"font\": {\"color\": \"#2a3f5f\"}, \"geo\": {\"bgcolor\": \"white\", \"lakecolor\": \"white\", \"landcolor\": \"#E5ECF6\", \"showlakes\": true, \"showland\": true, \"subunitcolor\": \"white\"}, \"hoverlabel\": {\"align\": \"left\"}, \"hovermode\": \"closest\", \"mapbox\": {\"style\": \"light\"}, \"paper_bgcolor\": \"white\", \"plot_bgcolor\": \"#E5ECF6\", \"polar\": {\"angularaxis\": {\"gridcolor\": \"white\", \"linecolor\": \"white\", \"ticks\": \"\"}, \"bgcolor\": \"#E5ECF6\", \"radialaxis\": {\"gridcolor\": \"white\", \"linecolor\": \"white\", \"ticks\": \"\"}}, \"scene\": {\"xaxis\": {\"backgroundcolor\": \"#E5ECF6\", \"gridcolor\": \"white\", \"gridwidth\": 2, \"linecolor\": \"white\", \"showbackground\": true, \"ticks\": \"\", \"zerolinecolor\": \"white\"}, \"yaxis\": {\"backgroundcolor\": \"#E5ECF6\", \"gridcolor\": \"white\", \"gridwidth\": 2, \"linecolor\": \"white\", \"showbackground\": true, \"ticks\": \"\", \"zerolinecolor\": \"white\"}, \"zaxis\": {\"backgroundcolor\": \"#E5ECF6\", \"gridcolor\": \"white\", \"gridwidth\": 2, \"linecolor\": \"white\", \"showbackground\": true, \"ticks\": \"\", \"zerolinecolor\": \"white\"}}, \"shapedefaults\": {\"line\": {\"color\": \"#2a3f5f\"}}, \"ternary\": {\"aaxis\": {\"gridcolor\": \"white\", \"linecolor\": \"white\", \"ticks\": \"\"}, \"baxis\": {\"gridcolor\": \"white\", \"linecolor\": \"white\", \"ticks\": \"\"}, \"bgcolor\": \"#E5ECF6\", \"caxis\": {\"gridcolor\": \"white\", \"linecolor\": \"white\", \"ticks\": \"\"}}, \"title\": {\"x\": 0.05}, \"xaxis\": {\"automargin\": true, \"gridcolor\": \"white\", \"linecolor\": \"white\", \"ticks\": \"\", \"title\": {\"standoff\": 15}, \"zerolinecolor\": \"white\", \"zerolinewidth\": 2}, \"yaxis\": {\"automargin\": true, \"gridcolor\": \"white\", \"linecolor\": \"white\", \"ticks\": \"\", \"title\": {\"standoff\": 15}, \"zerolinecolor\": \"white\", \"zerolinewidth\": 2}}}, \"title\": {\"font\": {\"color\": \"#4D5663\"}}, \"xaxis\": {\"gridcolor\": \"#E1E5ED\", \"showgrid\": true, \"tickfont\": {\"color\": \"#4D5663\"}, \"title\": {\"font\": {\"color\": \"#4D5663\"}, \"text\": \"\"}, \"zerolinecolor\": \"#E1E5ED\"}, \"xaxis2\": {\"anchor\": \"y2\", \"gridcolor\": \"#E1E5ED\", \"showgrid\": true, \"showticklabels\": false, \"tickfont\": {\"color\": \"#4D5663\"}, \"title\": {\"font\": {\"color\": \"#4D5663\"}, \"text\": \"\"}, \"zerolinecolor\": \"#E1E5ED\"}, \"yaxis\": {\"domain\": [0.3, 1], \"gridcolor\": \"#E1E5ED\", \"showgrid\": true, \"tickfont\": {\"color\": \"#4D5663\"}, \"title\": {\"font\": {\"color\": \"#4D5663\"}, \"text\": \"\"}, \"zerolinecolor\": \"#E1E5ED\"}, \"yaxis2\": {\"domain\": [0, 0.25], \"gridcolor\": \"#E1E5ED\", \"showgrid\": true, \"tickfont\": {\"color\": \"#4D5663\"}, \"title\": {\"font\": {\"color\": \"#4D5663\"}, \"text\": \"Spread\"}, \"zerolinecolor\": \"#E1E5ED\"}},                        {\"showLink\": true, \"linkText\": \"Export to plot.ly\", \"plotlyServerURL\": \"https://plot.ly\", \"responsive\": true}                    ).then(function(){\n",
       "                            \n",
       "var gd = document.getElementById('aa6c32a9-7d67-45c8-8c2f-8693c034bcd1');\n",
       "var x = new MutationObserver(function (mutations, observer) {{\n",
       "        var display = window.getComputedStyle(gd).display;\n",
       "        if (!display || display === 'none') {{\n",
       "            console.log([gd, 'removed!']);\n",
       "            Plotly.purge(gd);\n",
       "            observer.disconnect();\n",
       "        }}\n",
       "}});\n",
       "\n",
       "// Listen for the removal of the full notebook cells\n",
       "var notebookContainer = gd.closest('#notebook-container');\n",
       "if (notebookContainer) {{\n",
       "    x.observe(notebookContainer, {childList: true});\n",
       "}}\n",
       "\n",
       "// Listen for the clearing of the current output cell\n",
       "var outputEl = gd.closest('.output');\n",
       "if (outputEl) {{\n",
       "    x.observe(outputEl, {childList: true});\n",
       "}}\n",
       "\n",
       "                        })                };                });            </script>        </div>"
      ]
     },
     "metadata": {},
     "output_type": "display_data"
    }
   ],
   "source": [
    "df[['A','B']].iplot(kind='spread')"
   ]
  },
  {
   "cell_type": "markdown",
   "metadata": {},
   "source": [
    "## histogram"
   ]
  },
  {
   "cell_type": "code",
   "execution_count": 24,
   "metadata": {},
   "outputs": [
    {
     "data": {
      "application/vnd.plotly.v1+json": {
       "config": {
        "linkText": "Export to plot.ly",
        "plotlyServerURL": "https://plot.ly",
        "showLink": true
       },
       "data": [
        {
         "histfunc": "count",
         "histnorm": "",
         "marker": {
          "color": "rgba(255, 153, 51, 1.0)",
          "line": {
           "color": "#4D5663",
           "width": 1.3
          }
         },
         "name": "A",
         "nbinsx": 25,
         "opacity": 0.8,
         "orientation": "v",
         "type": "histogram",
         "x": [
          1.4917739319507988,
          -0.1576075136610856,
          -0.930328601981876,
          -0.6791097036693865,
          1.246802046482842,
          -0.5806183447238982,
          0.9551482952637191,
          -0.9561769134235306,
          1.2144518407090386,
          0.31959647065023283,
          -1.4423615094359339,
          1.8507899242342944,
          1.9847942969865817,
          0.6095414371590581,
          -1.069062089292798,
          0.6852538624950293,
          -0.8462177638395003,
          0.22167000989186186,
          0.8918580824529956,
          -0.1940932831989595,
          0.33921698686267754,
          -0.06992664359765931,
          0.690323282593047,
          0.6506433463557831,
          0.7564904122747336,
          -1.308249635588235,
          -0.22464215572953222,
          0.09919358272849658,
          1.1287581168730763,
          -0.36725877754636344,
          0.09096065814427151,
          -0.8805373216943375,
          0.890854427029569,
          0.1155311465883702,
          0.5143751348157323,
          -0.25414110899522613,
          1.4833137143331045,
          0.3675447075511886,
          -1.5077217377202732,
          -0.6373616669671688,
          1.1456740193979287,
          1.2559528674572056,
          -0.20392733626662685,
          -0.9462356231111191,
          -0.8254221598651107,
          -1.2902954284480845,
          -0.2716337111245958,
          -0.7928249861140338,
          -1.6755476798400208,
          -0.7978918224518056,
          0.5996331045123291,
          -0.9994054715811946,
          -1.368953160022903,
          -0.6601821803669641,
          -0.6499980055955829,
          0.9251787037144138,
          1.256321305290484,
          0.31557783645401594,
          -1.5844673041367536,
          1.0781227686646015,
          -1.437693609400543,
          0.13423954401837473,
          0.36730879609807726,
          1.5264830168099544,
          0.3603263306995897,
          0.1503890266979325,
          0.20458422906768983,
          -0.00986072427559832,
          -0.3193800893160297,
          0.34841930348296857,
          -0.3994290487453984,
          -0.9116400976688431,
          0.9654902580213899,
          0.24234907344618214,
          -0.05746287603372838,
          0.7553078082518422,
          -1.1442230167325054,
          -0.8253389178601065,
          0.5701321481460176,
          0.235649958350743,
          -0.5342026398077849,
          0.5691215410981469,
          0.09507234876738771,
          -0.6708118348301298,
          -1.2797752333975452,
          -1.7700033326782072,
          1.2145166297977998,
          -1.4710487864158104,
          1.4269559058111128,
          -0.07240036633000582,
          1.4080462471242083,
          0.6675645409240432,
          -0.3302173155427578,
          -0.3580002598687018,
          -0.5747493064136403,
          -0.54233098908547,
          1.122046746352447,
          0.3792037783979195,
          0.48350931449727996,
          -0.43136459685774653
         ]
        }
       ],
       "layout": {
        "barmode": "overlay",
        "legend": {
         "bgcolor": "#F5F6F9",
         "font": {
          "color": "#4D5663"
         }
        },
        "paper_bgcolor": "#F5F6F9",
        "plot_bgcolor": "#F5F6F9",
        "template": {
         "data": {
          "bar": [
           {
            "error_x": {
             "color": "#2a3f5f"
            },
            "error_y": {
             "color": "#2a3f5f"
            },
            "marker": {
             "line": {
              "color": "#E5ECF6",
              "width": 0.5
             }
            },
            "type": "bar"
           }
          ],
          "barpolar": [
           {
            "marker": {
             "line": {
              "color": "#E5ECF6",
              "width": 0.5
             }
            },
            "type": "barpolar"
           }
          ],
          "carpet": [
           {
            "aaxis": {
             "endlinecolor": "#2a3f5f",
             "gridcolor": "white",
             "linecolor": "white",
             "minorgridcolor": "white",
             "startlinecolor": "#2a3f5f"
            },
            "baxis": {
             "endlinecolor": "#2a3f5f",
             "gridcolor": "white",
             "linecolor": "white",
             "minorgridcolor": "white",
             "startlinecolor": "#2a3f5f"
            },
            "type": "carpet"
           }
          ],
          "choropleth": [
           {
            "colorbar": {
             "outlinewidth": 0,
             "ticks": ""
            },
            "type": "choropleth"
           }
          ],
          "contour": [
           {
            "colorbar": {
             "outlinewidth": 0,
             "ticks": ""
            },
            "colorscale": [
             [
              0,
              "#0d0887"
             ],
             [
              0.1111111111111111,
              "#46039f"
             ],
             [
              0.2222222222222222,
              "#7201a8"
             ],
             [
              0.3333333333333333,
              "#9c179e"
             ],
             [
              0.4444444444444444,
              "#bd3786"
             ],
             [
              0.5555555555555556,
              "#d8576b"
             ],
             [
              0.6666666666666666,
              "#ed7953"
             ],
             [
              0.7777777777777778,
              "#fb9f3a"
             ],
             [
              0.8888888888888888,
              "#fdca26"
             ],
             [
              1,
              "#f0f921"
             ]
            ],
            "type": "contour"
           }
          ],
          "contourcarpet": [
           {
            "colorbar": {
             "outlinewidth": 0,
             "ticks": ""
            },
            "type": "contourcarpet"
           }
          ],
          "heatmap": [
           {
            "colorbar": {
             "outlinewidth": 0,
             "ticks": ""
            },
            "colorscale": [
             [
              0,
              "#0d0887"
             ],
             [
              0.1111111111111111,
              "#46039f"
             ],
             [
              0.2222222222222222,
              "#7201a8"
             ],
             [
              0.3333333333333333,
              "#9c179e"
             ],
             [
              0.4444444444444444,
              "#bd3786"
             ],
             [
              0.5555555555555556,
              "#d8576b"
             ],
             [
              0.6666666666666666,
              "#ed7953"
             ],
             [
              0.7777777777777778,
              "#fb9f3a"
             ],
             [
              0.8888888888888888,
              "#fdca26"
             ],
             [
              1,
              "#f0f921"
             ]
            ],
            "type": "heatmap"
           }
          ],
          "heatmapgl": [
           {
            "colorbar": {
             "outlinewidth": 0,
             "ticks": ""
            },
            "colorscale": [
             [
              0,
              "#0d0887"
             ],
             [
              0.1111111111111111,
              "#46039f"
             ],
             [
              0.2222222222222222,
              "#7201a8"
             ],
             [
              0.3333333333333333,
              "#9c179e"
             ],
             [
              0.4444444444444444,
              "#bd3786"
             ],
             [
              0.5555555555555556,
              "#d8576b"
             ],
             [
              0.6666666666666666,
              "#ed7953"
             ],
             [
              0.7777777777777778,
              "#fb9f3a"
             ],
             [
              0.8888888888888888,
              "#fdca26"
             ],
             [
              1,
              "#f0f921"
             ]
            ],
            "type": "heatmapgl"
           }
          ],
          "histogram": [
           {
            "marker": {
             "colorbar": {
              "outlinewidth": 0,
              "ticks": ""
             }
            },
            "type": "histogram"
           }
          ],
          "histogram2d": [
           {
            "colorbar": {
             "outlinewidth": 0,
             "ticks": ""
            },
            "colorscale": [
             [
              0,
              "#0d0887"
             ],
             [
              0.1111111111111111,
              "#46039f"
             ],
             [
              0.2222222222222222,
              "#7201a8"
             ],
             [
              0.3333333333333333,
              "#9c179e"
             ],
             [
              0.4444444444444444,
              "#bd3786"
             ],
             [
              0.5555555555555556,
              "#d8576b"
             ],
             [
              0.6666666666666666,
              "#ed7953"
             ],
             [
              0.7777777777777778,
              "#fb9f3a"
             ],
             [
              0.8888888888888888,
              "#fdca26"
             ],
             [
              1,
              "#f0f921"
             ]
            ],
            "type": "histogram2d"
           }
          ],
          "histogram2dcontour": [
           {
            "colorbar": {
             "outlinewidth": 0,
             "ticks": ""
            },
            "colorscale": [
             [
              0,
              "#0d0887"
             ],
             [
              0.1111111111111111,
              "#46039f"
             ],
             [
              0.2222222222222222,
              "#7201a8"
             ],
             [
              0.3333333333333333,
              "#9c179e"
             ],
             [
              0.4444444444444444,
              "#bd3786"
             ],
             [
              0.5555555555555556,
              "#d8576b"
             ],
             [
              0.6666666666666666,
              "#ed7953"
             ],
             [
              0.7777777777777778,
              "#fb9f3a"
             ],
             [
              0.8888888888888888,
              "#fdca26"
             ],
             [
              1,
              "#f0f921"
             ]
            ],
            "type": "histogram2dcontour"
           }
          ],
          "mesh3d": [
           {
            "colorbar": {
             "outlinewidth": 0,
             "ticks": ""
            },
            "type": "mesh3d"
           }
          ],
          "parcoords": [
           {
            "line": {
             "colorbar": {
              "outlinewidth": 0,
              "ticks": ""
             }
            },
            "type": "parcoords"
           }
          ],
          "pie": [
           {
            "automargin": true,
            "type": "pie"
           }
          ],
          "scatter": [
           {
            "marker": {
             "colorbar": {
              "outlinewidth": 0,
              "ticks": ""
             }
            },
            "type": "scatter"
           }
          ],
          "scatter3d": [
           {
            "line": {
             "colorbar": {
              "outlinewidth": 0,
              "ticks": ""
             }
            },
            "marker": {
             "colorbar": {
              "outlinewidth": 0,
              "ticks": ""
             }
            },
            "type": "scatter3d"
           }
          ],
          "scattercarpet": [
           {
            "marker": {
             "colorbar": {
              "outlinewidth": 0,
              "ticks": ""
             }
            },
            "type": "scattercarpet"
           }
          ],
          "scattergeo": [
           {
            "marker": {
             "colorbar": {
              "outlinewidth": 0,
              "ticks": ""
             }
            },
            "type": "scattergeo"
           }
          ],
          "scattergl": [
           {
            "marker": {
             "colorbar": {
              "outlinewidth": 0,
              "ticks": ""
             }
            },
            "type": "scattergl"
           }
          ],
          "scattermapbox": [
           {
            "marker": {
             "colorbar": {
              "outlinewidth": 0,
              "ticks": ""
             }
            },
            "type": "scattermapbox"
           }
          ],
          "scatterpolar": [
           {
            "marker": {
             "colorbar": {
              "outlinewidth": 0,
              "ticks": ""
             }
            },
            "type": "scatterpolar"
           }
          ],
          "scatterpolargl": [
           {
            "marker": {
             "colorbar": {
              "outlinewidth": 0,
              "ticks": ""
             }
            },
            "type": "scatterpolargl"
           }
          ],
          "scatterternary": [
           {
            "marker": {
             "colorbar": {
              "outlinewidth": 0,
              "ticks": ""
             }
            },
            "type": "scatterternary"
           }
          ],
          "surface": [
           {
            "colorbar": {
             "outlinewidth": 0,
             "ticks": ""
            },
            "colorscale": [
             [
              0,
              "#0d0887"
             ],
             [
              0.1111111111111111,
              "#46039f"
             ],
             [
              0.2222222222222222,
              "#7201a8"
             ],
             [
              0.3333333333333333,
              "#9c179e"
             ],
             [
              0.4444444444444444,
              "#bd3786"
             ],
             [
              0.5555555555555556,
              "#d8576b"
             ],
             [
              0.6666666666666666,
              "#ed7953"
             ],
             [
              0.7777777777777778,
              "#fb9f3a"
             ],
             [
              0.8888888888888888,
              "#fdca26"
             ],
             [
              1,
              "#f0f921"
             ]
            ],
            "type": "surface"
           }
          ],
          "table": [
           {
            "cells": {
             "fill": {
              "color": "#EBF0F8"
             },
             "line": {
              "color": "white"
             }
            },
            "header": {
             "fill": {
              "color": "#C8D4E3"
             },
             "line": {
              "color": "white"
             }
            },
            "type": "table"
           }
          ]
         },
         "layout": {
          "annotationdefaults": {
           "arrowcolor": "#2a3f5f",
           "arrowhead": 0,
           "arrowwidth": 1
          },
          "autotypenumbers": "strict",
          "coloraxis": {
           "colorbar": {
            "outlinewidth": 0,
            "ticks": ""
           }
          },
          "colorscale": {
           "diverging": [
            [
             0,
             "#8e0152"
            ],
            [
             0.1,
             "#c51b7d"
            ],
            [
             0.2,
             "#de77ae"
            ],
            [
             0.3,
             "#f1b6da"
            ],
            [
             0.4,
             "#fde0ef"
            ],
            [
             0.5,
             "#f7f7f7"
            ],
            [
             0.6,
             "#e6f5d0"
            ],
            [
             0.7,
             "#b8e186"
            ],
            [
             0.8,
             "#7fbc41"
            ],
            [
             0.9,
             "#4d9221"
            ],
            [
             1,
             "#276419"
            ]
           ],
           "sequential": [
            [
             0,
             "#0d0887"
            ],
            [
             0.1111111111111111,
             "#46039f"
            ],
            [
             0.2222222222222222,
             "#7201a8"
            ],
            [
             0.3333333333333333,
             "#9c179e"
            ],
            [
             0.4444444444444444,
             "#bd3786"
            ],
            [
             0.5555555555555556,
             "#d8576b"
            ],
            [
             0.6666666666666666,
             "#ed7953"
            ],
            [
             0.7777777777777778,
             "#fb9f3a"
            ],
            [
             0.8888888888888888,
             "#fdca26"
            ],
            [
             1,
             "#f0f921"
            ]
           ],
           "sequentialminus": [
            [
             0,
             "#0d0887"
            ],
            [
             0.1111111111111111,
             "#46039f"
            ],
            [
             0.2222222222222222,
             "#7201a8"
            ],
            [
             0.3333333333333333,
             "#9c179e"
            ],
            [
             0.4444444444444444,
             "#bd3786"
            ],
            [
             0.5555555555555556,
             "#d8576b"
            ],
            [
             0.6666666666666666,
             "#ed7953"
            ],
            [
             0.7777777777777778,
             "#fb9f3a"
            ],
            [
             0.8888888888888888,
             "#fdca26"
            ],
            [
             1,
             "#f0f921"
            ]
           ]
          },
          "colorway": [
           "#636efa",
           "#EF553B",
           "#00cc96",
           "#ab63fa",
           "#FFA15A",
           "#19d3f3",
           "#FF6692",
           "#B6E880",
           "#FF97FF",
           "#FECB52"
          ],
          "font": {
           "color": "#2a3f5f"
          },
          "geo": {
           "bgcolor": "white",
           "lakecolor": "white",
           "landcolor": "#E5ECF6",
           "showlakes": true,
           "showland": true,
           "subunitcolor": "white"
          },
          "hoverlabel": {
           "align": "left"
          },
          "hovermode": "closest",
          "mapbox": {
           "style": "light"
          },
          "paper_bgcolor": "white",
          "plot_bgcolor": "#E5ECF6",
          "polar": {
           "angularaxis": {
            "gridcolor": "white",
            "linecolor": "white",
            "ticks": ""
           },
           "bgcolor": "#E5ECF6",
           "radialaxis": {
            "gridcolor": "white",
            "linecolor": "white",
            "ticks": ""
           }
          },
          "scene": {
           "xaxis": {
            "backgroundcolor": "#E5ECF6",
            "gridcolor": "white",
            "gridwidth": 2,
            "linecolor": "white",
            "showbackground": true,
            "ticks": "",
            "zerolinecolor": "white"
           },
           "yaxis": {
            "backgroundcolor": "#E5ECF6",
            "gridcolor": "white",
            "gridwidth": 2,
            "linecolor": "white",
            "showbackground": true,
            "ticks": "",
            "zerolinecolor": "white"
           },
           "zaxis": {
            "backgroundcolor": "#E5ECF6",
            "gridcolor": "white",
            "gridwidth": 2,
            "linecolor": "white",
            "showbackground": true,
            "ticks": "",
            "zerolinecolor": "white"
           }
          },
          "shapedefaults": {
           "line": {
            "color": "#2a3f5f"
           }
          },
          "ternary": {
           "aaxis": {
            "gridcolor": "white",
            "linecolor": "white",
            "ticks": ""
           },
           "baxis": {
            "gridcolor": "white",
            "linecolor": "white",
            "ticks": ""
           },
           "bgcolor": "#E5ECF6",
           "caxis": {
            "gridcolor": "white",
            "linecolor": "white",
            "ticks": ""
           }
          },
          "title": {
           "x": 0.05
          },
          "xaxis": {
           "automargin": true,
           "gridcolor": "white",
           "linecolor": "white",
           "ticks": "",
           "title": {
            "standoff": 15
           },
           "zerolinecolor": "white",
           "zerolinewidth": 2
          },
          "yaxis": {
           "automargin": true,
           "gridcolor": "white",
           "linecolor": "white",
           "ticks": "",
           "title": {
            "standoff": 15
           },
           "zerolinecolor": "white",
           "zerolinewidth": 2
          }
         }
        },
        "title": {
         "font": {
          "color": "#4D5663"
         }
        },
        "xaxis": {
         "gridcolor": "#E1E5ED",
         "showgrid": true,
         "tickfont": {
          "color": "#4D5663"
         },
         "title": {
          "font": {
           "color": "#4D5663"
          },
          "text": ""
         },
         "zerolinecolor": "#E1E5ED"
        },
        "yaxis": {
         "gridcolor": "#E1E5ED",
         "showgrid": true,
         "tickfont": {
          "color": "#4D5663"
         },
         "title": {
          "font": {
           "color": "#4D5663"
          },
          "text": ""
         },
         "zerolinecolor": "#E1E5ED"
        }
       }
      },
      "text/html": [
       "<div>                            <div id=\"24a8fa2f-4b13-44f4-b004-26983b611273\" class=\"plotly-graph-div\" style=\"height:525px; width:100%;\"></div>            <script type=\"text/javascript\">                require([\"plotly\"], function(Plotly) {                    window.PLOTLYENV=window.PLOTLYENV || {};\n",
       "                    window.PLOTLYENV.BASE_URL='https://plot.ly';                                    if (document.getElementById(\"24a8fa2f-4b13-44f4-b004-26983b611273\")) {                    Plotly.newPlot(                        \"24a8fa2f-4b13-44f4-b004-26983b611273\",                        [{\"histfunc\": \"count\", \"histnorm\": \"\", \"marker\": {\"color\": \"rgba(255, 153, 51, 1.0)\", \"line\": {\"color\": \"#4D5663\", \"width\": 1.3}}, \"name\": \"A\", \"nbinsx\": 25, \"opacity\": 0.8, \"orientation\": \"v\", \"type\": \"histogram\", \"x\": [1.4917739319507988, -0.1576075136610856, -0.930328601981876, -0.6791097036693865, 1.246802046482842, -0.5806183447238982, 0.9551482952637191, -0.9561769134235306, 1.2144518407090386, 0.31959647065023283, -1.4423615094359339, 1.8507899242342944, 1.9847942969865817, 0.6095414371590581, -1.069062089292798, 0.6852538624950293, -0.8462177638395003, 0.22167000989186186, 0.8918580824529956, -0.1940932831989595, 0.33921698686267754, -0.06992664359765931, 0.690323282593047, 0.6506433463557831, 0.7564904122747336, -1.308249635588235, -0.22464215572953222, 0.09919358272849658, 1.1287581168730763, -0.36725877754636344, 0.09096065814427151, -0.8805373216943375, 0.890854427029569, 0.1155311465883702, 0.5143751348157323, -0.25414110899522613, 1.4833137143331045, 0.3675447075511886, -1.5077217377202732, -0.6373616669671688, 1.1456740193979287, 1.2559528674572056, -0.20392733626662685, -0.9462356231111191, -0.8254221598651107, -1.2902954284480845, -0.2716337111245958, -0.7928249861140338, -1.6755476798400208, -0.7978918224518056, 0.5996331045123291, -0.9994054715811946, -1.368953160022903, -0.6601821803669641, -0.6499980055955829, 0.9251787037144138, 1.256321305290484, 0.31557783645401594, -1.5844673041367536, 1.0781227686646015, -1.437693609400543, 0.13423954401837473, 0.36730879609807726, 1.5264830168099544, 0.3603263306995897, 0.1503890266979325, 0.20458422906768983, -0.00986072427559832, -0.3193800893160297, 0.34841930348296857, -0.3994290487453984, -0.9116400976688431, 0.9654902580213899, 0.24234907344618214, -0.05746287603372838, 0.7553078082518422, -1.1442230167325054, -0.8253389178601065, 0.5701321481460176, 0.235649958350743, -0.5342026398077849, 0.5691215410981469, 0.09507234876738771, -0.6708118348301298, -1.2797752333975452, -1.7700033326782072, 1.2145166297977998, -1.4710487864158104, 1.4269559058111128, -0.07240036633000582, 1.4080462471242083, 0.6675645409240432, -0.3302173155427578, -0.3580002598687018, -0.5747493064136403, -0.54233098908547, 1.122046746352447, 0.3792037783979195, 0.48350931449727996, -0.43136459685774653]}],                        {\"barmode\": \"overlay\", \"legend\": {\"bgcolor\": \"#F5F6F9\", \"font\": {\"color\": \"#4D5663\"}}, \"paper_bgcolor\": \"#F5F6F9\", \"plot_bgcolor\": \"#F5F6F9\", \"template\": {\"data\": {\"bar\": [{\"error_x\": {\"color\": \"#2a3f5f\"}, \"error_y\": {\"color\": \"#2a3f5f\"}, \"marker\": {\"line\": {\"color\": \"#E5ECF6\", \"width\": 0.5}}, \"type\": \"bar\"}], \"barpolar\": [{\"marker\": {\"line\": {\"color\": \"#E5ECF6\", \"width\": 0.5}}, \"type\": \"barpolar\"}], \"carpet\": [{\"aaxis\": {\"endlinecolor\": \"#2a3f5f\", \"gridcolor\": \"white\", \"linecolor\": \"white\", \"minorgridcolor\": \"white\", \"startlinecolor\": \"#2a3f5f\"}, \"baxis\": {\"endlinecolor\": \"#2a3f5f\", \"gridcolor\": \"white\", \"linecolor\": \"white\", \"minorgridcolor\": \"white\", \"startlinecolor\": \"#2a3f5f\"}, \"type\": \"carpet\"}], \"choropleth\": [{\"colorbar\": {\"outlinewidth\": 0, \"ticks\": \"\"}, \"type\": \"choropleth\"}], \"contour\": [{\"colorbar\": {\"outlinewidth\": 0, \"ticks\": \"\"}, \"colorscale\": [[0.0, \"#0d0887\"], [0.1111111111111111, \"#46039f\"], [0.2222222222222222, \"#7201a8\"], [0.3333333333333333, \"#9c179e\"], [0.4444444444444444, \"#bd3786\"], [0.5555555555555556, \"#d8576b\"], [0.6666666666666666, \"#ed7953\"], [0.7777777777777778, \"#fb9f3a\"], [0.8888888888888888, \"#fdca26\"], [1.0, \"#f0f921\"]], \"type\": \"contour\"}], \"contourcarpet\": [{\"colorbar\": {\"outlinewidth\": 0, \"ticks\": \"\"}, \"type\": \"contourcarpet\"}], \"heatmap\": [{\"colorbar\": {\"outlinewidth\": 0, \"ticks\": \"\"}, \"colorscale\": [[0.0, \"#0d0887\"], [0.1111111111111111, \"#46039f\"], [0.2222222222222222, \"#7201a8\"], [0.3333333333333333, \"#9c179e\"], [0.4444444444444444, \"#bd3786\"], [0.5555555555555556, \"#d8576b\"], [0.6666666666666666, \"#ed7953\"], [0.7777777777777778, \"#fb9f3a\"], [0.8888888888888888, \"#fdca26\"], [1.0, \"#f0f921\"]], \"type\": \"heatmap\"}], \"heatmapgl\": [{\"colorbar\": {\"outlinewidth\": 0, \"ticks\": \"\"}, \"colorscale\": [[0.0, \"#0d0887\"], [0.1111111111111111, \"#46039f\"], [0.2222222222222222, \"#7201a8\"], [0.3333333333333333, \"#9c179e\"], [0.4444444444444444, \"#bd3786\"], [0.5555555555555556, \"#d8576b\"], [0.6666666666666666, \"#ed7953\"], [0.7777777777777778, \"#fb9f3a\"], [0.8888888888888888, \"#fdca26\"], [1.0, \"#f0f921\"]], \"type\": \"heatmapgl\"}], \"histogram\": [{\"marker\": {\"colorbar\": {\"outlinewidth\": 0, \"ticks\": \"\"}}, \"type\": \"histogram\"}], \"histogram2d\": [{\"colorbar\": {\"outlinewidth\": 0, \"ticks\": \"\"}, \"colorscale\": [[0.0, \"#0d0887\"], [0.1111111111111111, \"#46039f\"], [0.2222222222222222, \"#7201a8\"], [0.3333333333333333, \"#9c179e\"], [0.4444444444444444, \"#bd3786\"], [0.5555555555555556, \"#d8576b\"], [0.6666666666666666, \"#ed7953\"], [0.7777777777777778, \"#fb9f3a\"], [0.8888888888888888, \"#fdca26\"], [1.0, \"#f0f921\"]], \"type\": \"histogram2d\"}], \"histogram2dcontour\": [{\"colorbar\": {\"outlinewidth\": 0, \"ticks\": \"\"}, \"colorscale\": [[0.0, \"#0d0887\"], [0.1111111111111111, \"#46039f\"], [0.2222222222222222, \"#7201a8\"], [0.3333333333333333, \"#9c179e\"], [0.4444444444444444, \"#bd3786\"], [0.5555555555555556, \"#d8576b\"], [0.6666666666666666, \"#ed7953\"], [0.7777777777777778, \"#fb9f3a\"], [0.8888888888888888, \"#fdca26\"], [1.0, \"#f0f921\"]], \"type\": \"histogram2dcontour\"}], \"mesh3d\": [{\"colorbar\": {\"outlinewidth\": 0, \"ticks\": \"\"}, \"type\": \"mesh3d\"}], \"parcoords\": [{\"line\": {\"colorbar\": {\"outlinewidth\": 0, \"ticks\": \"\"}}, \"type\": \"parcoords\"}], \"pie\": [{\"automargin\": true, \"type\": \"pie\"}], \"scatter\": [{\"marker\": {\"colorbar\": {\"outlinewidth\": 0, \"ticks\": \"\"}}, \"type\": \"scatter\"}], \"scatter3d\": [{\"line\": {\"colorbar\": {\"outlinewidth\": 0, \"ticks\": \"\"}}, \"marker\": {\"colorbar\": {\"outlinewidth\": 0, \"ticks\": \"\"}}, \"type\": \"scatter3d\"}], \"scattercarpet\": [{\"marker\": {\"colorbar\": {\"outlinewidth\": 0, \"ticks\": \"\"}}, \"type\": \"scattercarpet\"}], \"scattergeo\": [{\"marker\": {\"colorbar\": {\"outlinewidth\": 0, \"ticks\": \"\"}}, \"type\": \"scattergeo\"}], \"scattergl\": [{\"marker\": {\"colorbar\": {\"outlinewidth\": 0, \"ticks\": \"\"}}, \"type\": \"scattergl\"}], \"scattermapbox\": [{\"marker\": {\"colorbar\": {\"outlinewidth\": 0, \"ticks\": \"\"}}, \"type\": \"scattermapbox\"}], \"scatterpolar\": [{\"marker\": {\"colorbar\": {\"outlinewidth\": 0, \"ticks\": \"\"}}, \"type\": \"scatterpolar\"}], \"scatterpolargl\": [{\"marker\": {\"colorbar\": {\"outlinewidth\": 0, \"ticks\": \"\"}}, \"type\": \"scatterpolargl\"}], \"scatterternary\": [{\"marker\": {\"colorbar\": {\"outlinewidth\": 0, \"ticks\": \"\"}}, \"type\": \"scatterternary\"}], \"surface\": [{\"colorbar\": {\"outlinewidth\": 0, \"ticks\": \"\"}, \"colorscale\": [[0.0, \"#0d0887\"], [0.1111111111111111, \"#46039f\"], [0.2222222222222222, \"#7201a8\"], [0.3333333333333333, \"#9c179e\"], [0.4444444444444444, \"#bd3786\"], [0.5555555555555556, \"#d8576b\"], [0.6666666666666666, \"#ed7953\"], [0.7777777777777778, \"#fb9f3a\"], [0.8888888888888888, \"#fdca26\"], [1.0, \"#f0f921\"]], \"type\": \"surface\"}], \"table\": [{\"cells\": {\"fill\": {\"color\": \"#EBF0F8\"}, \"line\": {\"color\": \"white\"}}, \"header\": {\"fill\": {\"color\": \"#C8D4E3\"}, \"line\": {\"color\": \"white\"}}, \"type\": \"table\"}]}, \"layout\": {\"annotationdefaults\": {\"arrowcolor\": \"#2a3f5f\", \"arrowhead\": 0, \"arrowwidth\": 1}, \"autotypenumbers\": \"strict\", \"coloraxis\": {\"colorbar\": {\"outlinewidth\": 0, \"ticks\": \"\"}}, \"colorscale\": {\"diverging\": [[0, \"#8e0152\"], [0.1, \"#c51b7d\"], [0.2, \"#de77ae\"], [0.3, \"#f1b6da\"], [0.4, \"#fde0ef\"], [0.5, \"#f7f7f7\"], [0.6, \"#e6f5d0\"], [0.7, \"#b8e186\"], [0.8, \"#7fbc41\"], [0.9, \"#4d9221\"], [1, \"#276419\"]], \"sequential\": [[0.0, \"#0d0887\"], [0.1111111111111111, \"#46039f\"], [0.2222222222222222, \"#7201a8\"], [0.3333333333333333, \"#9c179e\"], [0.4444444444444444, \"#bd3786\"], [0.5555555555555556, \"#d8576b\"], [0.6666666666666666, \"#ed7953\"], [0.7777777777777778, \"#fb9f3a\"], [0.8888888888888888, \"#fdca26\"], [1.0, \"#f0f921\"]], \"sequentialminus\": [[0.0, \"#0d0887\"], [0.1111111111111111, \"#46039f\"], [0.2222222222222222, \"#7201a8\"], [0.3333333333333333, \"#9c179e\"], [0.4444444444444444, \"#bd3786\"], [0.5555555555555556, \"#d8576b\"], [0.6666666666666666, \"#ed7953\"], [0.7777777777777778, \"#fb9f3a\"], [0.8888888888888888, \"#fdca26\"], [1.0, \"#f0f921\"]]}, \"colorway\": [\"#636efa\", \"#EF553B\", \"#00cc96\", \"#ab63fa\", \"#FFA15A\", \"#19d3f3\", \"#FF6692\", \"#B6E880\", \"#FF97FF\", \"#FECB52\"], \"font\": {\"color\": \"#2a3f5f\"}, \"geo\": {\"bgcolor\": \"white\", \"lakecolor\": \"white\", \"landcolor\": \"#E5ECF6\", \"showlakes\": true, \"showland\": true, \"subunitcolor\": \"white\"}, \"hoverlabel\": {\"align\": \"left\"}, \"hovermode\": \"closest\", \"mapbox\": {\"style\": \"light\"}, \"paper_bgcolor\": \"white\", \"plot_bgcolor\": \"#E5ECF6\", \"polar\": {\"angularaxis\": {\"gridcolor\": \"white\", \"linecolor\": \"white\", \"ticks\": \"\"}, \"bgcolor\": \"#E5ECF6\", \"radialaxis\": {\"gridcolor\": \"white\", \"linecolor\": \"white\", \"ticks\": \"\"}}, \"scene\": {\"xaxis\": {\"backgroundcolor\": \"#E5ECF6\", \"gridcolor\": \"white\", \"gridwidth\": 2, \"linecolor\": \"white\", \"showbackground\": true, \"ticks\": \"\", \"zerolinecolor\": \"white\"}, \"yaxis\": {\"backgroundcolor\": \"#E5ECF6\", \"gridcolor\": \"white\", \"gridwidth\": 2, \"linecolor\": \"white\", \"showbackground\": true, \"ticks\": \"\", \"zerolinecolor\": \"white\"}, \"zaxis\": {\"backgroundcolor\": \"#E5ECF6\", \"gridcolor\": \"white\", \"gridwidth\": 2, \"linecolor\": \"white\", \"showbackground\": true, \"ticks\": \"\", \"zerolinecolor\": \"white\"}}, \"shapedefaults\": {\"line\": {\"color\": \"#2a3f5f\"}}, \"ternary\": {\"aaxis\": {\"gridcolor\": \"white\", \"linecolor\": \"white\", \"ticks\": \"\"}, \"baxis\": {\"gridcolor\": \"white\", \"linecolor\": \"white\", \"ticks\": \"\"}, \"bgcolor\": \"#E5ECF6\", \"caxis\": {\"gridcolor\": \"white\", \"linecolor\": \"white\", \"ticks\": \"\"}}, \"title\": {\"x\": 0.05}, \"xaxis\": {\"automargin\": true, \"gridcolor\": \"white\", \"linecolor\": \"white\", \"ticks\": \"\", \"title\": {\"standoff\": 15}, \"zerolinecolor\": \"white\", \"zerolinewidth\": 2}, \"yaxis\": {\"automargin\": true, \"gridcolor\": \"white\", \"linecolor\": \"white\", \"ticks\": \"\", \"title\": {\"standoff\": 15}, \"zerolinecolor\": \"white\", \"zerolinewidth\": 2}}}, \"title\": {\"font\": {\"color\": \"#4D5663\"}}, \"xaxis\": {\"gridcolor\": \"#E1E5ED\", \"showgrid\": true, \"tickfont\": {\"color\": \"#4D5663\"}, \"title\": {\"font\": {\"color\": \"#4D5663\"}, \"text\": \"\"}, \"zerolinecolor\": \"#E1E5ED\"}, \"yaxis\": {\"gridcolor\": \"#E1E5ED\", \"showgrid\": true, \"tickfont\": {\"color\": \"#4D5663\"}, \"title\": {\"font\": {\"color\": \"#4D5663\"}, \"text\": \"\"}, \"zerolinecolor\": \"#E1E5ED\"}},                        {\"showLink\": true, \"linkText\": \"Export to plot.ly\", \"plotlyServerURL\": \"https://plot.ly\", \"responsive\": true}                    ).then(function(){\n",
       "                            \n",
       "var gd = document.getElementById('24a8fa2f-4b13-44f4-b004-26983b611273');\n",
       "var x = new MutationObserver(function (mutations, observer) {{\n",
       "        var display = window.getComputedStyle(gd).display;\n",
       "        if (!display || display === 'none') {{\n",
       "            console.log([gd, 'removed!']);\n",
       "            Plotly.purge(gd);\n",
       "            observer.disconnect();\n",
       "        }}\n",
       "}});\n",
       "\n",
       "// Listen for the removal of the full notebook cells\n",
       "var notebookContainer = gd.closest('#notebook-container');\n",
       "if (notebookContainer) {{\n",
       "    x.observe(notebookContainer, {childList: true});\n",
       "}}\n",
       "\n",
       "// Listen for the clearing of the current output cell\n",
       "var outputEl = gd.closest('.output');\n",
       "if (outputEl) {{\n",
       "    x.observe(outputEl, {childList: true});\n",
       "}}\n",
       "\n",
       "                        })                };                });            </script>        </div>"
      ]
     },
     "metadata": {},
     "output_type": "display_data"
    }
   ],
   "source": [
    "df['A'].iplot(kind='hist',bins=25)"
   ]
  },
  {
   "cell_type": "code",
   "execution_count": 25,
   "metadata": {},
   "outputs": [
    {
     "data": {
      "application/vnd.plotly.v1+json": {
       "config": {
        "linkText": "Export to plot.ly",
        "plotlyServerURL": "https://plot.ly",
        "showLink": true
       },
       "data": [
        {
         "marker": {
          "color": [
           "rgb(255, 153, 51)",
           "rgb(55, 128, 191)",
           "rgb(50, 171, 96)",
           "rgb(128, 0, 128)",
           "rgb(219, 64, 82)",
           "rgb(0, 128, 128)",
           "rgb(255, 255, 51)",
           "rgb(128, 128, 0)",
           "rgb(251, 128, 114)",
           "rgb(128, 177, 211)"
          ],
          "line": {
           "width": 1.3
          },
          "size": [
           65,
           101,
           74,
           76,
           74,
           40,
           58,
           76,
           60,
           70,
           62,
           84,
           64,
           83,
           88,
           65,
           45,
           47,
           52,
           75,
           43,
           63,
           50,
           69,
           47,
           52,
           89,
           82,
           77,
           71,
           93,
           49,
           42,
           59,
           29,
           42,
           50,
           37,
           52,
           30,
           70,
           67,
           58,
           46,
           51,
           42,
           54,
           57,
           76,
           47,
           41,
           66,
           62,
           12,
           41,
           96,
           64,
           54,
           51,
           59,
           56,
           71,
           38,
           45,
           76,
           66,
           85,
           36,
           51,
           34,
           59,
           112,
           36,
           53,
           68,
           40,
           37,
           20,
           58,
           43,
           47,
           40,
           41,
           64,
           18,
           74,
           78,
           69,
           69,
           45,
           76,
           38,
           82,
           55,
           70,
           56,
           82,
           71,
           29,
           73
          ],
          "symbol": "circle"
         },
         "mode": "markers",
         "text": "",
         "type": "scatter",
         "x": [
          1.4917739319507988,
          -0.1576075136610856,
          -0.930328601981876,
          -0.6791097036693865,
          1.246802046482842,
          -0.5806183447238982,
          0.9551482952637191,
          -0.9561769134235306,
          1.2144518407090386,
          0.31959647065023283,
          -1.4423615094359339,
          1.8507899242342944,
          1.9847942969865817,
          0.6095414371590581,
          -1.069062089292798,
          0.6852538624950293,
          -0.8462177638395003,
          0.22167000989186186,
          0.8918580824529956,
          -0.1940932831989595,
          0.33921698686267754,
          -0.06992664359765931,
          0.690323282593047,
          0.6506433463557831,
          0.7564904122747336,
          -1.308249635588235,
          -0.22464215572953222,
          0.09919358272849658,
          1.1287581168730763,
          -0.36725877754636344,
          0.09096065814427151,
          -0.8805373216943375,
          0.890854427029569,
          0.1155311465883702,
          0.5143751348157323,
          -0.25414110899522613,
          1.4833137143331045,
          0.3675447075511886,
          -1.5077217377202732,
          -0.6373616669671688,
          1.1456740193979287,
          1.2559528674572056,
          -0.20392733626662685,
          -0.9462356231111191,
          -0.8254221598651107,
          -1.2902954284480845,
          -0.2716337111245958,
          -0.7928249861140338,
          -1.6755476798400208,
          -0.7978918224518056,
          0.5996331045123291,
          -0.9994054715811946,
          -1.368953160022903,
          -0.6601821803669641,
          -0.6499980055955829,
          0.9251787037144138,
          1.256321305290484,
          0.31557783645401594,
          -1.5844673041367536,
          1.0781227686646015,
          -1.437693609400543,
          0.13423954401837473,
          0.36730879609807726,
          1.5264830168099544,
          0.3603263306995897,
          0.1503890266979325,
          0.20458422906768983,
          -0.00986072427559832,
          -0.3193800893160297,
          0.34841930348296857,
          -0.3994290487453984,
          -0.9116400976688431,
          0.9654902580213899,
          0.24234907344618214,
          -0.05746287603372838,
          0.7553078082518422,
          -1.1442230167325054,
          -0.8253389178601065,
          0.5701321481460176,
          0.235649958350743,
          -0.5342026398077849,
          0.5691215410981469,
          0.09507234876738771,
          -0.6708118348301298,
          -1.2797752333975452,
          -1.7700033326782072,
          1.2145166297977998,
          -1.4710487864158104,
          1.4269559058111128,
          -0.07240036633000582,
          1.4080462471242083,
          0.6675645409240432,
          -0.3302173155427578,
          -0.3580002598687018,
          -0.5747493064136403,
          -0.54233098908547,
          1.122046746352447,
          0.3792037783979195,
          0.48350931449727996,
          -0.43136459685774653
         ],
         "y": [
          0.45759144337485264,
          -1.852696670942872,
          0.6037624201043539,
          1.6807726295254402,
          -0.6134495049356505,
          -0.13990727158452076,
          0.03124279714296553,
          -0.4648977013897088,
          0.9553997045315877,
          0.7283752107040995,
          0.17117093428101382,
          -1.7315612380768213,
          0.35740744238423494,
          0.26415998052564404,
          -0.17537080293451385,
          -0.5363941017251691,
          0.6963737981846626,
          0.10703348403579191,
          -1.1668063308621461,
          -0.381555081513734,
          -1.04720724283616,
          0.5062179294106165,
          -0.08116042070484192,
          0.824481990419685,
          -0.923959125424289,
          -0.6621806634287214,
          0.8138973060617386,
          -1.8423340149587246,
          -0.21565202574466438,
          -0.8591970758956009,
          2.9304064240575,
          1.1870166863514848,
          0.8388833896271535,
          -1.0656547569717636,
          0.1785522001686026,
          -1.518369903201751,
          0.7712510283723744,
          -0.21280479152112208,
          0.3271004909808801,
          -0.9022411093453506,
          -1.090695941306311,
          -2.563138973546278,
          -0.7545987537079845,
          -1.2526450127513369,
          -1.6847406671440779,
          -0.1036023582144774,
          -0.6358467247015547,
          -1.4727766663202202,
          -0.590644757453359,
          -0.8960077341834933,
          -2.798152401039477,
          0.15038107633998923,
          0.45031898614896504,
          0.011425712330130547,
          1.025351993965511,
          1.226572998471299,
          -1.5520205754109617,
          0.21871894895512994,
          0.6986764947443769,
          -0.44767507487085106,
          0.6600422460523616,
          1.1821509492312061,
          -2.2418468856707894,
          -0.4419842782451757,
          0.06236833309591093,
          0.7427087694186271,
          -0.20564405623449886,
          -0.9245755611975662,
          0.9661074576054179,
          -0.6525451889087391,
          -0.3230946170781425,
          0.5530579658372701,
          -2.402241575581015,
          -1.044064236634867,
          -0.3731496027692522,
          -0.7422611643632118,
          0.3532662889262816,
          0.8371267137108779,
          -0.7760427206692124,
          -1.5678289690505915,
          -1.2153876341294814,
          0.32655867839731484,
          0.4193562728649102,
          -1.4041639217486626,
          -1.5104150994841226,
          -0.00898105066874273,
          -0.22317194711681937,
          -2.1355721103257186,
          0.46383975546221357,
          0.14180092612446324,
          -1.7439669577936254,
          0.8805075120387779,
          -0.19911597621842822,
          -0.09066691794570107,
          -1.9175075905413421,
          1.578934679646553,
          -0.6444181228984757,
          -0.23588114328227852,
          -1.418161178595617,
          -0.8462454912953437
         ]
        }
       ],
       "layout": {
        "legend": {
         "bgcolor": "#F5F6F9",
         "font": {
          "color": "#4D5663"
         }
        },
        "paper_bgcolor": "#F5F6F9",
        "plot_bgcolor": "#F5F6F9",
        "template": {
         "data": {
          "bar": [
           {
            "error_x": {
             "color": "#2a3f5f"
            },
            "error_y": {
             "color": "#2a3f5f"
            },
            "marker": {
             "line": {
              "color": "#E5ECF6",
              "width": 0.5
             }
            },
            "type": "bar"
           }
          ],
          "barpolar": [
           {
            "marker": {
             "line": {
              "color": "#E5ECF6",
              "width": 0.5
             }
            },
            "type": "barpolar"
           }
          ],
          "carpet": [
           {
            "aaxis": {
             "endlinecolor": "#2a3f5f",
             "gridcolor": "white",
             "linecolor": "white",
             "minorgridcolor": "white",
             "startlinecolor": "#2a3f5f"
            },
            "baxis": {
             "endlinecolor": "#2a3f5f",
             "gridcolor": "white",
             "linecolor": "white",
             "minorgridcolor": "white",
             "startlinecolor": "#2a3f5f"
            },
            "type": "carpet"
           }
          ],
          "choropleth": [
           {
            "colorbar": {
             "outlinewidth": 0,
             "ticks": ""
            },
            "type": "choropleth"
           }
          ],
          "contour": [
           {
            "colorbar": {
             "outlinewidth": 0,
             "ticks": ""
            },
            "colorscale": [
             [
              0,
              "#0d0887"
             ],
             [
              0.1111111111111111,
              "#46039f"
             ],
             [
              0.2222222222222222,
              "#7201a8"
             ],
             [
              0.3333333333333333,
              "#9c179e"
             ],
             [
              0.4444444444444444,
              "#bd3786"
             ],
             [
              0.5555555555555556,
              "#d8576b"
             ],
             [
              0.6666666666666666,
              "#ed7953"
             ],
             [
              0.7777777777777778,
              "#fb9f3a"
             ],
             [
              0.8888888888888888,
              "#fdca26"
             ],
             [
              1,
              "#f0f921"
             ]
            ],
            "type": "contour"
           }
          ],
          "contourcarpet": [
           {
            "colorbar": {
             "outlinewidth": 0,
             "ticks": ""
            },
            "type": "contourcarpet"
           }
          ],
          "heatmap": [
           {
            "colorbar": {
             "outlinewidth": 0,
             "ticks": ""
            },
            "colorscale": [
             [
              0,
              "#0d0887"
             ],
             [
              0.1111111111111111,
              "#46039f"
             ],
             [
              0.2222222222222222,
              "#7201a8"
             ],
             [
              0.3333333333333333,
              "#9c179e"
             ],
             [
              0.4444444444444444,
              "#bd3786"
             ],
             [
              0.5555555555555556,
              "#d8576b"
             ],
             [
              0.6666666666666666,
              "#ed7953"
             ],
             [
              0.7777777777777778,
              "#fb9f3a"
             ],
             [
              0.8888888888888888,
              "#fdca26"
             ],
             [
              1,
              "#f0f921"
             ]
            ],
            "type": "heatmap"
           }
          ],
          "heatmapgl": [
           {
            "colorbar": {
             "outlinewidth": 0,
             "ticks": ""
            },
            "colorscale": [
             [
              0,
              "#0d0887"
             ],
             [
              0.1111111111111111,
              "#46039f"
             ],
             [
              0.2222222222222222,
              "#7201a8"
             ],
             [
              0.3333333333333333,
              "#9c179e"
             ],
             [
              0.4444444444444444,
              "#bd3786"
             ],
             [
              0.5555555555555556,
              "#d8576b"
             ],
             [
              0.6666666666666666,
              "#ed7953"
             ],
             [
              0.7777777777777778,
              "#fb9f3a"
             ],
             [
              0.8888888888888888,
              "#fdca26"
             ],
             [
              1,
              "#f0f921"
             ]
            ],
            "type": "heatmapgl"
           }
          ],
          "histogram": [
           {
            "marker": {
             "colorbar": {
              "outlinewidth": 0,
              "ticks": ""
             }
            },
            "type": "histogram"
           }
          ],
          "histogram2d": [
           {
            "colorbar": {
             "outlinewidth": 0,
             "ticks": ""
            },
            "colorscale": [
             [
              0,
              "#0d0887"
             ],
             [
              0.1111111111111111,
              "#46039f"
             ],
             [
              0.2222222222222222,
              "#7201a8"
             ],
             [
              0.3333333333333333,
              "#9c179e"
             ],
             [
              0.4444444444444444,
              "#bd3786"
             ],
             [
              0.5555555555555556,
              "#d8576b"
             ],
             [
              0.6666666666666666,
              "#ed7953"
             ],
             [
              0.7777777777777778,
              "#fb9f3a"
             ],
             [
              0.8888888888888888,
              "#fdca26"
             ],
             [
              1,
              "#f0f921"
             ]
            ],
            "type": "histogram2d"
           }
          ],
          "histogram2dcontour": [
           {
            "colorbar": {
             "outlinewidth": 0,
             "ticks": ""
            },
            "colorscale": [
             [
              0,
              "#0d0887"
             ],
             [
              0.1111111111111111,
              "#46039f"
             ],
             [
              0.2222222222222222,
              "#7201a8"
             ],
             [
              0.3333333333333333,
              "#9c179e"
             ],
             [
              0.4444444444444444,
              "#bd3786"
             ],
             [
              0.5555555555555556,
              "#d8576b"
             ],
             [
              0.6666666666666666,
              "#ed7953"
             ],
             [
              0.7777777777777778,
              "#fb9f3a"
             ],
             [
              0.8888888888888888,
              "#fdca26"
             ],
             [
              1,
              "#f0f921"
             ]
            ],
            "type": "histogram2dcontour"
           }
          ],
          "mesh3d": [
           {
            "colorbar": {
             "outlinewidth": 0,
             "ticks": ""
            },
            "type": "mesh3d"
           }
          ],
          "parcoords": [
           {
            "line": {
             "colorbar": {
              "outlinewidth": 0,
              "ticks": ""
             }
            },
            "type": "parcoords"
           }
          ],
          "pie": [
           {
            "automargin": true,
            "type": "pie"
           }
          ],
          "scatter": [
           {
            "marker": {
             "colorbar": {
              "outlinewidth": 0,
              "ticks": ""
             }
            },
            "type": "scatter"
           }
          ],
          "scatter3d": [
           {
            "line": {
             "colorbar": {
              "outlinewidth": 0,
              "ticks": ""
             }
            },
            "marker": {
             "colorbar": {
              "outlinewidth": 0,
              "ticks": ""
             }
            },
            "type": "scatter3d"
           }
          ],
          "scattercarpet": [
           {
            "marker": {
             "colorbar": {
              "outlinewidth": 0,
              "ticks": ""
             }
            },
            "type": "scattercarpet"
           }
          ],
          "scattergeo": [
           {
            "marker": {
             "colorbar": {
              "outlinewidth": 0,
              "ticks": ""
             }
            },
            "type": "scattergeo"
           }
          ],
          "scattergl": [
           {
            "marker": {
             "colorbar": {
              "outlinewidth": 0,
              "ticks": ""
             }
            },
            "type": "scattergl"
           }
          ],
          "scattermapbox": [
           {
            "marker": {
             "colorbar": {
              "outlinewidth": 0,
              "ticks": ""
             }
            },
            "type": "scattermapbox"
           }
          ],
          "scatterpolar": [
           {
            "marker": {
             "colorbar": {
              "outlinewidth": 0,
              "ticks": ""
             }
            },
            "type": "scatterpolar"
           }
          ],
          "scatterpolargl": [
           {
            "marker": {
             "colorbar": {
              "outlinewidth": 0,
              "ticks": ""
             }
            },
            "type": "scatterpolargl"
           }
          ],
          "scatterternary": [
           {
            "marker": {
             "colorbar": {
              "outlinewidth": 0,
              "ticks": ""
             }
            },
            "type": "scatterternary"
           }
          ],
          "surface": [
           {
            "colorbar": {
             "outlinewidth": 0,
             "ticks": ""
            },
            "colorscale": [
             [
              0,
              "#0d0887"
             ],
             [
              0.1111111111111111,
              "#46039f"
             ],
             [
              0.2222222222222222,
              "#7201a8"
             ],
             [
              0.3333333333333333,
              "#9c179e"
             ],
             [
              0.4444444444444444,
              "#bd3786"
             ],
             [
              0.5555555555555556,
              "#d8576b"
             ],
             [
              0.6666666666666666,
              "#ed7953"
             ],
             [
              0.7777777777777778,
              "#fb9f3a"
             ],
             [
              0.8888888888888888,
              "#fdca26"
             ],
             [
              1,
              "#f0f921"
             ]
            ],
            "type": "surface"
           }
          ],
          "table": [
           {
            "cells": {
             "fill": {
              "color": "#EBF0F8"
             },
             "line": {
              "color": "white"
             }
            },
            "header": {
             "fill": {
              "color": "#C8D4E3"
             },
             "line": {
              "color": "white"
             }
            },
            "type": "table"
           }
          ]
         },
         "layout": {
          "annotationdefaults": {
           "arrowcolor": "#2a3f5f",
           "arrowhead": 0,
           "arrowwidth": 1
          },
          "autotypenumbers": "strict",
          "coloraxis": {
           "colorbar": {
            "outlinewidth": 0,
            "ticks": ""
           }
          },
          "colorscale": {
           "diverging": [
            [
             0,
             "#8e0152"
            ],
            [
             0.1,
             "#c51b7d"
            ],
            [
             0.2,
             "#de77ae"
            ],
            [
             0.3,
             "#f1b6da"
            ],
            [
             0.4,
             "#fde0ef"
            ],
            [
             0.5,
             "#f7f7f7"
            ],
            [
             0.6,
             "#e6f5d0"
            ],
            [
             0.7,
             "#b8e186"
            ],
            [
             0.8,
             "#7fbc41"
            ],
            [
             0.9,
             "#4d9221"
            ],
            [
             1,
             "#276419"
            ]
           ],
           "sequential": [
            [
             0,
             "#0d0887"
            ],
            [
             0.1111111111111111,
             "#46039f"
            ],
            [
             0.2222222222222222,
             "#7201a8"
            ],
            [
             0.3333333333333333,
             "#9c179e"
            ],
            [
             0.4444444444444444,
             "#bd3786"
            ],
            [
             0.5555555555555556,
             "#d8576b"
            ],
            [
             0.6666666666666666,
             "#ed7953"
            ],
            [
             0.7777777777777778,
             "#fb9f3a"
            ],
            [
             0.8888888888888888,
             "#fdca26"
            ],
            [
             1,
             "#f0f921"
            ]
           ],
           "sequentialminus": [
            [
             0,
             "#0d0887"
            ],
            [
             0.1111111111111111,
             "#46039f"
            ],
            [
             0.2222222222222222,
             "#7201a8"
            ],
            [
             0.3333333333333333,
             "#9c179e"
            ],
            [
             0.4444444444444444,
             "#bd3786"
            ],
            [
             0.5555555555555556,
             "#d8576b"
            ],
            [
             0.6666666666666666,
             "#ed7953"
            ],
            [
             0.7777777777777778,
             "#fb9f3a"
            ],
            [
             0.8888888888888888,
             "#fdca26"
            ],
            [
             1,
             "#f0f921"
            ]
           ]
          },
          "colorway": [
           "#636efa",
           "#EF553B",
           "#00cc96",
           "#ab63fa",
           "#FFA15A",
           "#19d3f3",
           "#FF6692",
           "#B6E880",
           "#FF97FF",
           "#FECB52"
          ],
          "font": {
           "color": "#2a3f5f"
          },
          "geo": {
           "bgcolor": "white",
           "lakecolor": "white",
           "landcolor": "#E5ECF6",
           "showlakes": true,
           "showland": true,
           "subunitcolor": "white"
          },
          "hoverlabel": {
           "align": "left"
          },
          "hovermode": "closest",
          "mapbox": {
           "style": "light"
          },
          "paper_bgcolor": "white",
          "plot_bgcolor": "#E5ECF6",
          "polar": {
           "angularaxis": {
            "gridcolor": "white",
            "linecolor": "white",
            "ticks": ""
           },
           "bgcolor": "#E5ECF6",
           "radialaxis": {
            "gridcolor": "white",
            "linecolor": "white",
            "ticks": ""
           }
          },
          "scene": {
           "xaxis": {
            "backgroundcolor": "#E5ECF6",
            "gridcolor": "white",
            "gridwidth": 2,
            "linecolor": "white",
            "showbackground": true,
            "ticks": "",
            "zerolinecolor": "white"
           },
           "yaxis": {
            "backgroundcolor": "#E5ECF6",
            "gridcolor": "white",
            "gridwidth": 2,
            "linecolor": "white",
            "showbackground": true,
            "ticks": "",
            "zerolinecolor": "white"
           },
           "zaxis": {
            "backgroundcolor": "#E5ECF6",
            "gridcolor": "white",
            "gridwidth": 2,
            "linecolor": "white",
            "showbackground": true,
            "ticks": "",
            "zerolinecolor": "white"
           }
          },
          "shapedefaults": {
           "line": {
            "color": "#2a3f5f"
           }
          },
          "ternary": {
           "aaxis": {
            "gridcolor": "white",
            "linecolor": "white",
            "ticks": ""
           },
           "baxis": {
            "gridcolor": "white",
            "linecolor": "white",
            "ticks": ""
           },
           "bgcolor": "#E5ECF6",
           "caxis": {
            "gridcolor": "white",
            "linecolor": "white",
            "ticks": ""
           }
          },
          "title": {
           "x": 0.05
          },
          "xaxis": {
           "automargin": true,
           "gridcolor": "white",
           "linecolor": "white",
           "ticks": "",
           "title": {
            "standoff": 15
           },
           "zerolinecolor": "white",
           "zerolinewidth": 2
          },
          "yaxis": {
           "automargin": true,
           "gridcolor": "white",
           "linecolor": "white",
           "ticks": "",
           "title": {
            "standoff": 15
           },
           "zerolinecolor": "white",
           "zerolinewidth": 2
          }
         }
        },
        "title": {
         "font": {
          "color": "#4D5663"
         }
        },
        "xaxis": {
         "gridcolor": "#E1E5ED",
         "showgrid": true,
         "tickfont": {
          "color": "#4D5663"
         },
         "title": {
          "font": {
           "color": "#4D5663"
          },
          "text": ""
         },
         "zerolinecolor": "#E1E5ED"
        },
        "yaxis": {
         "gridcolor": "#E1E5ED",
         "showgrid": true,
         "tickfont": {
          "color": "#4D5663"
         },
         "title": {
          "font": {
           "color": "#4D5663"
          },
          "text": ""
         },
         "zerolinecolor": "#E1E5ED"
        }
       }
      },
      "text/html": [
       "<div>                            <div id=\"f21f347c-b85d-42a4-b1c5-9e342f322faa\" class=\"plotly-graph-div\" style=\"height:525px; width:100%;\"></div>            <script type=\"text/javascript\">                require([\"plotly\"], function(Plotly) {                    window.PLOTLYENV=window.PLOTLYENV || {};\n",
       "                    window.PLOTLYENV.BASE_URL='https://plot.ly';                                    if (document.getElementById(\"f21f347c-b85d-42a4-b1c5-9e342f322faa\")) {                    Plotly.newPlot(                        \"f21f347c-b85d-42a4-b1c5-9e342f322faa\",                        [{\"marker\": {\"color\": [\"rgb(255, 153, 51)\", \"rgb(55, 128, 191)\", \"rgb(50, 171, 96)\", \"rgb(128, 0, 128)\", \"rgb(219, 64, 82)\", \"rgb(0, 128, 128)\", \"rgb(255, 255, 51)\", \"rgb(128, 128, 0)\", \"rgb(251, 128, 114)\", \"rgb(128, 177, 211)\"], \"line\": {\"width\": 1.3}, \"size\": [65, 101, 74, 76, 74, 40, 58, 76, 60, 70, 62, 84, 64, 83, 88, 65, 45, 47, 52, 75, 43, 63, 50, 69, 47, 52, 89, 82, 77, 71, 93, 49, 42, 59, 29, 42, 50, 37, 52, 30, 70, 67, 58, 46, 51, 42, 54, 57, 76, 47, 41, 66, 62, 12, 41, 96, 64, 54, 51, 59, 56, 71, 38, 45, 76, 66, 85, 36, 51, 34, 59, 112, 36, 53, 68, 40, 37, 20, 58, 43, 47, 40, 41, 64, 18, 74, 78, 69, 69, 45, 76, 38, 82, 55, 70, 56, 82, 71, 29, 73], \"symbol\": \"circle\"}, \"mode\": \"markers\", \"text\": \"\", \"type\": \"scatter\", \"x\": [1.4917739319507988, -0.1576075136610856, -0.930328601981876, -0.6791097036693865, 1.246802046482842, -0.5806183447238982, 0.9551482952637191, -0.9561769134235306, 1.2144518407090386, 0.31959647065023283, -1.4423615094359339, 1.8507899242342944, 1.9847942969865817, 0.6095414371590581, -1.069062089292798, 0.6852538624950293, -0.8462177638395003, 0.22167000989186186, 0.8918580824529956, -0.1940932831989595, 0.33921698686267754, -0.06992664359765931, 0.690323282593047, 0.6506433463557831, 0.7564904122747336, -1.308249635588235, -0.22464215572953222, 0.09919358272849658, 1.1287581168730763, -0.36725877754636344, 0.09096065814427151, -0.8805373216943375, 0.890854427029569, 0.1155311465883702, 0.5143751348157323, -0.25414110899522613, 1.4833137143331045, 0.3675447075511886, -1.5077217377202732, -0.6373616669671688, 1.1456740193979287, 1.2559528674572056, -0.20392733626662685, -0.9462356231111191, -0.8254221598651107, -1.2902954284480845, -0.2716337111245958, -0.7928249861140338, -1.6755476798400208, -0.7978918224518056, 0.5996331045123291, -0.9994054715811946, -1.368953160022903, -0.6601821803669641, -0.6499980055955829, 0.9251787037144138, 1.256321305290484, 0.31557783645401594, -1.5844673041367536, 1.0781227686646015, -1.437693609400543, 0.13423954401837473, 0.36730879609807726, 1.5264830168099544, 0.3603263306995897, 0.1503890266979325, 0.20458422906768983, -0.00986072427559832, -0.3193800893160297, 0.34841930348296857, -0.3994290487453984, -0.9116400976688431, 0.9654902580213899, 0.24234907344618214, -0.05746287603372838, 0.7553078082518422, -1.1442230167325054, -0.8253389178601065, 0.5701321481460176, 0.235649958350743, -0.5342026398077849, 0.5691215410981469, 0.09507234876738771, -0.6708118348301298, -1.2797752333975452, -1.7700033326782072, 1.2145166297977998, -1.4710487864158104, 1.4269559058111128, -0.07240036633000582, 1.4080462471242083, 0.6675645409240432, -0.3302173155427578, -0.3580002598687018, -0.5747493064136403, -0.54233098908547, 1.122046746352447, 0.3792037783979195, 0.48350931449727996, -0.43136459685774653], \"y\": [0.45759144337485264, -1.852696670942872, 0.6037624201043539, 1.6807726295254402, -0.6134495049356505, -0.13990727158452076, 0.03124279714296553, -0.4648977013897088, 0.9553997045315877, 0.7283752107040995, 0.17117093428101382, -1.7315612380768213, 0.35740744238423494, 0.26415998052564404, -0.17537080293451385, -0.5363941017251691, 0.6963737981846626, 0.10703348403579191, -1.1668063308621461, -0.381555081513734, -1.04720724283616, 0.5062179294106165, -0.08116042070484192, 0.824481990419685, -0.923959125424289, -0.6621806634287214, 0.8138973060617386, -1.8423340149587246, -0.21565202574466438, -0.8591970758956009, 2.9304064240575, 1.1870166863514848, 0.8388833896271535, -1.0656547569717636, 0.1785522001686026, -1.518369903201751, 0.7712510283723744, -0.21280479152112208, 0.3271004909808801, -0.9022411093453506, -1.090695941306311, -2.563138973546278, -0.7545987537079845, -1.2526450127513369, -1.6847406671440779, -0.1036023582144774, -0.6358467247015547, -1.4727766663202202, -0.590644757453359, -0.8960077341834933, -2.798152401039477, 0.15038107633998923, 0.45031898614896504, 0.011425712330130547, 1.025351993965511, 1.226572998471299, -1.5520205754109617, 0.21871894895512994, 0.6986764947443769, -0.44767507487085106, 0.6600422460523616, 1.1821509492312061, -2.2418468856707894, -0.4419842782451757, 0.06236833309591093, 0.7427087694186271, -0.20564405623449886, -0.9245755611975662, 0.9661074576054179, -0.6525451889087391, -0.3230946170781425, 0.5530579658372701, -2.402241575581015, -1.044064236634867, -0.3731496027692522, -0.7422611643632118, 0.3532662889262816, 0.8371267137108779, -0.7760427206692124, -1.5678289690505915, -1.2153876341294814, 0.32655867839731484, 0.4193562728649102, -1.4041639217486626, -1.5104150994841226, -0.00898105066874273, -0.22317194711681937, -2.1355721103257186, 0.46383975546221357, 0.14180092612446324, -1.7439669577936254, 0.8805075120387779, -0.19911597621842822, -0.09066691794570107, -1.9175075905413421, 1.578934679646553, -0.6444181228984757, -0.23588114328227852, -1.418161178595617, -0.8462454912953437]}],                        {\"legend\": {\"bgcolor\": \"#F5F6F9\", \"font\": {\"color\": \"#4D5663\"}}, \"paper_bgcolor\": \"#F5F6F9\", \"plot_bgcolor\": \"#F5F6F9\", \"template\": {\"data\": {\"bar\": [{\"error_x\": {\"color\": \"#2a3f5f\"}, \"error_y\": {\"color\": \"#2a3f5f\"}, \"marker\": {\"line\": {\"color\": \"#E5ECF6\", \"width\": 0.5}}, \"type\": \"bar\"}], \"barpolar\": [{\"marker\": {\"line\": {\"color\": \"#E5ECF6\", \"width\": 0.5}}, \"type\": \"barpolar\"}], \"carpet\": [{\"aaxis\": {\"endlinecolor\": \"#2a3f5f\", \"gridcolor\": \"white\", \"linecolor\": \"white\", \"minorgridcolor\": \"white\", \"startlinecolor\": \"#2a3f5f\"}, \"baxis\": {\"endlinecolor\": \"#2a3f5f\", \"gridcolor\": \"white\", \"linecolor\": \"white\", \"minorgridcolor\": \"white\", \"startlinecolor\": \"#2a3f5f\"}, \"type\": \"carpet\"}], \"choropleth\": [{\"colorbar\": {\"outlinewidth\": 0, \"ticks\": \"\"}, \"type\": \"choropleth\"}], \"contour\": [{\"colorbar\": {\"outlinewidth\": 0, \"ticks\": \"\"}, \"colorscale\": [[0.0, \"#0d0887\"], [0.1111111111111111, \"#46039f\"], [0.2222222222222222, \"#7201a8\"], [0.3333333333333333, \"#9c179e\"], [0.4444444444444444, \"#bd3786\"], [0.5555555555555556, \"#d8576b\"], [0.6666666666666666, \"#ed7953\"], [0.7777777777777778, \"#fb9f3a\"], [0.8888888888888888, \"#fdca26\"], [1.0, \"#f0f921\"]], \"type\": \"contour\"}], \"contourcarpet\": [{\"colorbar\": {\"outlinewidth\": 0, \"ticks\": \"\"}, \"type\": \"contourcarpet\"}], \"heatmap\": [{\"colorbar\": {\"outlinewidth\": 0, \"ticks\": \"\"}, \"colorscale\": [[0.0, \"#0d0887\"], [0.1111111111111111, \"#46039f\"], [0.2222222222222222, \"#7201a8\"], [0.3333333333333333, \"#9c179e\"], [0.4444444444444444, \"#bd3786\"], [0.5555555555555556, \"#d8576b\"], [0.6666666666666666, \"#ed7953\"], [0.7777777777777778, \"#fb9f3a\"], [0.8888888888888888, \"#fdca26\"], [1.0, \"#f0f921\"]], \"type\": \"heatmap\"}], \"heatmapgl\": [{\"colorbar\": {\"outlinewidth\": 0, \"ticks\": \"\"}, \"colorscale\": [[0.0, \"#0d0887\"], [0.1111111111111111, \"#46039f\"], [0.2222222222222222, \"#7201a8\"], [0.3333333333333333, \"#9c179e\"], [0.4444444444444444, \"#bd3786\"], [0.5555555555555556, \"#d8576b\"], [0.6666666666666666, \"#ed7953\"], [0.7777777777777778, \"#fb9f3a\"], [0.8888888888888888, \"#fdca26\"], [1.0, \"#f0f921\"]], \"type\": \"heatmapgl\"}], \"histogram\": [{\"marker\": {\"colorbar\": {\"outlinewidth\": 0, \"ticks\": \"\"}}, \"type\": \"histogram\"}], \"histogram2d\": [{\"colorbar\": {\"outlinewidth\": 0, \"ticks\": \"\"}, \"colorscale\": [[0.0, \"#0d0887\"], [0.1111111111111111, \"#46039f\"], [0.2222222222222222, \"#7201a8\"], [0.3333333333333333, \"#9c179e\"], [0.4444444444444444, \"#bd3786\"], [0.5555555555555556, \"#d8576b\"], [0.6666666666666666, \"#ed7953\"], [0.7777777777777778, \"#fb9f3a\"], [0.8888888888888888, \"#fdca26\"], [1.0, \"#f0f921\"]], \"type\": \"histogram2d\"}], \"histogram2dcontour\": [{\"colorbar\": {\"outlinewidth\": 0, \"ticks\": \"\"}, \"colorscale\": [[0.0, \"#0d0887\"], [0.1111111111111111, \"#46039f\"], [0.2222222222222222, \"#7201a8\"], [0.3333333333333333, \"#9c179e\"], [0.4444444444444444, \"#bd3786\"], [0.5555555555555556, \"#d8576b\"], [0.6666666666666666, \"#ed7953\"], [0.7777777777777778, \"#fb9f3a\"], [0.8888888888888888, \"#fdca26\"], [1.0, \"#f0f921\"]], \"type\": \"histogram2dcontour\"}], \"mesh3d\": [{\"colorbar\": {\"outlinewidth\": 0, \"ticks\": \"\"}, \"type\": \"mesh3d\"}], \"parcoords\": [{\"line\": {\"colorbar\": {\"outlinewidth\": 0, \"ticks\": \"\"}}, \"type\": \"parcoords\"}], \"pie\": [{\"automargin\": true, \"type\": \"pie\"}], \"scatter\": [{\"marker\": {\"colorbar\": {\"outlinewidth\": 0, \"ticks\": \"\"}}, \"type\": \"scatter\"}], \"scatter3d\": [{\"line\": {\"colorbar\": {\"outlinewidth\": 0, \"ticks\": \"\"}}, \"marker\": {\"colorbar\": {\"outlinewidth\": 0, \"ticks\": \"\"}}, \"type\": \"scatter3d\"}], \"scattercarpet\": [{\"marker\": {\"colorbar\": {\"outlinewidth\": 0, \"ticks\": \"\"}}, \"type\": \"scattercarpet\"}], \"scattergeo\": [{\"marker\": {\"colorbar\": {\"outlinewidth\": 0, \"ticks\": \"\"}}, \"type\": \"scattergeo\"}], \"scattergl\": [{\"marker\": {\"colorbar\": {\"outlinewidth\": 0, \"ticks\": \"\"}}, \"type\": \"scattergl\"}], \"scattermapbox\": [{\"marker\": {\"colorbar\": {\"outlinewidth\": 0, \"ticks\": \"\"}}, \"type\": \"scattermapbox\"}], \"scatterpolar\": [{\"marker\": {\"colorbar\": {\"outlinewidth\": 0, \"ticks\": \"\"}}, \"type\": \"scatterpolar\"}], \"scatterpolargl\": [{\"marker\": {\"colorbar\": {\"outlinewidth\": 0, \"ticks\": \"\"}}, \"type\": \"scatterpolargl\"}], \"scatterternary\": [{\"marker\": {\"colorbar\": {\"outlinewidth\": 0, \"ticks\": \"\"}}, \"type\": \"scatterternary\"}], \"surface\": [{\"colorbar\": {\"outlinewidth\": 0, \"ticks\": \"\"}, \"colorscale\": [[0.0, \"#0d0887\"], [0.1111111111111111, \"#46039f\"], [0.2222222222222222, \"#7201a8\"], [0.3333333333333333, \"#9c179e\"], [0.4444444444444444, \"#bd3786\"], [0.5555555555555556, \"#d8576b\"], [0.6666666666666666, \"#ed7953\"], [0.7777777777777778, \"#fb9f3a\"], [0.8888888888888888, \"#fdca26\"], [1.0, \"#f0f921\"]], \"type\": \"surface\"}], \"table\": [{\"cells\": {\"fill\": {\"color\": \"#EBF0F8\"}, \"line\": {\"color\": \"white\"}}, \"header\": {\"fill\": {\"color\": \"#C8D4E3\"}, \"line\": {\"color\": \"white\"}}, \"type\": \"table\"}]}, \"layout\": {\"annotationdefaults\": {\"arrowcolor\": \"#2a3f5f\", \"arrowhead\": 0, \"arrowwidth\": 1}, \"autotypenumbers\": \"strict\", \"coloraxis\": {\"colorbar\": {\"outlinewidth\": 0, \"ticks\": \"\"}}, \"colorscale\": {\"diverging\": [[0, \"#8e0152\"], [0.1, \"#c51b7d\"], [0.2, \"#de77ae\"], [0.3, \"#f1b6da\"], [0.4, \"#fde0ef\"], [0.5, \"#f7f7f7\"], [0.6, \"#e6f5d0\"], [0.7, \"#b8e186\"], [0.8, \"#7fbc41\"], [0.9, \"#4d9221\"], [1, \"#276419\"]], \"sequential\": [[0.0, \"#0d0887\"], [0.1111111111111111, \"#46039f\"], [0.2222222222222222, \"#7201a8\"], [0.3333333333333333, \"#9c179e\"], [0.4444444444444444, \"#bd3786\"], [0.5555555555555556, \"#d8576b\"], [0.6666666666666666, \"#ed7953\"], [0.7777777777777778, \"#fb9f3a\"], [0.8888888888888888, \"#fdca26\"], [1.0, \"#f0f921\"]], \"sequentialminus\": [[0.0, \"#0d0887\"], [0.1111111111111111, \"#46039f\"], [0.2222222222222222, \"#7201a8\"], [0.3333333333333333, \"#9c179e\"], [0.4444444444444444, \"#bd3786\"], [0.5555555555555556, \"#d8576b\"], [0.6666666666666666, \"#ed7953\"], [0.7777777777777778, \"#fb9f3a\"], [0.8888888888888888, \"#fdca26\"], [1.0, \"#f0f921\"]]}, \"colorway\": [\"#636efa\", \"#EF553B\", \"#00cc96\", \"#ab63fa\", \"#FFA15A\", \"#19d3f3\", \"#FF6692\", \"#B6E880\", \"#FF97FF\", \"#FECB52\"], \"font\": {\"color\": \"#2a3f5f\"}, \"geo\": {\"bgcolor\": \"white\", \"lakecolor\": \"white\", \"landcolor\": \"#E5ECF6\", \"showlakes\": true, \"showland\": true, \"subunitcolor\": \"white\"}, \"hoverlabel\": {\"align\": \"left\"}, \"hovermode\": \"closest\", \"mapbox\": {\"style\": \"light\"}, \"paper_bgcolor\": \"white\", \"plot_bgcolor\": \"#E5ECF6\", \"polar\": {\"angularaxis\": {\"gridcolor\": \"white\", \"linecolor\": \"white\", \"ticks\": \"\"}, \"bgcolor\": \"#E5ECF6\", \"radialaxis\": {\"gridcolor\": \"white\", \"linecolor\": \"white\", \"ticks\": \"\"}}, \"scene\": {\"xaxis\": {\"backgroundcolor\": \"#E5ECF6\", \"gridcolor\": \"white\", \"gridwidth\": 2, \"linecolor\": \"white\", \"showbackground\": true, \"ticks\": \"\", \"zerolinecolor\": \"white\"}, \"yaxis\": {\"backgroundcolor\": \"#E5ECF6\", \"gridcolor\": \"white\", \"gridwidth\": 2, \"linecolor\": \"white\", \"showbackground\": true, \"ticks\": \"\", \"zerolinecolor\": \"white\"}, \"zaxis\": {\"backgroundcolor\": \"#E5ECF6\", \"gridcolor\": \"white\", \"gridwidth\": 2, \"linecolor\": \"white\", \"showbackground\": true, \"ticks\": \"\", \"zerolinecolor\": \"white\"}}, \"shapedefaults\": {\"line\": {\"color\": \"#2a3f5f\"}}, \"ternary\": {\"aaxis\": {\"gridcolor\": \"white\", \"linecolor\": \"white\", \"ticks\": \"\"}, \"baxis\": {\"gridcolor\": \"white\", \"linecolor\": \"white\", \"ticks\": \"\"}, \"bgcolor\": \"#E5ECF6\", \"caxis\": {\"gridcolor\": \"white\", \"linecolor\": \"white\", \"ticks\": \"\"}}, \"title\": {\"x\": 0.05}, \"xaxis\": {\"automargin\": true, \"gridcolor\": \"white\", \"linecolor\": \"white\", \"ticks\": \"\", \"title\": {\"standoff\": 15}, \"zerolinecolor\": \"white\", \"zerolinewidth\": 2}, \"yaxis\": {\"automargin\": true, \"gridcolor\": \"white\", \"linecolor\": \"white\", \"ticks\": \"\", \"title\": {\"standoff\": 15}, \"zerolinecolor\": \"white\", \"zerolinewidth\": 2}}}, \"title\": {\"font\": {\"color\": \"#4D5663\"}}, \"xaxis\": {\"gridcolor\": \"#E1E5ED\", \"showgrid\": true, \"tickfont\": {\"color\": \"#4D5663\"}, \"title\": {\"font\": {\"color\": \"#4D5663\"}, \"text\": \"\"}, \"zerolinecolor\": \"#E1E5ED\"}, \"yaxis\": {\"gridcolor\": \"#E1E5ED\", \"showgrid\": true, \"tickfont\": {\"color\": \"#4D5663\"}, \"title\": {\"font\": {\"color\": \"#4D5663\"}, \"text\": \"\"}, \"zerolinecolor\": \"#E1E5ED\"}},                        {\"showLink\": true, \"linkText\": \"Export to plot.ly\", \"plotlyServerURL\": \"https://plot.ly\", \"responsive\": true}                    ).then(function(){\n",
       "                            \n",
       "var gd = document.getElementById('f21f347c-b85d-42a4-b1c5-9e342f322faa');\n",
       "var x = new MutationObserver(function (mutations, observer) {{\n",
       "        var display = window.getComputedStyle(gd).display;\n",
       "        if (!display || display === 'none') {{\n",
       "            console.log([gd, 'removed!']);\n",
       "            Plotly.purge(gd);\n",
       "            observer.disconnect();\n",
       "        }}\n",
       "}});\n",
       "\n",
       "// Listen for the removal of the full notebook cells\n",
       "var notebookContainer = gd.closest('#notebook-container');\n",
       "if (notebookContainer) {{\n",
       "    x.observe(notebookContainer, {childList: true});\n",
       "}}\n",
       "\n",
       "// Listen for the clearing of the current output cell\n",
       "var outputEl = gd.closest('.output');\n",
       "if (outputEl) {{\n",
       "    x.observe(outputEl, {childList: true});\n",
       "}}\n",
       "\n",
       "                        })                };                });            </script>        </div>"
      ]
     },
     "metadata": {},
     "output_type": "display_data"
    }
   ],
   "source": [
    "df.iplot(kind='bubble',x='A',y='B',size='C')"
   ]
  },
  {
   "cell_type": "markdown",
   "metadata": {},
   "source": [
    "## scatter_matrix()\n",
    "\n",
    "Similar to sns.pairplot()"
   ]
  },
  {
   "cell_type": "code",
   "execution_count": 26,
   "metadata": {},
   "outputs": [
    {
     "data": {
      "application/vnd.plotly.v1+json": {
       "config": {
        "linkText": "Export to plot.ly",
        "plotlyServerURL": "https://plot.ly",
        "showLink": true
       },
       "data": [
        {
         "histfunc": "count",
         "histnorm": "",
         "marker": {
          "color": "rgba(255, 153, 51, 1.0)",
          "line": {
           "color": "#4D5663",
           "width": 1.3
          }
         },
         "name": "A",
         "nbinsx": 10,
         "opacity": 0.8,
         "orientation": "v",
         "type": "histogram",
         "x": [
          1.4917739319507988,
          -0.1576075136610856,
          -0.930328601981876,
          -0.6791097036693865,
          1.246802046482842,
          -0.5806183447238982,
          0.9551482952637191,
          -0.9561769134235306,
          1.2144518407090386,
          0.31959647065023283,
          -1.4423615094359339,
          1.8507899242342944,
          1.9847942969865817,
          0.6095414371590581,
          -1.069062089292798,
          0.6852538624950293,
          -0.8462177638395003,
          0.22167000989186186,
          0.8918580824529956,
          -0.1940932831989595,
          0.33921698686267754,
          -0.06992664359765931,
          0.690323282593047,
          0.6506433463557831,
          0.7564904122747336,
          -1.308249635588235,
          -0.22464215572953222,
          0.09919358272849658,
          1.1287581168730763,
          -0.36725877754636344,
          0.09096065814427151,
          -0.8805373216943375,
          0.890854427029569,
          0.1155311465883702,
          0.5143751348157323,
          -0.25414110899522613,
          1.4833137143331045,
          0.3675447075511886,
          -1.5077217377202732,
          -0.6373616669671688,
          1.1456740193979287,
          1.2559528674572056,
          -0.20392733626662685,
          -0.9462356231111191,
          -0.8254221598651107,
          -1.2902954284480845,
          -0.2716337111245958,
          -0.7928249861140338,
          -1.6755476798400208,
          -0.7978918224518056,
          0.5996331045123291,
          -0.9994054715811946,
          -1.368953160022903,
          -0.6601821803669641,
          -0.6499980055955829,
          0.9251787037144138,
          1.256321305290484,
          0.31557783645401594,
          -1.5844673041367536,
          1.0781227686646015,
          -1.437693609400543,
          0.13423954401837473,
          0.36730879609807726,
          1.5264830168099544,
          0.3603263306995897,
          0.1503890266979325,
          0.20458422906768983,
          -0.00986072427559832,
          -0.3193800893160297,
          0.34841930348296857,
          -0.3994290487453984,
          -0.9116400976688431,
          0.9654902580213899,
          0.24234907344618214,
          -0.05746287603372838,
          0.7553078082518422,
          -1.1442230167325054,
          -0.8253389178601065,
          0.5701321481460176,
          0.235649958350743,
          -0.5342026398077849,
          0.5691215410981469,
          0.09507234876738771,
          -0.6708118348301298,
          -1.2797752333975452,
          -1.7700033326782072,
          1.2145166297977998,
          -1.4710487864158104,
          1.4269559058111128,
          -0.07240036633000582,
          1.4080462471242083,
          0.6675645409240432,
          -0.3302173155427578,
          -0.3580002598687018,
          -0.5747493064136403,
          -0.54233098908547,
          1.122046746352447,
          0.3792037783979195,
          0.48350931449727996,
          -0.43136459685774653
         ],
         "xaxis": "x",
         "yaxis": "y"
        },
        {
         "line": {
          "color": "rgba(128, 128, 128, 1.0)",
          "dash": "solid",
          "shape": "linear",
          "width": 1.3
         },
         "marker": {
          "size": 2,
          "symbol": "circle"
         },
         "mode": "markers",
         "name": "A",
         "text": "",
         "type": "scatter",
         "x": [
          0.45759144337485264,
          -1.852696670942872,
          0.6037624201043539,
          1.6807726295254402,
          -0.6134495049356505,
          -0.13990727158452076,
          0.03124279714296553,
          -0.4648977013897088,
          0.9553997045315877,
          0.7283752107040995,
          0.17117093428101382,
          -1.7315612380768213,
          0.35740744238423494,
          0.26415998052564404,
          -0.17537080293451385,
          -0.5363941017251691,
          0.6963737981846626,
          0.10703348403579191,
          -1.1668063308621461,
          -0.381555081513734,
          -1.04720724283616,
          0.5062179294106165,
          -0.08116042070484192,
          0.824481990419685,
          -0.923959125424289,
          -0.6621806634287214,
          0.8138973060617386,
          -1.8423340149587246,
          -0.21565202574466438,
          -0.8591970758956009,
          2.9304064240575,
          1.1870166863514848,
          0.8388833896271535,
          -1.0656547569717636,
          0.1785522001686026,
          -1.518369903201751,
          0.7712510283723744,
          -0.21280479152112208,
          0.3271004909808801,
          -0.9022411093453506,
          -1.090695941306311,
          -2.563138973546278,
          -0.7545987537079845,
          -1.2526450127513369,
          -1.6847406671440779,
          -0.1036023582144774,
          -0.6358467247015547,
          -1.4727766663202202,
          -0.590644757453359,
          -0.8960077341834933,
          -2.798152401039477,
          0.15038107633998923,
          0.45031898614896504,
          0.011425712330130547,
          1.025351993965511,
          1.226572998471299,
          -1.5520205754109617,
          0.21871894895512994,
          0.6986764947443769,
          -0.44767507487085106,
          0.6600422460523616,
          1.1821509492312061,
          -2.2418468856707894,
          -0.4419842782451757,
          0.06236833309591093,
          0.7427087694186271,
          -0.20564405623449886,
          -0.9245755611975662,
          0.9661074576054179,
          -0.6525451889087391,
          -0.3230946170781425,
          0.5530579658372701,
          -2.402241575581015,
          -1.044064236634867,
          -0.3731496027692522,
          -0.7422611643632118,
          0.3532662889262816,
          0.8371267137108779,
          -0.7760427206692124,
          -1.5678289690505915,
          -1.2153876341294814,
          0.32655867839731484,
          0.4193562728649102,
          -1.4041639217486626,
          -1.5104150994841226,
          -0.00898105066874273,
          -0.22317194711681937,
          -2.1355721103257186,
          0.46383975546221357,
          0.14180092612446324,
          -1.7439669577936254,
          0.8805075120387779,
          -0.19911597621842822,
          -0.09066691794570107,
          -1.9175075905413421,
          1.578934679646553,
          -0.6444181228984757,
          -0.23588114328227852,
          -1.418161178595617,
          -0.8462454912953437
         ],
         "xaxis": "x2",
         "y": [
          1.4917739319507988,
          -0.1576075136610856,
          -0.930328601981876,
          -0.6791097036693865,
          1.246802046482842,
          -0.5806183447238982,
          0.9551482952637191,
          -0.9561769134235306,
          1.2144518407090386,
          0.31959647065023283,
          -1.4423615094359339,
          1.8507899242342944,
          1.9847942969865817,
          0.6095414371590581,
          -1.069062089292798,
          0.6852538624950293,
          -0.8462177638395003,
          0.22167000989186186,
          0.8918580824529956,
          -0.1940932831989595,
          0.33921698686267754,
          -0.06992664359765931,
          0.690323282593047,
          0.6506433463557831,
          0.7564904122747336,
          -1.308249635588235,
          -0.22464215572953222,
          0.09919358272849658,
          1.1287581168730763,
          -0.36725877754636344,
          0.09096065814427151,
          -0.8805373216943375,
          0.890854427029569,
          0.1155311465883702,
          0.5143751348157323,
          -0.25414110899522613,
          1.4833137143331045,
          0.3675447075511886,
          -1.5077217377202732,
          -0.6373616669671688,
          1.1456740193979287,
          1.2559528674572056,
          -0.20392733626662685,
          -0.9462356231111191,
          -0.8254221598651107,
          -1.2902954284480845,
          -0.2716337111245958,
          -0.7928249861140338,
          -1.6755476798400208,
          -0.7978918224518056,
          0.5996331045123291,
          -0.9994054715811946,
          -1.368953160022903,
          -0.6601821803669641,
          -0.6499980055955829,
          0.9251787037144138,
          1.256321305290484,
          0.31557783645401594,
          -1.5844673041367536,
          1.0781227686646015,
          -1.437693609400543,
          0.13423954401837473,
          0.36730879609807726,
          1.5264830168099544,
          0.3603263306995897,
          0.1503890266979325,
          0.20458422906768983,
          -0.00986072427559832,
          -0.3193800893160297,
          0.34841930348296857,
          -0.3994290487453984,
          -0.9116400976688431,
          0.9654902580213899,
          0.24234907344618214,
          -0.05746287603372838,
          0.7553078082518422,
          -1.1442230167325054,
          -0.8253389178601065,
          0.5701321481460176,
          0.235649958350743,
          -0.5342026398077849,
          0.5691215410981469,
          0.09507234876738771,
          -0.6708118348301298,
          -1.2797752333975452,
          -1.7700033326782072,
          1.2145166297977998,
          -1.4710487864158104,
          1.4269559058111128,
          -0.07240036633000582,
          1.4080462471242083,
          0.6675645409240432,
          -0.3302173155427578,
          -0.3580002598687018,
          -0.5747493064136403,
          -0.54233098908547,
          1.122046746352447,
          0.3792037783979195,
          0.48350931449727996,
          -0.43136459685774653
         ],
         "yaxis": "y2"
        },
        {
         "line": {
          "color": "rgba(128, 128, 128, 1.0)",
          "dash": "solid",
          "shape": "linear",
          "width": 1.3
         },
         "marker": {
          "size": 2,
          "symbol": "circle"
         },
         "mode": "markers",
         "name": "A",
         "text": "",
         "type": "scatter",
         "x": [
          0.46152947162593244,
          2.3453425755967783,
          0.9306960861197442,
          0.9971209641117642,
          0.9098240869465825,
          -0.8992156555937518,
          0.05776410517264999,
          1.0456514353627107,
          0.19479344560567935,
          0.702957108620434,
          0.2736982316935703,
          1.4528089411198994,
          0.375262027659549,
          1.3779929136828617,
          1.6525430970150592,
          0.4292643268724953,
          -0.6429969960693374,
          -0.535708636960107,
          -0.2254048992399047,
          0.972611840409529,
          -0.7056138546730004,
          0.3608353064663021,
          -0.3472419961013051,
          0.649103638249867,
          -0.5345381324454135,
          -0.27190796725388344,
          1.7113937114138515,
          1.3403274659389866,
          1.100254635385496,
          0.7403009804524457,
          1.9059069829362965,
          -0.4304016669811067,
          -0.7657826446732217,
          0.09735786149878127,
          -1.4489322773807742,
          -0.759731205345188,
          -0.32649934904340927,
          -1.02262758159044,
          -0.2630458865654558,
          -1.4110697283148121,
          0.6975354710803369,
          0.5670290695758997,
          0.09378123142685918,
          -0.541824348304414,
          -0.3126378316391564,
          -0.7680815144311282,
          -0.1411852635729873,
          0.028543260558163,
          1.0179839764955765,
          -0.5285140438912208,
          -0.8511601899611472,
          0.4831823496189203,
          0.2651190257723699,
          -2.390271249243296,
          -0.8077584718378438,
          2.097526768153678,
          0.4048037029266085,
          -0.16561406925525096,
          -0.3219242835088102,
          0.09715380300886668,
          -0.05796782629064404,
          0.7654160412399421,
          -1.007236191345518,
          -0.5956087741346205,
          0.9991500226697821,
          0.5197309314110059,
          1.5094854115874217,
          -1.0953128724671997,
          -0.30267746265717016,
          -1.2039647200187675,
          0.1417430613926693,
          2.9020055992809146,
          -1.0921603828679116,
          -0.17475028514206495,
          0.5999003778680218,
          -0.8879255004529071,
          -1.0146533368311876,
          -1.9256051180012375,
          0.07316691321370815,
          -0.7421930715349236,
          -0.49676676821491145,
          -0.8633368209056816,
          -0.8396228171977157,
          0.40683066760370346,
          -2.0719350450233356,
          0.8992204338667126,
          1.148986983358305,
          0.6456008302475996,
          0.6767390157915529,
          -0.6019246086882081,
          1.0203299674350697,
          -1.0130034510006602,
          1.365704171720769,
          -0.10157555304730498,
          0.7194319123281624,
          -0.03979543658518105,
          1.322056296599753,
          0.7760581342635817,
          -1.4479263256535408,
          0.8453213874975339
         ],
         "xaxis": "x3",
         "y": [
          1.4917739319507988,
          -0.1576075136610856,
          -0.930328601981876,
          -0.6791097036693865,
          1.246802046482842,
          -0.5806183447238982,
          0.9551482952637191,
          -0.9561769134235306,
          1.2144518407090386,
          0.31959647065023283,
          -1.4423615094359339,
          1.8507899242342944,
          1.9847942969865817,
          0.6095414371590581,
          -1.069062089292798,
          0.6852538624950293,
          -0.8462177638395003,
          0.22167000989186186,
          0.8918580824529956,
          -0.1940932831989595,
          0.33921698686267754,
          -0.06992664359765931,
          0.690323282593047,
          0.6506433463557831,
          0.7564904122747336,
          -1.308249635588235,
          -0.22464215572953222,
          0.09919358272849658,
          1.1287581168730763,
          -0.36725877754636344,
          0.09096065814427151,
          -0.8805373216943375,
          0.890854427029569,
          0.1155311465883702,
          0.5143751348157323,
          -0.25414110899522613,
          1.4833137143331045,
          0.3675447075511886,
          -1.5077217377202732,
          -0.6373616669671688,
          1.1456740193979287,
          1.2559528674572056,
          -0.20392733626662685,
          -0.9462356231111191,
          -0.8254221598651107,
          -1.2902954284480845,
          -0.2716337111245958,
          -0.7928249861140338,
          -1.6755476798400208,
          -0.7978918224518056,
          0.5996331045123291,
          -0.9994054715811946,
          -1.368953160022903,
          -0.6601821803669641,
          -0.6499980055955829,
          0.9251787037144138,
          1.256321305290484,
          0.31557783645401594,
          -1.5844673041367536,
          1.0781227686646015,
          -1.437693609400543,
          0.13423954401837473,
          0.36730879609807726,
          1.5264830168099544,
          0.3603263306995897,
          0.1503890266979325,
          0.20458422906768983,
          -0.00986072427559832,
          -0.3193800893160297,
          0.34841930348296857,
          -0.3994290487453984,
          -0.9116400976688431,
          0.9654902580213899,
          0.24234907344618214,
          -0.05746287603372838,
          0.7553078082518422,
          -1.1442230167325054,
          -0.8253389178601065,
          0.5701321481460176,
          0.235649958350743,
          -0.5342026398077849,
          0.5691215410981469,
          0.09507234876738771,
          -0.6708118348301298,
          -1.2797752333975452,
          -1.7700033326782072,
          1.2145166297977998,
          -1.4710487864158104,
          1.4269559058111128,
          -0.07240036633000582,
          1.4080462471242083,
          0.6675645409240432,
          -0.3302173155427578,
          -0.3580002598687018,
          -0.5747493064136403,
          -0.54233098908547,
          1.122046746352447,
          0.3792037783979195,
          0.48350931449727996,
          -0.43136459685774653
         ],
         "yaxis": "y3"
        },
        {
         "line": {
          "color": "rgba(128, 128, 128, 1.0)",
          "dash": "solid",
          "shape": "linear",
          "width": 1.3
         },
         "marker": {
          "size": 2,
          "symbol": "circle"
         },
         "mode": "markers",
         "name": "A",
         "text": "",
         "type": "scatter",
         "x": [
          1.1246843674959957,
          0.30049533189783645,
          0.8025962744478276,
          0.7212705363494668,
          1.602186638796265,
          -0.8532212128777308,
          -0.8564612650830035,
          0.7321595570434628,
          -1.1337145222026934,
          1.4634212027526186,
          0.20548916175062573,
          0.021054039597016162,
          1.0315891709758234,
          0.39762598722580156,
          0.8181124891677705,
          -1.257727201958525,
          1.006894987976566,
          -0.43738351432421607,
          -0.656319547676891,
          -0.424894522857005,
          1.32646489158406,
          -0.9253302231911357,
          1.358999726645828,
          -0.5745922183234397,
          0.7727671266528368,
          0.1559548232928168,
          0.07569906993454754,
          -0.761789665716304,
          0.20875988219228842,
          -1.153460665058704,
          -0.02130387228565194,
          -0.6639585682728415,
          0.9059523580656053,
          -0.5916558858790686,
          0.2344319020788495,
          -0.8894295500590714,
          0.5267736467892354,
          0.19638752182362557,
          -0.5440599123857605,
          2.107812809719129,
          -1.1272490954674945,
          -0.013543298110139712,
          -1.0142057882715276,
          -1.6514260081429313,
          0.6971305080691508,
          -0.9341803066183489,
          -0.059519557306589414,
          -0.5991125492938587,
          1.7841756932855022,
          -0.950246832481104,
          0.34436240726162204,
          -0.28670128966292524,
          0.7086454293379126,
          0.4626272116618061,
          -1.6482925640674462,
          -0.8182631844496813,
          -0.36140160425602136,
          -0.12490423396524607,
          0.9958756045684123,
          -0.9681996891240179,
          -0.3421514556704743,
          -0.987445979920801,
          -0.8211251451239602,
          -0.8047334464840704,
          0.8902531073755087,
          -0.05413706651249456,
          0.49756342279375,
          0.49514608484391825,
          0.2712799354619257,
          0.15904754142497715,
          -0.9225865273488882,
          0.5668879868258986,
          -1.789292613257875,
          -0.5933786171748008,
          1.695614980606501,
          1.8368717383703639,
          -1.568925014481212,
          1.014750609082017,
          -0.6085646375199477,
          -0.45656355507532226,
          -2.3898464482252195,
          -0.17895650172278463,
          -0.5515320852148546,
          1.355442175043136,
          1.2453659574195066,
          0.5193569705027177,
          -0.14747930332802672,
          -1.007244765411999,
          -0.6722644995180294,
          -0.6068736247768314,
          -1.5299516999784493,
          -0.07221633579846504,
          -0.6651878550679274,
          0.6482448170959881,
          -0.7864291346288644,
          0.28704733211074973,
          -0.28019626956938243,
          0.6304718747903927,
          -0.11163214826960532,
          1.6224822434350255
         ],
         "xaxis": "x4",
         "y": [
          1.4917739319507988,
          -0.1576075136610856,
          -0.930328601981876,
          -0.6791097036693865,
          1.246802046482842,
          -0.5806183447238982,
          0.9551482952637191,
          -0.9561769134235306,
          1.2144518407090386,
          0.31959647065023283,
          -1.4423615094359339,
          1.8507899242342944,
          1.9847942969865817,
          0.6095414371590581,
          -1.069062089292798,
          0.6852538624950293,
          -0.8462177638395003,
          0.22167000989186186,
          0.8918580824529956,
          -0.1940932831989595,
          0.33921698686267754,
          -0.06992664359765931,
          0.690323282593047,
          0.6506433463557831,
          0.7564904122747336,
          -1.308249635588235,
          -0.22464215572953222,
          0.09919358272849658,
          1.1287581168730763,
          -0.36725877754636344,
          0.09096065814427151,
          -0.8805373216943375,
          0.890854427029569,
          0.1155311465883702,
          0.5143751348157323,
          -0.25414110899522613,
          1.4833137143331045,
          0.3675447075511886,
          -1.5077217377202732,
          -0.6373616669671688,
          1.1456740193979287,
          1.2559528674572056,
          -0.20392733626662685,
          -0.9462356231111191,
          -0.8254221598651107,
          -1.2902954284480845,
          -0.2716337111245958,
          -0.7928249861140338,
          -1.6755476798400208,
          -0.7978918224518056,
          0.5996331045123291,
          -0.9994054715811946,
          -1.368953160022903,
          -0.6601821803669641,
          -0.6499980055955829,
          0.9251787037144138,
          1.256321305290484,
          0.31557783645401594,
          -1.5844673041367536,
          1.0781227686646015,
          -1.437693609400543,
          0.13423954401837473,
          0.36730879609807726,
          1.5264830168099544,
          0.3603263306995897,
          0.1503890266979325,
          0.20458422906768983,
          -0.00986072427559832,
          -0.3193800893160297,
          0.34841930348296857,
          -0.3994290487453984,
          -0.9116400976688431,
          0.9654902580213899,
          0.24234907344618214,
          -0.05746287603372838,
          0.7553078082518422,
          -1.1442230167325054,
          -0.8253389178601065,
          0.5701321481460176,
          0.235649958350743,
          -0.5342026398077849,
          0.5691215410981469,
          0.09507234876738771,
          -0.6708118348301298,
          -1.2797752333975452,
          -1.7700033326782072,
          1.2145166297977998,
          -1.4710487864158104,
          1.4269559058111128,
          -0.07240036633000582,
          1.4080462471242083,
          0.6675645409240432,
          -0.3302173155427578,
          -0.3580002598687018,
          -0.5747493064136403,
          -0.54233098908547,
          1.122046746352447,
          0.3792037783979195,
          0.48350931449727996,
          -0.43136459685774653
         ],
         "yaxis": "y4"
        },
        {
         "line": {
          "color": "rgba(128, 128, 128, 1.0)",
          "dash": "solid",
          "shape": "linear",
          "width": 1.3
         },
         "marker": {
          "size": 2,
          "symbol": "circle"
         },
         "mode": "markers",
         "name": "B",
         "text": "",
         "type": "scatter",
         "x": [
          1.4917739319507988,
          -0.1576075136610856,
          -0.930328601981876,
          -0.6791097036693865,
          1.246802046482842,
          -0.5806183447238982,
          0.9551482952637191,
          -0.9561769134235306,
          1.2144518407090386,
          0.31959647065023283,
          -1.4423615094359339,
          1.8507899242342944,
          1.9847942969865817,
          0.6095414371590581,
          -1.069062089292798,
          0.6852538624950293,
          -0.8462177638395003,
          0.22167000989186186,
          0.8918580824529956,
          -0.1940932831989595,
          0.33921698686267754,
          -0.06992664359765931,
          0.690323282593047,
          0.6506433463557831,
          0.7564904122747336,
          -1.308249635588235,
          -0.22464215572953222,
          0.09919358272849658,
          1.1287581168730763,
          -0.36725877754636344,
          0.09096065814427151,
          -0.8805373216943375,
          0.890854427029569,
          0.1155311465883702,
          0.5143751348157323,
          -0.25414110899522613,
          1.4833137143331045,
          0.3675447075511886,
          -1.5077217377202732,
          -0.6373616669671688,
          1.1456740193979287,
          1.2559528674572056,
          -0.20392733626662685,
          -0.9462356231111191,
          -0.8254221598651107,
          -1.2902954284480845,
          -0.2716337111245958,
          -0.7928249861140338,
          -1.6755476798400208,
          -0.7978918224518056,
          0.5996331045123291,
          -0.9994054715811946,
          -1.368953160022903,
          -0.6601821803669641,
          -0.6499980055955829,
          0.9251787037144138,
          1.256321305290484,
          0.31557783645401594,
          -1.5844673041367536,
          1.0781227686646015,
          -1.437693609400543,
          0.13423954401837473,
          0.36730879609807726,
          1.5264830168099544,
          0.3603263306995897,
          0.1503890266979325,
          0.20458422906768983,
          -0.00986072427559832,
          -0.3193800893160297,
          0.34841930348296857,
          -0.3994290487453984,
          -0.9116400976688431,
          0.9654902580213899,
          0.24234907344618214,
          -0.05746287603372838,
          0.7553078082518422,
          -1.1442230167325054,
          -0.8253389178601065,
          0.5701321481460176,
          0.235649958350743,
          -0.5342026398077849,
          0.5691215410981469,
          0.09507234876738771,
          -0.6708118348301298,
          -1.2797752333975452,
          -1.7700033326782072,
          1.2145166297977998,
          -1.4710487864158104,
          1.4269559058111128,
          -0.07240036633000582,
          1.4080462471242083,
          0.6675645409240432,
          -0.3302173155427578,
          -0.3580002598687018,
          -0.5747493064136403,
          -0.54233098908547,
          1.122046746352447,
          0.3792037783979195,
          0.48350931449727996,
          -0.43136459685774653
         ],
         "xaxis": "x5",
         "y": [
          0.45759144337485264,
          -1.852696670942872,
          0.6037624201043539,
          1.6807726295254402,
          -0.6134495049356505,
          -0.13990727158452076,
          0.03124279714296553,
          -0.4648977013897088,
          0.9553997045315877,
          0.7283752107040995,
          0.17117093428101382,
          -1.7315612380768213,
          0.35740744238423494,
          0.26415998052564404,
          -0.17537080293451385,
          -0.5363941017251691,
          0.6963737981846626,
          0.10703348403579191,
          -1.1668063308621461,
          -0.381555081513734,
          -1.04720724283616,
          0.5062179294106165,
          -0.08116042070484192,
          0.824481990419685,
          -0.923959125424289,
          -0.6621806634287214,
          0.8138973060617386,
          -1.8423340149587246,
          -0.21565202574466438,
          -0.8591970758956009,
          2.9304064240575,
          1.1870166863514848,
          0.8388833896271535,
          -1.0656547569717636,
          0.1785522001686026,
          -1.518369903201751,
          0.7712510283723744,
          -0.21280479152112208,
          0.3271004909808801,
          -0.9022411093453506,
          -1.090695941306311,
          -2.563138973546278,
          -0.7545987537079845,
          -1.2526450127513369,
          -1.6847406671440779,
          -0.1036023582144774,
          -0.6358467247015547,
          -1.4727766663202202,
          -0.590644757453359,
          -0.8960077341834933,
          -2.798152401039477,
          0.15038107633998923,
          0.45031898614896504,
          0.011425712330130547,
          1.025351993965511,
          1.226572998471299,
          -1.5520205754109617,
          0.21871894895512994,
          0.6986764947443769,
          -0.44767507487085106,
          0.6600422460523616,
          1.1821509492312061,
          -2.2418468856707894,
          -0.4419842782451757,
          0.06236833309591093,
          0.7427087694186271,
          -0.20564405623449886,
          -0.9245755611975662,
          0.9661074576054179,
          -0.6525451889087391,
          -0.3230946170781425,
          0.5530579658372701,
          -2.402241575581015,
          -1.044064236634867,
          -0.3731496027692522,
          -0.7422611643632118,
          0.3532662889262816,
          0.8371267137108779,
          -0.7760427206692124,
          -1.5678289690505915,
          -1.2153876341294814,
          0.32655867839731484,
          0.4193562728649102,
          -1.4041639217486626,
          -1.5104150994841226,
          -0.00898105066874273,
          -0.22317194711681937,
          -2.1355721103257186,
          0.46383975546221357,
          0.14180092612446324,
          -1.7439669577936254,
          0.8805075120387779,
          -0.19911597621842822,
          -0.09066691794570107,
          -1.9175075905413421,
          1.578934679646553,
          -0.6444181228984757,
          -0.23588114328227852,
          -1.418161178595617,
          -0.8462454912953437
         ],
         "yaxis": "y5"
        },
        {
         "histfunc": "count",
         "histnorm": "",
         "marker": {
          "color": "rgba(55, 128, 191, 1.0)",
          "line": {
           "color": "#4D5663",
           "width": 1.3
          }
         },
         "name": "B",
         "nbinsx": 10,
         "opacity": 0.8,
         "orientation": "v",
         "type": "histogram",
         "x": [
          0.45759144337485264,
          -1.852696670942872,
          0.6037624201043539,
          1.6807726295254402,
          -0.6134495049356505,
          -0.13990727158452076,
          0.03124279714296553,
          -0.4648977013897088,
          0.9553997045315877,
          0.7283752107040995,
          0.17117093428101382,
          -1.7315612380768213,
          0.35740744238423494,
          0.26415998052564404,
          -0.17537080293451385,
          -0.5363941017251691,
          0.6963737981846626,
          0.10703348403579191,
          -1.1668063308621461,
          -0.381555081513734,
          -1.04720724283616,
          0.5062179294106165,
          -0.08116042070484192,
          0.824481990419685,
          -0.923959125424289,
          -0.6621806634287214,
          0.8138973060617386,
          -1.8423340149587246,
          -0.21565202574466438,
          -0.8591970758956009,
          2.9304064240575,
          1.1870166863514848,
          0.8388833896271535,
          -1.0656547569717636,
          0.1785522001686026,
          -1.518369903201751,
          0.7712510283723744,
          -0.21280479152112208,
          0.3271004909808801,
          -0.9022411093453506,
          -1.090695941306311,
          -2.563138973546278,
          -0.7545987537079845,
          -1.2526450127513369,
          -1.6847406671440779,
          -0.1036023582144774,
          -0.6358467247015547,
          -1.4727766663202202,
          -0.590644757453359,
          -0.8960077341834933,
          -2.798152401039477,
          0.15038107633998923,
          0.45031898614896504,
          0.011425712330130547,
          1.025351993965511,
          1.226572998471299,
          -1.5520205754109617,
          0.21871894895512994,
          0.6986764947443769,
          -0.44767507487085106,
          0.6600422460523616,
          1.1821509492312061,
          -2.2418468856707894,
          -0.4419842782451757,
          0.06236833309591093,
          0.7427087694186271,
          -0.20564405623449886,
          -0.9245755611975662,
          0.9661074576054179,
          -0.6525451889087391,
          -0.3230946170781425,
          0.5530579658372701,
          -2.402241575581015,
          -1.044064236634867,
          -0.3731496027692522,
          -0.7422611643632118,
          0.3532662889262816,
          0.8371267137108779,
          -0.7760427206692124,
          -1.5678289690505915,
          -1.2153876341294814,
          0.32655867839731484,
          0.4193562728649102,
          -1.4041639217486626,
          -1.5104150994841226,
          -0.00898105066874273,
          -0.22317194711681937,
          -2.1355721103257186,
          0.46383975546221357,
          0.14180092612446324,
          -1.7439669577936254,
          0.8805075120387779,
          -0.19911597621842822,
          -0.09066691794570107,
          -1.9175075905413421,
          1.578934679646553,
          -0.6444181228984757,
          -0.23588114328227852,
          -1.418161178595617,
          -0.8462454912953437
         ],
         "xaxis": "x6",
         "yaxis": "y6"
        },
        {
         "line": {
          "color": "rgba(128, 128, 128, 1.0)",
          "dash": "solid",
          "shape": "linear",
          "width": 1.3
         },
         "marker": {
          "size": 2,
          "symbol": "circle"
         },
         "mode": "markers",
         "name": "B",
         "text": "",
         "type": "scatter",
         "x": [
          0.46152947162593244,
          2.3453425755967783,
          0.9306960861197442,
          0.9971209641117642,
          0.9098240869465825,
          -0.8992156555937518,
          0.05776410517264999,
          1.0456514353627107,
          0.19479344560567935,
          0.702957108620434,
          0.2736982316935703,
          1.4528089411198994,
          0.375262027659549,
          1.3779929136828617,
          1.6525430970150592,
          0.4292643268724953,
          -0.6429969960693374,
          -0.535708636960107,
          -0.2254048992399047,
          0.972611840409529,
          -0.7056138546730004,
          0.3608353064663021,
          -0.3472419961013051,
          0.649103638249867,
          -0.5345381324454135,
          -0.27190796725388344,
          1.7113937114138515,
          1.3403274659389866,
          1.100254635385496,
          0.7403009804524457,
          1.9059069829362965,
          -0.4304016669811067,
          -0.7657826446732217,
          0.09735786149878127,
          -1.4489322773807742,
          -0.759731205345188,
          -0.32649934904340927,
          -1.02262758159044,
          -0.2630458865654558,
          -1.4110697283148121,
          0.6975354710803369,
          0.5670290695758997,
          0.09378123142685918,
          -0.541824348304414,
          -0.3126378316391564,
          -0.7680815144311282,
          -0.1411852635729873,
          0.028543260558163,
          1.0179839764955765,
          -0.5285140438912208,
          -0.8511601899611472,
          0.4831823496189203,
          0.2651190257723699,
          -2.390271249243296,
          -0.8077584718378438,
          2.097526768153678,
          0.4048037029266085,
          -0.16561406925525096,
          -0.3219242835088102,
          0.09715380300886668,
          -0.05796782629064404,
          0.7654160412399421,
          -1.007236191345518,
          -0.5956087741346205,
          0.9991500226697821,
          0.5197309314110059,
          1.5094854115874217,
          -1.0953128724671997,
          -0.30267746265717016,
          -1.2039647200187675,
          0.1417430613926693,
          2.9020055992809146,
          -1.0921603828679116,
          -0.17475028514206495,
          0.5999003778680218,
          -0.8879255004529071,
          -1.0146533368311876,
          -1.9256051180012375,
          0.07316691321370815,
          -0.7421930715349236,
          -0.49676676821491145,
          -0.8633368209056816,
          -0.8396228171977157,
          0.40683066760370346,
          -2.0719350450233356,
          0.8992204338667126,
          1.148986983358305,
          0.6456008302475996,
          0.6767390157915529,
          -0.6019246086882081,
          1.0203299674350697,
          -1.0130034510006602,
          1.365704171720769,
          -0.10157555304730498,
          0.7194319123281624,
          -0.03979543658518105,
          1.322056296599753,
          0.7760581342635817,
          -1.4479263256535408,
          0.8453213874975339
         ],
         "xaxis": "x7",
         "y": [
          0.45759144337485264,
          -1.852696670942872,
          0.6037624201043539,
          1.6807726295254402,
          -0.6134495049356505,
          -0.13990727158452076,
          0.03124279714296553,
          -0.4648977013897088,
          0.9553997045315877,
          0.7283752107040995,
          0.17117093428101382,
          -1.7315612380768213,
          0.35740744238423494,
          0.26415998052564404,
          -0.17537080293451385,
          -0.5363941017251691,
          0.6963737981846626,
          0.10703348403579191,
          -1.1668063308621461,
          -0.381555081513734,
          -1.04720724283616,
          0.5062179294106165,
          -0.08116042070484192,
          0.824481990419685,
          -0.923959125424289,
          -0.6621806634287214,
          0.8138973060617386,
          -1.8423340149587246,
          -0.21565202574466438,
          -0.8591970758956009,
          2.9304064240575,
          1.1870166863514848,
          0.8388833896271535,
          -1.0656547569717636,
          0.1785522001686026,
          -1.518369903201751,
          0.7712510283723744,
          -0.21280479152112208,
          0.3271004909808801,
          -0.9022411093453506,
          -1.090695941306311,
          -2.563138973546278,
          -0.7545987537079845,
          -1.2526450127513369,
          -1.6847406671440779,
          -0.1036023582144774,
          -0.6358467247015547,
          -1.4727766663202202,
          -0.590644757453359,
          -0.8960077341834933,
          -2.798152401039477,
          0.15038107633998923,
          0.45031898614896504,
          0.011425712330130547,
          1.025351993965511,
          1.226572998471299,
          -1.5520205754109617,
          0.21871894895512994,
          0.6986764947443769,
          -0.44767507487085106,
          0.6600422460523616,
          1.1821509492312061,
          -2.2418468856707894,
          -0.4419842782451757,
          0.06236833309591093,
          0.7427087694186271,
          -0.20564405623449886,
          -0.9245755611975662,
          0.9661074576054179,
          -0.6525451889087391,
          -0.3230946170781425,
          0.5530579658372701,
          -2.402241575581015,
          -1.044064236634867,
          -0.3731496027692522,
          -0.7422611643632118,
          0.3532662889262816,
          0.8371267137108779,
          -0.7760427206692124,
          -1.5678289690505915,
          -1.2153876341294814,
          0.32655867839731484,
          0.4193562728649102,
          -1.4041639217486626,
          -1.5104150994841226,
          -0.00898105066874273,
          -0.22317194711681937,
          -2.1355721103257186,
          0.46383975546221357,
          0.14180092612446324,
          -1.7439669577936254,
          0.8805075120387779,
          -0.19911597621842822,
          -0.09066691794570107,
          -1.9175075905413421,
          1.578934679646553,
          -0.6444181228984757,
          -0.23588114328227852,
          -1.418161178595617,
          -0.8462454912953437
         ],
         "yaxis": "y7"
        },
        {
         "line": {
          "color": "rgba(128, 128, 128, 1.0)",
          "dash": "solid",
          "shape": "linear",
          "width": 1.3
         },
         "marker": {
          "size": 2,
          "symbol": "circle"
         },
         "mode": "markers",
         "name": "B",
         "text": "",
         "type": "scatter",
         "x": [
          1.1246843674959957,
          0.30049533189783645,
          0.8025962744478276,
          0.7212705363494668,
          1.602186638796265,
          -0.8532212128777308,
          -0.8564612650830035,
          0.7321595570434628,
          -1.1337145222026934,
          1.4634212027526186,
          0.20548916175062573,
          0.021054039597016162,
          1.0315891709758234,
          0.39762598722580156,
          0.8181124891677705,
          -1.257727201958525,
          1.006894987976566,
          -0.43738351432421607,
          -0.656319547676891,
          -0.424894522857005,
          1.32646489158406,
          -0.9253302231911357,
          1.358999726645828,
          -0.5745922183234397,
          0.7727671266528368,
          0.1559548232928168,
          0.07569906993454754,
          -0.761789665716304,
          0.20875988219228842,
          -1.153460665058704,
          -0.02130387228565194,
          -0.6639585682728415,
          0.9059523580656053,
          -0.5916558858790686,
          0.2344319020788495,
          -0.8894295500590714,
          0.5267736467892354,
          0.19638752182362557,
          -0.5440599123857605,
          2.107812809719129,
          -1.1272490954674945,
          -0.013543298110139712,
          -1.0142057882715276,
          -1.6514260081429313,
          0.6971305080691508,
          -0.9341803066183489,
          -0.059519557306589414,
          -0.5991125492938587,
          1.7841756932855022,
          -0.950246832481104,
          0.34436240726162204,
          -0.28670128966292524,
          0.7086454293379126,
          0.4626272116618061,
          -1.6482925640674462,
          -0.8182631844496813,
          -0.36140160425602136,
          -0.12490423396524607,
          0.9958756045684123,
          -0.9681996891240179,
          -0.3421514556704743,
          -0.987445979920801,
          -0.8211251451239602,
          -0.8047334464840704,
          0.8902531073755087,
          -0.05413706651249456,
          0.49756342279375,
          0.49514608484391825,
          0.2712799354619257,
          0.15904754142497715,
          -0.9225865273488882,
          0.5668879868258986,
          -1.789292613257875,
          -0.5933786171748008,
          1.695614980606501,
          1.8368717383703639,
          -1.568925014481212,
          1.014750609082017,
          -0.6085646375199477,
          -0.45656355507532226,
          -2.3898464482252195,
          -0.17895650172278463,
          -0.5515320852148546,
          1.355442175043136,
          1.2453659574195066,
          0.5193569705027177,
          -0.14747930332802672,
          -1.007244765411999,
          -0.6722644995180294,
          -0.6068736247768314,
          -1.5299516999784493,
          -0.07221633579846504,
          -0.6651878550679274,
          0.6482448170959881,
          -0.7864291346288644,
          0.28704733211074973,
          -0.28019626956938243,
          0.6304718747903927,
          -0.11163214826960532,
          1.6224822434350255
         ],
         "xaxis": "x8",
         "y": [
          0.45759144337485264,
          -1.852696670942872,
          0.6037624201043539,
          1.6807726295254402,
          -0.6134495049356505,
          -0.13990727158452076,
          0.03124279714296553,
          -0.4648977013897088,
          0.9553997045315877,
          0.7283752107040995,
          0.17117093428101382,
          -1.7315612380768213,
          0.35740744238423494,
          0.26415998052564404,
          -0.17537080293451385,
          -0.5363941017251691,
          0.6963737981846626,
          0.10703348403579191,
          -1.1668063308621461,
          -0.381555081513734,
          -1.04720724283616,
          0.5062179294106165,
          -0.08116042070484192,
          0.824481990419685,
          -0.923959125424289,
          -0.6621806634287214,
          0.8138973060617386,
          -1.8423340149587246,
          -0.21565202574466438,
          -0.8591970758956009,
          2.9304064240575,
          1.1870166863514848,
          0.8388833896271535,
          -1.0656547569717636,
          0.1785522001686026,
          -1.518369903201751,
          0.7712510283723744,
          -0.21280479152112208,
          0.3271004909808801,
          -0.9022411093453506,
          -1.090695941306311,
          -2.563138973546278,
          -0.7545987537079845,
          -1.2526450127513369,
          -1.6847406671440779,
          -0.1036023582144774,
          -0.6358467247015547,
          -1.4727766663202202,
          -0.590644757453359,
          -0.8960077341834933,
          -2.798152401039477,
          0.15038107633998923,
          0.45031898614896504,
          0.011425712330130547,
          1.025351993965511,
          1.226572998471299,
          -1.5520205754109617,
          0.21871894895512994,
          0.6986764947443769,
          -0.44767507487085106,
          0.6600422460523616,
          1.1821509492312061,
          -2.2418468856707894,
          -0.4419842782451757,
          0.06236833309591093,
          0.7427087694186271,
          -0.20564405623449886,
          -0.9245755611975662,
          0.9661074576054179,
          -0.6525451889087391,
          -0.3230946170781425,
          0.5530579658372701,
          -2.402241575581015,
          -1.044064236634867,
          -0.3731496027692522,
          -0.7422611643632118,
          0.3532662889262816,
          0.8371267137108779,
          -0.7760427206692124,
          -1.5678289690505915,
          -1.2153876341294814,
          0.32655867839731484,
          0.4193562728649102,
          -1.4041639217486626,
          -1.5104150994841226,
          -0.00898105066874273,
          -0.22317194711681937,
          -2.1355721103257186,
          0.46383975546221357,
          0.14180092612446324,
          -1.7439669577936254,
          0.8805075120387779,
          -0.19911597621842822,
          -0.09066691794570107,
          -1.9175075905413421,
          1.578934679646553,
          -0.6444181228984757,
          -0.23588114328227852,
          -1.418161178595617,
          -0.8462454912953437
         ],
         "yaxis": "y8"
        },
        {
         "line": {
          "color": "rgba(128, 128, 128, 1.0)",
          "dash": "solid",
          "shape": "linear",
          "width": 1.3
         },
         "marker": {
          "size": 2,
          "symbol": "circle"
         },
         "mode": "markers",
         "name": "C",
         "text": "",
         "type": "scatter",
         "x": [
          1.4917739319507988,
          -0.1576075136610856,
          -0.930328601981876,
          -0.6791097036693865,
          1.246802046482842,
          -0.5806183447238982,
          0.9551482952637191,
          -0.9561769134235306,
          1.2144518407090386,
          0.31959647065023283,
          -1.4423615094359339,
          1.8507899242342944,
          1.9847942969865817,
          0.6095414371590581,
          -1.069062089292798,
          0.6852538624950293,
          -0.8462177638395003,
          0.22167000989186186,
          0.8918580824529956,
          -0.1940932831989595,
          0.33921698686267754,
          -0.06992664359765931,
          0.690323282593047,
          0.6506433463557831,
          0.7564904122747336,
          -1.308249635588235,
          -0.22464215572953222,
          0.09919358272849658,
          1.1287581168730763,
          -0.36725877754636344,
          0.09096065814427151,
          -0.8805373216943375,
          0.890854427029569,
          0.1155311465883702,
          0.5143751348157323,
          -0.25414110899522613,
          1.4833137143331045,
          0.3675447075511886,
          -1.5077217377202732,
          -0.6373616669671688,
          1.1456740193979287,
          1.2559528674572056,
          -0.20392733626662685,
          -0.9462356231111191,
          -0.8254221598651107,
          -1.2902954284480845,
          -0.2716337111245958,
          -0.7928249861140338,
          -1.6755476798400208,
          -0.7978918224518056,
          0.5996331045123291,
          -0.9994054715811946,
          -1.368953160022903,
          -0.6601821803669641,
          -0.6499980055955829,
          0.9251787037144138,
          1.256321305290484,
          0.31557783645401594,
          -1.5844673041367536,
          1.0781227686646015,
          -1.437693609400543,
          0.13423954401837473,
          0.36730879609807726,
          1.5264830168099544,
          0.3603263306995897,
          0.1503890266979325,
          0.20458422906768983,
          -0.00986072427559832,
          -0.3193800893160297,
          0.34841930348296857,
          -0.3994290487453984,
          -0.9116400976688431,
          0.9654902580213899,
          0.24234907344618214,
          -0.05746287603372838,
          0.7553078082518422,
          -1.1442230167325054,
          -0.8253389178601065,
          0.5701321481460176,
          0.235649958350743,
          -0.5342026398077849,
          0.5691215410981469,
          0.09507234876738771,
          -0.6708118348301298,
          -1.2797752333975452,
          -1.7700033326782072,
          1.2145166297977998,
          -1.4710487864158104,
          1.4269559058111128,
          -0.07240036633000582,
          1.4080462471242083,
          0.6675645409240432,
          -0.3302173155427578,
          -0.3580002598687018,
          -0.5747493064136403,
          -0.54233098908547,
          1.122046746352447,
          0.3792037783979195,
          0.48350931449727996,
          -0.43136459685774653
         ],
         "xaxis": "x9",
         "y": [
          0.46152947162593244,
          2.3453425755967783,
          0.9306960861197442,
          0.9971209641117642,
          0.9098240869465825,
          -0.8992156555937518,
          0.05776410517264999,
          1.0456514353627107,
          0.19479344560567935,
          0.702957108620434,
          0.2736982316935703,
          1.4528089411198994,
          0.375262027659549,
          1.3779929136828617,
          1.6525430970150592,
          0.4292643268724953,
          -0.6429969960693374,
          -0.535708636960107,
          -0.2254048992399047,
          0.972611840409529,
          -0.7056138546730004,
          0.3608353064663021,
          -0.3472419961013051,
          0.649103638249867,
          -0.5345381324454135,
          -0.27190796725388344,
          1.7113937114138515,
          1.3403274659389866,
          1.100254635385496,
          0.7403009804524457,
          1.9059069829362965,
          -0.4304016669811067,
          -0.7657826446732217,
          0.09735786149878127,
          -1.4489322773807742,
          -0.759731205345188,
          -0.32649934904340927,
          -1.02262758159044,
          -0.2630458865654558,
          -1.4110697283148121,
          0.6975354710803369,
          0.5670290695758997,
          0.09378123142685918,
          -0.541824348304414,
          -0.3126378316391564,
          -0.7680815144311282,
          -0.1411852635729873,
          0.028543260558163,
          1.0179839764955765,
          -0.5285140438912208,
          -0.8511601899611472,
          0.4831823496189203,
          0.2651190257723699,
          -2.390271249243296,
          -0.8077584718378438,
          2.097526768153678,
          0.4048037029266085,
          -0.16561406925525096,
          -0.3219242835088102,
          0.09715380300886668,
          -0.05796782629064404,
          0.7654160412399421,
          -1.007236191345518,
          -0.5956087741346205,
          0.9991500226697821,
          0.5197309314110059,
          1.5094854115874217,
          -1.0953128724671997,
          -0.30267746265717016,
          -1.2039647200187675,
          0.1417430613926693,
          2.9020055992809146,
          -1.0921603828679116,
          -0.17475028514206495,
          0.5999003778680218,
          -0.8879255004529071,
          -1.0146533368311876,
          -1.9256051180012375,
          0.07316691321370815,
          -0.7421930715349236,
          -0.49676676821491145,
          -0.8633368209056816,
          -0.8396228171977157,
          0.40683066760370346,
          -2.0719350450233356,
          0.8992204338667126,
          1.148986983358305,
          0.6456008302475996,
          0.6767390157915529,
          -0.6019246086882081,
          1.0203299674350697,
          -1.0130034510006602,
          1.365704171720769,
          -0.10157555304730498,
          0.7194319123281624,
          -0.03979543658518105,
          1.322056296599753,
          0.7760581342635817,
          -1.4479263256535408,
          0.8453213874975339
         ],
         "yaxis": "y9"
        },
        {
         "line": {
          "color": "rgba(128, 128, 128, 1.0)",
          "dash": "solid",
          "shape": "linear",
          "width": 1.3
         },
         "marker": {
          "size": 2,
          "symbol": "circle"
         },
         "mode": "markers",
         "name": "C",
         "text": "",
         "type": "scatter",
         "x": [
          0.45759144337485264,
          -1.852696670942872,
          0.6037624201043539,
          1.6807726295254402,
          -0.6134495049356505,
          -0.13990727158452076,
          0.03124279714296553,
          -0.4648977013897088,
          0.9553997045315877,
          0.7283752107040995,
          0.17117093428101382,
          -1.7315612380768213,
          0.35740744238423494,
          0.26415998052564404,
          -0.17537080293451385,
          -0.5363941017251691,
          0.6963737981846626,
          0.10703348403579191,
          -1.1668063308621461,
          -0.381555081513734,
          -1.04720724283616,
          0.5062179294106165,
          -0.08116042070484192,
          0.824481990419685,
          -0.923959125424289,
          -0.6621806634287214,
          0.8138973060617386,
          -1.8423340149587246,
          -0.21565202574466438,
          -0.8591970758956009,
          2.9304064240575,
          1.1870166863514848,
          0.8388833896271535,
          -1.0656547569717636,
          0.1785522001686026,
          -1.518369903201751,
          0.7712510283723744,
          -0.21280479152112208,
          0.3271004909808801,
          -0.9022411093453506,
          -1.090695941306311,
          -2.563138973546278,
          -0.7545987537079845,
          -1.2526450127513369,
          -1.6847406671440779,
          -0.1036023582144774,
          -0.6358467247015547,
          -1.4727766663202202,
          -0.590644757453359,
          -0.8960077341834933,
          -2.798152401039477,
          0.15038107633998923,
          0.45031898614896504,
          0.011425712330130547,
          1.025351993965511,
          1.226572998471299,
          -1.5520205754109617,
          0.21871894895512994,
          0.6986764947443769,
          -0.44767507487085106,
          0.6600422460523616,
          1.1821509492312061,
          -2.2418468856707894,
          -0.4419842782451757,
          0.06236833309591093,
          0.7427087694186271,
          -0.20564405623449886,
          -0.9245755611975662,
          0.9661074576054179,
          -0.6525451889087391,
          -0.3230946170781425,
          0.5530579658372701,
          -2.402241575581015,
          -1.044064236634867,
          -0.3731496027692522,
          -0.7422611643632118,
          0.3532662889262816,
          0.8371267137108779,
          -0.7760427206692124,
          -1.5678289690505915,
          -1.2153876341294814,
          0.32655867839731484,
          0.4193562728649102,
          -1.4041639217486626,
          -1.5104150994841226,
          -0.00898105066874273,
          -0.22317194711681937,
          -2.1355721103257186,
          0.46383975546221357,
          0.14180092612446324,
          -1.7439669577936254,
          0.8805075120387779,
          -0.19911597621842822,
          -0.09066691794570107,
          -1.9175075905413421,
          1.578934679646553,
          -0.6444181228984757,
          -0.23588114328227852,
          -1.418161178595617,
          -0.8462454912953437
         ],
         "xaxis": "x10",
         "y": [
          0.46152947162593244,
          2.3453425755967783,
          0.9306960861197442,
          0.9971209641117642,
          0.9098240869465825,
          -0.8992156555937518,
          0.05776410517264999,
          1.0456514353627107,
          0.19479344560567935,
          0.702957108620434,
          0.2736982316935703,
          1.4528089411198994,
          0.375262027659549,
          1.3779929136828617,
          1.6525430970150592,
          0.4292643268724953,
          -0.6429969960693374,
          -0.535708636960107,
          -0.2254048992399047,
          0.972611840409529,
          -0.7056138546730004,
          0.3608353064663021,
          -0.3472419961013051,
          0.649103638249867,
          -0.5345381324454135,
          -0.27190796725388344,
          1.7113937114138515,
          1.3403274659389866,
          1.100254635385496,
          0.7403009804524457,
          1.9059069829362965,
          -0.4304016669811067,
          -0.7657826446732217,
          0.09735786149878127,
          -1.4489322773807742,
          -0.759731205345188,
          -0.32649934904340927,
          -1.02262758159044,
          -0.2630458865654558,
          -1.4110697283148121,
          0.6975354710803369,
          0.5670290695758997,
          0.09378123142685918,
          -0.541824348304414,
          -0.3126378316391564,
          -0.7680815144311282,
          -0.1411852635729873,
          0.028543260558163,
          1.0179839764955765,
          -0.5285140438912208,
          -0.8511601899611472,
          0.4831823496189203,
          0.2651190257723699,
          -2.390271249243296,
          -0.8077584718378438,
          2.097526768153678,
          0.4048037029266085,
          -0.16561406925525096,
          -0.3219242835088102,
          0.09715380300886668,
          -0.05796782629064404,
          0.7654160412399421,
          -1.007236191345518,
          -0.5956087741346205,
          0.9991500226697821,
          0.5197309314110059,
          1.5094854115874217,
          -1.0953128724671997,
          -0.30267746265717016,
          -1.2039647200187675,
          0.1417430613926693,
          2.9020055992809146,
          -1.0921603828679116,
          -0.17475028514206495,
          0.5999003778680218,
          -0.8879255004529071,
          -1.0146533368311876,
          -1.9256051180012375,
          0.07316691321370815,
          -0.7421930715349236,
          -0.49676676821491145,
          -0.8633368209056816,
          -0.8396228171977157,
          0.40683066760370346,
          -2.0719350450233356,
          0.8992204338667126,
          1.148986983358305,
          0.6456008302475996,
          0.6767390157915529,
          -0.6019246086882081,
          1.0203299674350697,
          -1.0130034510006602,
          1.365704171720769,
          -0.10157555304730498,
          0.7194319123281624,
          -0.03979543658518105,
          1.322056296599753,
          0.7760581342635817,
          -1.4479263256535408,
          0.8453213874975339
         ],
         "yaxis": "y10"
        },
        {
         "histfunc": "count",
         "histnorm": "",
         "marker": {
          "color": "rgba(50, 171, 96, 1.0)",
          "line": {
           "color": "#4D5663",
           "width": 1.3
          }
         },
         "name": "C",
         "nbinsx": 10,
         "opacity": 0.8,
         "orientation": "v",
         "type": "histogram",
         "x": [
          0.46152947162593244,
          2.3453425755967783,
          0.9306960861197442,
          0.9971209641117642,
          0.9098240869465825,
          -0.8992156555937518,
          0.05776410517264999,
          1.0456514353627107,
          0.19479344560567935,
          0.702957108620434,
          0.2736982316935703,
          1.4528089411198994,
          0.375262027659549,
          1.3779929136828617,
          1.6525430970150592,
          0.4292643268724953,
          -0.6429969960693374,
          -0.535708636960107,
          -0.2254048992399047,
          0.972611840409529,
          -0.7056138546730004,
          0.3608353064663021,
          -0.3472419961013051,
          0.649103638249867,
          -0.5345381324454135,
          -0.27190796725388344,
          1.7113937114138515,
          1.3403274659389866,
          1.100254635385496,
          0.7403009804524457,
          1.9059069829362965,
          -0.4304016669811067,
          -0.7657826446732217,
          0.09735786149878127,
          -1.4489322773807742,
          -0.759731205345188,
          -0.32649934904340927,
          -1.02262758159044,
          -0.2630458865654558,
          -1.4110697283148121,
          0.6975354710803369,
          0.5670290695758997,
          0.09378123142685918,
          -0.541824348304414,
          -0.3126378316391564,
          -0.7680815144311282,
          -0.1411852635729873,
          0.028543260558163,
          1.0179839764955765,
          -0.5285140438912208,
          -0.8511601899611472,
          0.4831823496189203,
          0.2651190257723699,
          -2.390271249243296,
          -0.8077584718378438,
          2.097526768153678,
          0.4048037029266085,
          -0.16561406925525096,
          -0.3219242835088102,
          0.09715380300886668,
          -0.05796782629064404,
          0.7654160412399421,
          -1.007236191345518,
          -0.5956087741346205,
          0.9991500226697821,
          0.5197309314110059,
          1.5094854115874217,
          -1.0953128724671997,
          -0.30267746265717016,
          -1.2039647200187675,
          0.1417430613926693,
          2.9020055992809146,
          -1.0921603828679116,
          -0.17475028514206495,
          0.5999003778680218,
          -0.8879255004529071,
          -1.0146533368311876,
          -1.9256051180012375,
          0.07316691321370815,
          -0.7421930715349236,
          -0.49676676821491145,
          -0.8633368209056816,
          -0.8396228171977157,
          0.40683066760370346,
          -2.0719350450233356,
          0.8992204338667126,
          1.148986983358305,
          0.6456008302475996,
          0.6767390157915529,
          -0.6019246086882081,
          1.0203299674350697,
          -1.0130034510006602,
          1.365704171720769,
          -0.10157555304730498,
          0.7194319123281624,
          -0.03979543658518105,
          1.322056296599753,
          0.7760581342635817,
          -1.4479263256535408,
          0.8453213874975339
         ],
         "xaxis": "x11",
         "yaxis": "y11"
        },
        {
         "line": {
          "color": "rgba(128, 128, 128, 1.0)",
          "dash": "solid",
          "shape": "linear",
          "width": 1.3
         },
         "marker": {
          "size": 2,
          "symbol": "circle"
         },
         "mode": "markers",
         "name": "C",
         "text": "",
         "type": "scatter",
         "x": [
          1.1246843674959957,
          0.30049533189783645,
          0.8025962744478276,
          0.7212705363494668,
          1.602186638796265,
          -0.8532212128777308,
          -0.8564612650830035,
          0.7321595570434628,
          -1.1337145222026934,
          1.4634212027526186,
          0.20548916175062573,
          0.021054039597016162,
          1.0315891709758234,
          0.39762598722580156,
          0.8181124891677705,
          -1.257727201958525,
          1.006894987976566,
          -0.43738351432421607,
          -0.656319547676891,
          -0.424894522857005,
          1.32646489158406,
          -0.9253302231911357,
          1.358999726645828,
          -0.5745922183234397,
          0.7727671266528368,
          0.1559548232928168,
          0.07569906993454754,
          -0.761789665716304,
          0.20875988219228842,
          -1.153460665058704,
          -0.02130387228565194,
          -0.6639585682728415,
          0.9059523580656053,
          -0.5916558858790686,
          0.2344319020788495,
          -0.8894295500590714,
          0.5267736467892354,
          0.19638752182362557,
          -0.5440599123857605,
          2.107812809719129,
          -1.1272490954674945,
          -0.013543298110139712,
          -1.0142057882715276,
          -1.6514260081429313,
          0.6971305080691508,
          -0.9341803066183489,
          -0.059519557306589414,
          -0.5991125492938587,
          1.7841756932855022,
          -0.950246832481104,
          0.34436240726162204,
          -0.28670128966292524,
          0.7086454293379126,
          0.4626272116618061,
          -1.6482925640674462,
          -0.8182631844496813,
          -0.36140160425602136,
          -0.12490423396524607,
          0.9958756045684123,
          -0.9681996891240179,
          -0.3421514556704743,
          -0.987445979920801,
          -0.8211251451239602,
          -0.8047334464840704,
          0.8902531073755087,
          -0.05413706651249456,
          0.49756342279375,
          0.49514608484391825,
          0.2712799354619257,
          0.15904754142497715,
          -0.9225865273488882,
          0.5668879868258986,
          -1.789292613257875,
          -0.5933786171748008,
          1.695614980606501,
          1.8368717383703639,
          -1.568925014481212,
          1.014750609082017,
          -0.6085646375199477,
          -0.45656355507532226,
          -2.3898464482252195,
          -0.17895650172278463,
          -0.5515320852148546,
          1.355442175043136,
          1.2453659574195066,
          0.5193569705027177,
          -0.14747930332802672,
          -1.007244765411999,
          -0.6722644995180294,
          -0.6068736247768314,
          -1.5299516999784493,
          -0.07221633579846504,
          -0.6651878550679274,
          0.6482448170959881,
          -0.7864291346288644,
          0.28704733211074973,
          -0.28019626956938243,
          0.6304718747903927,
          -0.11163214826960532,
          1.6224822434350255
         ],
         "xaxis": "x12",
         "y": [
          0.46152947162593244,
          2.3453425755967783,
          0.9306960861197442,
          0.9971209641117642,
          0.9098240869465825,
          -0.8992156555937518,
          0.05776410517264999,
          1.0456514353627107,
          0.19479344560567935,
          0.702957108620434,
          0.2736982316935703,
          1.4528089411198994,
          0.375262027659549,
          1.3779929136828617,
          1.6525430970150592,
          0.4292643268724953,
          -0.6429969960693374,
          -0.535708636960107,
          -0.2254048992399047,
          0.972611840409529,
          -0.7056138546730004,
          0.3608353064663021,
          -0.3472419961013051,
          0.649103638249867,
          -0.5345381324454135,
          -0.27190796725388344,
          1.7113937114138515,
          1.3403274659389866,
          1.100254635385496,
          0.7403009804524457,
          1.9059069829362965,
          -0.4304016669811067,
          -0.7657826446732217,
          0.09735786149878127,
          -1.4489322773807742,
          -0.759731205345188,
          -0.32649934904340927,
          -1.02262758159044,
          -0.2630458865654558,
          -1.4110697283148121,
          0.6975354710803369,
          0.5670290695758997,
          0.09378123142685918,
          -0.541824348304414,
          -0.3126378316391564,
          -0.7680815144311282,
          -0.1411852635729873,
          0.028543260558163,
          1.0179839764955765,
          -0.5285140438912208,
          -0.8511601899611472,
          0.4831823496189203,
          0.2651190257723699,
          -2.390271249243296,
          -0.8077584718378438,
          2.097526768153678,
          0.4048037029266085,
          -0.16561406925525096,
          -0.3219242835088102,
          0.09715380300886668,
          -0.05796782629064404,
          0.7654160412399421,
          -1.007236191345518,
          -0.5956087741346205,
          0.9991500226697821,
          0.5197309314110059,
          1.5094854115874217,
          -1.0953128724671997,
          -0.30267746265717016,
          -1.2039647200187675,
          0.1417430613926693,
          2.9020055992809146,
          -1.0921603828679116,
          -0.17475028514206495,
          0.5999003778680218,
          -0.8879255004529071,
          -1.0146533368311876,
          -1.9256051180012375,
          0.07316691321370815,
          -0.7421930715349236,
          -0.49676676821491145,
          -0.8633368209056816,
          -0.8396228171977157,
          0.40683066760370346,
          -2.0719350450233356,
          0.8992204338667126,
          1.148986983358305,
          0.6456008302475996,
          0.6767390157915529,
          -0.6019246086882081,
          1.0203299674350697,
          -1.0130034510006602,
          1.365704171720769,
          -0.10157555304730498,
          0.7194319123281624,
          -0.03979543658518105,
          1.322056296599753,
          0.7760581342635817,
          -1.4479263256535408,
          0.8453213874975339
         ],
         "yaxis": "y12"
        },
        {
         "line": {
          "color": "rgba(128, 128, 128, 1.0)",
          "dash": "solid",
          "shape": "linear",
          "width": 1.3
         },
         "marker": {
          "size": 2,
          "symbol": "circle"
         },
         "mode": "markers",
         "name": "D",
         "text": "",
         "type": "scatter",
         "x": [
          1.4917739319507988,
          -0.1576075136610856,
          -0.930328601981876,
          -0.6791097036693865,
          1.246802046482842,
          -0.5806183447238982,
          0.9551482952637191,
          -0.9561769134235306,
          1.2144518407090386,
          0.31959647065023283,
          -1.4423615094359339,
          1.8507899242342944,
          1.9847942969865817,
          0.6095414371590581,
          -1.069062089292798,
          0.6852538624950293,
          -0.8462177638395003,
          0.22167000989186186,
          0.8918580824529956,
          -0.1940932831989595,
          0.33921698686267754,
          -0.06992664359765931,
          0.690323282593047,
          0.6506433463557831,
          0.7564904122747336,
          -1.308249635588235,
          -0.22464215572953222,
          0.09919358272849658,
          1.1287581168730763,
          -0.36725877754636344,
          0.09096065814427151,
          -0.8805373216943375,
          0.890854427029569,
          0.1155311465883702,
          0.5143751348157323,
          -0.25414110899522613,
          1.4833137143331045,
          0.3675447075511886,
          -1.5077217377202732,
          -0.6373616669671688,
          1.1456740193979287,
          1.2559528674572056,
          -0.20392733626662685,
          -0.9462356231111191,
          -0.8254221598651107,
          -1.2902954284480845,
          -0.2716337111245958,
          -0.7928249861140338,
          -1.6755476798400208,
          -0.7978918224518056,
          0.5996331045123291,
          -0.9994054715811946,
          -1.368953160022903,
          -0.6601821803669641,
          -0.6499980055955829,
          0.9251787037144138,
          1.256321305290484,
          0.31557783645401594,
          -1.5844673041367536,
          1.0781227686646015,
          -1.437693609400543,
          0.13423954401837473,
          0.36730879609807726,
          1.5264830168099544,
          0.3603263306995897,
          0.1503890266979325,
          0.20458422906768983,
          -0.00986072427559832,
          -0.3193800893160297,
          0.34841930348296857,
          -0.3994290487453984,
          -0.9116400976688431,
          0.9654902580213899,
          0.24234907344618214,
          -0.05746287603372838,
          0.7553078082518422,
          -1.1442230167325054,
          -0.8253389178601065,
          0.5701321481460176,
          0.235649958350743,
          -0.5342026398077849,
          0.5691215410981469,
          0.09507234876738771,
          -0.6708118348301298,
          -1.2797752333975452,
          -1.7700033326782072,
          1.2145166297977998,
          -1.4710487864158104,
          1.4269559058111128,
          -0.07240036633000582,
          1.4080462471242083,
          0.6675645409240432,
          -0.3302173155427578,
          -0.3580002598687018,
          -0.5747493064136403,
          -0.54233098908547,
          1.122046746352447,
          0.3792037783979195,
          0.48350931449727996,
          -0.43136459685774653
         ],
         "xaxis": "x13",
         "y": [
          1.1246843674959957,
          0.30049533189783645,
          0.8025962744478276,
          0.7212705363494668,
          1.602186638796265,
          -0.8532212128777308,
          -0.8564612650830035,
          0.7321595570434628,
          -1.1337145222026934,
          1.4634212027526186,
          0.20548916175062573,
          0.021054039597016162,
          1.0315891709758234,
          0.39762598722580156,
          0.8181124891677705,
          -1.257727201958525,
          1.006894987976566,
          -0.43738351432421607,
          -0.656319547676891,
          -0.424894522857005,
          1.32646489158406,
          -0.9253302231911357,
          1.358999726645828,
          -0.5745922183234397,
          0.7727671266528368,
          0.1559548232928168,
          0.07569906993454754,
          -0.761789665716304,
          0.20875988219228842,
          -1.153460665058704,
          -0.02130387228565194,
          -0.6639585682728415,
          0.9059523580656053,
          -0.5916558858790686,
          0.2344319020788495,
          -0.8894295500590714,
          0.5267736467892354,
          0.19638752182362557,
          -0.5440599123857605,
          2.107812809719129,
          -1.1272490954674945,
          -0.013543298110139712,
          -1.0142057882715276,
          -1.6514260081429313,
          0.6971305080691508,
          -0.9341803066183489,
          -0.059519557306589414,
          -0.5991125492938587,
          1.7841756932855022,
          -0.950246832481104,
          0.34436240726162204,
          -0.28670128966292524,
          0.7086454293379126,
          0.4626272116618061,
          -1.6482925640674462,
          -0.8182631844496813,
          -0.36140160425602136,
          -0.12490423396524607,
          0.9958756045684123,
          -0.9681996891240179,
          -0.3421514556704743,
          -0.987445979920801,
          -0.8211251451239602,
          -0.8047334464840704,
          0.8902531073755087,
          -0.05413706651249456,
          0.49756342279375,
          0.49514608484391825,
          0.2712799354619257,
          0.15904754142497715,
          -0.9225865273488882,
          0.5668879868258986,
          -1.789292613257875,
          -0.5933786171748008,
          1.695614980606501,
          1.8368717383703639,
          -1.568925014481212,
          1.014750609082017,
          -0.6085646375199477,
          -0.45656355507532226,
          -2.3898464482252195,
          -0.17895650172278463,
          -0.5515320852148546,
          1.355442175043136,
          1.2453659574195066,
          0.5193569705027177,
          -0.14747930332802672,
          -1.007244765411999,
          -0.6722644995180294,
          -0.6068736247768314,
          -1.5299516999784493,
          -0.07221633579846504,
          -0.6651878550679274,
          0.6482448170959881,
          -0.7864291346288644,
          0.28704733211074973,
          -0.28019626956938243,
          0.6304718747903927,
          -0.11163214826960532,
          1.6224822434350255
         ],
         "yaxis": "y13"
        },
        {
         "line": {
          "color": "rgba(128, 128, 128, 1.0)",
          "dash": "solid",
          "shape": "linear",
          "width": 1.3
         },
         "marker": {
          "size": 2,
          "symbol": "circle"
         },
         "mode": "markers",
         "name": "D",
         "text": "",
         "type": "scatter",
         "x": [
          0.45759144337485264,
          -1.852696670942872,
          0.6037624201043539,
          1.6807726295254402,
          -0.6134495049356505,
          -0.13990727158452076,
          0.03124279714296553,
          -0.4648977013897088,
          0.9553997045315877,
          0.7283752107040995,
          0.17117093428101382,
          -1.7315612380768213,
          0.35740744238423494,
          0.26415998052564404,
          -0.17537080293451385,
          -0.5363941017251691,
          0.6963737981846626,
          0.10703348403579191,
          -1.1668063308621461,
          -0.381555081513734,
          -1.04720724283616,
          0.5062179294106165,
          -0.08116042070484192,
          0.824481990419685,
          -0.923959125424289,
          -0.6621806634287214,
          0.8138973060617386,
          -1.8423340149587246,
          -0.21565202574466438,
          -0.8591970758956009,
          2.9304064240575,
          1.1870166863514848,
          0.8388833896271535,
          -1.0656547569717636,
          0.1785522001686026,
          -1.518369903201751,
          0.7712510283723744,
          -0.21280479152112208,
          0.3271004909808801,
          -0.9022411093453506,
          -1.090695941306311,
          -2.563138973546278,
          -0.7545987537079845,
          -1.2526450127513369,
          -1.6847406671440779,
          -0.1036023582144774,
          -0.6358467247015547,
          -1.4727766663202202,
          -0.590644757453359,
          -0.8960077341834933,
          -2.798152401039477,
          0.15038107633998923,
          0.45031898614896504,
          0.011425712330130547,
          1.025351993965511,
          1.226572998471299,
          -1.5520205754109617,
          0.21871894895512994,
          0.6986764947443769,
          -0.44767507487085106,
          0.6600422460523616,
          1.1821509492312061,
          -2.2418468856707894,
          -0.4419842782451757,
          0.06236833309591093,
          0.7427087694186271,
          -0.20564405623449886,
          -0.9245755611975662,
          0.9661074576054179,
          -0.6525451889087391,
          -0.3230946170781425,
          0.5530579658372701,
          -2.402241575581015,
          -1.044064236634867,
          -0.3731496027692522,
          -0.7422611643632118,
          0.3532662889262816,
          0.8371267137108779,
          -0.7760427206692124,
          -1.5678289690505915,
          -1.2153876341294814,
          0.32655867839731484,
          0.4193562728649102,
          -1.4041639217486626,
          -1.5104150994841226,
          -0.00898105066874273,
          -0.22317194711681937,
          -2.1355721103257186,
          0.46383975546221357,
          0.14180092612446324,
          -1.7439669577936254,
          0.8805075120387779,
          -0.19911597621842822,
          -0.09066691794570107,
          -1.9175075905413421,
          1.578934679646553,
          -0.6444181228984757,
          -0.23588114328227852,
          -1.418161178595617,
          -0.8462454912953437
         ],
         "xaxis": "x14",
         "y": [
          1.1246843674959957,
          0.30049533189783645,
          0.8025962744478276,
          0.7212705363494668,
          1.602186638796265,
          -0.8532212128777308,
          -0.8564612650830035,
          0.7321595570434628,
          -1.1337145222026934,
          1.4634212027526186,
          0.20548916175062573,
          0.021054039597016162,
          1.0315891709758234,
          0.39762598722580156,
          0.8181124891677705,
          -1.257727201958525,
          1.006894987976566,
          -0.43738351432421607,
          -0.656319547676891,
          -0.424894522857005,
          1.32646489158406,
          -0.9253302231911357,
          1.358999726645828,
          -0.5745922183234397,
          0.7727671266528368,
          0.1559548232928168,
          0.07569906993454754,
          -0.761789665716304,
          0.20875988219228842,
          -1.153460665058704,
          -0.02130387228565194,
          -0.6639585682728415,
          0.9059523580656053,
          -0.5916558858790686,
          0.2344319020788495,
          -0.8894295500590714,
          0.5267736467892354,
          0.19638752182362557,
          -0.5440599123857605,
          2.107812809719129,
          -1.1272490954674945,
          -0.013543298110139712,
          -1.0142057882715276,
          -1.6514260081429313,
          0.6971305080691508,
          -0.9341803066183489,
          -0.059519557306589414,
          -0.5991125492938587,
          1.7841756932855022,
          -0.950246832481104,
          0.34436240726162204,
          -0.28670128966292524,
          0.7086454293379126,
          0.4626272116618061,
          -1.6482925640674462,
          -0.8182631844496813,
          -0.36140160425602136,
          -0.12490423396524607,
          0.9958756045684123,
          -0.9681996891240179,
          -0.3421514556704743,
          -0.987445979920801,
          -0.8211251451239602,
          -0.8047334464840704,
          0.8902531073755087,
          -0.05413706651249456,
          0.49756342279375,
          0.49514608484391825,
          0.2712799354619257,
          0.15904754142497715,
          -0.9225865273488882,
          0.5668879868258986,
          -1.789292613257875,
          -0.5933786171748008,
          1.695614980606501,
          1.8368717383703639,
          -1.568925014481212,
          1.014750609082017,
          -0.6085646375199477,
          -0.45656355507532226,
          -2.3898464482252195,
          -0.17895650172278463,
          -0.5515320852148546,
          1.355442175043136,
          1.2453659574195066,
          0.5193569705027177,
          -0.14747930332802672,
          -1.007244765411999,
          -0.6722644995180294,
          -0.6068736247768314,
          -1.5299516999784493,
          -0.07221633579846504,
          -0.6651878550679274,
          0.6482448170959881,
          -0.7864291346288644,
          0.28704733211074973,
          -0.28019626956938243,
          0.6304718747903927,
          -0.11163214826960532,
          1.6224822434350255
         ],
         "yaxis": "y14"
        },
        {
         "line": {
          "color": "rgba(128, 128, 128, 1.0)",
          "dash": "solid",
          "shape": "linear",
          "width": 1.3
         },
         "marker": {
          "size": 2,
          "symbol": "circle"
         },
         "mode": "markers",
         "name": "D",
         "text": "",
         "type": "scatter",
         "x": [
          0.46152947162593244,
          2.3453425755967783,
          0.9306960861197442,
          0.9971209641117642,
          0.9098240869465825,
          -0.8992156555937518,
          0.05776410517264999,
          1.0456514353627107,
          0.19479344560567935,
          0.702957108620434,
          0.2736982316935703,
          1.4528089411198994,
          0.375262027659549,
          1.3779929136828617,
          1.6525430970150592,
          0.4292643268724953,
          -0.6429969960693374,
          -0.535708636960107,
          -0.2254048992399047,
          0.972611840409529,
          -0.7056138546730004,
          0.3608353064663021,
          -0.3472419961013051,
          0.649103638249867,
          -0.5345381324454135,
          -0.27190796725388344,
          1.7113937114138515,
          1.3403274659389866,
          1.100254635385496,
          0.7403009804524457,
          1.9059069829362965,
          -0.4304016669811067,
          -0.7657826446732217,
          0.09735786149878127,
          -1.4489322773807742,
          -0.759731205345188,
          -0.32649934904340927,
          -1.02262758159044,
          -0.2630458865654558,
          -1.4110697283148121,
          0.6975354710803369,
          0.5670290695758997,
          0.09378123142685918,
          -0.541824348304414,
          -0.3126378316391564,
          -0.7680815144311282,
          -0.1411852635729873,
          0.028543260558163,
          1.0179839764955765,
          -0.5285140438912208,
          -0.8511601899611472,
          0.4831823496189203,
          0.2651190257723699,
          -2.390271249243296,
          -0.8077584718378438,
          2.097526768153678,
          0.4048037029266085,
          -0.16561406925525096,
          -0.3219242835088102,
          0.09715380300886668,
          -0.05796782629064404,
          0.7654160412399421,
          -1.007236191345518,
          -0.5956087741346205,
          0.9991500226697821,
          0.5197309314110059,
          1.5094854115874217,
          -1.0953128724671997,
          -0.30267746265717016,
          -1.2039647200187675,
          0.1417430613926693,
          2.9020055992809146,
          -1.0921603828679116,
          -0.17475028514206495,
          0.5999003778680218,
          -0.8879255004529071,
          -1.0146533368311876,
          -1.9256051180012375,
          0.07316691321370815,
          -0.7421930715349236,
          -0.49676676821491145,
          -0.8633368209056816,
          -0.8396228171977157,
          0.40683066760370346,
          -2.0719350450233356,
          0.8992204338667126,
          1.148986983358305,
          0.6456008302475996,
          0.6767390157915529,
          -0.6019246086882081,
          1.0203299674350697,
          -1.0130034510006602,
          1.365704171720769,
          -0.10157555304730498,
          0.7194319123281624,
          -0.03979543658518105,
          1.322056296599753,
          0.7760581342635817,
          -1.4479263256535408,
          0.8453213874975339
         ],
         "xaxis": "x15",
         "y": [
          1.1246843674959957,
          0.30049533189783645,
          0.8025962744478276,
          0.7212705363494668,
          1.602186638796265,
          -0.8532212128777308,
          -0.8564612650830035,
          0.7321595570434628,
          -1.1337145222026934,
          1.4634212027526186,
          0.20548916175062573,
          0.021054039597016162,
          1.0315891709758234,
          0.39762598722580156,
          0.8181124891677705,
          -1.257727201958525,
          1.006894987976566,
          -0.43738351432421607,
          -0.656319547676891,
          -0.424894522857005,
          1.32646489158406,
          -0.9253302231911357,
          1.358999726645828,
          -0.5745922183234397,
          0.7727671266528368,
          0.1559548232928168,
          0.07569906993454754,
          -0.761789665716304,
          0.20875988219228842,
          -1.153460665058704,
          -0.02130387228565194,
          -0.6639585682728415,
          0.9059523580656053,
          -0.5916558858790686,
          0.2344319020788495,
          -0.8894295500590714,
          0.5267736467892354,
          0.19638752182362557,
          -0.5440599123857605,
          2.107812809719129,
          -1.1272490954674945,
          -0.013543298110139712,
          -1.0142057882715276,
          -1.6514260081429313,
          0.6971305080691508,
          -0.9341803066183489,
          -0.059519557306589414,
          -0.5991125492938587,
          1.7841756932855022,
          -0.950246832481104,
          0.34436240726162204,
          -0.28670128966292524,
          0.7086454293379126,
          0.4626272116618061,
          -1.6482925640674462,
          -0.8182631844496813,
          -0.36140160425602136,
          -0.12490423396524607,
          0.9958756045684123,
          -0.9681996891240179,
          -0.3421514556704743,
          -0.987445979920801,
          -0.8211251451239602,
          -0.8047334464840704,
          0.8902531073755087,
          -0.05413706651249456,
          0.49756342279375,
          0.49514608484391825,
          0.2712799354619257,
          0.15904754142497715,
          -0.9225865273488882,
          0.5668879868258986,
          -1.789292613257875,
          -0.5933786171748008,
          1.695614980606501,
          1.8368717383703639,
          -1.568925014481212,
          1.014750609082017,
          -0.6085646375199477,
          -0.45656355507532226,
          -2.3898464482252195,
          -0.17895650172278463,
          -0.5515320852148546,
          1.355442175043136,
          1.2453659574195066,
          0.5193569705027177,
          -0.14747930332802672,
          -1.007244765411999,
          -0.6722644995180294,
          -0.6068736247768314,
          -1.5299516999784493,
          -0.07221633579846504,
          -0.6651878550679274,
          0.6482448170959881,
          -0.7864291346288644,
          0.28704733211074973,
          -0.28019626956938243,
          0.6304718747903927,
          -0.11163214826960532,
          1.6224822434350255
         ],
         "yaxis": "y15"
        },
        {
         "histfunc": "count",
         "histnorm": "",
         "marker": {
          "color": "rgba(128, 0, 128, 1.0)",
          "line": {
           "color": "#4D5663",
           "width": 1.3
          }
         },
         "name": "D",
         "nbinsx": 10,
         "opacity": 0.8,
         "orientation": "v",
         "type": "histogram",
         "x": [
          1.1246843674959957,
          0.30049533189783645,
          0.8025962744478276,
          0.7212705363494668,
          1.602186638796265,
          -0.8532212128777308,
          -0.8564612650830035,
          0.7321595570434628,
          -1.1337145222026934,
          1.4634212027526186,
          0.20548916175062573,
          0.021054039597016162,
          1.0315891709758234,
          0.39762598722580156,
          0.8181124891677705,
          -1.257727201958525,
          1.006894987976566,
          -0.43738351432421607,
          -0.656319547676891,
          -0.424894522857005,
          1.32646489158406,
          -0.9253302231911357,
          1.358999726645828,
          -0.5745922183234397,
          0.7727671266528368,
          0.1559548232928168,
          0.07569906993454754,
          -0.761789665716304,
          0.20875988219228842,
          -1.153460665058704,
          -0.02130387228565194,
          -0.6639585682728415,
          0.9059523580656053,
          -0.5916558858790686,
          0.2344319020788495,
          -0.8894295500590714,
          0.5267736467892354,
          0.19638752182362557,
          -0.5440599123857605,
          2.107812809719129,
          -1.1272490954674945,
          -0.013543298110139712,
          -1.0142057882715276,
          -1.6514260081429313,
          0.6971305080691508,
          -0.9341803066183489,
          -0.059519557306589414,
          -0.5991125492938587,
          1.7841756932855022,
          -0.950246832481104,
          0.34436240726162204,
          -0.28670128966292524,
          0.7086454293379126,
          0.4626272116618061,
          -1.6482925640674462,
          -0.8182631844496813,
          -0.36140160425602136,
          -0.12490423396524607,
          0.9958756045684123,
          -0.9681996891240179,
          -0.3421514556704743,
          -0.987445979920801,
          -0.8211251451239602,
          -0.8047334464840704,
          0.8902531073755087,
          -0.05413706651249456,
          0.49756342279375,
          0.49514608484391825,
          0.2712799354619257,
          0.15904754142497715,
          -0.9225865273488882,
          0.5668879868258986,
          -1.789292613257875,
          -0.5933786171748008,
          1.695614980606501,
          1.8368717383703639,
          -1.568925014481212,
          1.014750609082017,
          -0.6085646375199477,
          -0.45656355507532226,
          -2.3898464482252195,
          -0.17895650172278463,
          -0.5515320852148546,
          1.355442175043136,
          1.2453659574195066,
          0.5193569705027177,
          -0.14747930332802672,
          -1.007244765411999,
          -0.6722644995180294,
          -0.6068736247768314,
          -1.5299516999784493,
          -0.07221633579846504,
          -0.6651878550679274,
          0.6482448170959881,
          -0.7864291346288644,
          0.28704733211074973,
          -0.28019626956938243,
          0.6304718747903927,
          -0.11163214826960532,
          1.6224822434350255
         ],
         "xaxis": "x16",
         "yaxis": "y16"
        }
       ],
       "layout": {
        "bargap": 0.02,
        "legend": {
         "bgcolor": "#F5F6F9",
         "font": {
          "color": "#4D5663"
         }
        },
        "paper_bgcolor": "#F5F6F9",
        "plot_bgcolor": "#F5F6F9",
        "showlegend": false,
        "template": {
         "data": {
          "bar": [
           {
            "error_x": {
             "color": "#2a3f5f"
            },
            "error_y": {
             "color": "#2a3f5f"
            },
            "marker": {
             "line": {
              "color": "#E5ECF6",
              "width": 0.5
             }
            },
            "type": "bar"
           }
          ],
          "barpolar": [
           {
            "marker": {
             "line": {
              "color": "#E5ECF6",
              "width": 0.5
             }
            },
            "type": "barpolar"
           }
          ],
          "carpet": [
           {
            "aaxis": {
             "endlinecolor": "#2a3f5f",
             "gridcolor": "white",
             "linecolor": "white",
             "minorgridcolor": "white",
             "startlinecolor": "#2a3f5f"
            },
            "baxis": {
             "endlinecolor": "#2a3f5f",
             "gridcolor": "white",
             "linecolor": "white",
             "minorgridcolor": "white",
             "startlinecolor": "#2a3f5f"
            },
            "type": "carpet"
           }
          ],
          "choropleth": [
           {
            "colorbar": {
             "outlinewidth": 0,
             "ticks": ""
            },
            "type": "choropleth"
           }
          ],
          "contour": [
           {
            "colorbar": {
             "outlinewidth": 0,
             "ticks": ""
            },
            "colorscale": [
             [
              0,
              "#0d0887"
             ],
             [
              0.1111111111111111,
              "#46039f"
             ],
             [
              0.2222222222222222,
              "#7201a8"
             ],
             [
              0.3333333333333333,
              "#9c179e"
             ],
             [
              0.4444444444444444,
              "#bd3786"
             ],
             [
              0.5555555555555556,
              "#d8576b"
             ],
             [
              0.6666666666666666,
              "#ed7953"
             ],
             [
              0.7777777777777778,
              "#fb9f3a"
             ],
             [
              0.8888888888888888,
              "#fdca26"
             ],
             [
              1,
              "#f0f921"
             ]
            ],
            "type": "contour"
           }
          ],
          "contourcarpet": [
           {
            "colorbar": {
             "outlinewidth": 0,
             "ticks": ""
            },
            "type": "contourcarpet"
           }
          ],
          "heatmap": [
           {
            "colorbar": {
             "outlinewidth": 0,
             "ticks": ""
            },
            "colorscale": [
             [
              0,
              "#0d0887"
             ],
             [
              0.1111111111111111,
              "#46039f"
             ],
             [
              0.2222222222222222,
              "#7201a8"
             ],
             [
              0.3333333333333333,
              "#9c179e"
             ],
             [
              0.4444444444444444,
              "#bd3786"
             ],
             [
              0.5555555555555556,
              "#d8576b"
             ],
             [
              0.6666666666666666,
              "#ed7953"
             ],
             [
              0.7777777777777778,
              "#fb9f3a"
             ],
             [
              0.8888888888888888,
              "#fdca26"
             ],
             [
              1,
              "#f0f921"
             ]
            ],
            "type": "heatmap"
           }
          ],
          "heatmapgl": [
           {
            "colorbar": {
             "outlinewidth": 0,
             "ticks": ""
            },
            "colorscale": [
             [
              0,
              "#0d0887"
             ],
             [
              0.1111111111111111,
              "#46039f"
             ],
             [
              0.2222222222222222,
              "#7201a8"
             ],
             [
              0.3333333333333333,
              "#9c179e"
             ],
             [
              0.4444444444444444,
              "#bd3786"
             ],
             [
              0.5555555555555556,
              "#d8576b"
             ],
             [
              0.6666666666666666,
              "#ed7953"
             ],
             [
              0.7777777777777778,
              "#fb9f3a"
             ],
             [
              0.8888888888888888,
              "#fdca26"
             ],
             [
              1,
              "#f0f921"
             ]
            ],
            "type": "heatmapgl"
           }
          ],
          "histogram": [
           {
            "marker": {
             "colorbar": {
              "outlinewidth": 0,
              "ticks": ""
             }
            },
            "type": "histogram"
           }
          ],
          "histogram2d": [
           {
            "colorbar": {
             "outlinewidth": 0,
             "ticks": ""
            },
            "colorscale": [
             [
              0,
              "#0d0887"
             ],
             [
              0.1111111111111111,
              "#46039f"
             ],
             [
              0.2222222222222222,
              "#7201a8"
             ],
             [
              0.3333333333333333,
              "#9c179e"
             ],
             [
              0.4444444444444444,
              "#bd3786"
             ],
             [
              0.5555555555555556,
              "#d8576b"
             ],
             [
              0.6666666666666666,
              "#ed7953"
             ],
             [
              0.7777777777777778,
              "#fb9f3a"
             ],
             [
              0.8888888888888888,
              "#fdca26"
             ],
             [
              1,
              "#f0f921"
             ]
            ],
            "type": "histogram2d"
           }
          ],
          "histogram2dcontour": [
           {
            "colorbar": {
             "outlinewidth": 0,
             "ticks": ""
            },
            "colorscale": [
             [
              0,
              "#0d0887"
             ],
             [
              0.1111111111111111,
              "#46039f"
             ],
             [
              0.2222222222222222,
              "#7201a8"
             ],
             [
              0.3333333333333333,
              "#9c179e"
             ],
             [
              0.4444444444444444,
              "#bd3786"
             ],
             [
              0.5555555555555556,
              "#d8576b"
             ],
             [
              0.6666666666666666,
              "#ed7953"
             ],
             [
              0.7777777777777778,
              "#fb9f3a"
             ],
             [
              0.8888888888888888,
              "#fdca26"
             ],
             [
              1,
              "#f0f921"
             ]
            ],
            "type": "histogram2dcontour"
           }
          ],
          "mesh3d": [
           {
            "colorbar": {
             "outlinewidth": 0,
             "ticks": ""
            },
            "type": "mesh3d"
           }
          ],
          "parcoords": [
           {
            "line": {
             "colorbar": {
              "outlinewidth": 0,
              "ticks": ""
             }
            },
            "type": "parcoords"
           }
          ],
          "pie": [
           {
            "automargin": true,
            "type": "pie"
           }
          ],
          "scatter": [
           {
            "marker": {
             "colorbar": {
              "outlinewidth": 0,
              "ticks": ""
             }
            },
            "type": "scatter"
           }
          ],
          "scatter3d": [
           {
            "line": {
             "colorbar": {
              "outlinewidth": 0,
              "ticks": ""
             }
            },
            "marker": {
             "colorbar": {
              "outlinewidth": 0,
              "ticks": ""
             }
            },
            "type": "scatter3d"
           }
          ],
          "scattercarpet": [
           {
            "marker": {
             "colorbar": {
              "outlinewidth": 0,
              "ticks": ""
             }
            },
            "type": "scattercarpet"
           }
          ],
          "scattergeo": [
           {
            "marker": {
             "colorbar": {
              "outlinewidth": 0,
              "ticks": ""
             }
            },
            "type": "scattergeo"
           }
          ],
          "scattergl": [
           {
            "marker": {
             "colorbar": {
              "outlinewidth": 0,
              "ticks": ""
             }
            },
            "type": "scattergl"
           }
          ],
          "scattermapbox": [
           {
            "marker": {
             "colorbar": {
              "outlinewidth": 0,
              "ticks": ""
             }
            },
            "type": "scattermapbox"
           }
          ],
          "scatterpolar": [
           {
            "marker": {
             "colorbar": {
              "outlinewidth": 0,
              "ticks": ""
             }
            },
            "type": "scatterpolar"
           }
          ],
          "scatterpolargl": [
           {
            "marker": {
             "colorbar": {
              "outlinewidth": 0,
              "ticks": ""
             }
            },
            "type": "scatterpolargl"
           }
          ],
          "scatterternary": [
           {
            "marker": {
             "colorbar": {
              "outlinewidth": 0,
              "ticks": ""
             }
            },
            "type": "scatterternary"
           }
          ],
          "surface": [
           {
            "colorbar": {
             "outlinewidth": 0,
             "ticks": ""
            },
            "colorscale": [
             [
              0,
              "#0d0887"
             ],
             [
              0.1111111111111111,
              "#46039f"
             ],
             [
              0.2222222222222222,
              "#7201a8"
             ],
             [
              0.3333333333333333,
              "#9c179e"
             ],
             [
              0.4444444444444444,
              "#bd3786"
             ],
             [
              0.5555555555555556,
              "#d8576b"
             ],
             [
              0.6666666666666666,
              "#ed7953"
             ],
             [
              0.7777777777777778,
              "#fb9f3a"
             ],
             [
              0.8888888888888888,
              "#fdca26"
             ],
             [
              1,
              "#f0f921"
             ]
            ],
            "type": "surface"
           }
          ],
          "table": [
           {
            "cells": {
             "fill": {
              "color": "#EBF0F8"
             },
             "line": {
              "color": "white"
             }
            },
            "header": {
             "fill": {
              "color": "#C8D4E3"
             },
             "line": {
              "color": "white"
             }
            },
            "type": "table"
           }
          ]
         },
         "layout": {
          "annotationdefaults": {
           "arrowcolor": "#2a3f5f",
           "arrowhead": 0,
           "arrowwidth": 1
          },
          "autotypenumbers": "strict",
          "coloraxis": {
           "colorbar": {
            "outlinewidth": 0,
            "ticks": ""
           }
          },
          "colorscale": {
           "diverging": [
            [
             0,
             "#8e0152"
            ],
            [
             0.1,
             "#c51b7d"
            ],
            [
             0.2,
             "#de77ae"
            ],
            [
             0.3,
             "#f1b6da"
            ],
            [
             0.4,
             "#fde0ef"
            ],
            [
             0.5,
             "#f7f7f7"
            ],
            [
             0.6,
             "#e6f5d0"
            ],
            [
             0.7,
             "#b8e186"
            ],
            [
             0.8,
             "#7fbc41"
            ],
            [
             0.9,
             "#4d9221"
            ],
            [
             1,
             "#276419"
            ]
           ],
           "sequential": [
            [
             0,
             "#0d0887"
            ],
            [
             0.1111111111111111,
             "#46039f"
            ],
            [
             0.2222222222222222,
             "#7201a8"
            ],
            [
             0.3333333333333333,
             "#9c179e"
            ],
            [
             0.4444444444444444,
             "#bd3786"
            ],
            [
             0.5555555555555556,
             "#d8576b"
            ],
            [
             0.6666666666666666,
             "#ed7953"
            ],
            [
             0.7777777777777778,
             "#fb9f3a"
            ],
            [
             0.8888888888888888,
             "#fdca26"
            ],
            [
             1,
             "#f0f921"
            ]
           ],
           "sequentialminus": [
            [
             0,
             "#0d0887"
            ],
            [
             0.1111111111111111,
             "#46039f"
            ],
            [
             0.2222222222222222,
             "#7201a8"
            ],
            [
             0.3333333333333333,
             "#9c179e"
            ],
            [
             0.4444444444444444,
             "#bd3786"
            ],
            [
             0.5555555555555556,
             "#d8576b"
            ],
            [
             0.6666666666666666,
             "#ed7953"
            ],
            [
             0.7777777777777778,
             "#fb9f3a"
            ],
            [
             0.8888888888888888,
             "#fdca26"
            ],
            [
             1,
             "#f0f921"
            ]
           ]
          },
          "colorway": [
           "#636efa",
           "#EF553B",
           "#00cc96",
           "#ab63fa",
           "#FFA15A",
           "#19d3f3",
           "#FF6692",
           "#B6E880",
           "#FF97FF",
           "#FECB52"
          ],
          "font": {
           "color": "#2a3f5f"
          },
          "geo": {
           "bgcolor": "white",
           "lakecolor": "white",
           "landcolor": "#E5ECF6",
           "showlakes": true,
           "showland": true,
           "subunitcolor": "white"
          },
          "hoverlabel": {
           "align": "left"
          },
          "hovermode": "closest",
          "mapbox": {
           "style": "light"
          },
          "paper_bgcolor": "white",
          "plot_bgcolor": "#E5ECF6",
          "polar": {
           "angularaxis": {
            "gridcolor": "white",
            "linecolor": "white",
            "ticks": ""
           },
           "bgcolor": "#E5ECF6",
           "radialaxis": {
            "gridcolor": "white",
            "linecolor": "white",
            "ticks": ""
           }
          },
          "scene": {
           "xaxis": {
            "backgroundcolor": "#E5ECF6",
            "gridcolor": "white",
            "gridwidth": 2,
            "linecolor": "white",
            "showbackground": true,
            "ticks": "",
            "zerolinecolor": "white"
           },
           "yaxis": {
            "backgroundcolor": "#E5ECF6",
            "gridcolor": "white",
            "gridwidth": 2,
            "linecolor": "white",
            "showbackground": true,
            "ticks": "",
            "zerolinecolor": "white"
           },
           "zaxis": {
            "backgroundcolor": "#E5ECF6",
            "gridcolor": "white",
            "gridwidth": 2,
            "linecolor": "white",
            "showbackground": true,
            "ticks": "",
            "zerolinecolor": "white"
           }
          },
          "shapedefaults": {
           "line": {
            "color": "#2a3f5f"
           }
          },
          "ternary": {
           "aaxis": {
            "gridcolor": "white",
            "linecolor": "white",
            "ticks": ""
           },
           "baxis": {
            "gridcolor": "white",
            "linecolor": "white",
            "ticks": ""
           },
           "bgcolor": "#E5ECF6",
           "caxis": {
            "gridcolor": "white",
            "linecolor": "white",
            "ticks": ""
           }
          },
          "title": {
           "x": 0.05
          },
          "xaxis": {
           "automargin": true,
           "gridcolor": "white",
           "linecolor": "white",
           "ticks": "",
           "title": {
            "standoff": 15
           },
           "zerolinecolor": "white",
           "zerolinewidth": 2
          },
          "yaxis": {
           "automargin": true,
           "gridcolor": "white",
           "linecolor": "white",
           "ticks": "",
           "title": {
            "standoff": 15
           },
           "zerolinecolor": "white",
           "zerolinewidth": 2
          }
         }
        },
        "title": {
         "font": {
          "color": "#4D5663"
         }
        },
        "xaxis": {
         "anchor": "y",
         "domain": [
          0,
          0.2125
         ],
         "gridcolor": "#E1E5ED",
         "showgrid": false,
         "tickfont": {
          "color": "#4D5663"
         },
         "title": {
          "font": {
           "color": "#4D5663"
          },
          "text": ""
         },
         "zerolinecolor": "#E1E5ED"
        },
        "xaxis10": {
         "anchor": "y10",
         "domain": [
          0.2625,
          0.475
         ],
         "gridcolor": "#E1E5ED",
         "showgrid": false,
         "tickfont": {
          "color": "#4D5663"
         },
         "title": {
          "font": {
           "color": "#4D5663"
          },
          "text": ""
         },
         "zerolinecolor": "#E1E5ED"
        },
        "xaxis11": {
         "anchor": "y11",
         "domain": [
          0.525,
          0.7375
         ],
         "gridcolor": "#E1E5ED",
         "showgrid": false,
         "tickfont": {
          "color": "#4D5663"
         },
         "title": {
          "font": {
           "color": "#4D5663"
          },
          "text": ""
         },
         "zerolinecolor": "#E1E5ED"
        },
        "xaxis12": {
         "anchor": "y12",
         "domain": [
          0.7875,
          1
         ],
         "gridcolor": "#E1E5ED",
         "showgrid": false,
         "tickfont": {
          "color": "#4D5663"
         },
         "title": {
          "font": {
           "color": "#4D5663"
          },
          "text": ""
         },
         "zerolinecolor": "#E1E5ED"
        },
        "xaxis13": {
         "anchor": "y13",
         "domain": [
          0,
          0.2125
         ],
         "gridcolor": "#E1E5ED",
         "showgrid": false,
         "tickfont": {
          "color": "#4D5663"
         },
         "title": {
          "font": {
           "color": "#4D5663"
          },
          "text": ""
         },
         "zerolinecolor": "#E1E5ED"
        },
        "xaxis14": {
         "anchor": "y14",
         "domain": [
          0.2625,
          0.475
         ],
         "gridcolor": "#E1E5ED",
         "showgrid": false,
         "tickfont": {
          "color": "#4D5663"
         },
         "title": {
          "font": {
           "color": "#4D5663"
          },
          "text": ""
         },
         "zerolinecolor": "#E1E5ED"
        },
        "xaxis15": {
         "anchor": "y15",
         "domain": [
          0.525,
          0.7375
         ],
         "gridcolor": "#E1E5ED",
         "showgrid": false,
         "tickfont": {
          "color": "#4D5663"
         },
         "title": {
          "font": {
           "color": "#4D5663"
          },
          "text": ""
         },
         "zerolinecolor": "#E1E5ED"
        },
        "xaxis16": {
         "anchor": "y16",
         "domain": [
          0.7875,
          1
         ],
         "gridcolor": "#E1E5ED",
         "showgrid": false,
         "tickfont": {
          "color": "#4D5663"
         },
         "title": {
          "font": {
           "color": "#4D5663"
          },
          "text": ""
         },
         "zerolinecolor": "#E1E5ED"
        },
        "xaxis2": {
         "anchor": "y2",
         "domain": [
          0.2625,
          0.475
         ],
         "gridcolor": "#E1E5ED",
         "showgrid": false,
         "tickfont": {
          "color": "#4D5663"
         },
         "title": {
          "font": {
           "color": "#4D5663"
          },
          "text": ""
         },
         "zerolinecolor": "#E1E5ED"
        },
        "xaxis3": {
         "anchor": "y3",
         "domain": [
          0.525,
          0.7375
         ],
         "gridcolor": "#E1E5ED",
         "showgrid": false,
         "tickfont": {
          "color": "#4D5663"
         },
         "title": {
          "font": {
           "color": "#4D5663"
          },
          "text": ""
         },
         "zerolinecolor": "#E1E5ED"
        },
        "xaxis4": {
         "anchor": "y4",
         "domain": [
          0.7875,
          1
         ],
         "gridcolor": "#E1E5ED",
         "showgrid": false,
         "tickfont": {
          "color": "#4D5663"
         },
         "title": {
          "font": {
           "color": "#4D5663"
          },
          "text": ""
         },
         "zerolinecolor": "#E1E5ED"
        },
        "xaxis5": {
         "anchor": "y5",
         "domain": [
          0,
          0.2125
         ],
         "gridcolor": "#E1E5ED",
         "showgrid": false,
         "tickfont": {
          "color": "#4D5663"
         },
         "title": {
          "font": {
           "color": "#4D5663"
          },
          "text": ""
         },
         "zerolinecolor": "#E1E5ED"
        },
        "xaxis6": {
         "anchor": "y6",
         "domain": [
          0.2625,
          0.475
         ],
         "gridcolor": "#E1E5ED",
         "showgrid": false,
         "tickfont": {
          "color": "#4D5663"
         },
         "title": {
          "font": {
           "color": "#4D5663"
          },
          "text": ""
         },
         "zerolinecolor": "#E1E5ED"
        },
        "xaxis7": {
         "anchor": "y7",
         "domain": [
          0.525,
          0.7375
         ],
         "gridcolor": "#E1E5ED",
         "showgrid": false,
         "tickfont": {
          "color": "#4D5663"
         },
         "title": {
          "font": {
           "color": "#4D5663"
          },
          "text": ""
         },
         "zerolinecolor": "#E1E5ED"
        },
        "xaxis8": {
         "anchor": "y8",
         "domain": [
          0.7875,
          1
         ],
         "gridcolor": "#E1E5ED",
         "showgrid": false,
         "tickfont": {
          "color": "#4D5663"
         },
         "title": {
          "font": {
           "color": "#4D5663"
          },
          "text": ""
         },
         "zerolinecolor": "#E1E5ED"
        },
        "xaxis9": {
         "anchor": "y9",
         "domain": [
          0,
          0.2125
         ],
         "gridcolor": "#E1E5ED",
         "showgrid": false,
         "tickfont": {
          "color": "#4D5663"
         },
         "title": {
          "font": {
           "color": "#4D5663"
          },
          "text": ""
         },
         "zerolinecolor": "#E1E5ED"
        },
        "yaxis": {
         "anchor": "x",
         "domain": [
          0.8025,
          1
         ],
         "gridcolor": "#E1E5ED",
         "showgrid": false,
         "tickfont": {
          "color": "#4D5663"
         },
         "title": {
          "font": {
           "color": "#4D5663"
          },
          "text": ""
         },
         "zerolinecolor": "#E1E5ED"
        },
        "yaxis10": {
         "anchor": "x10",
         "domain": [
          0.2675,
          0.465
         ],
         "gridcolor": "#E1E5ED",
         "showgrid": false,
         "tickfont": {
          "color": "#4D5663"
         },
         "title": {
          "font": {
           "color": "#4D5663"
          },
          "text": ""
         },
         "zerolinecolor": "#E1E5ED"
        },
        "yaxis11": {
         "anchor": "x11",
         "domain": [
          0.2675,
          0.465
         ],
         "gridcolor": "#E1E5ED",
         "showgrid": false,
         "tickfont": {
          "color": "#4D5663"
         },
         "title": {
          "font": {
           "color": "#4D5663"
          },
          "text": ""
         },
         "zerolinecolor": "#E1E5ED"
        },
        "yaxis12": {
         "anchor": "x12",
         "domain": [
          0.2675,
          0.465
         ],
         "gridcolor": "#E1E5ED",
         "showgrid": false,
         "tickfont": {
          "color": "#4D5663"
         },
         "title": {
          "font": {
           "color": "#4D5663"
          },
          "text": ""
         },
         "zerolinecolor": "#E1E5ED"
        },
        "yaxis13": {
         "anchor": "x13",
         "domain": [
          0,
          0.1975
         ],
         "gridcolor": "#E1E5ED",
         "showgrid": false,
         "tickfont": {
          "color": "#4D5663"
         },
         "title": {
          "font": {
           "color": "#4D5663"
          },
          "text": ""
         },
         "zerolinecolor": "#E1E5ED"
        },
        "yaxis14": {
         "anchor": "x14",
         "domain": [
          0,
          0.1975
         ],
         "gridcolor": "#E1E5ED",
         "showgrid": false,
         "tickfont": {
          "color": "#4D5663"
         },
         "title": {
          "font": {
           "color": "#4D5663"
          },
          "text": ""
         },
         "zerolinecolor": "#E1E5ED"
        },
        "yaxis15": {
         "anchor": "x15",
         "domain": [
          0,
          0.1975
         ],
         "gridcolor": "#E1E5ED",
         "showgrid": false,
         "tickfont": {
          "color": "#4D5663"
         },
         "title": {
          "font": {
           "color": "#4D5663"
          },
          "text": ""
         },
         "zerolinecolor": "#E1E5ED"
        },
        "yaxis16": {
         "anchor": "x16",
         "domain": [
          0,
          0.1975
         ],
         "gridcolor": "#E1E5ED",
         "showgrid": false,
         "tickfont": {
          "color": "#4D5663"
         },
         "title": {
          "font": {
           "color": "#4D5663"
          },
          "text": ""
         },
         "zerolinecolor": "#E1E5ED"
        },
        "yaxis2": {
         "anchor": "x2",
         "domain": [
          0.8025,
          1
         ],
         "gridcolor": "#E1E5ED",
         "showgrid": false,
         "tickfont": {
          "color": "#4D5663"
         },
         "title": {
          "font": {
           "color": "#4D5663"
          },
          "text": ""
         },
         "zerolinecolor": "#E1E5ED"
        },
        "yaxis3": {
         "anchor": "x3",
         "domain": [
          0.8025,
          1
         ],
         "gridcolor": "#E1E5ED",
         "showgrid": false,
         "tickfont": {
          "color": "#4D5663"
         },
         "title": {
          "font": {
           "color": "#4D5663"
          },
          "text": ""
         },
         "zerolinecolor": "#E1E5ED"
        },
        "yaxis4": {
         "anchor": "x4",
         "domain": [
          0.8025,
          1
         ],
         "gridcolor": "#E1E5ED",
         "showgrid": false,
         "tickfont": {
          "color": "#4D5663"
         },
         "title": {
          "font": {
           "color": "#4D5663"
          },
          "text": ""
         },
         "zerolinecolor": "#E1E5ED"
        },
        "yaxis5": {
         "anchor": "x5",
         "domain": [
          0.535,
          0.7325
         ],
         "gridcolor": "#E1E5ED",
         "showgrid": false,
         "tickfont": {
          "color": "#4D5663"
         },
         "title": {
          "font": {
           "color": "#4D5663"
          },
          "text": ""
         },
         "zerolinecolor": "#E1E5ED"
        },
        "yaxis6": {
         "anchor": "x6",
         "domain": [
          0.535,
          0.7325
         ],
         "gridcolor": "#E1E5ED",
         "showgrid": false,
         "tickfont": {
          "color": "#4D5663"
         },
         "title": {
          "font": {
           "color": "#4D5663"
          },
          "text": ""
         },
         "zerolinecolor": "#E1E5ED"
        },
        "yaxis7": {
         "anchor": "x7",
         "domain": [
          0.535,
          0.7325
         ],
         "gridcolor": "#E1E5ED",
         "showgrid": false,
         "tickfont": {
          "color": "#4D5663"
         },
         "title": {
          "font": {
           "color": "#4D5663"
          },
          "text": ""
         },
         "zerolinecolor": "#E1E5ED"
        },
        "yaxis8": {
         "anchor": "x8",
         "domain": [
          0.535,
          0.7325
         ],
         "gridcolor": "#E1E5ED",
         "showgrid": false,
         "tickfont": {
          "color": "#4D5663"
         },
         "title": {
          "font": {
           "color": "#4D5663"
          },
          "text": ""
         },
         "zerolinecolor": "#E1E5ED"
        },
        "yaxis9": {
         "anchor": "x9",
         "domain": [
          0.2675,
          0.465
         ],
         "gridcolor": "#E1E5ED",
         "showgrid": false,
         "tickfont": {
          "color": "#4D5663"
         },
         "title": {
          "font": {
           "color": "#4D5663"
          },
          "text": ""
         },
         "zerolinecolor": "#E1E5ED"
        }
       }
      },
      "text/html": [
       "<div>                            <div id=\"d2ee0430-98c6-4a4f-9798-a71fce2c9832\" class=\"plotly-graph-div\" style=\"height:525px; width:100%;\"></div>            <script type=\"text/javascript\">                require([\"plotly\"], function(Plotly) {                    window.PLOTLYENV=window.PLOTLYENV || {};\n",
       "                    window.PLOTLYENV.BASE_URL='https://plot.ly';                                    if (document.getElementById(\"d2ee0430-98c6-4a4f-9798-a71fce2c9832\")) {                    Plotly.newPlot(                        \"d2ee0430-98c6-4a4f-9798-a71fce2c9832\",                        [{\"histfunc\": \"count\", \"histnorm\": \"\", \"marker\": {\"color\": \"rgba(255, 153, 51, 1.0)\", \"line\": {\"color\": \"#4D5663\", \"width\": 1.3}}, \"name\": \"A\", \"nbinsx\": 10, \"opacity\": 0.8, \"orientation\": \"v\", \"type\": \"histogram\", \"x\": [1.4917739319507988, -0.1576075136610856, -0.930328601981876, -0.6791097036693865, 1.246802046482842, -0.5806183447238982, 0.9551482952637191, -0.9561769134235306, 1.2144518407090386, 0.31959647065023283, -1.4423615094359339, 1.8507899242342944, 1.9847942969865817, 0.6095414371590581, -1.069062089292798, 0.6852538624950293, -0.8462177638395003, 0.22167000989186186, 0.8918580824529956, -0.1940932831989595, 0.33921698686267754, -0.06992664359765931, 0.690323282593047, 0.6506433463557831, 0.7564904122747336, -1.308249635588235, -0.22464215572953222, 0.09919358272849658, 1.1287581168730763, -0.36725877754636344, 0.09096065814427151, -0.8805373216943375, 0.890854427029569, 0.1155311465883702, 0.5143751348157323, -0.25414110899522613, 1.4833137143331045, 0.3675447075511886, -1.5077217377202732, -0.6373616669671688, 1.1456740193979287, 1.2559528674572056, -0.20392733626662685, -0.9462356231111191, -0.8254221598651107, -1.2902954284480845, -0.2716337111245958, -0.7928249861140338, -1.6755476798400208, -0.7978918224518056, 0.5996331045123291, -0.9994054715811946, -1.368953160022903, -0.6601821803669641, -0.6499980055955829, 0.9251787037144138, 1.256321305290484, 0.31557783645401594, -1.5844673041367536, 1.0781227686646015, -1.437693609400543, 0.13423954401837473, 0.36730879609807726, 1.5264830168099544, 0.3603263306995897, 0.1503890266979325, 0.20458422906768983, -0.00986072427559832, -0.3193800893160297, 0.34841930348296857, -0.3994290487453984, -0.9116400976688431, 0.9654902580213899, 0.24234907344618214, -0.05746287603372838, 0.7553078082518422, -1.1442230167325054, -0.8253389178601065, 0.5701321481460176, 0.235649958350743, -0.5342026398077849, 0.5691215410981469, 0.09507234876738771, -0.6708118348301298, -1.2797752333975452, -1.7700033326782072, 1.2145166297977998, -1.4710487864158104, 1.4269559058111128, -0.07240036633000582, 1.4080462471242083, 0.6675645409240432, -0.3302173155427578, -0.3580002598687018, -0.5747493064136403, -0.54233098908547, 1.122046746352447, 0.3792037783979195, 0.48350931449727996, -0.43136459685774653], \"xaxis\": \"x\", \"yaxis\": \"y\"}, {\"line\": {\"color\": \"rgba(128, 128, 128, 1.0)\", \"dash\": \"solid\", \"shape\": \"linear\", \"width\": 1.3}, \"marker\": {\"size\": 2, \"symbol\": \"circle\"}, \"mode\": \"markers\", \"name\": \"A\", \"text\": \"\", \"type\": \"scatter\", \"x\": [0.45759144337485264, -1.852696670942872, 0.6037624201043539, 1.6807726295254402, -0.6134495049356505, -0.13990727158452076, 0.03124279714296553, -0.4648977013897088, 0.9553997045315877, 0.7283752107040995, 0.17117093428101382, -1.7315612380768213, 0.35740744238423494, 0.26415998052564404, -0.17537080293451385, -0.5363941017251691, 0.6963737981846626, 0.10703348403579191, -1.1668063308621461, -0.381555081513734, -1.04720724283616, 0.5062179294106165, -0.08116042070484192, 0.824481990419685, -0.923959125424289, -0.6621806634287214, 0.8138973060617386, -1.8423340149587246, -0.21565202574466438, -0.8591970758956009, 2.9304064240575, 1.1870166863514848, 0.8388833896271535, -1.0656547569717636, 0.1785522001686026, -1.518369903201751, 0.7712510283723744, -0.21280479152112208, 0.3271004909808801, -0.9022411093453506, -1.090695941306311, -2.563138973546278, -0.7545987537079845, -1.2526450127513369, -1.6847406671440779, -0.1036023582144774, -0.6358467247015547, -1.4727766663202202, -0.590644757453359, -0.8960077341834933, -2.798152401039477, 0.15038107633998923, 0.45031898614896504, 0.011425712330130547, 1.025351993965511, 1.226572998471299, -1.5520205754109617, 0.21871894895512994, 0.6986764947443769, -0.44767507487085106, 0.6600422460523616, 1.1821509492312061, -2.2418468856707894, -0.4419842782451757, 0.06236833309591093, 0.7427087694186271, -0.20564405623449886, -0.9245755611975662, 0.9661074576054179, -0.6525451889087391, -0.3230946170781425, 0.5530579658372701, -2.402241575581015, -1.044064236634867, -0.3731496027692522, -0.7422611643632118, 0.3532662889262816, 0.8371267137108779, -0.7760427206692124, -1.5678289690505915, -1.2153876341294814, 0.32655867839731484, 0.4193562728649102, -1.4041639217486626, -1.5104150994841226, -0.00898105066874273, -0.22317194711681937, -2.1355721103257186, 0.46383975546221357, 0.14180092612446324, -1.7439669577936254, 0.8805075120387779, -0.19911597621842822, -0.09066691794570107, -1.9175075905413421, 1.578934679646553, -0.6444181228984757, -0.23588114328227852, -1.418161178595617, -0.8462454912953437], \"xaxis\": \"x2\", \"y\": [1.4917739319507988, -0.1576075136610856, -0.930328601981876, -0.6791097036693865, 1.246802046482842, -0.5806183447238982, 0.9551482952637191, -0.9561769134235306, 1.2144518407090386, 0.31959647065023283, -1.4423615094359339, 1.8507899242342944, 1.9847942969865817, 0.6095414371590581, -1.069062089292798, 0.6852538624950293, -0.8462177638395003, 0.22167000989186186, 0.8918580824529956, -0.1940932831989595, 0.33921698686267754, -0.06992664359765931, 0.690323282593047, 0.6506433463557831, 0.7564904122747336, -1.308249635588235, -0.22464215572953222, 0.09919358272849658, 1.1287581168730763, -0.36725877754636344, 0.09096065814427151, -0.8805373216943375, 0.890854427029569, 0.1155311465883702, 0.5143751348157323, -0.25414110899522613, 1.4833137143331045, 0.3675447075511886, -1.5077217377202732, -0.6373616669671688, 1.1456740193979287, 1.2559528674572056, -0.20392733626662685, -0.9462356231111191, -0.8254221598651107, -1.2902954284480845, -0.2716337111245958, -0.7928249861140338, -1.6755476798400208, -0.7978918224518056, 0.5996331045123291, -0.9994054715811946, -1.368953160022903, -0.6601821803669641, -0.6499980055955829, 0.9251787037144138, 1.256321305290484, 0.31557783645401594, -1.5844673041367536, 1.0781227686646015, -1.437693609400543, 0.13423954401837473, 0.36730879609807726, 1.5264830168099544, 0.3603263306995897, 0.1503890266979325, 0.20458422906768983, -0.00986072427559832, -0.3193800893160297, 0.34841930348296857, -0.3994290487453984, -0.9116400976688431, 0.9654902580213899, 0.24234907344618214, -0.05746287603372838, 0.7553078082518422, -1.1442230167325054, -0.8253389178601065, 0.5701321481460176, 0.235649958350743, -0.5342026398077849, 0.5691215410981469, 0.09507234876738771, -0.6708118348301298, -1.2797752333975452, -1.7700033326782072, 1.2145166297977998, -1.4710487864158104, 1.4269559058111128, -0.07240036633000582, 1.4080462471242083, 0.6675645409240432, -0.3302173155427578, -0.3580002598687018, -0.5747493064136403, -0.54233098908547, 1.122046746352447, 0.3792037783979195, 0.48350931449727996, -0.43136459685774653], \"yaxis\": \"y2\"}, {\"line\": {\"color\": \"rgba(128, 128, 128, 1.0)\", \"dash\": \"solid\", \"shape\": \"linear\", \"width\": 1.3}, \"marker\": {\"size\": 2, \"symbol\": \"circle\"}, \"mode\": \"markers\", \"name\": \"A\", \"text\": \"\", \"type\": \"scatter\", \"x\": [0.46152947162593244, 2.3453425755967783, 0.9306960861197442, 0.9971209641117642, 0.9098240869465825, -0.8992156555937518, 0.05776410517264999, 1.0456514353627107, 0.19479344560567935, 0.702957108620434, 0.2736982316935703, 1.4528089411198994, 0.375262027659549, 1.3779929136828617, 1.6525430970150592, 0.4292643268724953, -0.6429969960693374, -0.535708636960107, -0.2254048992399047, 0.972611840409529, -0.7056138546730004, 0.3608353064663021, -0.3472419961013051, 0.649103638249867, -0.5345381324454135, -0.27190796725388344, 1.7113937114138515, 1.3403274659389866, 1.100254635385496, 0.7403009804524457, 1.9059069829362965, -0.4304016669811067, -0.7657826446732217, 0.09735786149878127, -1.4489322773807742, -0.759731205345188, -0.32649934904340927, -1.02262758159044, -0.2630458865654558, -1.4110697283148121, 0.6975354710803369, 0.5670290695758997, 0.09378123142685918, -0.541824348304414, -0.3126378316391564, -0.7680815144311282, -0.1411852635729873, 0.028543260558163, 1.0179839764955765, -0.5285140438912208, -0.8511601899611472, 0.4831823496189203, 0.2651190257723699, -2.390271249243296, -0.8077584718378438, 2.097526768153678, 0.4048037029266085, -0.16561406925525096, -0.3219242835088102, 0.09715380300886668, -0.05796782629064404, 0.7654160412399421, -1.007236191345518, -0.5956087741346205, 0.9991500226697821, 0.5197309314110059, 1.5094854115874217, -1.0953128724671997, -0.30267746265717016, -1.2039647200187675, 0.1417430613926693, 2.9020055992809146, -1.0921603828679116, -0.17475028514206495, 0.5999003778680218, -0.8879255004529071, -1.0146533368311876, -1.9256051180012375, 0.07316691321370815, -0.7421930715349236, -0.49676676821491145, -0.8633368209056816, -0.8396228171977157, 0.40683066760370346, -2.0719350450233356, 0.8992204338667126, 1.148986983358305, 0.6456008302475996, 0.6767390157915529, -0.6019246086882081, 1.0203299674350697, -1.0130034510006602, 1.365704171720769, -0.10157555304730498, 0.7194319123281624, -0.03979543658518105, 1.322056296599753, 0.7760581342635817, -1.4479263256535408, 0.8453213874975339], \"xaxis\": \"x3\", \"y\": [1.4917739319507988, -0.1576075136610856, -0.930328601981876, -0.6791097036693865, 1.246802046482842, -0.5806183447238982, 0.9551482952637191, -0.9561769134235306, 1.2144518407090386, 0.31959647065023283, -1.4423615094359339, 1.8507899242342944, 1.9847942969865817, 0.6095414371590581, -1.069062089292798, 0.6852538624950293, -0.8462177638395003, 0.22167000989186186, 0.8918580824529956, -0.1940932831989595, 0.33921698686267754, -0.06992664359765931, 0.690323282593047, 0.6506433463557831, 0.7564904122747336, -1.308249635588235, -0.22464215572953222, 0.09919358272849658, 1.1287581168730763, -0.36725877754636344, 0.09096065814427151, -0.8805373216943375, 0.890854427029569, 0.1155311465883702, 0.5143751348157323, -0.25414110899522613, 1.4833137143331045, 0.3675447075511886, -1.5077217377202732, -0.6373616669671688, 1.1456740193979287, 1.2559528674572056, -0.20392733626662685, -0.9462356231111191, -0.8254221598651107, -1.2902954284480845, -0.2716337111245958, -0.7928249861140338, -1.6755476798400208, -0.7978918224518056, 0.5996331045123291, -0.9994054715811946, -1.368953160022903, -0.6601821803669641, -0.6499980055955829, 0.9251787037144138, 1.256321305290484, 0.31557783645401594, -1.5844673041367536, 1.0781227686646015, -1.437693609400543, 0.13423954401837473, 0.36730879609807726, 1.5264830168099544, 0.3603263306995897, 0.1503890266979325, 0.20458422906768983, -0.00986072427559832, -0.3193800893160297, 0.34841930348296857, -0.3994290487453984, -0.9116400976688431, 0.9654902580213899, 0.24234907344618214, -0.05746287603372838, 0.7553078082518422, -1.1442230167325054, -0.8253389178601065, 0.5701321481460176, 0.235649958350743, -0.5342026398077849, 0.5691215410981469, 0.09507234876738771, -0.6708118348301298, -1.2797752333975452, -1.7700033326782072, 1.2145166297977998, -1.4710487864158104, 1.4269559058111128, -0.07240036633000582, 1.4080462471242083, 0.6675645409240432, -0.3302173155427578, -0.3580002598687018, -0.5747493064136403, -0.54233098908547, 1.122046746352447, 0.3792037783979195, 0.48350931449727996, -0.43136459685774653], \"yaxis\": \"y3\"}, {\"line\": {\"color\": \"rgba(128, 128, 128, 1.0)\", \"dash\": \"solid\", \"shape\": \"linear\", \"width\": 1.3}, \"marker\": {\"size\": 2, \"symbol\": \"circle\"}, \"mode\": \"markers\", \"name\": \"A\", \"text\": \"\", \"type\": \"scatter\", \"x\": [1.1246843674959957, 0.30049533189783645, 0.8025962744478276, 0.7212705363494668, 1.602186638796265, -0.8532212128777308, -0.8564612650830035, 0.7321595570434628, -1.1337145222026934, 1.4634212027526186, 0.20548916175062573, 0.021054039597016162, 1.0315891709758234, 0.39762598722580156, 0.8181124891677705, -1.257727201958525, 1.006894987976566, -0.43738351432421607, -0.656319547676891, -0.424894522857005, 1.32646489158406, -0.9253302231911357, 1.358999726645828, -0.5745922183234397, 0.7727671266528368, 0.1559548232928168, 0.07569906993454754, -0.761789665716304, 0.20875988219228842, -1.153460665058704, -0.02130387228565194, -0.6639585682728415, 0.9059523580656053, -0.5916558858790686, 0.2344319020788495, -0.8894295500590714, 0.5267736467892354, 0.19638752182362557, -0.5440599123857605, 2.107812809719129, -1.1272490954674945, -0.013543298110139712, -1.0142057882715276, -1.6514260081429313, 0.6971305080691508, -0.9341803066183489, -0.059519557306589414, -0.5991125492938587, 1.7841756932855022, -0.950246832481104, 0.34436240726162204, -0.28670128966292524, 0.7086454293379126, 0.4626272116618061, -1.6482925640674462, -0.8182631844496813, -0.36140160425602136, -0.12490423396524607, 0.9958756045684123, -0.9681996891240179, -0.3421514556704743, -0.987445979920801, -0.8211251451239602, -0.8047334464840704, 0.8902531073755087, -0.05413706651249456, 0.49756342279375, 0.49514608484391825, 0.2712799354619257, 0.15904754142497715, -0.9225865273488882, 0.5668879868258986, -1.789292613257875, -0.5933786171748008, 1.695614980606501, 1.8368717383703639, -1.568925014481212, 1.014750609082017, -0.6085646375199477, -0.45656355507532226, -2.3898464482252195, -0.17895650172278463, -0.5515320852148546, 1.355442175043136, 1.2453659574195066, 0.5193569705027177, -0.14747930332802672, -1.007244765411999, -0.6722644995180294, -0.6068736247768314, -1.5299516999784493, -0.07221633579846504, -0.6651878550679274, 0.6482448170959881, -0.7864291346288644, 0.28704733211074973, -0.28019626956938243, 0.6304718747903927, -0.11163214826960532, 1.6224822434350255], \"xaxis\": \"x4\", \"y\": [1.4917739319507988, -0.1576075136610856, -0.930328601981876, -0.6791097036693865, 1.246802046482842, -0.5806183447238982, 0.9551482952637191, -0.9561769134235306, 1.2144518407090386, 0.31959647065023283, -1.4423615094359339, 1.8507899242342944, 1.9847942969865817, 0.6095414371590581, -1.069062089292798, 0.6852538624950293, -0.8462177638395003, 0.22167000989186186, 0.8918580824529956, -0.1940932831989595, 0.33921698686267754, -0.06992664359765931, 0.690323282593047, 0.6506433463557831, 0.7564904122747336, -1.308249635588235, -0.22464215572953222, 0.09919358272849658, 1.1287581168730763, -0.36725877754636344, 0.09096065814427151, -0.8805373216943375, 0.890854427029569, 0.1155311465883702, 0.5143751348157323, -0.25414110899522613, 1.4833137143331045, 0.3675447075511886, -1.5077217377202732, -0.6373616669671688, 1.1456740193979287, 1.2559528674572056, -0.20392733626662685, -0.9462356231111191, -0.8254221598651107, -1.2902954284480845, -0.2716337111245958, -0.7928249861140338, -1.6755476798400208, -0.7978918224518056, 0.5996331045123291, -0.9994054715811946, -1.368953160022903, -0.6601821803669641, -0.6499980055955829, 0.9251787037144138, 1.256321305290484, 0.31557783645401594, -1.5844673041367536, 1.0781227686646015, -1.437693609400543, 0.13423954401837473, 0.36730879609807726, 1.5264830168099544, 0.3603263306995897, 0.1503890266979325, 0.20458422906768983, -0.00986072427559832, -0.3193800893160297, 0.34841930348296857, -0.3994290487453984, -0.9116400976688431, 0.9654902580213899, 0.24234907344618214, -0.05746287603372838, 0.7553078082518422, -1.1442230167325054, -0.8253389178601065, 0.5701321481460176, 0.235649958350743, -0.5342026398077849, 0.5691215410981469, 0.09507234876738771, -0.6708118348301298, -1.2797752333975452, -1.7700033326782072, 1.2145166297977998, -1.4710487864158104, 1.4269559058111128, -0.07240036633000582, 1.4080462471242083, 0.6675645409240432, -0.3302173155427578, -0.3580002598687018, -0.5747493064136403, -0.54233098908547, 1.122046746352447, 0.3792037783979195, 0.48350931449727996, -0.43136459685774653], \"yaxis\": \"y4\"}, {\"line\": {\"color\": \"rgba(128, 128, 128, 1.0)\", \"dash\": \"solid\", \"shape\": \"linear\", \"width\": 1.3}, \"marker\": {\"size\": 2, \"symbol\": \"circle\"}, \"mode\": \"markers\", \"name\": \"B\", \"text\": \"\", \"type\": \"scatter\", \"x\": [1.4917739319507988, -0.1576075136610856, -0.930328601981876, -0.6791097036693865, 1.246802046482842, -0.5806183447238982, 0.9551482952637191, -0.9561769134235306, 1.2144518407090386, 0.31959647065023283, -1.4423615094359339, 1.8507899242342944, 1.9847942969865817, 0.6095414371590581, -1.069062089292798, 0.6852538624950293, -0.8462177638395003, 0.22167000989186186, 0.8918580824529956, -0.1940932831989595, 0.33921698686267754, -0.06992664359765931, 0.690323282593047, 0.6506433463557831, 0.7564904122747336, -1.308249635588235, -0.22464215572953222, 0.09919358272849658, 1.1287581168730763, -0.36725877754636344, 0.09096065814427151, -0.8805373216943375, 0.890854427029569, 0.1155311465883702, 0.5143751348157323, -0.25414110899522613, 1.4833137143331045, 0.3675447075511886, -1.5077217377202732, -0.6373616669671688, 1.1456740193979287, 1.2559528674572056, -0.20392733626662685, -0.9462356231111191, -0.8254221598651107, -1.2902954284480845, -0.2716337111245958, -0.7928249861140338, -1.6755476798400208, -0.7978918224518056, 0.5996331045123291, -0.9994054715811946, -1.368953160022903, -0.6601821803669641, -0.6499980055955829, 0.9251787037144138, 1.256321305290484, 0.31557783645401594, -1.5844673041367536, 1.0781227686646015, -1.437693609400543, 0.13423954401837473, 0.36730879609807726, 1.5264830168099544, 0.3603263306995897, 0.1503890266979325, 0.20458422906768983, -0.00986072427559832, -0.3193800893160297, 0.34841930348296857, -0.3994290487453984, -0.9116400976688431, 0.9654902580213899, 0.24234907344618214, -0.05746287603372838, 0.7553078082518422, -1.1442230167325054, -0.8253389178601065, 0.5701321481460176, 0.235649958350743, -0.5342026398077849, 0.5691215410981469, 0.09507234876738771, -0.6708118348301298, -1.2797752333975452, -1.7700033326782072, 1.2145166297977998, -1.4710487864158104, 1.4269559058111128, -0.07240036633000582, 1.4080462471242083, 0.6675645409240432, -0.3302173155427578, -0.3580002598687018, -0.5747493064136403, -0.54233098908547, 1.122046746352447, 0.3792037783979195, 0.48350931449727996, -0.43136459685774653], \"xaxis\": \"x5\", \"y\": [0.45759144337485264, -1.852696670942872, 0.6037624201043539, 1.6807726295254402, -0.6134495049356505, -0.13990727158452076, 0.03124279714296553, -0.4648977013897088, 0.9553997045315877, 0.7283752107040995, 0.17117093428101382, -1.7315612380768213, 0.35740744238423494, 0.26415998052564404, -0.17537080293451385, -0.5363941017251691, 0.6963737981846626, 0.10703348403579191, -1.1668063308621461, -0.381555081513734, -1.04720724283616, 0.5062179294106165, -0.08116042070484192, 0.824481990419685, -0.923959125424289, -0.6621806634287214, 0.8138973060617386, -1.8423340149587246, -0.21565202574466438, -0.8591970758956009, 2.9304064240575, 1.1870166863514848, 0.8388833896271535, -1.0656547569717636, 0.1785522001686026, -1.518369903201751, 0.7712510283723744, -0.21280479152112208, 0.3271004909808801, -0.9022411093453506, -1.090695941306311, -2.563138973546278, -0.7545987537079845, -1.2526450127513369, -1.6847406671440779, -0.1036023582144774, -0.6358467247015547, -1.4727766663202202, -0.590644757453359, -0.8960077341834933, -2.798152401039477, 0.15038107633998923, 0.45031898614896504, 0.011425712330130547, 1.025351993965511, 1.226572998471299, -1.5520205754109617, 0.21871894895512994, 0.6986764947443769, -0.44767507487085106, 0.6600422460523616, 1.1821509492312061, -2.2418468856707894, -0.4419842782451757, 0.06236833309591093, 0.7427087694186271, -0.20564405623449886, -0.9245755611975662, 0.9661074576054179, -0.6525451889087391, -0.3230946170781425, 0.5530579658372701, -2.402241575581015, -1.044064236634867, -0.3731496027692522, -0.7422611643632118, 0.3532662889262816, 0.8371267137108779, -0.7760427206692124, -1.5678289690505915, -1.2153876341294814, 0.32655867839731484, 0.4193562728649102, -1.4041639217486626, -1.5104150994841226, -0.00898105066874273, -0.22317194711681937, -2.1355721103257186, 0.46383975546221357, 0.14180092612446324, -1.7439669577936254, 0.8805075120387779, -0.19911597621842822, -0.09066691794570107, -1.9175075905413421, 1.578934679646553, -0.6444181228984757, -0.23588114328227852, -1.418161178595617, -0.8462454912953437], \"yaxis\": \"y5\"}, {\"histfunc\": \"count\", \"histnorm\": \"\", \"marker\": {\"color\": \"rgba(55, 128, 191, 1.0)\", \"line\": {\"color\": \"#4D5663\", \"width\": 1.3}}, \"name\": \"B\", \"nbinsx\": 10, \"opacity\": 0.8, \"orientation\": \"v\", \"type\": \"histogram\", \"x\": [0.45759144337485264, -1.852696670942872, 0.6037624201043539, 1.6807726295254402, -0.6134495049356505, -0.13990727158452076, 0.03124279714296553, -0.4648977013897088, 0.9553997045315877, 0.7283752107040995, 0.17117093428101382, -1.7315612380768213, 0.35740744238423494, 0.26415998052564404, -0.17537080293451385, -0.5363941017251691, 0.6963737981846626, 0.10703348403579191, -1.1668063308621461, -0.381555081513734, -1.04720724283616, 0.5062179294106165, -0.08116042070484192, 0.824481990419685, -0.923959125424289, -0.6621806634287214, 0.8138973060617386, -1.8423340149587246, -0.21565202574466438, -0.8591970758956009, 2.9304064240575, 1.1870166863514848, 0.8388833896271535, -1.0656547569717636, 0.1785522001686026, -1.518369903201751, 0.7712510283723744, -0.21280479152112208, 0.3271004909808801, -0.9022411093453506, -1.090695941306311, -2.563138973546278, -0.7545987537079845, -1.2526450127513369, -1.6847406671440779, -0.1036023582144774, -0.6358467247015547, -1.4727766663202202, -0.590644757453359, -0.8960077341834933, -2.798152401039477, 0.15038107633998923, 0.45031898614896504, 0.011425712330130547, 1.025351993965511, 1.226572998471299, -1.5520205754109617, 0.21871894895512994, 0.6986764947443769, -0.44767507487085106, 0.6600422460523616, 1.1821509492312061, -2.2418468856707894, -0.4419842782451757, 0.06236833309591093, 0.7427087694186271, -0.20564405623449886, -0.9245755611975662, 0.9661074576054179, -0.6525451889087391, -0.3230946170781425, 0.5530579658372701, -2.402241575581015, -1.044064236634867, -0.3731496027692522, -0.7422611643632118, 0.3532662889262816, 0.8371267137108779, -0.7760427206692124, -1.5678289690505915, -1.2153876341294814, 0.32655867839731484, 0.4193562728649102, -1.4041639217486626, -1.5104150994841226, -0.00898105066874273, -0.22317194711681937, -2.1355721103257186, 0.46383975546221357, 0.14180092612446324, -1.7439669577936254, 0.8805075120387779, -0.19911597621842822, -0.09066691794570107, -1.9175075905413421, 1.578934679646553, -0.6444181228984757, -0.23588114328227852, -1.418161178595617, -0.8462454912953437], \"xaxis\": \"x6\", \"yaxis\": \"y6\"}, {\"line\": {\"color\": \"rgba(128, 128, 128, 1.0)\", \"dash\": \"solid\", \"shape\": \"linear\", \"width\": 1.3}, \"marker\": {\"size\": 2, \"symbol\": \"circle\"}, \"mode\": \"markers\", \"name\": \"B\", \"text\": \"\", \"type\": \"scatter\", \"x\": [0.46152947162593244, 2.3453425755967783, 0.9306960861197442, 0.9971209641117642, 0.9098240869465825, -0.8992156555937518, 0.05776410517264999, 1.0456514353627107, 0.19479344560567935, 0.702957108620434, 0.2736982316935703, 1.4528089411198994, 0.375262027659549, 1.3779929136828617, 1.6525430970150592, 0.4292643268724953, -0.6429969960693374, -0.535708636960107, -0.2254048992399047, 0.972611840409529, -0.7056138546730004, 0.3608353064663021, -0.3472419961013051, 0.649103638249867, -0.5345381324454135, -0.27190796725388344, 1.7113937114138515, 1.3403274659389866, 1.100254635385496, 0.7403009804524457, 1.9059069829362965, -0.4304016669811067, -0.7657826446732217, 0.09735786149878127, -1.4489322773807742, -0.759731205345188, -0.32649934904340927, -1.02262758159044, -0.2630458865654558, -1.4110697283148121, 0.6975354710803369, 0.5670290695758997, 0.09378123142685918, -0.541824348304414, -0.3126378316391564, -0.7680815144311282, -0.1411852635729873, 0.028543260558163, 1.0179839764955765, -0.5285140438912208, -0.8511601899611472, 0.4831823496189203, 0.2651190257723699, -2.390271249243296, -0.8077584718378438, 2.097526768153678, 0.4048037029266085, -0.16561406925525096, -0.3219242835088102, 0.09715380300886668, -0.05796782629064404, 0.7654160412399421, -1.007236191345518, -0.5956087741346205, 0.9991500226697821, 0.5197309314110059, 1.5094854115874217, -1.0953128724671997, -0.30267746265717016, -1.2039647200187675, 0.1417430613926693, 2.9020055992809146, -1.0921603828679116, -0.17475028514206495, 0.5999003778680218, -0.8879255004529071, -1.0146533368311876, -1.9256051180012375, 0.07316691321370815, -0.7421930715349236, -0.49676676821491145, -0.8633368209056816, -0.8396228171977157, 0.40683066760370346, -2.0719350450233356, 0.8992204338667126, 1.148986983358305, 0.6456008302475996, 0.6767390157915529, -0.6019246086882081, 1.0203299674350697, -1.0130034510006602, 1.365704171720769, -0.10157555304730498, 0.7194319123281624, -0.03979543658518105, 1.322056296599753, 0.7760581342635817, -1.4479263256535408, 0.8453213874975339], \"xaxis\": \"x7\", \"y\": [0.45759144337485264, -1.852696670942872, 0.6037624201043539, 1.6807726295254402, -0.6134495049356505, -0.13990727158452076, 0.03124279714296553, -0.4648977013897088, 0.9553997045315877, 0.7283752107040995, 0.17117093428101382, -1.7315612380768213, 0.35740744238423494, 0.26415998052564404, -0.17537080293451385, -0.5363941017251691, 0.6963737981846626, 0.10703348403579191, -1.1668063308621461, -0.381555081513734, -1.04720724283616, 0.5062179294106165, -0.08116042070484192, 0.824481990419685, -0.923959125424289, -0.6621806634287214, 0.8138973060617386, -1.8423340149587246, -0.21565202574466438, -0.8591970758956009, 2.9304064240575, 1.1870166863514848, 0.8388833896271535, -1.0656547569717636, 0.1785522001686026, -1.518369903201751, 0.7712510283723744, -0.21280479152112208, 0.3271004909808801, -0.9022411093453506, -1.090695941306311, -2.563138973546278, -0.7545987537079845, -1.2526450127513369, -1.6847406671440779, -0.1036023582144774, -0.6358467247015547, -1.4727766663202202, -0.590644757453359, -0.8960077341834933, -2.798152401039477, 0.15038107633998923, 0.45031898614896504, 0.011425712330130547, 1.025351993965511, 1.226572998471299, -1.5520205754109617, 0.21871894895512994, 0.6986764947443769, -0.44767507487085106, 0.6600422460523616, 1.1821509492312061, -2.2418468856707894, -0.4419842782451757, 0.06236833309591093, 0.7427087694186271, -0.20564405623449886, -0.9245755611975662, 0.9661074576054179, -0.6525451889087391, -0.3230946170781425, 0.5530579658372701, -2.402241575581015, -1.044064236634867, -0.3731496027692522, -0.7422611643632118, 0.3532662889262816, 0.8371267137108779, -0.7760427206692124, -1.5678289690505915, -1.2153876341294814, 0.32655867839731484, 0.4193562728649102, -1.4041639217486626, -1.5104150994841226, -0.00898105066874273, -0.22317194711681937, -2.1355721103257186, 0.46383975546221357, 0.14180092612446324, -1.7439669577936254, 0.8805075120387779, -0.19911597621842822, -0.09066691794570107, -1.9175075905413421, 1.578934679646553, -0.6444181228984757, -0.23588114328227852, -1.418161178595617, -0.8462454912953437], \"yaxis\": \"y7\"}, {\"line\": {\"color\": \"rgba(128, 128, 128, 1.0)\", \"dash\": \"solid\", \"shape\": \"linear\", \"width\": 1.3}, \"marker\": {\"size\": 2, \"symbol\": \"circle\"}, \"mode\": \"markers\", \"name\": \"B\", \"text\": \"\", \"type\": \"scatter\", \"x\": [1.1246843674959957, 0.30049533189783645, 0.8025962744478276, 0.7212705363494668, 1.602186638796265, -0.8532212128777308, -0.8564612650830035, 0.7321595570434628, -1.1337145222026934, 1.4634212027526186, 0.20548916175062573, 0.021054039597016162, 1.0315891709758234, 0.39762598722580156, 0.8181124891677705, -1.257727201958525, 1.006894987976566, -0.43738351432421607, -0.656319547676891, -0.424894522857005, 1.32646489158406, -0.9253302231911357, 1.358999726645828, -0.5745922183234397, 0.7727671266528368, 0.1559548232928168, 0.07569906993454754, -0.761789665716304, 0.20875988219228842, -1.153460665058704, -0.02130387228565194, -0.6639585682728415, 0.9059523580656053, -0.5916558858790686, 0.2344319020788495, -0.8894295500590714, 0.5267736467892354, 0.19638752182362557, -0.5440599123857605, 2.107812809719129, -1.1272490954674945, -0.013543298110139712, -1.0142057882715276, -1.6514260081429313, 0.6971305080691508, -0.9341803066183489, -0.059519557306589414, -0.5991125492938587, 1.7841756932855022, -0.950246832481104, 0.34436240726162204, -0.28670128966292524, 0.7086454293379126, 0.4626272116618061, -1.6482925640674462, -0.8182631844496813, -0.36140160425602136, -0.12490423396524607, 0.9958756045684123, -0.9681996891240179, -0.3421514556704743, -0.987445979920801, -0.8211251451239602, -0.8047334464840704, 0.8902531073755087, -0.05413706651249456, 0.49756342279375, 0.49514608484391825, 0.2712799354619257, 0.15904754142497715, -0.9225865273488882, 0.5668879868258986, -1.789292613257875, -0.5933786171748008, 1.695614980606501, 1.8368717383703639, -1.568925014481212, 1.014750609082017, -0.6085646375199477, -0.45656355507532226, -2.3898464482252195, -0.17895650172278463, -0.5515320852148546, 1.355442175043136, 1.2453659574195066, 0.5193569705027177, -0.14747930332802672, -1.007244765411999, -0.6722644995180294, -0.6068736247768314, -1.5299516999784493, -0.07221633579846504, -0.6651878550679274, 0.6482448170959881, -0.7864291346288644, 0.28704733211074973, -0.28019626956938243, 0.6304718747903927, -0.11163214826960532, 1.6224822434350255], \"xaxis\": \"x8\", \"y\": [0.45759144337485264, -1.852696670942872, 0.6037624201043539, 1.6807726295254402, -0.6134495049356505, -0.13990727158452076, 0.03124279714296553, -0.4648977013897088, 0.9553997045315877, 0.7283752107040995, 0.17117093428101382, -1.7315612380768213, 0.35740744238423494, 0.26415998052564404, -0.17537080293451385, -0.5363941017251691, 0.6963737981846626, 0.10703348403579191, -1.1668063308621461, -0.381555081513734, -1.04720724283616, 0.5062179294106165, -0.08116042070484192, 0.824481990419685, -0.923959125424289, -0.6621806634287214, 0.8138973060617386, -1.8423340149587246, -0.21565202574466438, -0.8591970758956009, 2.9304064240575, 1.1870166863514848, 0.8388833896271535, -1.0656547569717636, 0.1785522001686026, -1.518369903201751, 0.7712510283723744, -0.21280479152112208, 0.3271004909808801, -0.9022411093453506, -1.090695941306311, -2.563138973546278, -0.7545987537079845, -1.2526450127513369, -1.6847406671440779, -0.1036023582144774, -0.6358467247015547, -1.4727766663202202, -0.590644757453359, -0.8960077341834933, -2.798152401039477, 0.15038107633998923, 0.45031898614896504, 0.011425712330130547, 1.025351993965511, 1.226572998471299, -1.5520205754109617, 0.21871894895512994, 0.6986764947443769, -0.44767507487085106, 0.6600422460523616, 1.1821509492312061, -2.2418468856707894, -0.4419842782451757, 0.06236833309591093, 0.7427087694186271, -0.20564405623449886, -0.9245755611975662, 0.9661074576054179, -0.6525451889087391, -0.3230946170781425, 0.5530579658372701, -2.402241575581015, -1.044064236634867, -0.3731496027692522, -0.7422611643632118, 0.3532662889262816, 0.8371267137108779, -0.7760427206692124, -1.5678289690505915, -1.2153876341294814, 0.32655867839731484, 0.4193562728649102, -1.4041639217486626, -1.5104150994841226, -0.00898105066874273, -0.22317194711681937, -2.1355721103257186, 0.46383975546221357, 0.14180092612446324, -1.7439669577936254, 0.8805075120387779, -0.19911597621842822, -0.09066691794570107, -1.9175075905413421, 1.578934679646553, -0.6444181228984757, -0.23588114328227852, -1.418161178595617, -0.8462454912953437], \"yaxis\": \"y8\"}, {\"line\": {\"color\": \"rgba(128, 128, 128, 1.0)\", \"dash\": \"solid\", \"shape\": \"linear\", \"width\": 1.3}, \"marker\": {\"size\": 2, \"symbol\": \"circle\"}, \"mode\": \"markers\", \"name\": \"C\", \"text\": \"\", \"type\": \"scatter\", \"x\": [1.4917739319507988, -0.1576075136610856, -0.930328601981876, -0.6791097036693865, 1.246802046482842, -0.5806183447238982, 0.9551482952637191, -0.9561769134235306, 1.2144518407090386, 0.31959647065023283, -1.4423615094359339, 1.8507899242342944, 1.9847942969865817, 0.6095414371590581, -1.069062089292798, 0.6852538624950293, -0.8462177638395003, 0.22167000989186186, 0.8918580824529956, -0.1940932831989595, 0.33921698686267754, -0.06992664359765931, 0.690323282593047, 0.6506433463557831, 0.7564904122747336, -1.308249635588235, -0.22464215572953222, 0.09919358272849658, 1.1287581168730763, -0.36725877754636344, 0.09096065814427151, -0.8805373216943375, 0.890854427029569, 0.1155311465883702, 0.5143751348157323, -0.25414110899522613, 1.4833137143331045, 0.3675447075511886, -1.5077217377202732, -0.6373616669671688, 1.1456740193979287, 1.2559528674572056, -0.20392733626662685, -0.9462356231111191, -0.8254221598651107, -1.2902954284480845, -0.2716337111245958, -0.7928249861140338, -1.6755476798400208, -0.7978918224518056, 0.5996331045123291, -0.9994054715811946, -1.368953160022903, -0.6601821803669641, -0.6499980055955829, 0.9251787037144138, 1.256321305290484, 0.31557783645401594, -1.5844673041367536, 1.0781227686646015, -1.437693609400543, 0.13423954401837473, 0.36730879609807726, 1.5264830168099544, 0.3603263306995897, 0.1503890266979325, 0.20458422906768983, -0.00986072427559832, -0.3193800893160297, 0.34841930348296857, -0.3994290487453984, -0.9116400976688431, 0.9654902580213899, 0.24234907344618214, -0.05746287603372838, 0.7553078082518422, -1.1442230167325054, -0.8253389178601065, 0.5701321481460176, 0.235649958350743, -0.5342026398077849, 0.5691215410981469, 0.09507234876738771, -0.6708118348301298, -1.2797752333975452, -1.7700033326782072, 1.2145166297977998, -1.4710487864158104, 1.4269559058111128, -0.07240036633000582, 1.4080462471242083, 0.6675645409240432, -0.3302173155427578, -0.3580002598687018, -0.5747493064136403, -0.54233098908547, 1.122046746352447, 0.3792037783979195, 0.48350931449727996, -0.43136459685774653], \"xaxis\": \"x9\", \"y\": [0.46152947162593244, 2.3453425755967783, 0.9306960861197442, 0.9971209641117642, 0.9098240869465825, -0.8992156555937518, 0.05776410517264999, 1.0456514353627107, 0.19479344560567935, 0.702957108620434, 0.2736982316935703, 1.4528089411198994, 0.375262027659549, 1.3779929136828617, 1.6525430970150592, 0.4292643268724953, -0.6429969960693374, -0.535708636960107, -0.2254048992399047, 0.972611840409529, -0.7056138546730004, 0.3608353064663021, -0.3472419961013051, 0.649103638249867, -0.5345381324454135, -0.27190796725388344, 1.7113937114138515, 1.3403274659389866, 1.100254635385496, 0.7403009804524457, 1.9059069829362965, -0.4304016669811067, -0.7657826446732217, 0.09735786149878127, -1.4489322773807742, -0.759731205345188, -0.32649934904340927, -1.02262758159044, -0.2630458865654558, -1.4110697283148121, 0.6975354710803369, 0.5670290695758997, 0.09378123142685918, -0.541824348304414, -0.3126378316391564, -0.7680815144311282, -0.1411852635729873, 0.028543260558163, 1.0179839764955765, -0.5285140438912208, -0.8511601899611472, 0.4831823496189203, 0.2651190257723699, -2.390271249243296, -0.8077584718378438, 2.097526768153678, 0.4048037029266085, -0.16561406925525096, -0.3219242835088102, 0.09715380300886668, -0.05796782629064404, 0.7654160412399421, -1.007236191345518, -0.5956087741346205, 0.9991500226697821, 0.5197309314110059, 1.5094854115874217, -1.0953128724671997, -0.30267746265717016, -1.2039647200187675, 0.1417430613926693, 2.9020055992809146, -1.0921603828679116, -0.17475028514206495, 0.5999003778680218, -0.8879255004529071, -1.0146533368311876, -1.9256051180012375, 0.07316691321370815, -0.7421930715349236, -0.49676676821491145, -0.8633368209056816, -0.8396228171977157, 0.40683066760370346, -2.0719350450233356, 0.8992204338667126, 1.148986983358305, 0.6456008302475996, 0.6767390157915529, -0.6019246086882081, 1.0203299674350697, -1.0130034510006602, 1.365704171720769, -0.10157555304730498, 0.7194319123281624, -0.03979543658518105, 1.322056296599753, 0.7760581342635817, -1.4479263256535408, 0.8453213874975339], \"yaxis\": \"y9\"}, {\"line\": {\"color\": \"rgba(128, 128, 128, 1.0)\", \"dash\": \"solid\", \"shape\": \"linear\", \"width\": 1.3}, \"marker\": {\"size\": 2, \"symbol\": \"circle\"}, \"mode\": \"markers\", \"name\": \"C\", \"text\": \"\", \"type\": \"scatter\", \"x\": [0.45759144337485264, -1.852696670942872, 0.6037624201043539, 1.6807726295254402, -0.6134495049356505, -0.13990727158452076, 0.03124279714296553, -0.4648977013897088, 0.9553997045315877, 0.7283752107040995, 0.17117093428101382, -1.7315612380768213, 0.35740744238423494, 0.26415998052564404, -0.17537080293451385, -0.5363941017251691, 0.6963737981846626, 0.10703348403579191, -1.1668063308621461, -0.381555081513734, -1.04720724283616, 0.5062179294106165, -0.08116042070484192, 0.824481990419685, -0.923959125424289, -0.6621806634287214, 0.8138973060617386, -1.8423340149587246, -0.21565202574466438, -0.8591970758956009, 2.9304064240575, 1.1870166863514848, 0.8388833896271535, -1.0656547569717636, 0.1785522001686026, -1.518369903201751, 0.7712510283723744, -0.21280479152112208, 0.3271004909808801, -0.9022411093453506, -1.090695941306311, -2.563138973546278, -0.7545987537079845, -1.2526450127513369, -1.6847406671440779, -0.1036023582144774, -0.6358467247015547, -1.4727766663202202, -0.590644757453359, -0.8960077341834933, -2.798152401039477, 0.15038107633998923, 0.45031898614896504, 0.011425712330130547, 1.025351993965511, 1.226572998471299, -1.5520205754109617, 0.21871894895512994, 0.6986764947443769, -0.44767507487085106, 0.6600422460523616, 1.1821509492312061, -2.2418468856707894, -0.4419842782451757, 0.06236833309591093, 0.7427087694186271, -0.20564405623449886, -0.9245755611975662, 0.9661074576054179, -0.6525451889087391, -0.3230946170781425, 0.5530579658372701, -2.402241575581015, -1.044064236634867, -0.3731496027692522, -0.7422611643632118, 0.3532662889262816, 0.8371267137108779, -0.7760427206692124, -1.5678289690505915, -1.2153876341294814, 0.32655867839731484, 0.4193562728649102, -1.4041639217486626, -1.5104150994841226, -0.00898105066874273, -0.22317194711681937, -2.1355721103257186, 0.46383975546221357, 0.14180092612446324, -1.7439669577936254, 0.8805075120387779, -0.19911597621842822, -0.09066691794570107, -1.9175075905413421, 1.578934679646553, -0.6444181228984757, -0.23588114328227852, -1.418161178595617, -0.8462454912953437], \"xaxis\": \"x10\", \"y\": [0.46152947162593244, 2.3453425755967783, 0.9306960861197442, 0.9971209641117642, 0.9098240869465825, -0.8992156555937518, 0.05776410517264999, 1.0456514353627107, 0.19479344560567935, 0.702957108620434, 0.2736982316935703, 1.4528089411198994, 0.375262027659549, 1.3779929136828617, 1.6525430970150592, 0.4292643268724953, -0.6429969960693374, -0.535708636960107, -0.2254048992399047, 0.972611840409529, -0.7056138546730004, 0.3608353064663021, -0.3472419961013051, 0.649103638249867, -0.5345381324454135, -0.27190796725388344, 1.7113937114138515, 1.3403274659389866, 1.100254635385496, 0.7403009804524457, 1.9059069829362965, -0.4304016669811067, -0.7657826446732217, 0.09735786149878127, -1.4489322773807742, -0.759731205345188, -0.32649934904340927, -1.02262758159044, -0.2630458865654558, -1.4110697283148121, 0.6975354710803369, 0.5670290695758997, 0.09378123142685918, -0.541824348304414, -0.3126378316391564, -0.7680815144311282, -0.1411852635729873, 0.028543260558163, 1.0179839764955765, -0.5285140438912208, -0.8511601899611472, 0.4831823496189203, 0.2651190257723699, -2.390271249243296, -0.8077584718378438, 2.097526768153678, 0.4048037029266085, -0.16561406925525096, -0.3219242835088102, 0.09715380300886668, -0.05796782629064404, 0.7654160412399421, -1.007236191345518, -0.5956087741346205, 0.9991500226697821, 0.5197309314110059, 1.5094854115874217, -1.0953128724671997, -0.30267746265717016, -1.2039647200187675, 0.1417430613926693, 2.9020055992809146, -1.0921603828679116, -0.17475028514206495, 0.5999003778680218, -0.8879255004529071, -1.0146533368311876, -1.9256051180012375, 0.07316691321370815, -0.7421930715349236, -0.49676676821491145, -0.8633368209056816, -0.8396228171977157, 0.40683066760370346, -2.0719350450233356, 0.8992204338667126, 1.148986983358305, 0.6456008302475996, 0.6767390157915529, -0.6019246086882081, 1.0203299674350697, -1.0130034510006602, 1.365704171720769, -0.10157555304730498, 0.7194319123281624, -0.03979543658518105, 1.322056296599753, 0.7760581342635817, -1.4479263256535408, 0.8453213874975339], \"yaxis\": \"y10\"}, {\"histfunc\": \"count\", \"histnorm\": \"\", \"marker\": {\"color\": \"rgba(50, 171, 96, 1.0)\", \"line\": {\"color\": \"#4D5663\", \"width\": 1.3}}, \"name\": \"C\", \"nbinsx\": 10, \"opacity\": 0.8, \"orientation\": \"v\", \"type\": \"histogram\", \"x\": [0.46152947162593244, 2.3453425755967783, 0.9306960861197442, 0.9971209641117642, 0.9098240869465825, -0.8992156555937518, 0.05776410517264999, 1.0456514353627107, 0.19479344560567935, 0.702957108620434, 0.2736982316935703, 1.4528089411198994, 0.375262027659549, 1.3779929136828617, 1.6525430970150592, 0.4292643268724953, -0.6429969960693374, -0.535708636960107, -0.2254048992399047, 0.972611840409529, -0.7056138546730004, 0.3608353064663021, -0.3472419961013051, 0.649103638249867, -0.5345381324454135, -0.27190796725388344, 1.7113937114138515, 1.3403274659389866, 1.100254635385496, 0.7403009804524457, 1.9059069829362965, -0.4304016669811067, -0.7657826446732217, 0.09735786149878127, -1.4489322773807742, -0.759731205345188, -0.32649934904340927, -1.02262758159044, -0.2630458865654558, -1.4110697283148121, 0.6975354710803369, 0.5670290695758997, 0.09378123142685918, -0.541824348304414, -0.3126378316391564, -0.7680815144311282, -0.1411852635729873, 0.028543260558163, 1.0179839764955765, -0.5285140438912208, -0.8511601899611472, 0.4831823496189203, 0.2651190257723699, -2.390271249243296, -0.8077584718378438, 2.097526768153678, 0.4048037029266085, -0.16561406925525096, -0.3219242835088102, 0.09715380300886668, -0.05796782629064404, 0.7654160412399421, -1.007236191345518, -0.5956087741346205, 0.9991500226697821, 0.5197309314110059, 1.5094854115874217, -1.0953128724671997, -0.30267746265717016, -1.2039647200187675, 0.1417430613926693, 2.9020055992809146, -1.0921603828679116, -0.17475028514206495, 0.5999003778680218, -0.8879255004529071, -1.0146533368311876, -1.9256051180012375, 0.07316691321370815, -0.7421930715349236, -0.49676676821491145, -0.8633368209056816, -0.8396228171977157, 0.40683066760370346, -2.0719350450233356, 0.8992204338667126, 1.148986983358305, 0.6456008302475996, 0.6767390157915529, -0.6019246086882081, 1.0203299674350697, -1.0130034510006602, 1.365704171720769, -0.10157555304730498, 0.7194319123281624, -0.03979543658518105, 1.322056296599753, 0.7760581342635817, -1.4479263256535408, 0.8453213874975339], \"xaxis\": \"x11\", \"yaxis\": \"y11\"}, {\"line\": {\"color\": \"rgba(128, 128, 128, 1.0)\", \"dash\": \"solid\", \"shape\": \"linear\", \"width\": 1.3}, \"marker\": {\"size\": 2, \"symbol\": \"circle\"}, \"mode\": \"markers\", \"name\": \"C\", \"text\": \"\", \"type\": \"scatter\", \"x\": [1.1246843674959957, 0.30049533189783645, 0.8025962744478276, 0.7212705363494668, 1.602186638796265, -0.8532212128777308, -0.8564612650830035, 0.7321595570434628, -1.1337145222026934, 1.4634212027526186, 0.20548916175062573, 0.021054039597016162, 1.0315891709758234, 0.39762598722580156, 0.8181124891677705, -1.257727201958525, 1.006894987976566, -0.43738351432421607, -0.656319547676891, -0.424894522857005, 1.32646489158406, -0.9253302231911357, 1.358999726645828, -0.5745922183234397, 0.7727671266528368, 0.1559548232928168, 0.07569906993454754, -0.761789665716304, 0.20875988219228842, -1.153460665058704, -0.02130387228565194, -0.6639585682728415, 0.9059523580656053, -0.5916558858790686, 0.2344319020788495, -0.8894295500590714, 0.5267736467892354, 0.19638752182362557, -0.5440599123857605, 2.107812809719129, -1.1272490954674945, -0.013543298110139712, -1.0142057882715276, -1.6514260081429313, 0.6971305080691508, -0.9341803066183489, -0.059519557306589414, -0.5991125492938587, 1.7841756932855022, -0.950246832481104, 0.34436240726162204, -0.28670128966292524, 0.7086454293379126, 0.4626272116618061, -1.6482925640674462, -0.8182631844496813, -0.36140160425602136, -0.12490423396524607, 0.9958756045684123, -0.9681996891240179, -0.3421514556704743, -0.987445979920801, -0.8211251451239602, -0.8047334464840704, 0.8902531073755087, -0.05413706651249456, 0.49756342279375, 0.49514608484391825, 0.2712799354619257, 0.15904754142497715, -0.9225865273488882, 0.5668879868258986, -1.789292613257875, -0.5933786171748008, 1.695614980606501, 1.8368717383703639, -1.568925014481212, 1.014750609082017, -0.6085646375199477, -0.45656355507532226, -2.3898464482252195, -0.17895650172278463, -0.5515320852148546, 1.355442175043136, 1.2453659574195066, 0.5193569705027177, -0.14747930332802672, -1.007244765411999, -0.6722644995180294, -0.6068736247768314, -1.5299516999784493, -0.07221633579846504, -0.6651878550679274, 0.6482448170959881, -0.7864291346288644, 0.28704733211074973, -0.28019626956938243, 0.6304718747903927, -0.11163214826960532, 1.6224822434350255], \"xaxis\": \"x12\", \"y\": [0.46152947162593244, 2.3453425755967783, 0.9306960861197442, 0.9971209641117642, 0.9098240869465825, -0.8992156555937518, 0.05776410517264999, 1.0456514353627107, 0.19479344560567935, 0.702957108620434, 0.2736982316935703, 1.4528089411198994, 0.375262027659549, 1.3779929136828617, 1.6525430970150592, 0.4292643268724953, -0.6429969960693374, -0.535708636960107, -0.2254048992399047, 0.972611840409529, -0.7056138546730004, 0.3608353064663021, -0.3472419961013051, 0.649103638249867, -0.5345381324454135, -0.27190796725388344, 1.7113937114138515, 1.3403274659389866, 1.100254635385496, 0.7403009804524457, 1.9059069829362965, -0.4304016669811067, -0.7657826446732217, 0.09735786149878127, -1.4489322773807742, -0.759731205345188, -0.32649934904340927, -1.02262758159044, -0.2630458865654558, -1.4110697283148121, 0.6975354710803369, 0.5670290695758997, 0.09378123142685918, -0.541824348304414, -0.3126378316391564, -0.7680815144311282, -0.1411852635729873, 0.028543260558163, 1.0179839764955765, -0.5285140438912208, -0.8511601899611472, 0.4831823496189203, 0.2651190257723699, -2.390271249243296, -0.8077584718378438, 2.097526768153678, 0.4048037029266085, -0.16561406925525096, -0.3219242835088102, 0.09715380300886668, -0.05796782629064404, 0.7654160412399421, -1.007236191345518, -0.5956087741346205, 0.9991500226697821, 0.5197309314110059, 1.5094854115874217, -1.0953128724671997, -0.30267746265717016, -1.2039647200187675, 0.1417430613926693, 2.9020055992809146, -1.0921603828679116, -0.17475028514206495, 0.5999003778680218, -0.8879255004529071, -1.0146533368311876, -1.9256051180012375, 0.07316691321370815, -0.7421930715349236, -0.49676676821491145, -0.8633368209056816, -0.8396228171977157, 0.40683066760370346, -2.0719350450233356, 0.8992204338667126, 1.148986983358305, 0.6456008302475996, 0.6767390157915529, -0.6019246086882081, 1.0203299674350697, -1.0130034510006602, 1.365704171720769, -0.10157555304730498, 0.7194319123281624, -0.03979543658518105, 1.322056296599753, 0.7760581342635817, -1.4479263256535408, 0.8453213874975339], \"yaxis\": \"y12\"}, {\"line\": {\"color\": \"rgba(128, 128, 128, 1.0)\", \"dash\": \"solid\", \"shape\": \"linear\", \"width\": 1.3}, \"marker\": {\"size\": 2, \"symbol\": \"circle\"}, \"mode\": \"markers\", \"name\": \"D\", \"text\": \"\", \"type\": \"scatter\", \"x\": [1.4917739319507988, -0.1576075136610856, -0.930328601981876, -0.6791097036693865, 1.246802046482842, -0.5806183447238982, 0.9551482952637191, -0.9561769134235306, 1.2144518407090386, 0.31959647065023283, -1.4423615094359339, 1.8507899242342944, 1.9847942969865817, 0.6095414371590581, -1.069062089292798, 0.6852538624950293, -0.8462177638395003, 0.22167000989186186, 0.8918580824529956, -0.1940932831989595, 0.33921698686267754, -0.06992664359765931, 0.690323282593047, 0.6506433463557831, 0.7564904122747336, -1.308249635588235, -0.22464215572953222, 0.09919358272849658, 1.1287581168730763, -0.36725877754636344, 0.09096065814427151, -0.8805373216943375, 0.890854427029569, 0.1155311465883702, 0.5143751348157323, -0.25414110899522613, 1.4833137143331045, 0.3675447075511886, -1.5077217377202732, -0.6373616669671688, 1.1456740193979287, 1.2559528674572056, -0.20392733626662685, -0.9462356231111191, -0.8254221598651107, -1.2902954284480845, -0.2716337111245958, -0.7928249861140338, -1.6755476798400208, -0.7978918224518056, 0.5996331045123291, -0.9994054715811946, -1.368953160022903, -0.6601821803669641, -0.6499980055955829, 0.9251787037144138, 1.256321305290484, 0.31557783645401594, -1.5844673041367536, 1.0781227686646015, -1.437693609400543, 0.13423954401837473, 0.36730879609807726, 1.5264830168099544, 0.3603263306995897, 0.1503890266979325, 0.20458422906768983, -0.00986072427559832, -0.3193800893160297, 0.34841930348296857, -0.3994290487453984, -0.9116400976688431, 0.9654902580213899, 0.24234907344618214, -0.05746287603372838, 0.7553078082518422, -1.1442230167325054, -0.8253389178601065, 0.5701321481460176, 0.235649958350743, -0.5342026398077849, 0.5691215410981469, 0.09507234876738771, -0.6708118348301298, -1.2797752333975452, -1.7700033326782072, 1.2145166297977998, -1.4710487864158104, 1.4269559058111128, -0.07240036633000582, 1.4080462471242083, 0.6675645409240432, -0.3302173155427578, -0.3580002598687018, -0.5747493064136403, -0.54233098908547, 1.122046746352447, 0.3792037783979195, 0.48350931449727996, -0.43136459685774653], \"xaxis\": \"x13\", \"y\": [1.1246843674959957, 0.30049533189783645, 0.8025962744478276, 0.7212705363494668, 1.602186638796265, -0.8532212128777308, -0.8564612650830035, 0.7321595570434628, -1.1337145222026934, 1.4634212027526186, 0.20548916175062573, 0.021054039597016162, 1.0315891709758234, 0.39762598722580156, 0.8181124891677705, -1.257727201958525, 1.006894987976566, -0.43738351432421607, -0.656319547676891, -0.424894522857005, 1.32646489158406, -0.9253302231911357, 1.358999726645828, -0.5745922183234397, 0.7727671266528368, 0.1559548232928168, 0.07569906993454754, -0.761789665716304, 0.20875988219228842, -1.153460665058704, -0.02130387228565194, -0.6639585682728415, 0.9059523580656053, -0.5916558858790686, 0.2344319020788495, -0.8894295500590714, 0.5267736467892354, 0.19638752182362557, -0.5440599123857605, 2.107812809719129, -1.1272490954674945, -0.013543298110139712, -1.0142057882715276, -1.6514260081429313, 0.6971305080691508, -0.9341803066183489, -0.059519557306589414, -0.5991125492938587, 1.7841756932855022, -0.950246832481104, 0.34436240726162204, -0.28670128966292524, 0.7086454293379126, 0.4626272116618061, -1.6482925640674462, -0.8182631844496813, -0.36140160425602136, -0.12490423396524607, 0.9958756045684123, -0.9681996891240179, -0.3421514556704743, -0.987445979920801, -0.8211251451239602, -0.8047334464840704, 0.8902531073755087, -0.05413706651249456, 0.49756342279375, 0.49514608484391825, 0.2712799354619257, 0.15904754142497715, -0.9225865273488882, 0.5668879868258986, -1.789292613257875, -0.5933786171748008, 1.695614980606501, 1.8368717383703639, -1.568925014481212, 1.014750609082017, -0.6085646375199477, -0.45656355507532226, -2.3898464482252195, -0.17895650172278463, -0.5515320852148546, 1.355442175043136, 1.2453659574195066, 0.5193569705027177, -0.14747930332802672, -1.007244765411999, -0.6722644995180294, -0.6068736247768314, -1.5299516999784493, -0.07221633579846504, -0.6651878550679274, 0.6482448170959881, -0.7864291346288644, 0.28704733211074973, -0.28019626956938243, 0.6304718747903927, -0.11163214826960532, 1.6224822434350255], \"yaxis\": \"y13\"}, {\"line\": {\"color\": \"rgba(128, 128, 128, 1.0)\", \"dash\": \"solid\", \"shape\": \"linear\", \"width\": 1.3}, \"marker\": {\"size\": 2, \"symbol\": \"circle\"}, \"mode\": \"markers\", \"name\": \"D\", \"text\": \"\", \"type\": \"scatter\", \"x\": [0.45759144337485264, -1.852696670942872, 0.6037624201043539, 1.6807726295254402, -0.6134495049356505, -0.13990727158452076, 0.03124279714296553, -0.4648977013897088, 0.9553997045315877, 0.7283752107040995, 0.17117093428101382, -1.7315612380768213, 0.35740744238423494, 0.26415998052564404, -0.17537080293451385, -0.5363941017251691, 0.6963737981846626, 0.10703348403579191, -1.1668063308621461, -0.381555081513734, -1.04720724283616, 0.5062179294106165, -0.08116042070484192, 0.824481990419685, -0.923959125424289, -0.6621806634287214, 0.8138973060617386, -1.8423340149587246, -0.21565202574466438, -0.8591970758956009, 2.9304064240575, 1.1870166863514848, 0.8388833896271535, -1.0656547569717636, 0.1785522001686026, -1.518369903201751, 0.7712510283723744, -0.21280479152112208, 0.3271004909808801, -0.9022411093453506, -1.090695941306311, -2.563138973546278, -0.7545987537079845, -1.2526450127513369, -1.6847406671440779, -0.1036023582144774, -0.6358467247015547, -1.4727766663202202, -0.590644757453359, -0.8960077341834933, -2.798152401039477, 0.15038107633998923, 0.45031898614896504, 0.011425712330130547, 1.025351993965511, 1.226572998471299, -1.5520205754109617, 0.21871894895512994, 0.6986764947443769, -0.44767507487085106, 0.6600422460523616, 1.1821509492312061, -2.2418468856707894, -0.4419842782451757, 0.06236833309591093, 0.7427087694186271, -0.20564405623449886, -0.9245755611975662, 0.9661074576054179, -0.6525451889087391, -0.3230946170781425, 0.5530579658372701, -2.402241575581015, -1.044064236634867, -0.3731496027692522, -0.7422611643632118, 0.3532662889262816, 0.8371267137108779, -0.7760427206692124, -1.5678289690505915, -1.2153876341294814, 0.32655867839731484, 0.4193562728649102, -1.4041639217486626, -1.5104150994841226, -0.00898105066874273, -0.22317194711681937, -2.1355721103257186, 0.46383975546221357, 0.14180092612446324, -1.7439669577936254, 0.8805075120387779, -0.19911597621842822, -0.09066691794570107, -1.9175075905413421, 1.578934679646553, -0.6444181228984757, -0.23588114328227852, -1.418161178595617, -0.8462454912953437], \"xaxis\": \"x14\", \"y\": [1.1246843674959957, 0.30049533189783645, 0.8025962744478276, 0.7212705363494668, 1.602186638796265, -0.8532212128777308, -0.8564612650830035, 0.7321595570434628, -1.1337145222026934, 1.4634212027526186, 0.20548916175062573, 0.021054039597016162, 1.0315891709758234, 0.39762598722580156, 0.8181124891677705, -1.257727201958525, 1.006894987976566, -0.43738351432421607, -0.656319547676891, -0.424894522857005, 1.32646489158406, -0.9253302231911357, 1.358999726645828, -0.5745922183234397, 0.7727671266528368, 0.1559548232928168, 0.07569906993454754, -0.761789665716304, 0.20875988219228842, -1.153460665058704, -0.02130387228565194, -0.6639585682728415, 0.9059523580656053, -0.5916558858790686, 0.2344319020788495, -0.8894295500590714, 0.5267736467892354, 0.19638752182362557, -0.5440599123857605, 2.107812809719129, -1.1272490954674945, -0.013543298110139712, -1.0142057882715276, -1.6514260081429313, 0.6971305080691508, -0.9341803066183489, -0.059519557306589414, -0.5991125492938587, 1.7841756932855022, -0.950246832481104, 0.34436240726162204, -0.28670128966292524, 0.7086454293379126, 0.4626272116618061, -1.6482925640674462, -0.8182631844496813, -0.36140160425602136, -0.12490423396524607, 0.9958756045684123, -0.9681996891240179, -0.3421514556704743, -0.987445979920801, -0.8211251451239602, -0.8047334464840704, 0.8902531073755087, -0.05413706651249456, 0.49756342279375, 0.49514608484391825, 0.2712799354619257, 0.15904754142497715, -0.9225865273488882, 0.5668879868258986, -1.789292613257875, -0.5933786171748008, 1.695614980606501, 1.8368717383703639, -1.568925014481212, 1.014750609082017, -0.6085646375199477, -0.45656355507532226, -2.3898464482252195, -0.17895650172278463, -0.5515320852148546, 1.355442175043136, 1.2453659574195066, 0.5193569705027177, -0.14747930332802672, -1.007244765411999, -0.6722644995180294, -0.6068736247768314, -1.5299516999784493, -0.07221633579846504, -0.6651878550679274, 0.6482448170959881, -0.7864291346288644, 0.28704733211074973, -0.28019626956938243, 0.6304718747903927, -0.11163214826960532, 1.6224822434350255], \"yaxis\": \"y14\"}, {\"line\": {\"color\": \"rgba(128, 128, 128, 1.0)\", \"dash\": \"solid\", \"shape\": \"linear\", \"width\": 1.3}, \"marker\": {\"size\": 2, \"symbol\": \"circle\"}, \"mode\": \"markers\", \"name\": \"D\", \"text\": \"\", \"type\": \"scatter\", \"x\": [0.46152947162593244, 2.3453425755967783, 0.9306960861197442, 0.9971209641117642, 0.9098240869465825, -0.8992156555937518, 0.05776410517264999, 1.0456514353627107, 0.19479344560567935, 0.702957108620434, 0.2736982316935703, 1.4528089411198994, 0.375262027659549, 1.3779929136828617, 1.6525430970150592, 0.4292643268724953, -0.6429969960693374, -0.535708636960107, -0.2254048992399047, 0.972611840409529, -0.7056138546730004, 0.3608353064663021, -0.3472419961013051, 0.649103638249867, -0.5345381324454135, -0.27190796725388344, 1.7113937114138515, 1.3403274659389866, 1.100254635385496, 0.7403009804524457, 1.9059069829362965, -0.4304016669811067, -0.7657826446732217, 0.09735786149878127, -1.4489322773807742, -0.759731205345188, -0.32649934904340927, -1.02262758159044, -0.2630458865654558, -1.4110697283148121, 0.6975354710803369, 0.5670290695758997, 0.09378123142685918, -0.541824348304414, -0.3126378316391564, -0.7680815144311282, -0.1411852635729873, 0.028543260558163, 1.0179839764955765, -0.5285140438912208, -0.8511601899611472, 0.4831823496189203, 0.2651190257723699, -2.390271249243296, -0.8077584718378438, 2.097526768153678, 0.4048037029266085, -0.16561406925525096, -0.3219242835088102, 0.09715380300886668, -0.05796782629064404, 0.7654160412399421, -1.007236191345518, -0.5956087741346205, 0.9991500226697821, 0.5197309314110059, 1.5094854115874217, -1.0953128724671997, -0.30267746265717016, -1.2039647200187675, 0.1417430613926693, 2.9020055992809146, -1.0921603828679116, -0.17475028514206495, 0.5999003778680218, -0.8879255004529071, -1.0146533368311876, -1.9256051180012375, 0.07316691321370815, -0.7421930715349236, -0.49676676821491145, -0.8633368209056816, -0.8396228171977157, 0.40683066760370346, -2.0719350450233356, 0.8992204338667126, 1.148986983358305, 0.6456008302475996, 0.6767390157915529, -0.6019246086882081, 1.0203299674350697, -1.0130034510006602, 1.365704171720769, -0.10157555304730498, 0.7194319123281624, -0.03979543658518105, 1.322056296599753, 0.7760581342635817, -1.4479263256535408, 0.8453213874975339], \"xaxis\": \"x15\", \"y\": [1.1246843674959957, 0.30049533189783645, 0.8025962744478276, 0.7212705363494668, 1.602186638796265, -0.8532212128777308, -0.8564612650830035, 0.7321595570434628, -1.1337145222026934, 1.4634212027526186, 0.20548916175062573, 0.021054039597016162, 1.0315891709758234, 0.39762598722580156, 0.8181124891677705, -1.257727201958525, 1.006894987976566, -0.43738351432421607, -0.656319547676891, -0.424894522857005, 1.32646489158406, -0.9253302231911357, 1.358999726645828, -0.5745922183234397, 0.7727671266528368, 0.1559548232928168, 0.07569906993454754, -0.761789665716304, 0.20875988219228842, -1.153460665058704, -0.02130387228565194, -0.6639585682728415, 0.9059523580656053, -0.5916558858790686, 0.2344319020788495, -0.8894295500590714, 0.5267736467892354, 0.19638752182362557, -0.5440599123857605, 2.107812809719129, -1.1272490954674945, -0.013543298110139712, -1.0142057882715276, -1.6514260081429313, 0.6971305080691508, -0.9341803066183489, -0.059519557306589414, -0.5991125492938587, 1.7841756932855022, -0.950246832481104, 0.34436240726162204, -0.28670128966292524, 0.7086454293379126, 0.4626272116618061, -1.6482925640674462, -0.8182631844496813, -0.36140160425602136, -0.12490423396524607, 0.9958756045684123, -0.9681996891240179, -0.3421514556704743, -0.987445979920801, -0.8211251451239602, -0.8047334464840704, 0.8902531073755087, -0.05413706651249456, 0.49756342279375, 0.49514608484391825, 0.2712799354619257, 0.15904754142497715, -0.9225865273488882, 0.5668879868258986, -1.789292613257875, -0.5933786171748008, 1.695614980606501, 1.8368717383703639, -1.568925014481212, 1.014750609082017, -0.6085646375199477, -0.45656355507532226, -2.3898464482252195, -0.17895650172278463, -0.5515320852148546, 1.355442175043136, 1.2453659574195066, 0.5193569705027177, -0.14747930332802672, -1.007244765411999, -0.6722644995180294, -0.6068736247768314, -1.5299516999784493, -0.07221633579846504, -0.6651878550679274, 0.6482448170959881, -0.7864291346288644, 0.28704733211074973, -0.28019626956938243, 0.6304718747903927, -0.11163214826960532, 1.6224822434350255], \"yaxis\": \"y15\"}, {\"histfunc\": \"count\", \"histnorm\": \"\", \"marker\": {\"color\": \"rgba(128, 0, 128, 1.0)\", \"line\": {\"color\": \"#4D5663\", \"width\": 1.3}}, \"name\": \"D\", \"nbinsx\": 10, \"opacity\": 0.8, \"orientation\": \"v\", \"type\": \"histogram\", \"x\": [1.1246843674959957, 0.30049533189783645, 0.8025962744478276, 0.7212705363494668, 1.602186638796265, -0.8532212128777308, -0.8564612650830035, 0.7321595570434628, -1.1337145222026934, 1.4634212027526186, 0.20548916175062573, 0.021054039597016162, 1.0315891709758234, 0.39762598722580156, 0.8181124891677705, -1.257727201958525, 1.006894987976566, -0.43738351432421607, -0.656319547676891, -0.424894522857005, 1.32646489158406, -0.9253302231911357, 1.358999726645828, -0.5745922183234397, 0.7727671266528368, 0.1559548232928168, 0.07569906993454754, -0.761789665716304, 0.20875988219228842, -1.153460665058704, -0.02130387228565194, -0.6639585682728415, 0.9059523580656053, -0.5916558858790686, 0.2344319020788495, -0.8894295500590714, 0.5267736467892354, 0.19638752182362557, -0.5440599123857605, 2.107812809719129, -1.1272490954674945, -0.013543298110139712, -1.0142057882715276, -1.6514260081429313, 0.6971305080691508, -0.9341803066183489, -0.059519557306589414, -0.5991125492938587, 1.7841756932855022, -0.950246832481104, 0.34436240726162204, -0.28670128966292524, 0.7086454293379126, 0.4626272116618061, -1.6482925640674462, -0.8182631844496813, -0.36140160425602136, -0.12490423396524607, 0.9958756045684123, -0.9681996891240179, -0.3421514556704743, -0.987445979920801, -0.8211251451239602, -0.8047334464840704, 0.8902531073755087, -0.05413706651249456, 0.49756342279375, 0.49514608484391825, 0.2712799354619257, 0.15904754142497715, -0.9225865273488882, 0.5668879868258986, -1.789292613257875, -0.5933786171748008, 1.695614980606501, 1.8368717383703639, -1.568925014481212, 1.014750609082017, -0.6085646375199477, -0.45656355507532226, -2.3898464482252195, -0.17895650172278463, -0.5515320852148546, 1.355442175043136, 1.2453659574195066, 0.5193569705027177, -0.14747930332802672, -1.007244765411999, -0.6722644995180294, -0.6068736247768314, -1.5299516999784493, -0.07221633579846504, -0.6651878550679274, 0.6482448170959881, -0.7864291346288644, 0.28704733211074973, -0.28019626956938243, 0.6304718747903927, -0.11163214826960532, 1.6224822434350255], \"xaxis\": \"x16\", \"yaxis\": \"y16\"}],                        {\"bargap\": 0.02, \"legend\": {\"bgcolor\": \"#F5F6F9\", \"font\": {\"color\": \"#4D5663\"}}, \"paper_bgcolor\": \"#F5F6F9\", \"plot_bgcolor\": \"#F5F6F9\", \"showlegend\": false, \"template\": {\"data\": {\"bar\": [{\"error_x\": {\"color\": \"#2a3f5f\"}, \"error_y\": {\"color\": \"#2a3f5f\"}, \"marker\": {\"line\": {\"color\": \"#E5ECF6\", \"width\": 0.5}}, \"type\": \"bar\"}], \"barpolar\": [{\"marker\": {\"line\": {\"color\": \"#E5ECF6\", \"width\": 0.5}}, \"type\": \"barpolar\"}], \"carpet\": [{\"aaxis\": {\"endlinecolor\": \"#2a3f5f\", \"gridcolor\": \"white\", \"linecolor\": \"white\", \"minorgridcolor\": \"white\", \"startlinecolor\": \"#2a3f5f\"}, \"baxis\": {\"endlinecolor\": \"#2a3f5f\", \"gridcolor\": \"white\", \"linecolor\": \"white\", \"minorgridcolor\": \"white\", \"startlinecolor\": \"#2a3f5f\"}, \"type\": \"carpet\"}], \"choropleth\": [{\"colorbar\": {\"outlinewidth\": 0, \"ticks\": \"\"}, \"type\": \"choropleth\"}], \"contour\": [{\"colorbar\": {\"outlinewidth\": 0, \"ticks\": \"\"}, \"colorscale\": [[0.0, \"#0d0887\"], [0.1111111111111111, \"#46039f\"], [0.2222222222222222, \"#7201a8\"], [0.3333333333333333, \"#9c179e\"], [0.4444444444444444, \"#bd3786\"], [0.5555555555555556, \"#d8576b\"], [0.6666666666666666, \"#ed7953\"], [0.7777777777777778, \"#fb9f3a\"], [0.8888888888888888, \"#fdca26\"], [1.0, \"#f0f921\"]], \"type\": \"contour\"}], \"contourcarpet\": [{\"colorbar\": {\"outlinewidth\": 0, \"ticks\": \"\"}, \"type\": \"contourcarpet\"}], \"heatmap\": [{\"colorbar\": {\"outlinewidth\": 0, \"ticks\": \"\"}, \"colorscale\": [[0.0, \"#0d0887\"], [0.1111111111111111, \"#46039f\"], [0.2222222222222222, \"#7201a8\"], [0.3333333333333333, \"#9c179e\"], [0.4444444444444444, \"#bd3786\"], [0.5555555555555556, \"#d8576b\"], [0.6666666666666666, \"#ed7953\"], [0.7777777777777778, \"#fb9f3a\"], [0.8888888888888888, \"#fdca26\"], [1.0, \"#f0f921\"]], \"type\": \"heatmap\"}], \"heatmapgl\": [{\"colorbar\": {\"outlinewidth\": 0, \"ticks\": \"\"}, \"colorscale\": [[0.0, \"#0d0887\"], [0.1111111111111111, \"#46039f\"], [0.2222222222222222, \"#7201a8\"], [0.3333333333333333, \"#9c179e\"], [0.4444444444444444, \"#bd3786\"], [0.5555555555555556, \"#d8576b\"], [0.6666666666666666, \"#ed7953\"], [0.7777777777777778, \"#fb9f3a\"], [0.8888888888888888, \"#fdca26\"], [1.0, \"#f0f921\"]], \"type\": \"heatmapgl\"}], \"histogram\": [{\"marker\": {\"colorbar\": {\"outlinewidth\": 0, \"ticks\": \"\"}}, \"type\": \"histogram\"}], \"histogram2d\": [{\"colorbar\": {\"outlinewidth\": 0, \"ticks\": \"\"}, \"colorscale\": [[0.0, \"#0d0887\"], [0.1111111111111111, \"#46039f\"], [0.2222222222222222, \"#7201a8\"], [0.3333333333333333, \"#9c179e\"], [0.4444444444444444, \"#bd3786\"], [0.5555555555555556, \"#d8576b\"], [0.6666666666666666, \"#ed7953\"], [0.7777777777777778, \"#fb9f3a\"], [0.8888888888888888, \"#fdca26\"], [1.0, \"#f0f921\"]], \"type\": \"histogram2d\"}], \"histogram2dcontour\": [{\"colorbar\": {\"outlinewidth\": 0, \"ticks\": \"\"}, \"colorscale\": [[0.0, \"#0d0887\"], [0.1111111111111111, \"#46039f\"], [0.2222222222222222, \"#7201a8\"], [0.3333333333333333, \"#9c179e\"], [0.4444444444444444, \"#bd3786\"], [0.5555555555555556, \"#d8576b\"], [0.6666666666666666, \"#ed7953\"], [0.7777777777777778, \"#fb9f3a\"], [0.8888888888888888, \"#fdca26\"], [1.0, \"#f0f921\"]], \"type\": \"histogram2dcontour\"}], \"mesh3d\": [{\"colorbar\": {\"outlinewidth\": 0, \"ticks\": \"\"}, \"type\": \"mesh3d\"}], \"parcoords\": [{\"line\": {\"colorbar\": {\"outlinewidth\": 0, \"ticks\": \"\"}}, \"type\": \"parcoords\"}], \"pie\": [{\"automargin\": true, \"type\": \"pie\"}], \"scatter\": [{\"marker\": {\"colorbar\": {\"outlinewidth\": 0, \"ticks\": \"\"}}, \"type\": \"scatter\"}], \"scatter3d\": [{\"line\": {\"colorbar\": {\"outlinewidth\": 0, \"ticks\": \"\"}}, \"marker\": {\"colorbar\": {\"outlinewidth\": 0, \"ticks\": \"\"}}, \"type\": \"scatter3d\"}], \"scattercarpet\": [{\"marker\": {\"colorbar\": {\"outlinewidth\": 0, \"ticks\": \"\"}}, \"type\": \"scattercarpet\"}], \"scattergeo\": [{\"marker\": {\"colorbar\": {\"outlinewidth\": 0, \"ticks\": \"\"}}, \"type\": \"scattergeo\"}], \"scattergl\": [{\"marker\": {\"colorbar\": {\"outlinewidth\": 0, \"ticks\": \"\"}}, \"type\": \"scattergl\"}], \"scattermapbox\": [{\"marker\": {\"colorbar\": {\"outlinewidth\": 0, \"ticks\": \"\"}}, \"type\": \"scattermapbox\"}], \"scatterpolar\": [{\"marker\": {\"colorbar\": {\"outlinewidth\": 0, \"ticks\": \"\"}}, \"type\": \"scatterpolar\"}], \"scatterpolargl\": [{\"marker\": {\"colorbar\": {\"outlinewidth\": 0, \"ticks\": \"\"}}, \"type\": \"scatterpolargl\"}], \"scatterternary\": [{\"marker\": {\"colorbar\": {\"outlinewidth\": 0, \"ticks\": \"\"}}, \"type\": \"scatterternary\"}], \"surface\": [{\"colorbar\": {\"outlinewidth\": 0, \"ticks\": \"\"}, \"colorscale\": [[0.0, \"#0d0887\"], [0.1111111111111111, \"#46039f\"], [0.2222222222222222, \"#7201a8\"], [0.3333333333333333, \"#9c179e\"], [0.4444444444444444, \"#bd3786\"], [0.5555555555555556, \"#d8576b\"], [0.6666666666666666, \"#ed7953\"], [0.7777777777777778, \"#fb9f3a\"], [0.8888888888888888, \"#fdca26\"], [1.0, \"#f0f921\"]], \"type\": \"surface\"}], \"table\": [{\"cells\": {\"fill\": {\"color\": \"#EBF0F8\"}, \"line\": {\"color\": \"white\"}}, \"header\": {\"fill\": {\"color\": \"#C8D4E3\"}, \"line\": {\"color\": \"white\"}}, \"type\": \"table\"}]}, \"layout\": {\"annotationdefaults\": {\"arrowcolor\": \"#2a3f5f\", \"arrowhead\": 0, \"arrowwidth\": 1}, \"autotypenumbers\": \"strict\", \"coloraxis\": {\"colorbar\": {\"outlinewidth\": 0, \"ticks\": \"\"}}, \"colorscale\": {\"diverging\": [[0, \"#8e0152\"], [0.1, \"#c51b7d\"], [0.2, \"#de77ae\"], [0.3, \"#f1b6da\"], [0.4, \"#fde0ef\"], [0.5, \"#f7f7f7\"], [0.6, \"#e6f5d0\"], [0.7, \"#b8e186\"], [0.8, \"#7fbc41\"], [0.9, \"#4d9221\"], [1, \"#276419\"]], \"sequential\": [[0.0, \"#0d0887\"], [0.1111111111111111, \"#46039f\"], [0.2222222222222222, \"#7201a8\"], [0.3333333333333333, \"#9c179e\"], [0.4444444444444444, \"#bd3786\"], [0.5555555555555556, \"#d8576b\"], [0.6666666666666666, \"#ed7953\"], [0.7777777777777778, \"#fb9f3a\"], [0.8888888888888888, \"#fdca26\"], [1.0, \"#f0f921\"]], \"sequentialminus\": [[0.0, \"#0d0887\"], [0.1111111111111111, \"#46039f\"], [0.2222222222222222, \"#7201a8\"], [0.3333333333333333, \"#9c179e\"], [0.4444444444444444, \"#bd3786\"], [0.5555555555555556, \"#d8576b\"], [0.6666666666666666, \"#ed7953\"], [0.7777777777777778, \"#fb9f3a\"], [0.8888888888888888, \"#fdca26\"], [1.0, \"#f0f921\"]]}, \"colorway\": [\"#636efa\", \"#EF553B\", \"#00cc96\", \"#ab63fa\", \"#FFA15A\", \"#19d3f3\", \"#FF6692\", \"#B6E880\", \"#FF97FF\", \"#FECB52\"], \"font\": {\"color\": \"#2a3f5f\"}, \"geo\": {\"bgcolor\": \"white\", \"lakecolor\": \"white\", \"landcolor\": \"#E5ECF6\", \"showlakes\": true, \"showland\": true, \"subunitcolor\": \"white\"}, \"hoverlabel\": {\"align\": \"left\"}, \"hovermode\": \"closest\", \"mapbox\": {\"style\": \"light\"}, \"paper_bgcolor\": \"white\", \"plot_bgcolor\": \"#E5ECF6\", \"polar\": {\"angularaxis\": {\"gridcolor\": \"white\", \"linecolor\": \"white\", \"ticks\": \"\"}, \"bgcolor\": \"#E5ECF6\", \"radialaxis\": {\"gridcolor\": \"white\", \"linecolor\": \"white\", \"ticks\": \"\"}}, \"scene\": {\"xaxis\": {\"backgroundcolor\": \"#E5ECF6\", \"gridcolor\": \"white\", \"gridwidth\": 2, \"linecolor\": \"white\", \"showbackground\": true, \"ticks\": \"\", \"zerolinecolor\": \"white\"}, \"yaxis\": {\"backgroundcolor\": \"#E5ECF6\", \"gridcolor\": \"white\", \"gridwidth\": 2, \"linecolor\": \"white\", \"showbackground\": true, \"ticks\": \"\", \"zerolinecolor\": \"white\"}, \"zaxis\": {\"backgroundcolor\": \"#E5ECF6\", \"gridcolor\": \"white\", \"gridwidth\": 2, \"linecolor\": \"white\", \"showbackground\": true, \"ticks\": \"\", \"zerolinecolor\": \"white\"}}, \"shapedefaults\": {\"line\": {\"color\": \"#2a3f5f\"}}, \"ternary\": {\"aaxis\": {\"gridcolor\": \"white\", \"linecolor\": \"white\", \"ticks\": \"\"}, \"baxis\": {\"gridcolor\": \"white\", \"linecolor\": \"white\", \"ticks\": \"\"}, \"bgcolor\": \"#E5ECF6\", \"caxis\": {\"gridcolor\": \"white\", \"linecolor\": \"white\", \"ticks\": \"\"}}, \"title\": {\"x\": 0.05}, \"xaxis\": {\"automargin\": true, \"gridcolor\": \"white\", \"linecolor\": \"white\", \"ticks\": \"\", \"title\": {\"standoff\": 15}, \"zerolinecolor\": \"white\", \"zerolinewidth\": 2}, \"yaxis\": {\"automargin\": true, \"gridcolor\": \"white\", \"linecolor\": \"white\", \"ticks\": \"\", \"title\": {\"standoff\": 15}, \"zerolinecolor\": \"white\", \"zerolinewidth\": 2}}}, \"title\": {\"font\": {\"color\": \"#4D5663\"}}, \"xaxis\": {\"anchor\": \"y\", \"domain\": [0.0, 0.2125], \"gridcolor\": \"#E1E5ED\", \"showgrid\": false, \"tickfont\": {\"color\": \"#4D5663\"}, \"title\": {\"font\": {\"color\": \"#4D5663\"}, \"text\": \"\"}, \"zerolinecolor\": \"#E1E5ED\"}, \"xaxis10\": {\"anchor\": \"y10\", \"domain\": [0.2625, 0.475], \"gridcolor\": \"#E1E5ED\", \"showgrid\": false, \"tickfont\": {\"color\": \"#4D5663\"}, \"title\": {\"font\": {\"color\": \"#4D5663\"}, \"text\": \"\"}, \"zerolinecolor\": \"#E1E5ED\"}, \"xaxis11\": {\"anchor\": \"y11\", \"domain\": [0.525, 0.7375], \"gridcolor\": \"#E1E5ED\", \"showgrid\": false, \"tickfont\": {\"color\": \"#4D5663\"}, \"title\": {\"font\": {\"color\": \"#4D5663\"}, \"text\": \"\"}, \"zerolinecolor\": \"#E1E5ED\"}, \"xaxis12\": {\"anchor\": \"y12\", \"domain\": [0.7875, 1.0], \"gridcolor\": \"#E1E5ED\", \"showgrid\": false, \"tickfont\": {\"color\": \"#4D5663\"}, \"title\": {\"font\": {\"color\": \"#4D5663\"}, \"text\": \"\"}, \"zerolinecolor\": \"#E1E5ED\"}, \"xaxis13\": {\"anchor\": \"y13\", \"domain\": [0.0, 0.2125], \"gridcolor\": \"#E1E5ED\", \"showgrid\": false, \"tickfont\": {\"color\": \"#4D5663\"}, \"title\": {\"font\": {\"color\": \"#4D5663\"}, \"text\": \"\"}, \"zerolinecolor\": \"#E1E5ED\"}, \"xaxis14\": {\"anchor\": \"y14\", \"domain\": [0.2625, 0.475], \"gridcolor\": \"#E1E5ED\", \"showgrid\": false, \"tickfont\": {\"color\": \"#4D5663\"}, \"title\": {\"font\": {\"color\": \"#4D5663\"}, \"text\": \"\"}, \"zerolinecolor\": \"#E1E5ED\"}, \"xaxis15\": {\"anchor\": \"y15\", \"domain\": [0.525, 0.7375], \"gridcolor\": \"#E1E5ED\", \"showgrid\": false, \"tickfont\": {\"color\": \"#4D5663\"}, \"title\": {\"font\": {\"color\": \"#4D5663\"}, \"text\": \"\"}, \"zerolinecolor\": \"#E1E5ED\"}, \"xaxis16\": {\"anchor\": \"y16\", \"domain\": [0.7875, 1.0], \"gridcolor\": \"#E1E5ED\", \"showgrid\": false, \"tickfont\": {\"color\": \"#4D5663\"}, \"title\": {\"font\": {\"color\": \"#4D5663\"}, \"text\": \"\"}, \"zerolinecolor\": \"#E1E5ED\"}, \"xaxis2\": {\"anchor\": \"y2\", \"domain\": [0.2625, 0.475], \"gridcolor\": \"#E1E5ED\", \"showgrid\": false, \"tickfont\": {\"color\": \"#4D5663\"}, \"title\": {\"font\": {\"color\": \"#4D5663\"}, \"text\": \"\"}, \"zerolinecolor\": \"#E1E5ED\"}, \"xaxis3\": {\"anchor\": \"y3\", \"domain\": [0.525, 0.7375], \"gridcolor\": \"#E1E5ED\", \"showgrid\": false, \"tickfont\": {\"color\": \"#4D5663\"}, \"title\": {\"font\": {\"color\": \"#4D5663\"}, \"text\": \"\"}, \"zerolinecolor\": \"#E1E5ED\"}, \"xaxis4\": {\"anchor\": \"y4\", \"domain\": [0.7875, 1.0], \"gridcolor\": \"#E1E5ED\", \"showgrid\": false, \"tickfont\": {\"color\": \"#4D5663\"}, \"title\": {\"font\": {\"color\": \"#4D5663\"}, \"text\": \"\"}, \"zerolinecolor\": \"#E1E5ED\"}, \"xaxis5\": {\"anchor\": \"y5\", \"domain\": [0.0, 0.2125], \"gridcolor\": \"#E1E5ED\", \"showgrid\": false, \"tickfont\": {\"color\": \"#4D5663\"}, \"title\": {\"font\": {\"color\": \"#4D5663\"}, \"text\": \"\"}, \"zerolinecolor\": \"#E1E5ED\"}, \"xaxis6\": {\"anchor\": \"y6\", \"domain\": [0.2625, 0.475], \"gridcolor\": \"#E1E5ED\", \"showgrid\": false, \"tickfont\": {\"color\": \"#4D5663\"}, \"title\": {\"font\": {\"color\": \"#4D5663\"}, \"text\": \"\"}, \"zerolinecolor\": \"#E1E5ED\"}, \"xaxis7\": {\"anchor\": \"y7\", \"domain\": [0.525, 0.7375], \"gridcolor\": \"#E1E5ED\", \"showgrid\": false, \"tickfont\": {\"color\": \"#4D5663\"}, \"title\": {\"font\": {\"color\": \"#4D5663\"}, \"text\": \"\"}, \"zerolinecolor\": \"#E1E5ED\"}, \"xaxis8\": {\"anchor\": \"y8\", \"domain\": [0.7875, 1.0], \"gridcolor\": \"#E1E5ED\", \"showgrid\": false, \"tickfont\": {\"color\": \"#4D5663\"}, \"title\": {\"font\": {\"color\": \"#4D5663\"}, \"text\": \"\"}, \"zerolinecolor\": \"#E1E5ED\"}, \"xaxis9\": {\"anchor\": \"y9\", \"domain\": [0.0, 0.2125], \"gridcolor\": \"#E1E5ED\", \"showgrid\": false, \"tickfont\": {\"color\": \"#4D5663\"}, \"title\": {\"font\": {\"color\": \"#4D5663\"}, \"text\": \"\"}, \"zerolinecolor\": \"#E1E5ED\"}, \"yaxis\": {\"anchor\": \"x\", \"domain\": [0.8025, 1.0], \"gridcolor\": \"#E1E5ED\", \"showgrid\": false, \"tickfont\": {\"color\": \"#4D5663\"}, \"title\": {\"font\": {\"color\": \"#4D5663\"}, \"text\": \"\"}, \"zerolinecolor\": \"#E1E5ED\"}, \"yaxis10\": {\"anchor\": \"x10\", \"domain\": [0.2675, 0.465], \"gridcolor\": \"#E1E5ED\", \"showgrid\": false, \"tickfont\": {\"color\": \"#4D5663\"}, \"title\": {\"font\": {\"color\": \"#4D5663\"}, \"text\": \"\"}, \"zerolinecolor\": \"#E1E5ED\"}, \"yaxis11\": {\"anchor\": \"x11\", \"domain\": [0.2675, 0.465], \"gridcolor\": \"#E1E5ED\", \"showgrid\": false, \"tickfont\": {\"color\": \"#4D5663\"}, \"title\": {\"font\": {\"color\": \"#4D5663\"}, \"text\": \"\"}, \"zerolinecolor\": \"#E1E5ED\"}, \"yaxis12\": {\"anchor\": \"x12\", \"domain\": [0.2675, 0.465], \"gridcolor\": \"#E1E5ED\", \"showgrid\": false, \"tickfont\": {\"color\": \"#4D5663\"}, \"title\": {\"font\": {\"color\": \"#4D5663\"}, \"text\": \"\"}, \"zerolinecolor\": \"#E1E5ED\"}, \"yaxis13\": {\"anchor\": \"x13\", \"domain\": [0.0, 0.1975], \"gridcolor\": \"#E1E5ED\", \"showgrid\": false, \"tickfont\": {\"color\": \"#4D5663\"}, \"title\": {\"font\": {\"color\": \"#4D5663\"}, \"text\": \"\"}, \"zerolinecolor\": \"#E1E5ED\"}, \"yaxis14\": {\"anchor\": \"x14\", \"domain\": [0.0, 0.1975], \"gridcolor\": \"#E1E5ED\", \"showgrid\": false, \"tickfont\": {\"color\": \"#4D5663\"}, \"title\": {\"font\": {\"color\": \"#4D5663\"}, \"text\": \"\"}, \"zerolinecolor\": \"#E1E5ED\"}, \"yaxis15\": {\"anchor\": \"x15\", \"domain\": [0.0, 0.1975], \"gridcolor\": \"#E1E5ED\", \"showgrid\": false, \"tickfont\": {\"color\": \"#4D5663\"}, \"title\": {\"font\": {\"color\": \"#4D5663\"}, \"text\": \"\"}, \"zerolinecolor\": \"#E1E5ED\"}, \"yaxis16\": {\"anchor\": \"x16\", \"domain\": [0.0, 0.1975], \"gridcolor\": \"#E1E5ED\", \"showgrid\": false, \"tickfont\": {\"color\": \"#4D5663\"}, \"title\": {\"font\": {\"color\": \"#4D5663\"}, \"text\": \"\"}, \"zerolinecolor\": \"#E1E5ED\"}, \"yaxis2\": {\"anchor\": \"x2\", \"domain\": [0.8025, 1.0], \"gridcolor\": \"#E1E5ED\", \"showgrid\": false, \"tickfont\": {\"color\": \"#4D5663\"}, \"title\": {\"font\": {\"color\": \"#4D5663\"}, \"text\": \"\"}, \"zerolinecolor\": \"#E1E5ED\"}, \"yaxis3\": {\"anchor\": \"x3\", \"domain\": [0.8025, 1.0], \"gridcolor\": \"#E1E5ED\", \"showgrid\": false, \"tickfont\": {\"color\": \"#4D5663\"}, \"title\": {\"font\": {\"color\": \"#4D5663\"}, \"text\": \"\"}, \"zerolinecolor\": \"#E1E5ED\"}, \"yaxis4\": {\"anchor\": \"x4\", \"domain\": [0.8025, 1.0], \"gridcolor\": \"#E1E5ED\", \"showgrid\": false, \"tickfont\": {\"color\": \"#4D5663\"}, \"title\": {\"font\": {\"color\": \"#4D5663\"}, \"text\": \"\"}, \"zerolinecolor\": \"#E1E5ED\"}, \"yaxis5\": {\"anchor\": \"x5\", \"domain\": [0.535, 0.7325], \"gridcolor\": \"#E1E5ED\", \"showgrid\": false, \"tickfont\": {\"color\": \"#4D5663\"}, \"title\": {\"font\": {\"color\": \"#4D5663\"}, \"text\": \"\"}, \"zerolinecolor\": \"#E1E5ED\"}, \"yaxis6\": {\"anchor\": \"x6\", \"domain\": [0.535, 0.7325], \"gridcolor\": \"#E1E5ED\", \"showgrid\": false, \"tickfont\": {\"color\": \"#4D5663\"}, \"title\": {\"font\": {\"color\": \"#4D5663\"}, \"text\": \"\"}, \"zerolinecolor\": \"#E1E5ED\"}, \"yaxis7\": {\"anchor\": \"x7\", \"domain\": [0.535, 0.7325], \"gridcolor\": \"#E1E5ED\", \"showgrid\": false, \"tickfont\": {\"color\": \"#4D5663\"}, \"title\": {\"font\": {\"color\": \"#4D5663\"}, \"text\": \"\"}, \"zerolinecolor\": \"#E1E5ED\"}, \"yaxis8\": {\"anchor\": \"x8\", \"domain\": [0.535, 0.7325], \"gridcolor\": \"#E1E5ED\", \"showgrid\": false, \"tickfont\": {\"color\": \"#4D5663\"}, \"title\": {\"font\": {\"color\": \"#4D5663\"}, \"text\": \"\"}, \"zerolinecolor\": \"#E1E5ED\"}, \"yaxis9\": {\"anchor\": \"x9\", \"domain\": [0.2675, 0.465], \"gridcolor\": \"#E1E5ED\", \"showgrid\": false, \"tickfont\": {\"color\": \"#4D5663\"}, \"title\": {\"font\": {\"color\": \"#4D5663\"}, \"text\": \"\"}, \"zerolinecolor\": \"#E1E5ED\"}},                        {\"showLink\": true, \"linkText\": \"Export to plot.ly\", \"plotlyServerURL\": \"https://plot.ly\", \"responsive\": true}                    ).then(function(){\n",
       "                            \n",
       "var gd = document.getElementById('d2ee0430-98c6-4a4f-9798-a71fce2c9832');\n",
       "var x = new MutationObserver(function (mutations, observer) {{\n",
       "        var display = window.getComputedStyle(gd).display;\n",
       "        if (!display || display === 'none') {{\n",
       "            console.log([gd, 'removed!']);\n",
       "            Plotly.purge(gd);\n",
       "            observer.disconnect();\n",
       "        }}\n",
       "}});\n",
       "\n",
       "// Listen for the removal of the full notebook cells\n",
       "var notebookContainer = gd.closest('#notebook-container');\n",
       "if (notebookContainer) {{\n",
       "    x.observe(notebookContainer, {childList: true});\n",
       "}}\n",
       "\n",
       "// Listen for the clearing of the current output cell\n",
       "var outputEl = gd.closest('.output');\n",
       "if (outputEl) {{\n",
       "    x.observe(outputEl, {childList: true});\n",
       "}}\n",
       "\n",
       "                        })                };                });            </script>        </div>"
      ]
     },
     "metadata": {},
     "output_type": "display_data"
    }
   ],
   "source": [
    "df.scatter_matrix()"
   ]
  },
  {
   "cell_type": "markdown",
   "metadata": {
    "collapsed": true
   },
   "source": [
    "# Great Job!"
   ]
  },
  {
   "cell_type": "code",
   "execution_count": null,
   "metadata": {},
   "outputs": [],
   "source": []
  },
  {
   "cell_type": "code",
   "execution_count": null,
   "metadata": {},
   "outputs": [],
   "source": []
  },
  {
   "cell_type": "code",
   "execution_count": null,
   "metadata": {},
   "outputs": [],
   "source": []
  },
  {
   "cell_type": "code",
   "execution_count": null,
   "metadata": {},
   "outputs": [],
   "source": []
  },
  {
   "cell_type": "code",
   "execution_count": null,
   "metadata": {},
   "outputs": [],
   "source": []
  },
  {
   "cell_type": "code",
   "execution_count": null,
   "metadata": {},
   "outputs": [],
   "source": []
  },
  {
   "cell_type": "code",
   "execution_count": null,
   "metadata": {},
   "outputs": [],
   "source": []
  },
  {
   "cell_type": "code",
   "execution_count": null,
   "metadata": {},
   "outputs": [],
   "source": []
  }
 ],
 "metadata": {
  "kernelspec": {
   "display_name": "Python 3",
   "language": "python",
   "name": "python3"
  },
  "language_info": {
   "codemirror_mode": {
    "name": "ipython",
    "version": 3
   },
   "file_extension": ".py",
   "mimetype": "text/x-python",
   "name": "python",
   "nbconvert_exporter": "python",
   "pygments_lexer": "ipython3",
   "version": "3.8.8"
  }
 },
 "nbformat": 4,
 "nbformat_minor": 1
}
